{
  "cells": [
    {
      "cell_type": "code",
      "execution_count": null,
      "metadata": {
        "id": "MvufTbqwrPPe"
      },
      "outputs": [],
      "source": [
        "from keras.models import Model\n",
        "from keras.layers import Input,Conv2D, Conv3D, MaxPooling3D,UpSampling2D, UpSampling3D,MaxPooling2D, concatenate, Conv3DTranspose, BatchNormalization, Dropout, Lambda\n",
        "from tensorflow.keras.optimizers import Adam\n",
        "from keras.layers import Activation, MaxPool2D, Concatenate,Add\n",
        "import keras as Ks\n",
        "from keras.layers import Input\n",
        "from glob import glob\n",
        "import numpy as np\n",
        "import pandas as pd\n",
        "from keras.preprocessing.image import ImageDataGenerator\n",
        "from sklearn.model_selection import train_test_split\n",
        "import tensorflow.keras.backend as K\n",
        "import tensorflow as tf\n",
        "import cv2\n",
        "from skimage import io\n",
        "from tensorflow.keras.callbacks import ReduceLROnPlateau, EarlyStopping, ModelCheckpoint, LearningRateScheduler"
      ]
    },
    {
      "cell_type": "code",
      "execution_count": null,
      "metadata": {
        "colab": {
          "base_uri": "https://localhost:8080/"
        },
        "id": "DFS1Q2ZNsDOV",
        "outputId": "9f54833f-2b59-45c8-bba0-0901aa034d0d"
      },
      "outputs": [
        {
          "output_type": "stream",
          "name": "stdout",
          "text": [
            "Mounted at /content/drive\n"
          ]
        }
      ],
      "source": [
        "from google.colab import drive\n",
        "drive.mount('/content/drive')"
      ]
    },
    {
      "cell_type": "code",
      "execution_count": null,
      "metadata": {
        "colab": {
          "base_uri": "https://localhost:8080/"
        },
        "id": "W3nDGeLFsGI3",
        "outputId": "31331942-4fdb-4d26-9d0e-a34890322953"
      },
      "outputs": [
        {
          "output_type": "stream",
          "name": "stdout",
          "text": [
            "Requirement already satisfied: gdown in /usr/local/lib/python3.7/dist-packages (4.2.2)\n",
            "Collecting gdown\n",
            "  Downloading gdown-4.4.0.tar.gz (14 kB)\n",
            "  Installing build dependencies ... \u001b[?25l\u001b[?25hdone\n",
            "  Getting requirements to build wheel ... \u001b[?25l\u001b[?25hdone\n",
            "    Preparing wheel metadata ... \u001b[?25l\u001b[?25hdone\n",
            "Requirement already satisfied: filelock in /usr/local/lib/python3.7/dist-packages (from gdown) (3.6.0)\n",
            "Requirement already satisfied: six in /usr/local/lib/python3.7/dist-packages (from gdown) (1.15.0)\n",
            "Requirement already satisfied: beautifulsoup4 in /usr/local/lib/python3.7/dist-packages (from gdown) (4.6.3)\n",
            "Requirement already satisfied: tqdm in /usr/local/lib/python3.7/dist-packages (from gdown) (4.63.0)\n",
            "Requirement already satisfied: requests[socks] in /usr/local/lib/python3.7/dist-packages (from gdown) (2.23.0)\n",
            "Requirement already satisfied: idna<3,>=2.5 in /usr/local/lib/python3.7/dist-packages (from requests[socks]->gdown) (2.10)\n",
            "Requirement already satisfied: chardet<4,>=3.0.2 in /usr/local/lib/python3.7/dist-packages (from requests[socks]->gdown) (3.0.4)\n",
            "Requirement already satisfied: urllib3!=1.25.0,!=1.25.1,<1.26,>=1.21.1 in /usr/local/lib/python3.7/dist-packages (from requests[socks]->gdown) (1.24.3)\n",
            "Requirement already satisfied: certifi>=2017.4.17 in /usr/local/lib/python3.7/dist-packages (from requests[socks]->gdown) (2021.10.8)\n",
            "Requirement already satisfied: PySocks!=1.5.7,>=1.5.6 in /usr/local/lib/python3.7/dist-packages (from requests[socks]->gdown) (1.7.1)\n",
            "Building wheels for collected packages: gdown\n",
            "  Building wheel for gdown (PEP 517) ... \u001b[?25l\u001b[?25hdone\n",
            "  Created wheel for gdown: filename=gdown-4.4.0-py3-none-any.whl size=14774 sha256=1ded895fa7abd909395c59cfcf983d8baa9918092e255b1088516a29fb06d1ef\n",
            "  Stored in directory: /tmp/pip-ephem-wheel-cache-njbvebop/wheels/fb/c3/0e/c4d8ff8bfcb0461afff199471449f642179b74968c15b7a69c\n",
            "Successfully built gdown\n",
            "Installing collected packages: gdown\n",
            "  Attempting uninstall: gdown\n",
            "    Found existing installation: gdown 4.2.2\n",
            "    Uninstalling gdown-4.2.2:\n",
            "      Successfully uninstalled gdown-4.2.2\n",
            "Successfully installed gdown-4.4.0\n",
            "/usr/local/lib/python3.7/dist-packages/gdown/cli.py:131: FutureWarning: Option `--id` was deprecated in version 4.3.1 and will be removed in 5.0. You don't need to pass it anymore to use a file ID.\n",
            "  category=FutureWarning,\n",
            "Downloading...\n",
            "From: https://drive.google.com/uc?id=1-2HGO0znF0JAsgZ_et5Cr_owKVxr_bKZ\n",
            "To: /content/CT_Data.zip\n",
            "100% 624M/624M [00:04<00:00, 127MB/s]\n"
          ]
        }
      ],
      "source": [
        "!pip install -U --no-cache-dir gdown --pre\n",
        "!gdown --id 1-2HGO0znF0JAsgZ_et5Cr_owKVxr_bKZ"
      ]
    },
    {
      "cell_type": "code",
      "execution_count": null,
      "metadata": {
        "colab": {
          "base_uri": "https://localhost:8080/"
        },
        "id": "HR2UcxzTsKDu",
        "outputId": "1f886a98-647e-4381-e8f4-5b8be4f88954"
      },
      "outputs": [
        {
          "output_type": "stream",
          "name": "stdout",
          "text": [
            "woow\n"
          ]
        }
      ],
      "source": [
        "from zipfile import ZipFile\n",
        "\n",
        "file_name=\"/content/CT_Data.zip\"\n",
        "\n",
        "with ZipFile(file_name, 'r') as ziip:\n",
        "  ziip.extractall()\n",
        "  print('woow')"
      ]
    },
    {
      "cell_type": "code",
      "execution_count": null,
      "metadata": {
        "colab": {
          "base_uri": "https://localhost:8080/"
        },
        "id": "NEPXi5ZdsNjJ",
        "outputId": "617b887d-fc7f-4450-f2d7-60054a22b5f7"
      },
      "outputs": [
        {
          "output_type": "execute_result",
          "data": {
            "text/plain": [
              "7367"
            ]
          },
          "metadata": {},
          "execution_count": 5
        }
      ],
      "source": [
        "mask_files = glob('/content/content/drive/MyDrive/CT_Data/Masks/*')\n",
        "len(mask_files)"
      ]
    },
    {
      "cell_type": "code",
      "execution_count": null,
      "metadata": {
        "colab": {
          "base_uri": "https://localhost:8080/"
        },
        "id": "vsuZKPLgsORS",
        "outputId": "2a4cd250-7bfd-4d82-f0d2-78e763555b1c"
      },
      "outputs": [
        {
          "output_type": "execute_result",
          "data": {
            "text/plain": [
              "7367"
            ]
          },
          "metadata": {},
          "execution_count": 6
        }
      ],
      "source": [
        "CT = glob('/content/content/drive/MyDrive/CT_Data/CT_images/*')\n",
        "len(CT)"
      ]
    },
    {
      "cell_type": "code",
      "execution_count": null,
      "metadata": {
        "id": "gKI7H-MysRiC"
      },
      "outputs": [],
      "source": [
        "df = pd.DataFrame({\"image_path\": CT, \"mask_path\":mask_files})\n"
      ]
    },
    {
      "cell_type": "code",
      "execution_count": null,
      "metadata": {
        "colab": {
          "base_uri": "https://localhost:8080/"
        },
        "id": "38Q58D8_sUR4",
        "outputId": "e2edba8d-b3ed-4e1a-9d30-3adce3e41dc5"
      },
      "outputs": [
        {
          "output_type": "stream",
          "name": "stdout",
          "text": [
            "Train size is 6261, valid size is 553 & test size is 553\n"
          ]
        }
      ],
      "source": [
        "Xtrain, Xval = train_test_split(df, test_size=0.15,random_state=101)\n",
        "Xtest, Xval = train_test_split(Xval, test_size=0.5)\n",
        "print(\"Train size is {}, valid size is {} & test size is {}\".format(len(Xtrain), len(Xval), len(Xtest)))"
      ]
    },
    {
      "cell_type": "code",
      "execution_count": null,
      "metadata": {
        "id": "QSTH3P14sWGX"
      },
      "outputs": [],
      "source": [
        "train_ids = list(Xtrain.image_path)\n",
        "train_mask = list(Xtrain.mask_path)\n",
        "\n",
        "val_ids = list(Xval.image_path)\n",
        "val_mask= list(Xval.mask_path)"
      ]
    },
    {
      "cell_type": "code",
      "execution_count": null,
      "metadata": {
        "id": "6W7n9UBQrHe1"
      },
      "outputs": [],
      "source": [
        "def resblock(X, f):\n",
        " \n",
        "    Xcopy = X  \n",
        "    \n",
        "    # main path\n",
        "    X = Conv2D(f, kernel_size=(1,1), kernel_initializer='he_normal')(X)\n",
        "    X = BatchNormalization()(X)\n",
        "    X = Activation('relu')(X)\n",
        "    \n",
        "    X = Conv2D(f, kernel_size=(3,3), padding='same', kernel_initializer='he_normal')(X)\n",
        "    X = BatchNormalization()(X)\n",
        "    \n",
        "    # shortcut path\n",
        "    Xcopy = Conv2D(f, kernel_size=(1,1), kernel_initializer='he_normal')(Xcopy)\n",
        "    Xcopy = BatchNormalization()(Xcopy)\n",
        "    \n",
        "    # Adding the output from main path and short path together\n",
        "    X = Add()([X, Xcopy])\n",
        "    X = Activation('relu')(X)\n",
        "    \n",
        "    return X\n",
        "\n",
        "def upsample_concat(x, skip):\n",
        "    '''\n",
        "    funtion for upsampling image\n",
        "    '''\n",
        "    X = UpSampling2D((2,2))(x)\n",
        "    merge = Concatenate()([X, skip])\n",
        "    \n",
        "    return merge"
      ]
    },
    {
      "cell_type": "code",
      "execution_count": null,
      "metadata": {
        "id": "IT4UktRKsha-"
      },
      "outputs": [],
      "source": [
        "def tversky(ytrue, ypred):\n",
        "    ypredpos = K.flatten(ypred)\n",
        "    ytruepos = K.flatten(ytrue)\n",
        "    truepos = K.sum(ytruepos * ypredpos)\n",
        "    falseneg = K.sum(ytruepos * (1-ypredpos))\n",
        "    falsepos = K.sum((1-ytruepos)*ypredpos)\n",
        "    alpha = 0.7\n",
        "    smooth=100\n",
        "    return (truepos + smooth)/(truepos + alpha*falseneg + (1-alpha)*falsepos + smooth)\n",
        "\n",
        "def focaltversky(ytrue,ypred):\n",
        "    ypred = tf.cast(ypred, tf.float32)\n",
        "    ytrue = tf.cast(ytrue, tf.float32)\n",
        "    \n",
        "    pt_1 = tversky(ytrue, ypred)\n",
        "    gamma = 0.75\n",
        "    return K.pow((1-pt_1), gamma)\n",
        "\n",
        "def tversky_loss(ytrue, ypred):\n",
        "    return 1 - tversky(ytrue,ypred)"
      ]
    },
    {
      "cell_type": "code",
      "execution_count": null,
      "metadata": {
        "id": "51NK1WlerXtN"
      },
      "outputs": [],
      "source": [
        "def Res_Unet_model(inputshape=(256,256,3),filter_num=16,pool_size=(2, 2),n_classes=3):\n",
        "  Xinput = Input(inputshape)\n",
        "\n",
        "  conv_1 = Conv2D(2*filter_num, (3,3), activation='relu', padding='same', kernel_initializer='he_normal')(Xinput)\n",
        "  conv_1 = BatchNormalization()(conv_1)\n",
        "  conv_1 = Conv2D(2*filter_num, (3,3), activation='relu', padding='same', kernel_initializer='he_normal')(conv_1)\n",
        "  conv_1 = BatchNormalization()(conv_1)\n",
        "  pool_1 = MaxPool2D(pool_size)(conv_1)\n",
        "\n",
        "\n",
        "  conv_2 = resblock(pool_1, 4*filter_num)\n",
        "  pool_2 = MaxPooling2D(pool_size)(conv_2)\n",
        "\n",
        "\n",
        "  conv_3 = resblock(pool_2, 8*filter_num)\n",
        "  pool_3 = MaxPooling2D(pool_size)(conv_3)\n",
        "\n",
        "\n",
        "  conv_4 = resblock(pool_3, 16*filter_num)\n",
        "  pool_4 = MaxPooling2D(pool_size)(conv_4)\n",
        "\n",
        "\n",
        "  conv_5 = resblock(pool_4, 32*filter_num)\n",
        "\n",
        "\n",
        "  up_1 = upsample_concat(conv_5, conv_4)\n",
        "  up_1 = resblock(up_1, 16*filter_num)\n",
        "\n",
        "\n",
        "  up_2 = upsample_concat(up_1, conv_3)\n",
        "  up_2 = resblock(up_2, 8*filter_num)\n",
        "\n",
        "\n",
        "  up_3 = upsample_concat(up_2, conv_2)\n",
        "  up_3 = resblock(up_3, 4*filter_num)\n",
        "\n",
        "\n",
        "  up_4 = upsample_concat(up_3, conv_1)\n",
        "  up_4 = resblock(up_4, 2*filter_num)\n",
        "\n",
        "\n",
        "  out = Conv2D(n_classes, (1,1), kernel_initializer='he_normal', padding='same', activation='sigmoid')(up_4)\n",
        "  Res_Unet_with_att_model=Model(Xinput, out)\n",
        "  return Res_Unet_with_att_model"
      ]
    },
    {
      "cell_type": "code",
      "execution_count": null,
      "metadata": {
        "id": "CSaVjVLEry4d"
      },
      "outputs": [],
      "source": [
        "inputshape = (256,256,3)\n",
        "Res_Unet_model=Res_Unet_model(inputshape)"
      ]
    },
    {
      "cell_type": "code",
      "execution_count": null,
      "metadata": {
        "colab": {
          "base_uri": "https://localhost:8080/"
        },
        "id": "JWI5AQRgsakK",
        "outputId": "bbe037c5-bde4-4bd9-c299-e47d73b79306"
      },
      "outputs": [
        {
          "output_type": "stream",
          "name": "stdout",
          "text": [
            "Model: \"model\"\n",
            "__________________________________________________________________________________________________\n",
            " Layer (type)                   Output Shape         Param #     Connected to                     \n",
            "==================================================================================================\n",
            " input_1 (InputLayer)           [(None, 256, 256, 3  0           []                               \n",
            "                                )]                                                                \n",
            "                                                                                                  \n",
            " conv2d (Conv2D)                (None, 256, 256, 32  896         ['input_1[0][0]']                \n",
            "                                )                                                                 \n",
            "                                                                                                  \n",
            " batch_normalization (BatchNorm  (None, 256, 256, 32  128        ['conv2d[0][0]']                 \n",
            " alization)                     )                                                                 \n",
            "                                                                                                  \n",
            " conv2d_1 (Conv2D)              (None, 256, 256, 32  9248        ['batch_normalization[0][0]']    \n",
            "                                )                                                                 \n",
            "                                                                                                  \n",
            " batch_normalization_1 (BatchNo  (None, 256, 256, 32  128        ['conv2d_1[0][0]']               \n",
            " rmalization)                   )                                                                 \n",
            "                                                                                                  \n",
            " max_pooling2d (MaxPooling2D)   (None, 128, 128, 32  0           ['batch_normalization_1[0][0]']  \n",
            "                                )                                                                 \n",
            "                                                                                                  \n",
            " conv2d_2 (Conv2D)              (None, 128, 128, 64  2112        ['max_pooling2d[0][0]']          \n",
            "                                )                                                                 \n",
            "                                                                                                  \n",
            " batch_normalization_2 (BatchNo  (None, 128, 128, 64  256        ['conv2d_2[0][0]']               \n",
            " rmalization)                   )                                                                 \n",
            "                                                                                                  \n",
            " activation (Activation)        (None, 128, 128, 64  0           ['batch_normalization_2[0][0]']  \n",
            "                                )                                                                 \n",
            "                                                                                                  \n",
            " conv2d_3 (Conv2D)              (None, 128, 128, 64  36928       ['activation[0][0]']             \n",
            "                                )                                                                 \n",
            "                                                                                                  \n",
            " conv2d_4 (Conv2D)              (None, 128, 128, 64  2112        ['max_pooling2d[0][0]']          \n",
            "                                )                                                                 \n",
            "                                                                                                  \n",
            " batch_normalization_3 (BatchNo  (None, 128, 128, 64  256        ['conv2d_3[0][0]']               \n",
            " rmalization)                   )                                                                 \n",
            "                                                                                                  \n",
            " batch_normalization_4 (BatchNo  (None, 128, 128, 64  256        ['conv2d_4[0][0]']               \n",
            " rmalization)                   )                                                                 \n",
            "                                                                                                  \n",
            " add (Add)                      (None, 128, 128, 64  0           ['batch_normalization_3[0][0]',  \n",
            "                                )                                 'batch_normalization_4[0][0]']  \n",
            "                                                                                                  \n",
            " activation_1 (Activation)      (None, 128, 128, 64  0           ['add[0][0]']                    \n",
            "                                )                                                                 \n",
            "                                                                                                  \n",
            " max_pooling2d_1 (MaxPooling2D)  (None, 64, 64, 64)  0           ['activation_1[0][0]']           \n",
            "                                                                                                  \n",
            " conv2d_5 (Conv2D)              (None, 64, 64, 128)  8320        ['max_pooling2d_1[0][0]']        \n",
            "                                                                                                  \n",
            " batch_normalization_5 (BatchNo  (None, 64, 64, 128)  512        ['conv2d_5[0][0]']               \n",
            " rmalization)                                                                                     \n",
            "                                                                                                  \n",
            " activation_2 (Activation)      (None, 64, 64, 128)  0           ['batch_normalization_5[0][0]']  \n",
            "                                                                                                  \n",
            " conv2d_6 (Conv2D)              (None, 64, 64, 128)  147584      ['activation_2[0][0]']           \n",
            "                                                                                                  \n",
            " conv2d_7 (Conv2D)              (None, 64, 64, 128)  8320        ['max_pooling2d_1[0][0]']        \n",
            "                                                                                                  \n",
            " batch_normalization_6 (BatchNo  (None, 64, 64, 128)  512        ['conv2d_6[0][0]']               \n",
            " rmalization)                                                                                     \n",
            "                                                                                                  \n",
            " batch_normalization_7 (BatchNo  (None, 64, 64, 128)  512        ['conv2d_7[0][0]']               \n",
            " rmalization)                                                                                     \n",
            "                                                                                                  \n",
            " add_1 (Add)                    (None, 64, 64, 128)  0           ['batch_normalization_6[0][0]',  \n",
            "                                                                  'batch_normalization_7[0][0]']  \n",
            "                                                                                                  \n",
            " activation_3 (Activation)      (None, 64, 64, 128)  0           ['add_1[0][0]']                  \n",
            "                                                                                                  \n",
            " max_pooling2d_2 (MaxPooling2D)  (None, 32, 32, 128)  0          ['activation_3[0][0]']           \n",
            "                                                                                                  \n",
            " conv2d_8 (Conv2D)              (None, 32, 32, 256)  33024       ['max_pooling2d_2[0][0]']        \n",
            "                                                                                                  \n",
            " batch_normalization_8 (BatchNo  (None, 32, 32, 256)  1024       ['conv2d_8[0][0]']               \n",
            " rmalization)                                                                                     \n",
            "                                                                                                  \n",
            " activation_4 (Activation)      (None, 32, 32, 256)  0           ['batch_normalization_8[0][0]']  \n",
            "                                                                                                  \n",
            " conv2d_9 (Conv2D)              (None, 32, 32, 256)  590080      ['activation_4[0][0]']           \n",
            "                                                                                                  \n",
            " conv2d_10 (Conv2D)             (None, 32, 32, 256)  33024       ['max_pooling2d_2[0][0]']        \n",
            "                                                                                                  \n",
            " batch_normalization_9 (BatchNo  (None, 32, 32, 256)  1024       ['conv2d_9[0][0]']               \n",
            " rmalization)                                                                                     \n",
            "                                                                                                  \n",
            " batch_normalization_10 (BatchN  (None, 32, 32, 256)  1024       ['conv2d_10[0][0]']              \n",
            " ormalization)                                                                                    \n",
            "                                                                                                  \n",
            " add_2 (Add)                    (None, 32, 32, 256)  0           ['batch_normalization_9[0][0]',  \n",
            "                                                                  'batch_normalization_10[0][0]'] \n",
            "                                                                                                  \n",
            " activation_5 (Activation)      (None, 32, 32, 256)  0           ['add_2[0][0]']                  \n",
            "                                                                                                  \n",
            " max_pooling2d_3 (MaxPooling2D)  (None, 16, 16, 256)  0          ['activation_5[0][0]']           \n",
            "                                                                                                  \n",
            " conv2d_11 (Conv2D)             (None, 16, 16, 512)  131584      ['max_pooling2d_3[0][0]']        \n",
            "                                                                                                  \n",
            " batch_normalization_11 (BatchN  (None, 16, 16, 512)  2048       ['conv2d_11[0][0]']              \n",
            " ormalization)                                                                                    \n",
            "                                                                                                  \n",
            " activation_6 (Activation)      (None, 16, 16, 512)  0           ['batch_normalization_11[0][0]'] \n",
            "                                                                                                  \n",
            " conv2d_12 (Conv2D)             (None, 16, 16, 512)  2359808     ['activation_6[0][0]']           \n",
            "                                                                                                  \n",
            " conv2d_13 (Conv2D)             (None, 16, 16, 512)  131584      ['max_pooling2d_3[0][0]']        \n",
            "                                                                                                  \n",
            " batch_normalization_12 (BatchN  (None, 16, 16, 512)  2048       ['conv2d_12[0][0]']              \n",
            " ormalization)                                                                                    \n",
            "                                                                                                  \n",
            " batch_normalization_13 (BatchN  (None, 16, 16, 512)  2048       ['conv2d_13[0][0]']              \n",
            " ormalization)                                                                                    \n",
            "                                                                                                  \n",
            " add_3 (Add)                    (None, 16, 16, 512)  0           ['batch_normalization_12[0][0]', \n",
            "                                                                  'batch_normalization_13[0][0]'] \n",
            "                                                                                                  \n",
            " activation_7 (Activation)      (None, 16, 16, 512)  0           ['add_3[0][0]']                  \n",
            "                                                                                                  \n",
            " up_sampling2d (UpSampling2D)   (None, 32, 32, 512)  0           ['activation_7[0][0]']           \n",
            "                                                                                                  \n",
            " concatenate (Concatenate)      (None, 32, 32, 768)  0           ['up_sampling2d[0][0]',          \n",
            "                                                                  'activation_5[0][0]']           \n",
            "                                                                                                  \n",
            " conv2d_14 (Conv2D)             (None, 32, 32, 256)  196864      ['concatenate[0][0]']            \n",
            "                                                                                                  \n",
            " batch_normalization_14 (BatchN  (None, 32, 32, 256)  1024       ['conv2d_14[0][0]']              \n",
            " ormalization)                                                                                    \n",
            "                                                                                                  \n",
            " activation_8 (Activation)      (None, 32, 32, 256)  0           ['batch_normalization_14[0][0]'] \n",
            "                                                                                                  \n",
            " conv2d_15 (Conv2D)             (None, 32, 32, 256)  590080      ['activation_8[0][0]']           \n",
            "                                                                                                  \n",
            " conv2d_16 (Conv2D)             (None, 32, 32, 256)  196864      ['concatenate[0][0]']            \n",
            "                                                                                                  \n",
            " batch_normalization_15 (BatchN  (None, 32, 32, 256)  1024       ['conv2d_15[0][0]']              \n",
            " ormalization)                                                                                    \n",
            "                                                                                                  \n",
            " batch_normalization_16 (BatchN  (None, 32, 32, 256)  1024       ['conv2d_16[0][0]']              \n",
            " ormalization)                                                                                    \n",
            "                                                                                                  \n",
            " add_4 (Add)                    (None, 32, 32, 256)  0           ['batch_normalization_15[0][0]', \n",
            "                                                                  'batch_normalization_16[0][0]'] \n",
            "                                                                                                  \n",
            " activation_9 (Activation)      (None, 32, 32, 256)  0           ['add_4[0][0]']                  \n",
            "                                                                                                  \n",
            " up_sampling2d_1 (UpSampling2D)  (None, 64, 64, 256)  0          ['activation_9[0][0]']           \n",
            "                                                                                                  \n",
            " concatenate_1 (Concatenate)    (None, 64, 64, 384)  0           ['up_sampling2d_1[0][0]',        \n",
            "                                                                  'activation_3[0][0]']           \n",
            "                                                                                                  \n",
            " conv2d_17 (Conv2D)             (None, 64, 64, 128)  49280       ['concatenate_1[0][0]']          \n",
            "                                                                                                  \n",
            " batch_normalization_17 (BatchN  (None, 64, 64, 128)  512        ['conv2d_17[0][0]']              \n",
            " ormalization)                                                                                    \n",
            "                                                                                                  \n",
            " activation_10 (Activation)     (None, 64, 64, 128)  0           ['batch_normalization_17[0][0]'] \n",
            "                                                                                                  \n",
            " conv2d_18 (Conv2D)             (None, 64, 64, 128)  147584      ['activation_10[0][0]']          \n",
            "                                                                                                  \n",
            " conv2d_19 (Conv2D)             (None, 64, 64, 128)  49280       ['concatenate_1[0][0]']          \n",
            "                                                                                                  \n",
            " batch_normalization_18 (BatchN  (None, 64, 64, 128)  512        ['conv2d_18[0][0]']              \n",
            " ormalization)                                                                                    \n",
            "                                                                                                  \n",
            " batch_normalization_19 (BatchN  (None, 64, 64, 128)  512        ['conv2d_19[0][0]']              \n",
            " ormalization)                                                                                    \n",
            "                                                                                                  \n",
            " add_5 (Add)                    (None, 64, 64, 128)  0           ['batch_normalization_18[0][0]', \n",
            "                                                                  'batch_normalization_19[0][0]'] \n",
            "                                                                                                  \n",
            " activation_11 (Activation)     (None, 64, 64, 128)  0           ['add_5[0][0]']                  \n",
            "                                                                                                  \n",
            " up_sampling2d_2 (UpSampling2D)  (None, 128, 128, 12  0          ['activation_11[0][0]']          \n",
            "                                8)                                                                \n",
            "                                                                                                  \n",
            " concatenate_2 (Concatenate)    (None, 128, 128, 19  0           ['up_sampling2d_2[0][0]',        \n",
            "                                2)                                'activation_1[0][0]']           \n",
            "                                                                                                  \n",
            " conv2d_20 (Conv2D)             (None, 128, 128, 64  12352       ['concatenate_2[0][0]']          \n",
            "                                )                                                                 \n",
            "                                                                                                  \n",
            " batch_normalization_20 (BatchN  (None, 128, 128, 64  256        ['conv2d_20[0][0]']              \n",
            " ormalization)                  )                                                                 \n",
            "                                                                                                  \n",
            " activation_12 (Activation)     (None, 128, 128, 64  0           ['batch_normalization_20[0][0]'] \n",
            "                                )                                                                 \n",
            "                                                                                                  \n",
            " conv2d_21 (Conv2D)             (None, 128, 128, 64  36928       ['activation_12[0][0]']          \n",
            "                                )                                                                 \n",
            "                                                                                                  \n",
            " conv2d_22 (Conv2D)             (None, 128, 128, 64  12352       ['concatenate_2[0][0]']          \n",
            "                                )                                                                 \n",
            "                                                                                                  \n",
            " batch_normalization_21 (BatchN  (None, 128, 128, 64  256        ['conv2d_21[0][0]']              \n",
            " ormalization)                  )                                                                 \n",
            "                                                                                                  \n",
            " batch_normalization_22 (BatchN  (None, 128, 128, 64  256        ['conv2d_22[0][0]']              \n",
            " ormalization)                  )                                                                 \n",
            "                                                                                                  \n",
            " add_6 (Add)                    (None, 128, 128, 64  0           ['batch_normalization_21[0][0]', \n",
            "                                )                                 'batch_normalization_22[0][0]'] \n",
            "                                                                                                  \n",
            " activation_13 (Activation)     (None, 128, 128, 64  0           ['add_6[0][0]']                  \n",
            "                                )                                                                 \n",
            "                                                                                                  \n",
            " up_sampling2d_3 (UpSampling2D)  (None, 256, 256, 64  0          ['activation_13[0][0]']          \n",
            "                                )                                                                 \n",
            "                                                                                                  \n",
            " concatenate_3 (Concatenate)    (None, 256, 256, 96  0           ['up_sampling2d_3[0][0]',        \n",
            "                                )                                 'batch_normalization_1[0][0]']  \n",
            "                                                                                                  \n",
            " conv2d_23 (Conv2D)             (None, 256, 256, 32  3104        ['concatenate_3[0][0]']          \n",
            "                                )                                                                 \n",
            "                                                                                                  \n",
            " batch_normalization_23 (BatchN  (None, 256, 256, 32  128        ['conv2d_23[0][0]']              \n",
            " ormalization)                  )                                                                 \n",
            "                                                                                                  \n",
            " activation_14 (Activation)     (None, 256, 256, 32  0           ['batch_normalization_23[0][0]'] \n",
            "                                )                                                                 \n",
            "                                                                                                  \n",
            " conv2d_24 (Conv2D)             (None, 256, 256, 32  9248        ['activation_14[0][0]']          \n",
            "                                )                                                                 \n",
            "                                                                                                  \n",
            " conv2d_25 (Conv2D)             (None, 256, 256, 32  3104        ['concatenate_3[0][0]']          \n",
            "                                )                                                                 \n",
            "                                                                                                  \n",
            " batch_normalization_24 (BatchN  (None, 256, 256, 32  128        ['conv2d_24[0][0]']              \n",
            " ormalization)                  )                                                                 \n",
            "                                                                                                  \n",
            " batch_normalization_25 (BatchN  (None, 256, 256, 32  128        ['conv2d_25[0][0]']              \n",
            " ormalization)                  )                                                                 \n",
            "                                                                                                  \n",
            " add_7 (Add)                    (None, 256, 256, 32  0           ['batch_normalization_24[0][0]', \n",
            "                                )                                 'batch_normalization_25[0][0]'] \n",
            "                                                                                                  \n",
            " activation_15 (Activation)     (None, 256, 256, 32  0           ['add_7[0][0]']                  \n",
            "                                )                                                                 \n",
            "                                                                                                  \n",
            " conv2d_26 (Conv2D)             (None, 256, 256, 3)  99          ['activation_15[0][0]']          \n",
            "                                                                                                  \n",
            "==================================================================================================\n",
            "Total params: 4,819,299\n",
            "Trainable params: 4,810,531\n",
            "Non-trainable params: 8,768\n",
            "__________________________________________________________________________________________________\n"
          ]
        }
      ],
      "source": [
        "Res_Unet_model.summary()"
      ]
    },
    {
      "cell_type": "code",
      "execution_count": null,
      "metadata": {
        "id": "VpcolM-JscYT"
      },
      "outputs": [],
      "source": [
        "class DataGenerator(tf.keras.utils.Sequence):\n",
        "  def __init__(self, ids , mask, image_dir = './', batch_size = 16, img_h = 256, img_w = 256, shuffle = True):\n",
        "    self.ids = ids\n",
        "    self.mask = mask\n",
        "    self.image_dir = image_dir\n",
        "    self.batch_size = batch_size\n",
        "    self.img_h = img_h\n",
        "    self.img_w = img_w\n",
        "    self.shuffle = shuffle\n",
        "    self.on_epoch_end()\n",
        "  def __len__(self):\n",
        "    return int(np.floor(len(self.ids)) / self.batch_size)\n",
        "\n",
        "  def __getitem__(self, index):\n",
        "    indexes = self.indexes[index* self.batch_size : (index+1) * self.batch_size]\n",
        "    list_ids = [self.ids[i] for i in indexes]\n",
        "    list_mask = [self.mask[i] for i in indexes]\n",
        "    X, y = self.__data_generation(list_ids, list_mask)\n",
        "    return X, y\n",
        "\n",
        "  def on_epoch_end(self):    \n",
        "    self.indexes = np.arange(len(self.ids))\n",
        "\n",
        "    if self.shuffle:\n",
        "      np.random.shuffle(self.indexes)\n",
        "\n",
        "  def __data_generation(self, list_ids, list_mask):\n",
        "\n",
        "    X = np.empty((self.batch_size, self.img_h, self.img_w, 3))\n",
        "    y = np.empty((self.batch_size, self.img_h, self.img_w, 3))\n",
        "\n",
        "    for i in range(len(list_ids)):\n",
        "      img_path = str(list_ids[i])\n",
        "      mask_path = str(list_mask[i])\n",
        "      img = io.imread(img_path)\n",
        "      mask = io.imread(mask_path)\n",
        "      img = cv2.resize(img,(self.img_h,self.img_w))\n",
        "      img = np.array(img, dtype = np.float64)\n",
        "      mask = cv2.resize(mask,(self.img_h,self.img_w))\n",
        "      mask = np.array(mask, dtype = np.float64)\n",
        "      img -= img.mean()\n",
        "      img /= img.std()\n",
        "      mask -= mask.mean()\n",
        "      mask /= mask.std()\n",
        "      X[i,] = img\n",
        "      y[i,] = mask\n",
        "    y = (y > 0).astype(int)\n",
        "    return X, y\n",
        "\n",
        "train_data = DataGenerator(train_ids, train_mask)\n",
        "val_data = DataGenerator(val_ids, val_mask)"
      ]
    },
    {
      "cell_type": "code",
      "execution_count": null,
      "metadata": {
        "id": "fN5vv9BosoqQ"
      },
      "outputs": [],
      "source": [
        "earlystopping = EarlyStopping(monitor='val_loss',\n",
        "                              mode='min', \n",
        "                              verbose=1, \n",
        "                              patience=20\n",
        "                             )\n",
        "checkpointer = ModelCheckpoint(filepath=\"/content/drive/MyDrive/CT_res_unet_32/CT_res_unet_32.h5\", \n",
        "                               verbose=1, \n",
        "                               save_best_only=True\n",
        "                              )\n",
        "reduce_lr = ReduceLROnPlateau(monitor='val_loss',\n",
        "                              mode='min',\n",
        "                              verbose=1,\n",
        "                              patience=10,\n",
        "                              min_delta=0.0001,\n",
        "                              factor=0.2\n",
        "                             )\n",
        "filename='/content/drive/MyDrive/CT_res_unet_32/history.csv'\n",
        "history_logger=tf.keras.callbacks.CSVLogger(filename, separator=\",\", append=True)"
      ]
    },
    {
      "cell_type": "code",
      "source": [
        "from tensorflow.keras.metrics import Precision, Recall, MeanIoU"
      ],
      "metadata": {
        "id": "nHf-th9Jysl1"
      },
      "execution_count": null,
      "outputs": []
    },
    {
      "cell_type": "code",
      "execution_count": null,
      "metadata": {
        "colab": {
          "base_uri": "https://localhost:8080/"
        },
        "id": "iuWUL_yatF9E",
        "outputId": "a3b9541f-cd28-4a5c-806e-769cb482b595"
      },
      "outputs": [
        {
          "output_type": "stream",
          "name": "stderr",
          "text": [
            "/usr/local/lib/python3.7/dist-packages/keras/optimizer_v2/adam.py:105: UserWarning: The `lr` argument is deprecated, use `learning_rate` instead.\n",
            "  super(Adam, self).__init__(name, **kwargs)\n"
          ]
        }
      ],
      "source": [
        "adam = tf.keras.optimizers.Adam(lr = 0.01, epsilon = 0.1)\n",
        "Res_Unet_model.compile(optimizer = adam, \n",
        "                  loss = focaltversky, \n",
        "                  metrics = [tversky,Recall(), Precision(), MeanIoU(num_classes=3)]\n",
        "                 )"
      ]
    },
    {
      "cell_type": "code",
      "source": [
        "Res_Unet_model.load_weights(\"/content/drive/MyDrive/CT_res_unet_32/CT_res_unet_32.h5\")"
      ],
      "metadata": {
        "id": "fj_RBay2vp2m"
      },
      "execution_count": null,
      "outputs": []
    },
    {
      "cell_type": "code",
      "source": [
        "def prediction(test, model_seg):\n",
        "    \n",
        "    mask, image_id, mask_path =  [], [],[]\n",
        "    \n",
        "    for i in test.image_path:\n",
        "        img = io.imread(i)        \n",
        "        img = img *1./255.\n",
        "        img = cv2.resize(img, (256,256))\n",
        "        img = np.array(img, dtype=np.float64)\n",
        "        img = np.reshape(img, (1,256,256,3))\n",
        "\n",
        "        X = np.empty((1,256,256,3))\n",
        "        \n",
        "        img = io.imread(i)\n",
        "        img = cv2.resize(img, (256,256))\n",
        "        img = np.array(img, dtype=np.float64)\n",
        "        \n",
        "        img -= img.mean()\n",
        "        img /= img.std()\n",
        "        X[0,] = img\n",
        "        \n",
        "        predict = model_seg.predict(X)\n",
        "        \n",
        "        image_id.append(i)\n",
        "        mask.append(predict)\n",
        "    for i in test.mask_path:\n",
        "        mask_path.append(i)\n",
        "\n",
        "    return pd.DataFrame({'image_path': image_id,'predicted_mask': mask,'mask_path':mask_path})"
      ],
      "metadata": {
        "id": "nprBVuYewhyN"
      },
      "execution_count": null,
      "outputs": []
    },
    {
      "cell_type": "code",
      "source": [
        "data=prediction(Xtest,Res_Unet_model)"
      ],
      "metadata": {
        "id": "eNjs5y_dxU1u"
      },
      "execution_count": null,
      "outputs": []
    },
    {
      "cell_type": "code",
      "source": [
        "data.head()"
      ],
      "metadata": {
        "colab": {
          "base_uri": "https://localhost:8080/",
          "height": 206
        },
        "id": "UniVz-nKyG_m",
        "outputId": "3815fede-4258-4540-b2bf-67ae0bfdcf8f"
      },
      "execution_count": null,
      "outputs": [
        {
          "output_type": "execute_result",
          "data": {
            "text/plain": [
              "                                          image_path  \\\n",
              "0  /content/content/drive/MyDrive/CT_Data/CT_imag...   \n",
              "1  /content/content/drive/MyDrive/CT_Data/CT_imag...   \n",
              "2  /content/content/drive/MyDrive/CT_Data/CT_imag...   \n",
              "3  /content/content/drive/MyDrive/CT_Data/CT_imag...   \n",
              "4  /content/content/drive/MyDrive/CT_Data/CT_imag...   \n",
              "\n",
              "                                      predicted_mask  \\\n",
              "0  [[[[2.6382999e-15 3.6520727e-13 9.9376250e-14]...   \n",
              "1  [[[[2.5009241e-15 3.5917441e-13 9.4522656e-14]...   \n",
              "2  [[[[1.1936697e-15 3.7927406e-13 3.9285239e-14]...   \n",
              "3  [[[[5.0012874e-15 1.9625703e-12 2.9086986e-14]...   \n",
              "4  [[[[3.4140571e-15 3.2527217e-13 1.7729389e-13]...   \n",
              "\n",
              "                                           mask_path  \n",
              "0  /content/content/drive/MyDrive/CT_Data/Masks/2...  \n",
              "1  /content/content/drive/MyDrive/CT_Data/Masks/6...  \n",
              "2  /content/content/drive/MyDrive/CT_Data/Masks/3...  \n",
              "3  /content/content/drive/MyDrive/CT_Data/Masks/3...  \n",
              "4  /content/content/drive/MyDrive/CT_Data/Masks/4...  "
            ],
            "text/html": [
              "\n",
              "  <div id=\"df-5ff64299-7018-49e3-a8d6-61602cd6eb0e\">\n",
              "    <div class=\"colab-df-container\">\n",
              "      <div>\n",
              "<style scoped>\n",
              "    .dataframe tbody tr th:only-of-type {\n",
              "        vertical-align: middle;\n",
              "    }\n",
              "\n",
              "    .dataframe tbody tr th {\n",
              "        vertical-align: top;\n",
              "    }\n",
              "\n",
              "    .dataframe thead th {\n",
              "        text-align: right;\n",
              "    }\n",
              "</style>\n",
              "<table border=\"1\" class=\"dataframe\">\n",
              "  <thead>\n",
              "    <tr style=\"text-align: right;\">\n",
              "      <th></th>\n",
              "      <th>image_path</th>\n",
              "      <th>predicted_mask</th>\n",
              "      <th>mask_path</th>\n",
              "    </tr>\n",
              "  </thead>\n",
              "  <tbody>\n",
              "    <tr>\n",
              "      <th>0</th>\n",
              "      <td>/content/content/drive/MyDrive/CT_Data/CT_imag...</td>\n",
              "      <td>[[[[2.6382999e-15 3.6520727e-13 9.9376250e-14]...</td>\n",
              "      <td>/content/content/drive/MyDrive/CT_Data/Masks/2...</td>\n",
              "    </tr>\n",
              "    <tr>\n",
              "      <th>1</th>\n",
              "      <td>/content/content/drive/MyDrive/CT_Data/CT_imag...</td>\n",
              "      <td>[[[[2.5009241e-15 3.5917441e-13 9.4522656e-14]...</td>\n",
              "      <td>/content/content/drive/MyDrive/CT_Data/Masks/6...</td>\n",
              "    </tr>\n",
              "    <tr>\n",
              "      <th>2</th>\n",
              "      <td>/content/content/drive/MyDrive/CT_Data/CT_imag...</td>\n",
              "      <td>[[[[1.1936697e-15 3.7927406e-13 3.9285239e-14]...</td>\n",
              "      <td>/content/content/drive/MyDrive/CT_Data/Masks/3...</td>\n",
              "    </tr>\n",
              "    <tr>\n",
              "      <th>3</th>\n",
              "      <td>/content/content/drive/MyDrive/CT_Data/CT_imag...</td>\n",
              "      <td>[[[[5.0012874e-15 1.9625703e-12 2.9086986e-14]...</td>\n",
              "      <td>/content/content/drive/MyDrive/CT_Data/Masks/3...</td>\n",
              "    </tr>\n",
              "    <tr>\n",
              "      <th>4</th>\n",
              "      <td>/content/content/drive/MyDrive/CT_Data/CT_imag...</td>\n",
              "      <td>[[[[3.4140571e-15 3.2527217e-13 1.7729389e-13]...</td>\n",
              "      <td>/content/content/drive/MyDrive/CT_Data/Masks/4...</td>\n",
              "    </tr>\n",
              "  </tbody>\n",
              "</table>\n",
              "</div>\n",
              "      <button class=\"colab-df-convert\" onclick=\"convertToInteractive('df-5ff64299-7018-49e3-a8d6-61602cd6eb0e')\"\n",
              "              title=\"Convert this dataframe to an interactive table.\"\n",
              "              style=\"display:none;\">\n",
              "        \n",
              "  <svg xmlns=\"http://www.w3.org/2000/svg\" height=\"24px\"viewBox=\"0 0 24 24\"\n",
              "       width=\"24px\">\n",
              "    <path d=\"M0 0h24v24H0V0z\" fill=\"none\"/>\n",
              "    <path d=\"M18.56 5.44l.94 2.06.94-2.06 2.06-.94-2.06-.94-.94-2.06-.94 2.06-2.06.94zm-11 1L8.5 8.5l.94-2.06 2.06-.94-2.06-.94L8.5 2.5l-.94 2.06-2.06.94zm10 10l.94 2.06.94-2.06 2.06-.94-2.06-.94-.94-2.06-.94 2.06-2.06.94z\"/><path d=\"M17.41 7.96l-1.37-1.37c-.4-.4-.92-.59-1.43-.59-.52 0-1.04.2-1.43.59L10.3 9.45l-7.72 7.72c-.78.78-.78 2.05 0 2.83L4 21.41c.39.39.9.59 1.41.59.51 0 1.02-.2 1.41-.59l7.78-7.78 2.81-2.81c.8-.78.8-2.07 0-2.86zM5.41 20L4 18.59l7.72-7.72 1.47 1.35L5.41 20z\"/>\n",
              "  </svg>\n",
              "      </button>\n",
              "      \n",
              "  <style>\n",
              "    .colab-df-container {\n",
              "      display:flex;\n",
              "      flex-wrap:wrap;\n",
              "      gap: 12px;\n",
              "    }\n",
              "\n",
              "    .colab-df-convert {\n",
              "      background-color: #E8F0FE;\n",
              "      border: none;\n",
              "      border-radius: 50%;\n",
              "      cursor: pointer;\n",
              "      display: none;\n",
              "      fill: #1967D2;\n",
              "      height: 32px;\n",
              "      padding: 0 0 0 0;\n",
              "      width: 32px;\n",
              "    }\n",
              "\n",
              "    .colab-df-convert:hover {\n",
              "      background-color: #E2EBFA;\n",
              "      box-shadow: 0px 1px 2px rgba(60, 64, 67, 0.3), 0px 1px 3px 1px rgba(60, 64, 67, 0.15);\n",
              "      fill: #174EA6;\n",
              "    }\n",
              "\n",
              "    [theme=dark] .colab-df-convert {\n",
              "      background-color: #3B4455;\n",
              "      fill: #D2E3FC;\n",
              "    }\n",
              "\n",
              "    [theme=dark] .colab-df-convert:hover {\n",
              "      background-color: #434B5C;\n",
              "      box-shadow: 0px 1px 3px 1px rgba(0, 0, 0, 0.15);\n",
              "      filter: drop-shadow(0px 1px 2px rgba(0, 0, 0, 0.3));\n",
              "      fill: #FFFFFF;\n",
              "    }\n",
              "  </style>\n",
              "\n",
              "      <script>\n",
              "        const buttonEl =\n",
              "          document.querySelector('#df-5ff64299-7018-49e3-a8d6-61602cd6eb0e button.colab-df-convert');\n",
              "        buttonEl.style.display =\n",
              "          google.colab.kernel.accessAllowed ? 'block' : 'none';\n",
              "\n",
              "        async function convertToInteractive(key) {\n",
              "          const element = document.querySelector('#df-5ff64299-7018-49e3-a8d6-61602cd6eb0e');\n",
              "          const dataTable =\n",
              "            await google.colab.kernel.invokeFunction('convertToInteractive',\n",
              "                                                     [key], {});\n",
              "          if (!dataTable) return;\n",
              "\n",
              "          const docLinkHtml = 'Like what you see? Visit the ' +\n",
              "            '<a target=\"_blank\" href=https://colab.research.google.com/notebooks/data_table.ipynb>data table notebook</a>'\n",
              "            + ' to learn more about interactive tables.';\n",
              "          element.innerHTML = '';\n",
              "          dataTable['output_type'] = 'display_data';\n",
              "          await google.colab.output.renderOutput(dataTable, element);\n",
              "          const docLink = document.createElement('div');\n",
              "          docLink.innerHTML = docLinkHtml;\n",
              "          element.appendChild(docLink);\n",
              "        }\n",
              "      </script>\n",
              "    </div>\n",
              "  </div>\n",
              "  "
            ]
          },
          "metadata": {},
          "execution_count": 23
        }
      ]
    },
    {
      "cell_type": "code",
      "source": [
        "import matplotlib.pyplot as plt\n"
      ],
      "metadata": {
        "id": "dSAf9FZsyCjx"
      },
      "execution_count": null,
      "outputs": []
    },
    {
      "cell_type": "code",
      "execution_count": null,
      "metadata": {
        "id": "pShbWU9wtNqf",
        "colab": {
          "base_uri": "https://localhost:8080/"
        },
        "outputId": "7888230a-44d6-4e0c-b2fe-dd890f58ecb2"
      },
      "outputs": [
        {
          "metadata": {
            "tags": null
          },
          "name": "stderr",
          "output_type": "stream",
          "text": [
            "/usr/local/lib/python3.7/dist-packages/ipykernel_launcher.py:44: RuntimeWarning: invalid value encountered in true_divide\n"
          ]
        },
        {
          "output_type": "stream",
          "name": "stdout",
          "text": [
            "Epoch 42/120\n",
            "391/391 [==============================] - ETA: 0s - loss: 0.1410 - tversky: 0.9240 - recall: 0.9489 - precision: 0.8836 - mean_io_u: 0.8645\n",
            "Epoch 42: val_loss improved from inf to 0.20847, saving model to /content/drive/MyDrive/CT_res_unet_32/CT_res_unet_32.h5\n",
            "391/391 [==============================] - 172s 397ms/step - loss: 0.1410 - tversky: 0.9240 - recall: 0.9489 - precision: 0.8836 - mean_io_u: 0.8645 - val_loss: 0.2085 - val_tversky: 0.8734 - val_recall: 0.8964 - val_precision: 0.8383 - val_mean_io_u: 0.8300 - lr: 0.0100\n",
            "Epoch 43/120\n",
            "391/391 [==============================] - ETA: 0s - loss: 0.1369 - tversky: 0.9273 - recall: 0.9504 - precision: 0.8855 - mean_io_u: 0.8652\n",
            "Epoch 43: val_loss did not improve from 0.20847\n",
            "391/391 [==============================] - 156s 398ms/step - loss: 0.1369 - tversky: 0.9273 - recall: 0.9504 - precision: 0.8855 - mean_io_u: 0.8652 - val_loss: 0.2143 - val_tversky: 0.8694 - val_recall: 0.8916 - val_precision: 0.8390 - val_mean_io_u: 0.8230 - lr: 0.0100\n",
            "Epoch 44/120\n",
            "391/391 [==============================] - ETA: 0s - loss: 0.1399 - tversky: 0.9251 - recall: 0.9502 - precision: 0.8845 - mean_io_u: 0.8684\n",
            "Epoch 44: val_loss improved from 0.20847 to 0.20522, saving model to /content/drive/MyDrive/CT_res_unet_32/CT_res_unet_32.h5\n",
            "391/391 [==============================] - 158s 403ms/step - loss: 0.1399 - tversky: 0.9251 - recall: 0.9502 - precision: 0.8845 - mean_io_u: 0.8684 - val_loss: 0.2052 - val_tversky: 0.8766 - val_recall: 0.8987 - val_precision: 0.8261 - val_mean_io_u: 0.8420 - lr: 0.0100\n",
            "Epoch 45/120\n",
            "391/391 [==============================] - ETA: 0s - loss: 0.1377 - tversky: 0.9274 - recall: 0.9490 - precision: 0.8837 - mean_io_u: 0.8717\n",
            "Epoch 45: val_loss did not improve from 0.20522\n",
            "391/391 [==============================] - 156s 398ms/step - loss: 0.1377 - tversky: 0.9274 - recall: 0.9490 - precision: 0.8837 - mean_io_u: 0.8717 - val_loss: 0.2301 - val_tversky: 0.8536 - val_recall: 0.9150 - val_precision: 0.7791 - val_mean_io_u: 0.8474 - lr: 0.0100\n",
            "Epoch 46/120\n",
            "391/391 [==============================] - ETA: 0s - loss: 0.1411 - tversky: 0.9243 - recall: 0.9485 - precision: 0.8818 - mean_io_u: 0.8724\n",
            "Epoch 46: val_loss did not improve from 0.20522\n",
            "391/391 [==============================] - 155s 397ms/step - loss: 0.1411 - tversky: 0.9243 - recall: 0.9485 - precision: 0.8818 - mean_io_u: 0.8724 - val_loss: 0.2242 - val_tversky: 0.8601 - val_recall: 0.8362 - val_precision: 0.8986 - val_mean_io_u: 0.8175 - lr: 0.0100\n",
            "Epoch 47/120\n",
            "391/391 [==============================] - ETA: 0s - loss: 0.1445 - tversky: 0.9220 - recall: 0.9486 - precision: 0.8805 - mean_io_u: 0.8746\n",
            "Epoch 47: val_loss did not improve from 0.20522\n",
            "391/391 [==============================] - 156s 398ms/step - loss: 0.1445 - tversky: 0.9220 - recall: 0.9486 - precision: 0.8805 - mean_io_u: 0.8746 - val_loss: 0.2256 - val_tversky: 0.8594 - val_recall: 0.8603 - val_precision: 0.8781 - val_mean_io_u: 0.8229 - lr: 0.0100\n",
            "Epoch 48/120\n",
            "391/391 [==============================] - ETA: 0s - loss: 0.1446 - tversky: 0.9219 - recall: 0.9461 - precision: 0.8764 - mean_io_u: 0.8744\n",
            "Epoch 48: val_loss did not improve from 0.20522\n",
            "391/391 [==============================] - 156s 398ms/step - loss: 0.1446 - tversky: 0.9219 - recall: 0.9461 - precision: 0.8764 - mean_io_u: 0.8744 - val_loss: 0.2118 - val_tversky: 0.8719 - val_recall: 0.8735 - val_precision: 0.8395 - val_mean_io_u: 0.8249 - lr: 0.0100\n",
            "Epoch 49/120\n",
            "391/391 [==============================] - ETA: 0s - loss: 0.1446 - tversky: 0.9223 - recall: 0.9456 - precision: 0.8768 - mean_io_u: 0.8705\n",
            "Epoch 49: val_loss did not improve from 0.20522\n",
            "391/391 [==============================] - 156s 397ms/step - loss: 0.1446 - tversky: 0.9223 - recall: 0.9456 - precision: 0.8768 - mean_io_u: 0.8705 - val_loss: 0.2259 - val_tversky: 0.8580 - val_recall: 0.8655 - val_precision: 0.8562 - val_mean_io_u: 0.8155 - lr: 0.0100\n",
            "Epoch 50/120\n",
            "391/391 [==============================] - ETA: 0s - loss: 0.1418 - tversky: 0.9240 - recall: 0.9487 - precision: 0.8810 - mean_io_u: 0.8709\n",
            "Epoch 50: val_loss did not improve from 0.20522\n",
            "391/391 [==============================] - 156s 398ms/step - loss: 0.1418 - tversky: 0.9240 - recall: 0.9487 - precision: 0.8810 - mean_io_u: 0.8709 - val_loss: 0.2179 - val_tversky: 0.8666 - val_recall: 0.8687 - val_precision: 0.8559 - val_mean_io_u: 0.8223 - lr: 0.0100\n",
            "Epoch 51/120\n",
            "391/391 [==============================] - ETA: 0s - loss: 0.1387 - tversky: 0.9260 - recall: 0.9490 - precision: 0.8836 - mean_io_u: 0.8747\n",
            "Epoch 51: val_loss did not improve from 0.20522\n",
            "391/391 [==============================] - 156s 397ms/step - loss: 0.1387 - tversky: 0.9260 - recall: 0.9490 - precision: 0.8836 - mean_io_u: 0.8747 - val_loss: 0.2293 - val_tversky: 0.8526 - val_recall: 0.8665 - val_precision: 0.8681 - val_mean_io_u: 0.8141 - lr: 0.0100\n",
            "Epoch 52/120\n",
            "391/391 [==============================] - ETA: 0s - loss: 0.1390 - tversky: 0.9253 - recall: 0.9500 - precision: 0.8865 - mean_io_u: 0.8764\n",
            "Epoch 52: val_loss did not improve from 0.20522\n",
            "391/391 [==============================] - 155s 397ms/step - loss: 0.1390 - tversky: 0.9253 - recall: 0.9500 - precision: 0.8865 - mean_io_u: 0.8764 - val_loss: 0.2074 - val_tversky: 0.8733 - val_recall: 0.8804 - val_precision: 0.8434 - val_mean_io_u: 0.8290 - lr: 0.0100\n",
            "Epoch 53/120\n",
            "391/391 [==============================] - ETA: 0s - loss: 0.1350 - tversky: 0.9286 - recall: 0.9522 - precision: 0.8860 - mean_io_u: 0.8796\n",
            "Epoch 53: val_loss did not improve from 0.20522\n",
            "391/391 [==============================] - 155s 397ms/step - loss: 0.1350 - tversky: 0.9286 - recall: 0.9522 - precision: 0.8860 - mean_io_u: 0.8796 - val_loss: 0.2265 - val_tversky: 0.8587 - val_recall: 0.8633 - val_precision: 0.8712 - val_mean_io_u: 0.8115 - lr: 0.0100\n",
            "Epoch 54/120\n",
            "391/391 [==============================] - ETA: 0s - loss: 0.1361 - tversky: 0.9278 - recall: 0.9528 - precision: 0.8882 - mean_io_u: 0.8807\n",
            "Epoch 54: val_loss did not improve from 0.20522\n",
            "\n",
            "Epoch 54: ReduceLROnPlateau reducing learning rate to 0.0019999999552965165.\n",
            "391/391 [==============================] - 156s 398ms/step - loss: 0.1361 - tversky: 0.9278 - recall: 0.9528 - precision: 0.8882 - mean_io_u: 0.8807 - val_loss: 0.2145 - val_tversky: 0.8690 - val_recall: 0.8693 - val_precision: 0.8599 - val_mean_io_u: 0.8258 - lr: 0.0100\n",
            "Epoch 55/120\n",
            "391/391 [==============================] - ETA: 0s - loss: 0.1268 - tversky: 0.9339 - recall: 0.9575 - precision: 0.9011 - mean_io_u: 0.8838\n",
            "Epoch 55: val_loss improved from 0.20522 to 0.19968, saving model to /content/drive/MyDrive/CT_res_unet_32/CT_res_unet_32.h5\n",
            "391/391 [==============================] - 156s 400ms/step - loss: 0.1268 - tversky: 0.9339 - recall: 0.9575 - precision: 0.9011 - mean_io_u: 0.8838 - val_loss: 0.1997 - val_tversky: 0.8808 - val_recall: 0.8898 - val_precision: 0.8630 - val_mean_io_u: 0.8418 - lr: 0.0020\n",
            "Epoch 56/120\n",
            "391/391 [==============================] - ETA: 0s - loss: 0.1170 - tversky: 0.9406 - recall: 0.9599 - precision: 0.9131 - mean_io_u: 0.8857\n",
            "Epoch 56: val_loss did not improve from 0.19968\n",
            "391/391 [==============================] - 156s 398ms/step - loss: 0.1170 - tversky: 0.9406 - recall: 0.9599 - precision: 0.9131 - mean_io_u: 0.8857 - val_loss: 0.2000 - val_tversky: 0.8802 - val_recall: 0.8854 - val_precision: 0.8661 - val_mean_io_u: 0.8433 - lr: 0.0020\n",
            "Epoch 57/120\n",
            "391/391 [==============================] - ETA: 0s - loss: 0.1146 - tversky: 0.9416 - recall: 0.9620 - precision: 0.9175 - mean_io_u: 0.8863\n",
            "Epoch 57: val_loss did not improve from 0.19968\n",
            "391/391 [==============================] - 155s 397ms/step - loss: 0.1146 - tversky: 0.9416 - recall: 0.9620 - precision: 0.9175 - mean_io_u: 0.8863 - val_loss: 0.2019 - val_tversky: 0.8781 - val_recall: 0.8872 - val_precision: 0.8650 - val_mean_io_u: 0.8453 - lr: 0.0020\n",
            "Epoch 58/120\n",
            "391/391 [==============================] - ETA: 0s - loss: 0.1109 - tversky: 0.9438 - recall: 0.9632 - precision: 0.9198 - mean_io_u: 0.8874\n",
            "Epoch 58: val_loss did not improve from 0.19968\n",
            "391/391 [==============================] - 156s 398ms/step - loss: 0.1109 - tversky: 0.9438 - recall: 0.9632 - precision: 0.9198 - mean_io_u: 0.8874 - val_loss: 0.2019 - val_tversky: 0.8791 - val_recall: 0.8860 - val_precision: 0.8659 - val_mean_io_u: 0.8445 - lr: 0.0020\n",
            "Epoch 59/120\n",
            "391/391 [==============================] - ETA: 0s - loss: 0.1057 - tversky: 0.9475 - recall: 0.9644 - precision: 0.9232 - mean_io_u: 0.8891\n",
            "Epoch 59: val_loss improved from 0.19968 to 0.19429, saving model to /content/drive/MyDrive/CT_res_unet_32/CT_res_unet_32.h5\n",
            "391/391 [==============================] - 157s 400ms/step - loss: 0.1057 - tversky: 0.9475 - recall: 0.9644 - precision: 0.9232 - mean_io_u: 0.8891 - val_loss: 0.1943 - val_tversky: 0.8851 - val_recall: 0.8878 - val_precision: 0.8667 - val_mean_io_u: 0.8473 - lr: 0.0020\n",
            "Epoch 60/120\n",
            "391/391 [==============================] - ETA: 0s - loss: 0.1025 - tversky: 0.9503 - recall: 0.9655 - precision: 0.9255 - mean_io_u: 0.8912\n",
            "Epoch 60: val_loss did not improve from 0.19429\n",
            "391/391 [==============================] - 156s 398ms/step - loss: 0.1025 - tversky: 0.9503 - recall: 0.9655 - precision: 0.9255 - mean_io_u: 0.8912 - val_loss: 0.2005 - val_tversky: 0.8792 - val_recall: 0.8733 - val_precision: 0.8841 - val_mean_io_u: 0.8406 - lr: 0.0020\n",
            "Epoch 61/120\n",
            "391/391 [==============================] - ETA: 0s - loss: 0.1010 - tversky: 0.9502 - recall: 0.9657 - precision: 0.9288 - mean_io_u: 0.8899\n",
            "Epoch 61: val_loss improved from 0.19429 to 0.19150, saving model to /content/drive/MyDrive/CT_res_unet_32/CT_res_unet_32.h5\n",
            "391/391 [==============================] - 157s 400ms/step - loss: 0.1010 - tversky: 0.9502 - recall: 0.9657 - precision: 0.9288 - mean_io_u: 0.8899 - val_loss: 0.1915 - val_tversky: 0.8867 - val_recall: 0.8873 - val_precision: 0.8709 - val_mean_io_u: 0.8480 - lr: 0.0020\n",
            "Epoch 62/120\n",
            "391/391 [==============================] - ETA: 0s - loss: 0.1033 - tversky: 0.9486 - recall: 0.9662 - precision: 0.9304 - mean_io_u: 0.8919\n",
            "Epoch 62: val_loss did not improve from 0.19150\n",
            "391/391 [==============================] - 156s 398ms/step - loss: 0.1033 - tversky: 0.9486 - recall: 0.9662 - precision: 0.9304 - mean_io_u: 0.8919 - val_loss: 0.2067 - val_tversky: 0.8753 - val_recall: 0.8782 - val_precision: 0.8807 - val_mean_io_u: 0.8451 - lr: 0.0020\n",
            "Epoch 63/120\n",
            "391/391 [==============================] - ETA: 0s - loss: 0.1023 - tversky: 0.9492 - recall: 0.9670 - precision: 0.9309 - mean_io_u: 0.8934\n",
            "Epoch 63: val_loss did not improve from 0.19150\n",
            "391/391 [==============================] - 156s 398ms/step - loss: 0.1023 - tversky: 0.9492 - recall: 0.9670 - precision: 0.9309 - mean_io_u: 0.8934 - val_loss: 0.2043 - val_tversky: 0.8773 - val_recall: 0.8821 - val_precision: 0.8757 - val_mean_io_u: 0.8464 - lr: 0.0020\n",
            "Epoch 64/120\n",
            "391/391 [==============================] - ETA: 0s - loss: 0.0970 - tversky: 0.9535 - recall: 0.9677 - precision: 0.9324 - mean_io_u: 0.8945\n",
            "Epoch 64: val_loss did not improve from 0.19150\n",
            "391/391 [==============================] - 156s 398ms/step - loss: 0.0970 - tversky: 0.9535 - recall: 0.9677 - precision: 0.9324 - mean_io_u: 0.8945 - val_loss: 0.2057 - val_tversky: 0.8748 - val_recall: 0.8844 - val_precision: 0.8759 - val_mean_io_u: 0.8495 - lr: 0.0020\n",
            "Epoch 65/120\n",
            "391/391 [==============================] - ETA: 0s - loss: 0.1003 - tversky: 0.9499 - recall: 0.9678 - precision: 0.9340 - mean_io_u: 0.8950\n",
            "Epoch 65: val_loss improved from 0.19150 to 0.18592, saving model to /content/drive/MyDrive/CT_res_unet_32/CT_res_unet_32.h5\n",
            "391/391 [==============================] - 157s 400ms/step - loss: 0.1003 - tversky: 0.9499 - recall: 0.9678 - precision: 0.9340 - mean_io_u: 0.8950 - val_loss: 0.1859 - val_tversky: 0.8908 - val_recall: 0.8852 - val_precision: 0.8795 - val_mean_io_u: 0.8515 - lr: 0.0020\n",
            "Epoch 66/120\n",
            "391/391 [==============================] - ETA: 0s - loss: 0.0988 - tversky: 0.9508 - recall: 0.9682 - precision: 0.9356 - mean_io_u: 0.8955\n",
            "Epoch 66: val_loss did not improve from 0.18592\n",
            "391/391 [==============================] - 156s 398ms/step - loss: 0.0988 - tversky: 0.9508 - recall: 0.9682 - precision: 0.9356 - mean_io_u: 0.8955 - val_loss: 0.1922 - val_tversky: 0.8865 - val_recall: 0.8749 - val_precision: 0.8872 - val_mean_io_u: 0.8470 - lr: 0.0020\n",
            "Epoch 67/120\n",
            "391/391 [==============================] - ETA: 0s - loss: 0.0967 - tversky: 0.9525 - recall: 0.9680 - precision: 0.9367 - mean_io_u: 0.8954\n",
            "Epoch 67: val_loss did not improve from 0.18592\n",
            "391/391 [==============================] - 156s 398ms/step - loss: 0.0967 - tversky: 0.9525 - recall: 0.9680 - precision: 0.9367 - mean_io_u: 0.8954 - val_loss: 0.2011 - val_tversky: 0.8765 - val_recall: 0.8767 - val_precision: 0.8784 - val_mean_io_u: 0.8473 - lr: 0.0020\n",
            "Epoch 68/120\n",
            "391/391 [==============================] - ETA: 0s - loss: 0.0938 - tversky: 0.9548 - recall: 0.9686 - precision: 0.9370 - mean_io_u: 0.8970\n",
            "Epoch 68: val_loss did not improve from 0.18592\n",
            "391/391 [==============================] - 156s 398ms/step - loss: 0.0938 - tversky: 0.9548 - recall: 0.9686 - precision: 0.9370 - mean_io_u: 0.8970 - val_loss: 0.2145 - val_tversky: 0.8671 - val_recall: 0.8788 - val_precision: 0.8796 - val_mean_io_u: 0.8509 - lr: 0.0020\n",
            "Epoch 69/120\n",
            "391/391 [==============================] - ETA: 0s - loss: 0.0957 - tversky: 0.9533 - recall: 0.9688 - precision: 0.9386 - mean_io_u: 0.8979\n",
            "Epoch 69: val_loss did not improve from 0.18592\n",
            "391/391 [==============================] - 156s 398ms/step - loss: 0.0957 - tversky: 0.9533 - recall: 0.9688 - precision: 0.9386 - mean_io_u: 0.8979 - val_loss: 0.1972 - val_tversky: 0.8819 - val_recall: 0.8767 - val_precision: 0.8794 - val_mean_io_u: 0.8506 - lr: 0.0020\n",
            "Epoch 70/120\n",
            " 44/391 [==>...........................] - ETA: 2:14 - loss: 0.0933 - tversky: 0.9557 - recall: 0.9679 - precision: 0.9373 - mean_io_u: 0.8952"
          ]
        }
      ],
      "source": [
        "Res_Unet_model.fit(train_data, \n",
        "                  epochs = 120,\n",
        "                  initial_epoch=41,\n",
        "                  validation_data = val_data,\n",
        "                  callbacks = [checkpointer, earlystopping, reduce_lr,history_logger]\n",
        "                 )"
      ]
    }
  ],
  "metadata": {
    "accelerator": "GPU",
    "colab": {
      "name": "Copy of Copy of Untitled13.ipynb",
      "provenance": [],
      "collapsed_sections": []
    },
    "kernelspec": {
      "display_name": "Python 3",
      "name": "python3"
    },
    "language_info": {
      "name": "python"
    }
  },
  "nbformat": 4,
  "nbformat_minor": 0
}