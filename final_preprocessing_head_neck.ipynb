{
  "cells": [
    {
      "cell_type": "code",
      "execution_count": null,
      "metadata": {
        "colab": {
          "base_uri": "https://localhost:8080/"
        },
        "id": "5InL4LvoAvum",
        "outputId": "96e4c112-3100-48c4-a778-fa5674ebede3"
      },
      "outputs": [
        {
          "output_type": "stream",
          "name": "stdout",
          "text": [
            "Collecting pynrrd\n",
            "  Downloading pynrrd-0.4.2-py2.py3-none-any.whl (18 kB)\n",
            "Requirement already satisfied: numpy>=1.11.1 in /usr/local/lib/python3.7/dist-packages (from pynrrd) (1.21.5)\n",
            "Installing collected packages: pynrrd\n",
            "Successfully installed pynrrd-0.4.2\n"
          ]
        }
      ],
      "source": [
        "!pip install pynrrd"
      ]
    },
    {
      "cell_type": "code",
      "execution_count": null,
      "metadata": {
        "colab": {
          "base_uri": "https://localhost:8080/"
        },
        "id": "TQwBqw9mcvIo",
        "outputId": "4f7852fa-21a7-42d4-e984-722fedee1e98"
      },
      "outputs": [
        {
          "output_type": "stream",
          "name": "stdout",
          "text": [
            "Collecting patchify\n",
            "  Downloading patchify-0.2.3-py3-none-any.whl (6.6 kB)\n",
            "Requirement already satisfied: numpy<2,>=1 in /usr/local/lib/python3.7/dist-packages (from patchify) (1.21.5)\n",
            "Installing collected packages: patchify\n",
            "Successfully installed patchify-0.2.3\n"
          ]
        }
      ],
      "source": [
        "!pip install patchify"
      ]
    },
    {
      "cell_type": "code",
      "execution_count": null,
      "metadata": {
        "id": "lt8jqAG94kh-"
      },
      "outputs": [],
      "source": [
        "import os\n",
        "import nrrd\n",
        "import cv2\n",
        "import numpy as np\n",
        "import pandas as pd\n",
        "import matplotlib.pyplot as plt\n",
        "from glob import glob\n",
        "from patchify import patchify, unpatchify"
      ]
    },
    {
      "cell_type": "code",
      "execution_count": null,
      "metadata": {
        "colab": {
          "base_uri": "https://localhost:8080/"
        },
        "id": "CAiOxy-Egd7_",
        "outputId": "1aaa25b4-4654-4d6b-fe72-c758b962b24c"
      },
      "outputs": [
        {
          "output_type": "stream",
          "name": "stdout",
          "text": [
            "Requirement already satisfied: gdown in /usr/local/lib/python3.7/dist-packages (4.2.2)\n",
            "Collecting gdown\n",
            "  Downloading gdown-4.4.0.tar.gz (14 kB)\n",
            "  Installing build dependencies ... \u001b[?25l\u001b[?25hdone\n",
            "  Getting requirements to build wheel ... \u001b[?25l\u001b[?25hdone\n",
            "    Preparing wheel metadata ... \u001b[?25l\u001b[?25hdone\n",
            "Requirement already satisfied: six in /usr/local/lib/python3.7/dist-packages (from gdown) (1.15.0)\n",
            "Requirement already satisfied: beautifulsoup4 in /usr/local/lib/python3.7/dist-packages (from gdown) (4.6.3)\n",
            "Requirement already satisfied: filelock in /usr/local/lib/python3.7/dist-packages (from gdown) (3.6.0)\n",
            "Requirement already satisfied: tqdm in /usr/local/lib/python3.7/dist-packages (from gdown) (4.63.0)\n",
            "Requirement already satisfied: requests[socks] in /usr/local/lib/python3.7/dist-packages (from gdown) (2.23.0)\n",
            "Requirement already satisfied: certifi>=2017.4.17 in /usr/local/lib/python3.7/dist-packages (from requests[socks]->gdown) (2021.10.8)\n",
            "Requirement already satisfied: idna<3,>=2.5 in /usr/local/lib/python3.7/dist-packages (from requests[socks]->gdown) (2.10)\n",
            "Requirement already satisfied: urllib3!=1.25.0,!=1.25.1,<1.26,>=1.21.1 in /usr/local/lib/python3.7/dist-packages (from requests[socks]->gdown) (1.24.3)\n",
            "Requirement already satisfied: chardet<4,>=3.0.2 in /usr/local/lib/python3.7/dist-packages (from requests[socks]->gdown) (3.0.4)\n",
            "Requirement already satisfied: PySocks!=1.5.7,>=1.5.6 in /usr/local/lib/python3.7/dist-packages (from requests[socks]->gdown) (1.7.1)\n",
            "Building wheels for collected packages: gdown\n",
            "  Building wheel for gdown (PEP 517) ... \u001b[?25l\u001b[?25hdone\n",
            "  Created wheel for gdown: filename=gdown-4.4.0-py3-none-any.whl size=14774 sha256=5ffaa23db09f32cc5c3f67bd995929f47ce307beb6aed8cd694725ab7c669d1e\n",
            "  Stored in directory: /tmp/pip-ephem-wheel-cache-ieozuzdx/wheels/fb/c3/0e/c4d8ff8bfcb0461afff199471449f642179b74968c15b7a69c\n",
            "Successfully built gdown\n",
            "Installing collected packages: gdown\n",
            "  Attempting uninstall: gdown\n",
            "    Found existing installation: gdown 4.2.2\n",
            "    Uninstalling gdown-4.2.2:\n",
            "      Successfully uninstalled gdown-4.2.2\n",
            "Successfully installed gdown-4.4.0\n"
          ]
        }
      ],
      "source": [
        "!pip install -U --no-cache-dir gdown --pre\n"
      ]
    },
    {
      "cell_type": "code",
      "execution_count": null,
      "metadata": {
        "colab": {
          "base_uri": "https://localhost:8080/"
        },
        "id": "lXy9IWXchTuA",
        "outputId": "e7883fe1-6b0d-4629-a4a9-d628c4453068"
      },
      "outputs": [
        {
          "output_type": "stream",
          "name": "stdout",
          "text": [
            "/usr/local/lib/python3.7/dist-packages/gdown/cli.py:131: FutureWarning: Option `--id` was deprecated in version 4.3.1 and will be removed in 5.0. You don't need to pass it anymore to use a file ID.\n",
            "  category=FutureWarning,\n",
            "Downloading...\n",
            "From: https://drive.google.com/uc?id=1EZV7C_uQNUuNUBWpBeTpFMHxHp2W7FjH\n",
            "To: /content/PDDCA-1.4.1_part1.zip\n",
            "100% 510M/510M [00:13<00:00, 36.8MB/s]\n",
            "/usr/local/lib/python3.7/dist-packages/gdown/cli.py:131: FutureWarning: Option `--id` was deprecated in version 4.3.1 and will be removed in 5.0. You don't need to pass it anymore to use a file ID.\n",
            "  category=FutureWarning,\n",
            "Access denied with the following error:\n",
            "\n",
            " \tCannot retrieve the public link of the file. You may need to change\n",
            "\tthe permission to 'Anyone with the link', or have had many accesses. \n",
            "\n",
            "You may still be able to access the file from the browser:\n",
            "\n",
            "\t https://drive.google.com/uc?id=1kHTH1XCAw6Xoq-IxjQWK3UkP4w0Kdh2q \n",
            "\n",
            "/usr/local/lib/python3.7/dist-packages/gdown/cli.py:131: FutureWarning: Option `--id` was deprecated in version 4.3.1 and will be removed in 5.0. You don't need to pass it anymore to use a file ID.\n",
            "  category=FutureWarning,\n",
            "Downloading...\n",
            "From: https://drive.google.com/uc?id=18NhRXI-MktVHlE-CF379e0OhQWp23YL9\n",
            "To: /content/PDDCA-1.4.1_part3.zip\n",
            "100% 522M/522M [00:12<00:00, 41.4MB/s]\n"
          ]
        }
      ],
      "source": [
        "!gdown --id 1EZV7C_uQNUuNUBWpBeTpFMHxHp2W7FjH\n",
        "!gdown --id 1kHTH1XCAw6Xoq-IxjQWK3UkP4w0Kdh2q\n",
        "!gdown --id 18NhRXI-MktVHlE-CF379e0OhQWp23YL9"
      ]
    },
    {
      "cell_type": "code",
      "execution_count": null,
      "metadata": {
        "colab": {
          "base_uri": "https://localhost:8080/"
        },
        "id": "73xpfpFmhkF5",
        "outputId": "d6e2907a-dc1d-43aa-d349-f7cc8f9525b2"
      },
      "outputs": [
        {
          "output_type": "stream",
          "name": "stdout",
          "text": [
            "/usr/local/lib/python3.7/dist-packages/gdown/cli.py:131: FutureWarning: Option `--id` was deprecated in version 4.3.1 and will be removed in 5.0. You don't need to pass it anymore to use a file ID.\n",
            "  category=FutureWarning,\n",
            "Downloading...\n",
            "From: https://drive.google.com/uc?id=1kHTH1XCAw6Xoq-IxjQWK3UkP4w0Kdh2q\n",
            "To: /content/PDDCA-1.4.1_part2.zip\n",
            "100% 593M/593M [00:10<00:00, 56.2MB/s]\n"
          ]
        }
      ],
      "source": [
        "!gdown --id 1kHTH1XCAw6Xoq-IxjQWK3UkP4w0Kdh2q"
      ]
    },
    {
      "cell_type": "code",
      "source": [
        ""
      ],
      "metadata": {
        "id": "0iu2JFKu5Bbc"
      },
      "execution_count": null,
      "outputs": []
    },
    {
      "cell_type": "code",
      "execution_count": null,
      "metadata": {
        "colab": {
          "base_uri": "https://localhost:8080/"
        },
        "id": "puW2ZgD68aYK",
        "outputId": "970af374-4fd3-4e2e-e4ae-2f54bccb7492"
      },
      "outputs": [
        {
          "output_type": "stream",
          "name": "stdout",
          "text": [
            "woow_1\n",
            "woow_1\n",
            "woow_1\n"
          ]
        }
      ],
      "source": [
        "from zipfile import ZipFile\n",
        "\n",
        "zip_1=\"/content/PDDCA-1.4.1_part1.zip\"\n",
        "zip_2=\"/content/PDDCA-1.4.1_part2.zip\"\n",
        "zip_3=\"/content/PDDCA-1.4.1_part3.zip\"\n",
        "\n",
        "#os.mkdir('data') \n",
        "\n",
        "with ZipFile(zip_1, 'r') as ziip:\n",
        "  ziip.extractall(\"/content/data\")\n",
        "  print('woow_1')\n",
        "  \n",
        "with ZipFile(zip_2, 'r') as ziip:\n",
        "  ziip.extractall(\"/content/data\")\n",
        "  print('woow_1')\n",
        "  \n",
        "with ZipFile(zip_3, 'r') as ziip:\n",
        "  ziip.extractall(\"/content/data\")\n",
        "  print('woow_1')"
      ]
    },
    {
      "cell_type": "code",
      "execution_count": null,
      "metadata": {
        "id": "tt-ROdycBuds"
      },
      "outputs": [],
      "source": [
        "nrrd.reader.ALLOW_DUPLICATE_FIELD = True\n",
        "numbers_for_photos=[]\n",
        "CT_imgs=[]\n",
        "brain_stem_masks=[]\n",
        "chiasm_masks=[]\n",
        "mandible_masks=[]\n",
        "optic_nerve_L_masks=[]\n",
        "optic_nerve_R_masks=[]\n",
        "parotid_L_masks=[]\n",
        "parotid_R_masks=[]\n",
        "submandibular_L_masks=[]\n",
        "submandibular_R_masks=[]\n"
      ]
    },
    {
      "cell_type": "code",
      "source": [
        "CT_paths=glob('/content/data/*/img.nrrd')        #DON'T RUN\n",
        "counter=0\n",
        "for i in CT_paths:\n",
        "    filedata, fileheader = nrrd.read(i)\n",
        "    \n",
        "    for j in range(0,filedata.shape[2]):            #as numbers of files change for each folder\n",
        "        try:\n",
        "          counter+=1\n",
        "          CT_imgs.append(filedata[:,:,j])\n",
        "\n",
        "        except:\n",
        "          print(counter)\n",
        "          print(i)\n",
        "          print(j)\n",
        "\n",
        "    j=0\n",
        "    counter+=1\n",
        "      "
      ],
      "metadata": {
        "id": "CHL47yEK6fRX"
      },
      "execution_count": null,
      "outputs": []
    },
    {
      "cell_type": "code",
      "execution_count": null,
      "metadata": {
        "id": "s68GdCNJKA2a",
        "colab": {
          "base_uri": "https://localhost:8080/"
        },
        "outputId": "df3dce30-afcf-4cbc-acba-038cd0a1d5eb"
      },
      "outputs": [
        {
          "output_type": "execute_result",
          "data": {
            "text/plain": [
              "7367"
            ]
          },
          "metadata": {},
          "execution_count": 15
        }
      ],
      "source": [
        "len(CT_imgs)"
      ]
    },
    {
      "cell_type": "code",
      "execution_count": null,
      "metadata": {
        "id": "VTyx8AjgDGEC"
      },
      "outputs": [],
      "source": [
        "\n",
        "for i in range(0,7367):\n",
        "   CT_imgs[i]=cv2.resize(CT_imgs[i],(256,256))"
      ]
    },
    {
      "cell_type": "code",
      "execution_count": null,
      "metadata": {
        "colab": {
          "base_uri": "https://localhost:8080/"
        },
        "id": "Kghvx8e1ETEi",
        "outputId": "d2d345f5-9400-42cc-e67d-055d66c74450"
      },
      "outputs": [
        {
          "output_type": "execute_result",
          "data": {
            "text/plain": [
              "(256, 256)"
            ]
          },
          "metadata": {},
          "execution_count": 17
        }
      ],
      "source": [
        "CT_imgs[0].shape"
      ]
    },
    {
      "cell_type": "code",
      "execution_count": null,
      "metadata": {
        "colab": {
          "base_uri": "https://localhost:8080/",
          "height": 269
        },
        "id": "b1eTHu-mEXoI",
        "outputId": "bc35c4c2-c18f-4c67-cfec-b5fca8e453d5"
      },
      "outputs": [
        {
          "output_type": "display_data",
          "data": {
            "text/plain": [
              "<Figure size 432x288 with 1 Axes>"
            ],
            "image/png": "[encoded data removed]"
          },
          "metadata": {
            "needs_background": "light"
          }
        }
      ],
      "source": [
        "plt.imshow(CT_imgs[100])\n",
        "plt.show()"
      ]
    },
    {
      "cell_type": "code",
      "execution_count": null,
      "metadata": {
        "id": "sgxgemzjI2wp"
      },
      "outputs": [],
      "source": [
        "brain_stem_paths=glob('/content/data/*/structures/BrainStem.nrrd')\n",
        "counter=0\n",
        "for i in brain_stem_paths:\n",
        "    filedata, fileheader = nrrd.read(i)\n",
        "    numbers_for_photos.append(filedata.shape[2])\n",
        "    for j in range(0,filedata.shape[2]):            #as numbers of files change for each folder\n",
        "        try:\n",
        "          brain_stem_masks.append(filedata[:,:,j])\n",
        "        except:\n",
        "          print(counter)\n",
        "          print(i)\n",
        "          print(j)\n",
        "\n",
        "    j=0\n",
        "    counter+=1\n",
        "   "
      ]
    },
    {
      "cell_type": "code",
      "source": [
        "for i in range(0,7367):\n",
        "    brain_stem_masks[i]=cv2.resize(brain_stem_masks[i],(256,256))"
      ],
      "metadata": {
        "id": "8rQBNVyqv8o0"
      },
      "execution_count": null,
      "outputs": []
    },
    {
      "cell_type": "code",
      "source": [
        "B_masks=[]\n",
        "for i in range(0,7367):\n",
        "   img=np.zeros([256,256,3],dtype=np.uint8)\n",
        "   im=brain_stem_masks[i]\n",
        "   img[im==1]= (0,0,255) \n",
        "   B_masks.append(img)"
      ],
      "metadata": {
        "id": "0q0rDgTHi1Mk"
      },
      "execution_count": null,
      "outputs": []
    },
    {
      "cell_type": "code",
      "source": [
        "plt.imshow(B_masks[670])"
      ],
      "metadata": {
        "colab": {
          "base_uri": "https://localhost:8080/",
          "height": 286
        },
        "id": "jWUC2Hf5JyhO",
        "outputId": "a9e36ebf-b625-4fbb-b70b-6c72b2df1dbc"
      },
      "execution_count": null,
      "outputs": [
        {
          "output_type": "execute_result",
          "data": {
            "text/plain": [
              "<matplotlib.image.AxesImage at 0x7f431be32350>"
            ]
          },
          "metadata": {},
          "execution_count": 7
        },
        {
          "output_type": "display_data",
          "data": {
            "text/plain": [
              "<Figure size 432x288 with 1 Axes>"
            ],
            "image/png": "[encoded data removed]"
          },
          "metadata": {
            "needs_background": "light"
          }
        }
      ]
    },
    {
      "cell_type": "code",
      "source": [
        "plt.imshow(brain_stem_masks[670])"
      ],
      "metadata": {
        "colab": {
          "base_uri": "https://localhost:8080/",
          "height": 286
        },
        "id": "UMvHdEids2fx",
        "outputId": "438af37a-cf93-439a-f245-2b0e86d98eaf"
      },
      "execution_count": null,
      "outputs": [
        {
          "output_type": "execute_result",
          "data": {
            "text/plain": [
              "<matplotlib.image.AxesImage at 0x7f431b538310>"
            ]
          },
          "metadata": {},
          "execution_count": 8
        },
        {
          "output_type": "display_data",
          "data": {
            "text/plain": [
              "<Figure size 432x288 with 1 Axes>"
            ],
            "image/png": "[encoded data removed]"
          },
          "metadata": {
            "needs_background": "light"
          }
        }
      ]
    },
    {
      "cell_type": "code",
      "source": [
        "del brain_stem_masks"
      ],
      "metadata": {
        "id": "JgIcX1Xo7Iqh"
      },
      "execution_count": null,
      "outputs": []
    },
    {
      "cell_type": "code",
      "execution_count": null,
      "metadata": {
        "id": "Vb0etXjoLIMX"
      },
      "outputs": [],
      "source": [
        "chiasm_stem_paths=glob('/content/data/*/structures/Chiasm.nrrd')\n",
        "list1=[]\n",
        "counter=0\n",
        "for i in chiasm_stem_paths:\n",
        "    filedata, fileheader = nrrd.read(i)\n",
        "\n",
        "    for j in range(0,filedata.shape[2]):            #as numbers of files change for each folder\n",
        "        try:          \n",
        "          chiasm_masks.append(filedata[:,:,j])\n",
        "        except:\n",
        "          print(counter)\n",
        "          print(i)\n",
        "          print(j)\n",
        "\n",
        "    j=0\n",
        "    counter+=1"
      ]
    },
    {
      "cell_type": "code",
      "execution_count": null,
      "metadata": {
        "colab": {
          "base_uri": "https://localhost:8080/"
        },
        "id": "g4gbj6PZy5Qu",
        "outputId": "2d43270c-7920-4a5b-8e11-65f2069553e6"
      },
      "outputs": [
        {
          "output_type": "execute_result",
          "data": {
            "text/plain": [
              "7367"
            ]
          },
          "metadata": {},
          "execution_count": 12
        }
      ],
      "source": [
        "len(chiasm_masks)"
      ]
    },
    {
      "cell_type": "code",
      "execution_count": null,
      "metadata": {
        "id": "HJR6m4DYE-82"
      },
      "outputs": [],
      "source": [
        "for i in range(0,7367):\n",
        "   chiasm_masks[i]=cv2.resize(chiasm_masks[i],(256,256))"
      ]
    },
    {
      "cell_type": "code",
      "source": [
        "\n",
        "C_masks=[]\n",
        "for i in range(0,7367):\n",
        "   img=np.zeros([256,256,3],dtype=np.uint8)\n",
        "   im=chiasm_masks[i]\n",
        "   img[im==1]= (0,255,0) \n",
        "   C_masks.append(img)"
      ],
      "metadata": {
        "id": "tKSMYw3wtnnQ"
      },
      "execution_count": null,
      "outputs": []
    },
    {
      "cell_type": "code",
      "source": [
        "del chiasm_masks"
      ],
      "metadata": {
        "id": "x5k4iiFT7Za0"
      },
      "execution_count": null,
      "outputs": []
    },
    {
      "cell_type": "code",
      "source": [
        "plt.imshow(C_masks[2111])"
      ],
      "metadata": {
        "colab": {
          "base_uri": "https://localhost:8080/",
          "height": 286
        },
        "id": "Mb97Rw_Ktwrt",
        "outputId": "73a856a7-9bef-4d02-9512-063ad38edc84"
      },
      "execution_count": null,
      "outputs": [
        {
          "output_type": "execute_result",
          "data": {
            "text/plain": [
              "<matplotlib.image.AxesImage at 0x7f431bb2d410>"
            ]
          },
          "metadata": {},
          "execution_count": 16
        },
        {
          "output_type": "display_data",
          "data": {
            "text/plain": [
              "<Figure size 432x288 with 1 Axes>"
            ],
            "image/png": "[encoded data removed]"
          },
          "metadata": {
            "needs_background": "light"
          }
        }
      ]
    },
    {
      "cell_type": "code",
      "source": [
        "chiasm_masks[0].shape"
      ],
      "metadata": {
        "id": "_xpo_p98jQPM"
      },
      "execution_count": null,
      "outputs": []
    },
    {
      "cell_type": "code",
      "execution_count": null,
      "metadata": {
        "id": "dXRQt6NAeIrR"
      },
      "outputs": [],
      "source": [
        "OpticNerve_L_paths=glob('/content/data/*/structures/OpticNerve_L.nrrd')\n",
        "counter=0\n",
        "for i in OpticNerve_L_paths:\n",
        "  filedata, fileheader = nrrd.read(i)\n",
        "\n",
        "  for j in range(0,filedata.shape[2]):            #as numbers of files change for each folder\n",
        "        \n",
        "        try:\n",
        "          optic_nerve_L_masks.append(filedata[:,:,j])\n",
        "        except:\n",
        "          print(counter)\n",
        "          print(i)\n",
        "          print(j)\n",
        "\n",
        "  j=0\n",
        "  counter+=1"
      ]
    },
    {
      "cell_type": "code",
      "execution_count": null,
      "metadata": {
        "colab": {
          "base_uri": "https://localhost:8080/"
        },
        "id": "umdpArqk1pea",
        "outputId": "3676e561-dd69-41f0-933c-0320fbe32233"
      },
      "outputs": [
        {
          "output_type": "execute_result",
          "data": {
            "text/plain": [
              "7367"
            ]
          },
          "metadata": {},
          "execution_count": 19
        }
      ],
      "source": [
        "len(optic_nerve_L_masks)"
      ]
    },
    {
      "cell_type": "code",
      "execution_count": null,
      "metadata": {
        "id": "mWwLceo9FZvS"
      },
      "outputs": [],
      "source": [
        "for i in range(0,7367):\n",
        "   optic_nerve_L_masks[i]=cv2.resize(optic_nerve_L_masks[i],(256,256))"
      ]
    },
    {
      "cell_type": "code",
      "source": [
        "onl_masks=[]\n",
        "for i in range(0,7367):\n",
        "   img=np.zeros([256,256,3],dtype=np.uint8)\n",
        "   im=optic_nerve_L_masks[i]\n",
        "   img[im==1]= [255,0,0]\n",
        "   onl_masks.append(img)"
      ],
      "metadata": {
        "id": "ur93MPrUv6RO"
      },
      "execution_count": null,
      "outputs": []
    },
    {
      "cell_type": "code",
      "source": [
        "plt.imshow(onl_masks[2111])"
      ],
      "metadata": {
        "colab": {
          "base_uri": "https://localhost:8080/",
          "height": 286
        },
        "id": "HejWp50wja59",
        "outputId": "3352a411-ec2b-406a-c40d-df2847039632"
      },
      "execution_count": null,
      "outputs": [
        {
          "output_type": "execute_result",
          "data": {
            "text/plain": [
              "<matplotlib.image.AxesImage at 0x7f431b29f810>"
            ]
          },
          "metadata": {},
          "execution_count": 22
        },
        {
          "output_type": "display_data",
          "data": {
            "text/plain": [
              "<Figure size 432x288 with 1 Axes>"
            ],
            "image/png": "[encoded data removed]"
          },
          "metadata": {
            "needs_background": "light"
          }
        }
      ]
    },
    {
      "cell_type": "code",
      "source": [
        "del optic_nerve_L_masks"
      ],
      "metadata": {
        "id": "amj9FVPl8FSO"
      },
      "execution_count": null,
      "outputs": []
    },
    {
      "cell_type": "code",
      "execution_count": null,
      "metadata": {
        "id": "KcgtyJgXeywa"
      },
      "outputs": [],
      "source": [
        "OpticNerve_R_paths=glob('/content/data/*/structures/OpticNerve_R.nrrd')\n",
        "counter=0\n",
        "for i in OpticNerve_R_paths:\n",
        "  filedata, fileheader = nrrd.read(i)\n",
        "\n",
        "  for j in range(0,filedata.shape[2]):            #as numbers of files change for each folder\n",
        "        \n",
        "        try:\n",
        "          optic_nerve_R_masks.append(filedata[:,:,j])\n",
        "        except:\n",
        "          print(counter)\n",
        "          print(i)\n",
        "          print(j)\n",
        "\n",
        "  j=0\n",
        "  counter+=1"
      ]
    },
    {
      "cell_type": "code",
      "execution_count": null,
      "metadata": {
        "colab": {
          "base_uri": "https://localhost:8080/"
        },
        "id": "IOwJ6zRc1-uo",
        "outputId": "c2e77c79-735e-4a81-eed9-c1e4d70687d1"
      },
      "outputs": [
        {
          "output_type": "execute_result",
          "data": {
            "text/plain": [
              "7367"
            ]
          },
          "metadata": {},
          "execution_count": 25
        }
      ],
      "source": [
        "len(optic_nerve_R_masks)"
      ]
    },
    {
      "cell_type": "code",
      "execution_count": null,
      "metadata": {
        "id": "i_ZOX5x2Fv_Y"
      },
      "outputs": [],
      "source": [
        "for i in range(0,7367):\n",
        "   optic_nerve_R_masks[i]=cv2.resize(optic_nerve_R_masks[i],(256,256))"
      ]
    },
    {
      "cell_type": "code",
      "source": [
        "onr_masks=[]\n",
        "for i in range(0,7367):\n",
        "   img=np.zeros([256,256,3],dtype=np.uint8)\n",
        "   im=optic_nerve_R_masks[i]\n",
        "   img[im==1]= (255,255,0) \n",
        "   onr_masks.append(img)"
      ],
      "metadata": {
        "id": "ovMlSlOk9W2t"
      },
      "execution_count": null,
      "outputs": []
    },
    {
      "cell_type": "code",
      "source": [
        "plt.imshow(onr_masks[2111])"
      ],
      "metadata": {
        "colab": {
          "base_uri": "https://localhost:8080/",
          "height": 286
        },
        "id": "r5asSZRs9n9r",
        "outputId": "9d8c7d22-1be4-4a17-bcdf-982597afb9b9"
      },
      "execution_count": null,
      "outputs": [
        {
          "output_type": "execute_result",
          "data": {
            "text/plain": [
              "<matplotlib.image.AxesImage at 0x7f431b1bf750>"
            ]
          },
          "metadata": {},
          "execution_count": 28
        },
        {
          "output_type": "display_data",
          "data": {
            "text/plain": [
              "<Figure size 432x288 with 1 Axes>"
            ],
            "image/png": "[encoded data removed]"
          },
          "metadata": {
            "needs_background": "light"
          }
        }
      ]
    },
    {
      "cell_type": "code",
      "source": [
        "del optic_nerve_R_masks"
      ],
      "metadata": {
        "id": "0OngoSfe8iEd"
      },
      "execution_count": null,
      "outputs": []
    },
    {
      "cell_type": "code",
      "execution_count": null,
      "metadata": {
        "id": "2fBsdPLle8Tp"
      },
      "outputs": [],
      "source": [
        "Parotid_L_paths=glob('/content/data/*/structures/Parotid_L.nrrd')\n",
        "counter=0\n",
        "for i in Parotid_L_paths:\n",
        "  filedata, fileheader = nrrd.read(i)\n",
        "\n",
        "  for j in range(0,filedata.shape[2]):            #as numbers of files change for each folder\n",
        "        \n",
        "        try:\n",
        "          parotid_L_masks.append(filedata[:,:,j])\n",
        "        except:\n",
        "          print(counter)\n",
        "          print(i)\n",
        "          print(j)\n",
        "\n",
        "  j=0\n",
        "  counter+=1"
      ]
    },
    {
      "cell_type": "code",
      "execution_count": null,
      "metadata": {
        "colab": {
          "base_uri": "https://localhost:8080/"
        },
        "id": "XRD1vkVd2gh0",
        "outputId": "2dce751c-f538-47c2-eb5a-fce57e50593a"
      },
      "outputs": [
        {
          "output_type": "execute_result",
          "data": {
            "text/plain": [
              "7367"
            ]
          },
          "metadata": {},
          "execution_count": 31
        }
      ],
      "source": [
        "len(parotid_L_masks)"
      ]
    },
    {
      "cell_type": "code",
      "execution_count": null,
      "metadata": {
        "id": "OslflyKuF87Q"
      },
      "outputs": [],
      "source": [
        "for i in range(0,7367):\n",
        "   parotid_L_masks[i]=cv2.resize(parotid_L_masks[i],(256,256))"
      ]
    },
    {
      "cell_type": "code",
      "source": [
        "pL_masks=[]\n",
        "for i in range(0,7367):\n",
        "   img=np.zeros([256,256,3],dtype=np.uint8)\n",
        "   im=parotid_L_masks[i]\n",
        "   img[im==1]= (255,0,255) \n",
        "   pL_masks.append(img)"
      ],
      "metadata": {
        "id": "MLDDxNfV9-Yf"
      },
      "execution_count": null,
      "outputs": []
    },
    {
      "cell_type": "code",
      "source": [
        "plt.imshow(pL_masks[1111])"
      ],
      "metadata": {
        "colab": {
          "base_uri": "https://localhost:8080/",
          "height": 286
        },
        "id": "QTpnJVOF_lPc",
        "outputId": "9339b1a0-3763-4714-8a94-c3fbdae230b1"
      },
      "execution_count": null,
      "outputs": [
        {
          "output_type": "execute_result",
          "data": {
            "text/plain": [
              "<matplotlib.image.AxesImage at 0x7f431b064090>"
            ]
          },
          "metadata": {},
          "execution_count": 34
        },
        {
          "output_type": "display_data",
          "data": {
            "text/plain": [
              "<Figure size 432x288 with 1 Axes>"
            ],
            "image/png": "[encoded data removed]"
          },
          "metadata": {
            "needs_background": "light"
          }
        }
      ]
    },
    {
      "cell_type": "code",
      "execution_count": null,
      "metadata": {
        "id": "ENmMZ2yHfXrf"
      },
      "outputs": [],
      "source": [
        "Parotid_R_paths=glob('/content/data/*/structures/Parotid_R.nrrd')\n",
        "counter=0\n",
        "for i in Parotid_R_paths:\n",
        "  filedata, fileheader = nrrd.read(i)\n",
        "\n",
        "  for j in range(0,filedata.shape[2]):            #as numbers of files change for each folder\n",
        "        \n",
        "        try:\n",
        "          parotid_R_masks.append(filedata[:,:,j])\n",
        "        except:\n",
        "          print(counter)\n",
        "          print(i)\n",
        "          print(j)\n",
        "\n",
        "  j=0\n",
        "  counter+=1"
      ]
    },
    {
      "cell_type": "code",
      "execution_count": null,
      "metadata": {
        "colab": {
          "base_uri": "https://localhost:8080/"
        },
        "id": "zD1N2FFK2w6v",
        "outputId": "62d934be-b510-4bd9-d0d7-c4003a26b911"
      },
      "outputs": [
        {
          "output_type": "execute_result",
          "data": {
            "text/plain": [
              "7367"
            ]
          },
          "metadata": {},
          "execution_count": 36
        }
      ],
      "source": [
        "len(parotid_R_masks)"
      ]
    },
    {
      "cell_type": "code",
      "execution_count": null,
      "metadata": {
        "id": "RRIW4POmGJPA"
      },
      "outputs": [],
      "source": [
        "for i in range(0,7367):\n",
        "   parotid_R_masks[i]=cv2.resize(parotid_R_masks[i],(256,256))"
      ]
    },
    {
      "cell_type": "code",
      "source": [
        "pR_masks=[]\n",
        "for i in range(0,7367):\n",
        "   img=np.zeros([256,256,3],dtype=np.uint8)\n",
        "   im=parotid_R_masks[i]\n",
        "   img[im==1]= (128,86,17) \n",
        "   pR_masks.append(img)"
      ],
      "metadata": {
        "id": "iafhUiE6-Xne"
      },
      "execution_count": null,
      "outputs": []
    },
    {
      "cell_type": "code",
      "source": [
        "plt.imshow(pR_masks[1111])"
      ],
      "metadata": {
        "colab": {
          "base_uri": "https://localhost:8080/",
          "height": 286
        },
        "id": "Oie_TAQvkAQM",
        "outputId": "1fb29cac-062a-4b0f-8f32-f3f5bd84f76b"
      },
      "execution_count": null,
      "outputs": [
        {
          "output_type": "execute_result",
          "data": {
            "text/plain": [
              "<matplotlib.image.AxesImage at 0x7f431b2b4450>"
            ]
          },
          "metadata": {},
          "execution_count": 39
        },
        {
          "output_type": "display_data",
          "data": {
            "text/plain": [
              "<Figure size 432x288 with 1 Axes>"
            ],
            "image/png": "[encoded data removed]"
          },
          "metadata": {
            "needs_background": "light"
          }
        }
      ]
    },
    {
      "cell_type": "code",
      "source": [
        "len(pR_masks)"
      ],
      "metadata": {
        "colab": {
          "base_uri": "https://localhost:8080/"
        },
        "id": "Gk8CrejeD1Ou",
        "outputId": "8450e39f-338c-413e-9747-020513cd325d"
      },
      "execution_count": null,
      "outputs": [
        {
          "output_type": "execute_result",
          "data": {
            "text/plain": [
              "7367"
            ]
          },
          "metadata": {},
          "execution_count": 40
        }
      ]
    },
    {
      "cell_type": "markdown",
      "source": [
        "**Inconsistent data**"
      ],
      "metadata": {
        "id": "4u9bPWGp9Npk"
      }
    },
    {
      "cell_type": "code",
      "source": [
        "Submandibular_L_paths=glob('/content/data/*/structures/Submandibular_L.nrrd')"
      ],
      "metadata": {
        "id": "Y8saAGlJMKSn"
      },
      "execution_count": null,
      "outputs": []
    },
    {
      "cell_type": "code",
      "source": [
        "Submandibular_L_paths=glob('/content/data/*/structures/Submandibular_L.nrrd')\n",
        "counter=0\n",
        "for i in Submandibular_L_paths:\n",
        "  filedata, fileheader = nrrd.read(i)\n",
        "  S=[]\n",
        "  S.append(filedata.shape[2])\n",
        "  for j in range(0,numbers_for_photos[counter]):            #as numbers of files change for each folder\n",
        "        \n",
        "        try:\n",
        "          submandibular_L_masks.append(filedata[:,:,j])\n",
        "        except:\n",
        "          img=np.zeros([256,256],dtype=np.uint8)\n",
        "          submandibular_L_masks.append(img)\n",
        "          print(j)\n",
        "\n",
        "  counter+=1"
      ],
      "metadata": {
        "id": "ONIL9Cdn9MOY"
      },
      "execution_count": null,
      "outputs": []
    },
    {
      "cell_type": "code",
      "source": [
        "counter"
      ],
      "metadata": {
        "colab": {
          "base_uri": "https://localhost:8080/"
        },
        "id": "B0r52qirLu9u",
        "outputId": "78ba5eca-64a1-4fee-90e9-1a6986030559"
      },
      "execution_count": null,
      "outputs": [
        {
          "output_type": "execute_result",
          "data": {
            "text/plain": [
              "41"
            ]
          },
          "metadata": {},
          "execution_count": 43
        }
      ]
    },
    {
      "cell_type": "code",
      "source": [
        "len(Submandibular_L_paths)"
      ],
      "metadata": {
        "colab": {
          "base_uri": "https://localhost:8080/"
        },
        "id": "M3FikmJ4L3HQ",
        "outputId": "36960526-c023-43df-a083-0153e1a2c410"
      },
      "execution_count": null,
      "outputs": [
        {
          "output_type": "execute_result",
          "data": {
            "text/plain": [
              "41"
            ]
          },
          "metadata": {},
          "execution_count": 46
        }
      ]
    },
    {
      "cell_type": "code",
      "source": [
        "len(submandibular_L_masks)"
      ],
      "metadata": {
        "colab": {
          "base_uri": "https://localhost:8080/"
        },
        "id": "IA9EicqfDjVV",
        "outputId": "f1164123-f993-46e8-f792-3e0034e0a289"
      },
      "execution_count": null,
      "outputs": [
        {
          "output_type": "execute_result",
          "data": {
            "text/plain": [
              "6331"
            ]
          },
          "metadata": {},
          "execution_count": 42
        }
      ]
    },
    {
      "cell_type": "code",
      "source": [
        "plt.imshow(pR_masks[1111])"
      ],
      "metadata": {
        "id": "UgD4CrSoDfSO"
      },
      "execution_count": null,
      "outputs": []
    },
    {
      "cell_type": "code",
      "source": [
        "all_masks=[]"
      ],
      "metadata": {
        "id": "E4YClACn0luv"
      },
      "execution_count": null,
      "outputs": []
    },
    {
      "cell_type": "code",
      "source": [
        "from google.colab import drive\n",
        "drive.mount('/content/drive')"
      ],
      "metadata": {
        "colab": {
          "base_uri": "https://localhost:8080/"
        },
        "id": "-lN2lbHjkVa5",
        "outputId": "49d22a21-c057-49eb-9663-244651a582f2"
      },
      "execution_count": null,
      "outputs": [
        {
          "output_type": "stream",
          "name": "stdout",
          "text": [
            "Drive already mounted at /content/drive; to attempt to forcibly remount, call drive.mount(\"/content/drive\", force_remount=True).\n"
          ]
        }
      ]
    },
    {
      "cell_type": "code",
      "source": [
        "import os\n",
        "s=os.listdir(\"/content/drive/MyDrive/Copy of CT_Data/Masks/\")\n",
        "len(s)"
      ],
      "metadata": {
        "colab": {
          "base_uri": "https://localhost:8080/"
        },
        "id": "T88r_u7p3PiV",
        "outputId": "ea62f1cd-960b-42d9-9c9d-e1b6b4529d31"
      },
      "execution_count": null,
      "outputs": [
        {
          "output_type": "execute_result",
          "data": {
            "text/plain": [
              "7367"
            ]
          },
          "metadata": {},
          "execution_count": 42
        }
      ]
    },
    {
      "cell_type": "code",
      "source": [
        "ls=[3,113,150,167,252,294,334,445,471,515,525,536,553,556,561,602,605,617,618,633,663,669,682,718,742,746,748,753,756,759,825,858,867,886,898,903,904,928,943,985,1032,1045,1082,1108,1149,1197,1216,1228,1259,1295,1365,1367,1487,1556,1674,1692]"
      ],
      "metadata": {
        "id": "vSiW9NUO3fKE"
      },
      "execution_count": null,
      "outputs": []
    },
    {
      "cell_type": "code",
      "source": [
        "for i in ls:\n",
        "  print(i)\n",
        "  one_IMG = cv2.addWeighted(B_masks[i],1,C_masks[i],1,1)\n",
        "  twoimg=cv2.resize(one_IMG,(256,256))\n",
        "  three = cv2.addWeighted(twoimg,1,onr_masks[i],1,1)\n",
        "  four=cv2.resize(three,(256,256))\n",
        "  threes = cv2.addWeighted(four,1,onl_masks[i],1,1)\n",
        "  fours=cv2.resize(threes,(256,256))\n",
        "  five = cv2.addWeighted(fours,1,pL_masks[i],1,1)\n",
        "  six=cv2.resize(five,(256,256))\n",
        "  all = cv2.addWeighted(six,1,pR_masks[i],1,1)\n",
        "  masked=cv2.resize(all,(256,256))\n",
        "  #all_masks.append(masked)\n",
        "  cv2.imwrite('/content/drive/MyDrive/Copy of CT_Data/Masks/'+str(i)+'.png',masked)"
      ],
      "metadata": {
        "id": "OK_SNJXDYYqS",
        "colab": {
          "base_uri": "https://localhost:8080/"
        },
        "outputId": "283875e1-2162-418b-e265-34c4088a29fa"
      },
      "execution_count": null,
      "outputs": [
        {
          "output_type": "stream",
          "name": "stdout",
          "text": [
            "3\n",
            "113\n",
            "150\n",
            "167\n",
            "252\n",
            "294\n",
            "334\n",
            "445\n",
            "471\n",
            "515\n",
            "525\n",
            "536\n",
            "553\n",
            "556\n",
            "561\n",
            "602\n",
            "605\n",
            "617\n",
            "618\n",
            "633\n",
            "663\n",
            "669\n",
            "682\n",
            "718\n",
            "742\n",
            "746\n",
            "748\n",
            "753\n",
            "756\n",
            "759\n",
            "825\n",
            "858\n",
            "867\n",
            "886\n",
            "898\n",
            "903\n",
            "904\n",
            "928\n",
            "943\n",
            "985\n",
            "1032\n",
            "1045\n",
            "1082\n",
            "1108\n",
            "1149\n",
            "1197\n",
            "1216\n",
            "1228\n",
            "1259\n",
            "1295\n",
            "1365\n",
            "1367\n",
            "1487\n",
            "1556\n",
            "1674\n",
            "1692\n"
          ]
        }
      ]
    },
    {
      "cell_type": "code",
      "source": [
        "for i in range(len(CT_imgs)):\n",
        "  ls=cv2.cvtColor(CT_imgs[i], cv2.COLOR_GRAY2RGB)\n",
        "  ls=ls.astype(np.uint8)\n",
        "  cv2.imwrite(\"/content/drive/MyDrive/CT_images/\"+str(i)+\".png\",ls)"
      ],
      "metadata": {
        "id": "DPnn3uDTnfra"
      },
      "execution_count": null,
      "outputs": []
    }
  ],
  "metadata": {
    "colab": {
      "collapsed_sections": [],
      "name": "final_preprocessing_head_neck.ipynb",
      "provenance": []
    },
    "kernelspec": {
      "display_name": "Python 3",
      "name": "python3"
    },
    "language_info": {
      "name": "python"
    }
  },
  "nbformat": 4,
  "nbformat_minor": 0
}