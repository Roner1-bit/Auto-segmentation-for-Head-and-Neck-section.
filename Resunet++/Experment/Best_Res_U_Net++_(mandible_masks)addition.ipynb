{
  "nbformat": 4,
  "nbformat_minor": 0,
  "metadata": {
    "colab": {
      "name": "Best_Res-U-Net++ (mandible_masks)addition.ipynb",
      "provenance": [],
      "collapsed_sections": []
    },
    "kernelspec": {
      "name": "python3",
      "display_name": "Python 3"
    },
    "language_info": {
      "name": "python"
    },
    "accelerator": "GPU"
  },
  "cells": [
    {
      "cell_type": "code",
      "source": [
        "!pip install pynrrd"
      ],
      "metadata": {
        "colab": {
          "base_uri": "https://localhost:8080/"
        },
        "id": "R73Lvs1vxbjh",
        "outputId": "110d62f2-a2b9-4aa5-a1f7-7bb7b354deba"
      },
      "execution_count": null,
      "outputs": [
        {
          "output_type": "stream",
          "name": "stdout",
          "text": [
            "Collecting pynrrd\n",
            "  Downloading pynrrd-0.4.2-py2.py3-none-any.whl (18 kB)\n",
            "Requirement already satisfied: numpy>=1.11.1 in /usr/local/lib/python3.7/dist-packages (from pynrrd) (1.21.5)\n",
            "Installing collected packages: pynrrd\n",
            "Successfully installed pynrrd-0.4.2\n"
          ]
        }
      ]
    },
    {
      "cell_type": "code",
      "source": [
        "!pip install patchify"
      ],
      "metadata": {
        "colab": {
          "base_uri": "https://localhost:8080/"
        },
        "id": "-F2V0Ax0xdsV",
        "outputId": "8f2c7039-1163-482c-d379-5ff7947e5345"
      },
      "execution_count": null,
      "outputs": [
        {
          "output_type": "stream",
          "name": "stdout",
          "text": [
            "Collecting patchify\n",
            "  Downloading patchify-0.2.3-py3-none-any.whl (6.6 kB)\n",
            "Requirement already satisfied: numpy<2,>=1 in /usr/local/lib/python3.7/dist-packages (from patchify) (1.21.5)\n",
            "Installing collected packages: patchify\n",
            "Successfully installed patchify-0.2.3\n"
          ]
        }
      ]
    },
    {
      "cell_type": "code",
      "execution_count": null,
      "metadata": {
        "id": "jL4s2yd_DE2Y"
      },
      "outputs": [],
      "source": [
        "import os\n",
        "import numpy as np\n",
        "import cv2\n",
        "from glob import glob\n",
        "import numpy as np\n",
        "import pandas as pd\n",
        "import tensorflow as tf\n",
        "from keras.layers import *\n",
        "from keras.models import Model\n",
        "from tensorflow.keras.callbacks import ReduceLROnPlateau, EarlyStopping, ModelCheckpoint, LearningRateScheduler\n",
        "import os\n",
        "import nrrd\n",
        "import matplotlib.pyplot as plt\n",
        "from patchify import patchify, unpatchify"
      ]
    },
    {
      "cell_type": "code",
      "source": [
        "from tensorflow.keras.metrics import Precision, Recall, MeanIoU\n",
        "from tensorflow.keras.optimizers import Adam, Nadam, SGD\n",
        "from tensorflow.keras.models import Model, load_model, save_model\n",
        "from tensorflow.keras.layers import Input, Activation, BatchNormalization, Dropout, Lambda, Conv2D, Conv2DTranspose, MaxPooling2D, concatenate, AveragePooling2D, Dense, Flatten\n",
        "from tensorflow.keras.optimizers import Adam\n",
        "from tensorflow.keras import backend as K\n",
        "from sklearn.model_selection import train_test_split\n",
        "from skimage import io\n",
        "import tensorflow.keras.backend as K"
      ],
      "metadata": {
        "id": "yuABVWt1F9JD"
      },
      "execution_count": null,
      "outputs": []
    },
    {
      "cell_type": "code",
      "source": [
        "from google.colab import drive\n",
        "drive.mount('/content/drive')"
      ],
      "metadata": {
        "colab": {
          "base_uri": "https://localhost:8080/"
        },
        "id": "HVezKxcRsLmS",
        "outputId": "76d8848e-0c5a-4be2-8bfe-e7b436e2a14f"
      },
      "execution_count": null,
      "outputs": [
        {
          "output_type": "stream",
          "name": "stdout",
          "text": [
            "Mounted at /content/drive\n"
          ]
        }
      ]
    },
    {
      "cell_type": "code",
      "source": [
        "def dice_coef(y_true, y_pred):\n",
        "    smooth=100\n",
        "    y_true = tf.cast(y_true, tf.float32)\n",
        "    y_truef=K.flatten(y_true)\n",
        "    y_predf=K.flatten(y_pred)\n",
        "    And=K.sum(y_truef* y_predf)\n",
        "    return((2* And + smooth) / (K.sum(y_truef) + K.sum(y_predf) + smooth))\n",
        "\n",
        "def dice_coef_loss(y_true, y_pred):\n",
        "    return -dice_coef(y_true, y_pred)\n"
      ],
      "metadata": {
        "id": "e4c95b61Rs6v"
      },
      "execution_count": null,
      "outputs": []
    },
    {
      "cell_type": "code",
      "source": [
        "def squeeze_excite_block(inputs, ratio=16):\n",
        "    init = inputs\n",
        "    channel_axis = -1\n",
        "    filters = init.shape[channel_axis]\n",
        "    se_shape = (1, 1, filters)\n",
        "\n",
        "    se = GlobalAveragePooling2D()(init)\n",
        "    se = Reshape(se_shape)(se)\n",
        "    se = Dense(filters // ratio, activation='relu', kernel_initializer='he_normal', use_bias=False)(se)\n",
        "    se = Dense(filters, activation='sigmoid', kernel_initializer='he_normal', use_bias=False)(se)\n",
        "\n",
        "    x = Multiply()([init, se])\n",
        "    return x\n"
      ],
      "metadata": {
        "id": "yh-13HdsDmAc"
      },
      "execution_count": null,
      "outputs": []
    },
    {
      "cell_type": "code",
      "source": [
        "def stem_block(x, n_filter, strides):\n",
        "    x_init = x\n",
        "\n",
        "    ## Conv 1\n",
        "    x = Conv2D(n_filter, (3, 3), padding=\"same\", strides=strides)(x)\n",
        "    x = BatchNormalization()(x)\n",
        "    x = Activation(\"relu\")(x)\n",
        "    x = Conv2D(n_filter, (3, 3), padding=\"same\")(x)\n",
        "\n",
        "    ## Shortcut\n",
        "    s  = Conv2D(n_filter, (1, 1), padding=\"same\", strides=strides)(x_init)\n",
        "    s = BatchNormalization()(s)\n",
        "\n",
        "    ## Add\n",
        "    x = Add()([x, s])\n",
        "    x = squeeze_excite_block(x)\n",
        "    return x"
      ],
      "metadata": {
        "id": "CwMacDPLDoEy"
      },
      "execution_count": null,
      "outputs": []
    },
    {
      "cell_type": "code",
      "source": [
        "def resnet_block(x, n_filter, strides=1):\n",
        "    x_init = x\n",
        "\n",
        "    ## Conv 1\n",
        "    x = BatchNormalization()(x)\n",
        "    x = Activation(\"relu\")(x)\n",
        "    x = Conv2D(n_filter, (1, 1), padding=\"same\", strides=strides)(x)\n",
        "    ## Conv 2\n",
        "    x = BatchNormalization()(x)\n",
        "    x = Activation(\"relu\")(x)\n",
        "    x = Conv2D(n_filter, (3, 3), padding=\"same\", strides=1)(x)\n",
        "\n",
        "    ## Shortcut\n",
        "    s  = Conv2D(n_filter, (1, 1), padding=\"same\", strides=strides)(x_init)\n",
        "    s = BatchNormalization()(s)\n",
        "\n",
        "    ## Add\n",
        "    x = Add()([x, s])\n",
        "    x = squeeze_excite_block(x)\n",
        "    return x"
      ],
      "metadata": {
        "id": "q05wy_yTDqWr"
      },
      "execution_count": null,
      "outputs": []
    },
    {
      "cell_type": "code",
      "source": [
        "def aspp_block(x, num_filters, rate_scale=1):\n",
        "    x1 = Conv2D(num_filters, (3, 3), dilation_rate=(6 * rate_scale, 6 * rate_scale), padding=\"same\")(x)\n",
        "    x1 = BatchNormalization()(x1)\n",
        "\n",
        "    x2 = Conv2D(num_filters, (1, 1), dilation_rate=(12 * rate_scale, 12 * rate_scale), padding=\"same\")(x)\n",
        "    x2 = BatchNormalization()(x2)\n",
        "\n",
        "    x3 = Conv2D(num_filters, (3, 3), dilation_rate=(18 * rate_scale, 18 * rate_scale), padding=\"same\")(x)\n",
        "    x3 = BatchNormalization()(x3)\n",
        "\n",
        "    x4 = Conv2D(num_filters, (1, 1), padding=\"same\")(x)\n",
        "    x4 = BatchNormalization()(x4)\n",
        "\n",
        "    y = Add()([x1, x2, x3, x4])\n",
        "    y = Conv2D(num_filters, (1, 1), padding=\"same\")(y)\n",
        "    return y"
      ],
      "metadata": {
        "id": "uQqExl1LDso5"
      },
      "execution_count": null,
      "outputs": []
    },
    {
      "cell_type": "code",
      "source": [
        "def attetion_block(g, x):\n",
        "    \"\"\"\n",
        "        g: Output of Parallel Encoder block\n",
        "        x: Output of Previous Decoder block\n",
        "    \"\"\"\n",
        "\n",
        "    filters = x.shape[-1]\n",
        "\n",
        "    g_conv = BatchNormalization()(g)\n",
        "    g_conv = Activation(\"relu\")(g_conv)\n",
        "    g_conv = Conv2D(filters, (1, 1), padding=\"same\")(g_conv)\n",
        "\n",
        "    g_pool = MaxPooling2D(pool_size=(2, 2), strides=(2, 2))(g_conv)\n",
        "\n",
        "    x_conv = BatchNormalization()(x)\n",
        "    x_conv = Activation(\"relu\")(x_conv)\n",
        "    x_conv = Conv2D(filters, (1, 1), padding=\"same\")(x_conv)\n",
        "\n",
        "    gc_sum = Add()([g_pool, x_conv])\n",
        "\n",
        "    gc_conv = BatchNormalization()(gc_sum)\n",
        "    gc_conv = Activation(\"relu\")(gc_conv)\n",
        "    gc_conv = Conv2D(filters, (1, 1), padding=\"same\")(gc_conv)\n",
        "\n",
        "    gc_mul = Multiply()([gc_conv, x])\n",
        "    return gc_mul"
      ],
      "metadata": {
        "id": "IMoCF90CDugy"
      },
      "execution_count": null,
      "outputs": []
    },
    {
      "cell_type": "code",
      "source": [
        "class ResUnetPlusPlus:\n",
        "    def __init__(self, input_size=256):\n",
        "        self.input_size = input_size\n",
        "\n",
        "    def build_model(self):\n",
        "        n_filters = [16, 32, 64, 128, 256]\n",
        "        inputs = Input((self.input_size, self.input_size, 1))\n",
        "\n",
        "        c0 = inputs\n",
        "        c1 = stem_block(c0, n_filters[0], strides=1)\n",
        "\n",
        "        ## Encoder\n",
        "        c2 = resnet_block(c1, n_filters[1], strides=2)\n",
        "        c3 = resnet_block(c2, n_filters[2], strides=2)\n",
        "        c4 = resnet_block(c3, n_filters[3], strides=2)\n",
        "\n",
        "        ## Bridge\n",
        "        b1 = aspp_block(c4, n_filters[4])\n",
        "\n",
        "        ## Decoder\n",
        "        d1 = attetion_block(c3, b1)\n",
        "        d1 = UpSampling2D((2, 2))(d1)\n",
        "        d1 = Concatenate()([d1, c3])\n",
        "        d1 = resnet_block(d1, n_filters[3])\n",
        "\n",
        "        d2 = attetion_block(c2, d1)\n",
        "        d2 = UpSampling2D((2, 2))(d2)\n",
        "        d2 = Concatenate()([d2, c2])\n",
        "        d2 = resnet_block(d2, n_filters[2])\n",
        "\n",
        "        d3 = attetion_block(c1, d2)\n",
        "        d3 = UpSampling2D((2, 2))(d3)\n",
        "        d3 = Concatenate()([d3, c1])\n",
        "        d3 = resnet_block(d3, n_filters[1])\n",
        "\n",
        "        ## output\n",
        "        outputs = aspp_block(d3, n_filters[0])\n",
        "        outputs = Conv2D(1, (1, 1), padding=\"same\")(outputs)\n",
        "        outputs = Activation(\"sigmoid\")(outputs)\n",
        "        outputs = Reshape((256,256))(outputs)\n",
        "\n",
        "\n",
        "        ## Model\n",
        "        model = Model(inputs, outputs)\n",
        "        return model"
      ],
      "metadata": {
        "id": "iC89OqK6Dw_B"
      },
      "execution_count": null,
      "outputs": []
    },
    {
      "cell_type": "code",
      "source": [
        "!pip install -U --no-cache-dir gdown --pre"
      ],
      "metadata": {
        "colab": {
          "base_uri": "https://localhost:8080/"
        },
        "id": "3hnOFCbHNYg-",
        "outputId": "06adcfb0-9cdf-4a90-ae5c-2e48d47b9f3f"
      },
      "execution_count": null,
      "outputs": [
        {
          "output_type": "stream",
          "name": "stdout",
          "text": [
            "Requirement already satisfied: gdown in /usr/local/lib/python3.7/dist-packages (4.2.2)\n",
            "Collecting gdown\n",
            "  Downloading gdown-4.4.0.tar.gz (14 kB)\n",
            "  Installing build dependencies ... \u001b[?25l\u001b[?25hdone\n",
            "  Getting requirements to build wheel ... \u001b[?25l\u001b[?25hdone\n",
            "    Preparing wheel metadata ... \u001b[?25l\u001b[?25hdone\n",
            "Requirement already satisfied: six in /usr/local/lib/python3.7/dist-packages (from gdown) (1.15.0)\n",
            "Requirement already satisfied: tqdm in /usr/local/lib/python3.7/dist-packages (from gdown) (4.63.0)\n",
            "Requirement already satisfied: beautifulsoup4 in /usr/local/lib/python3.7/dist-packages (from gdown) (4.6.3)\n",
            "Requirement already satisfied: filelock in /usr/local/lib/python3.7/dist-packages (from gdown) (3.6.0)\n",
            "Requirement already satisfied: requests[socks] in /usr/local/lib/python3.7/dist-packages (from gdown) (2.23.0)\n",
            "Requirement already satisfied: idna<3,>=2.5 in /usr/local/lib/python3.7/dist-packages (from requests[socks]->gdown) (2.10)\n",
            "Requirement already satisfied: urllib3!=1.25.0,!=1.25.1,<1.26,>=1.21.1 in /usr/local/lib/python3.7/dist-packages (from requests[socks]->gdown) (1.24.3)\n",
            "Requirement already satisfied: certifi>=2017.4.17 in /usr/local/lib/python3.7/dist-packages (from requests[socks]->gdown) (2021.10.8)\n",
            "Requirement already satisfied: chardet<4,>=3.0.2 in /usr/local/lib/python3.7/dist-packages (from requests[socks]->gdown) (3.0.4)\n",
            "Requirement already satisfied: PySocks!=1.5.7,>=1.5.6 in /usr/local/lib/python3.7/dist-packages (from requests[socks]->gdown) (1.7.1)\n",
            "Building wheels for collected packages: gdown\n",
            "  Building wheel for gdown (PEP 517) ... \u001b[?25l\u001b[?25hdone\n",
            "  Created wheel for gdown: filename=gdown-4.4.0-py3-none-any.whl size=14774 sha256=9bb511328677b9a4e1863932cecb5eca32a485545c193b9f8a32a416fece7aa1\n",
            "  Stored in directory: /tmp/pip-ephem-wheel-cache-g05s9zqz/wheels/fb/c3/0e/c4d8ff8bfcb0461afff199471449f642179b74968c15b7a69c\n",
            "Successfully built gdown\n",
            "Installing collected packages: gdown\n",
            "  Attempting uninstall: gdown\n",
            "    Found existing installation: gdown 4.2.2\n",
            "    Uninstalling gdown-4.2.2:\n",
            "      Successfully uninstalled gdown-4.2.2\n",
            "Successfully installed gdown-4.4.0\n"
          ]
        }
      ]
    },
    {
      "cell_type": "code",
      "source": [
        "!gdown --id 1EZV7C_uQNUuNUBWpBeTpFMHxHp2W7FjH\n",
        "!gdown --id 1kHTH1XCAw6Xoq-IxjQWK3UkP4w0Kdh2q\n",
        "!gdown --id 18NhRXI-MktVHlE-CF379e0OhQWp23YL9"
      ],
      "metadata": {
        "colab": {
          "base_uri": "https://localhost:8080/"
        },
        "id": "1pFsvDi3yVx0",
        "outputId": "3e38a841-02d1-450d-d34c-f58f7efd2bc2"
      },
      "execution_count": null,
      "outputs": [
        {
          "output_type": "stream",
          "name": "stdout",
          "text": [
            "/usr/local/lib/python3.7/dist-packages/gdown/cli.py:131: FutureWarning: Option `--id` was deprecated in version 4.3.1 and will be removed in 5.0. You don't need to pass it anymore to use a file ID.\n",
            "  category=FutureWarning,\n",
            "Downloading...\n",
            "From: https://drive.google.com/uc?id=1EZV7C_uQNUuNUBWpBeTpFMHxHp2W7FjH\n",
            "To: /content/PDDCA-1.4.1_part1.zip\n",
            "100% 510M/510M [00:11<00:00, 46.2MB/s]\n",
            "/usr/local/lib/python3.7/dist-packages/gdown/cli.py:131: FutureWarning: Option `--id` was deprecated in version 4.3.1 and will be removed in 5.0. You don't need to pass it anymore to use a file ID.\n",
            "  category=FutureWarning,\n",
            "Downloading...\n",
            "From: https://drive.google.com/uc?id=1kHTH1XCAw6Xoq-IxjQWK3UkP4w0Kdh2q\n",
            "To: /content/PDDCA-1.4.1_part2.zip\n",
            "100% 593M/593M [00:11<00:00, 52.4MB/s]\n",
            "/usr/local/lib/python3.7/dist-packages/gdown/cli.py:131: FutureWarning: Option `--id` was deprecated in version 4.3.1 and will be removed in 5.0. You don't need to pass it anymore to use a file ID.\n",
            "  category=FutureWarning,\n",
            "Downloading...\n",
            "From: https://drive.google.com/uc?id=18NhRXI-MktVHlE-CF379e0OhQWp23YL9\n",
            "To: /content/PDDCA-1.4.1_part3.zip\n",
            "100% 522M/522M [00:13<00:00, 40.2MB/s]\n"
          ]
        }
      ]
    },
    {
      "cell_type": "code",
      "source": [
        "from zipfile import ZipFile\n",
        "\n",
        "zip_1=\"/content/PDDCA-1.4.1_part1.zip\"\n",
        "zip_2=\"/content/PDDCA-1.4.1_part2.zip\"\n",
        "zip_3=\"/content/PDDCA-1.4.1_part3.zip\"\n",
        "\n",
        "#os.mkdir('data') \n",
        "\n",
        "with ZipFile(zip_1, 'r') as ziip:\n",
        "  ziip.extractall(\"/content/data\")\n",
        "  print('woow_1')\n",
        "  \n",
        "with ZipFile(zip_2, 'r') as ziip:\n",
        "  ziip.extractall(\"/content/data\")\n",
        "  print('woow_1')\n",
        "  \n",
        "with ZipFile(zip_3, 'r') as ziip:\n",
        "  ziip.extractall(\"/content/data\")\n",
        "  print('woow_1')"
      ],
      "metadata": {
        "colab": {
          "base_uri": "https://localhost:8080/"
        },
        "id": "66Yb7VvnOf6x",
        "outputId": "227ebed8-901b-43d8-9bcb-a6bd2b3a61c4"
      },
      "execution_count": null,
      "outputs": [
        {
          "output_type": "stream",
          "name": "stdout",
          "text": [
            "woow_1\n",
            "woow_1\n",
            "woow_1\n"
          ]
        }
      ]
    },
    {
      "cell_type": "code",
      "source": [
        "nrrd.reader.ALLOW_DUPLICATE_FIELD = True\n",
        "numbers_for_photos=[]\n",
        "CT_imgs=[]\n",
        "mandible_masks=[]"
      ],
      "metadata": {
        "id": "4ItxUdgmOqlW"
      },
      "execution_count": null,
      "outputs": []
    },
    {
      "cell_type": "code",
      "source": [
        "Mandible_paths=glob('/content/data/*/structures/Mandible.nrrd')\n",
        "CT_paths=glob('/content/data/*/img.nrrd') "
      ],
      "metadata": {
        "id": "Lk74-1VfPRSu"
      },
      "execution_count": null,
      "outputs": []
    },
    {
      "cell_type": "code",
      "source": [
        "founded_path=[]\n",
        "for i in range(len(CT_paths)):\n",
        "  for j in range(len(Mandible_paths)):\n",
        "    if(CT_paths[i].split('/')[3]==Mandible_paths[j].split('/')[3]):\n",
        "      founded_path.append(CT_paths[i])"
      ],
      "metadata": {
        "id": "B6ZCS6QTyix4"
      },
      "execution_count": null,
      "outputs": []
    },
    {
      "cell_type": "code",
      "source": [
        "len(founded_path)"
      ],
      "metadata": {
        "colab": {
          "base_uri": "https://localhost:8080/"
        },
        "id": "jjdYNVSjyoxO",
        "outputId": "9bdddd7a-744a-4854-baed-6171f82a075c"
      },
      "execution_count": null,
      "outputs": [
        {
          "output_type": "execute_result",
          "data": {
            "text/plain": [
              "40"
            ]
          },
          "metadata": {},
          "execution_count": 19
        }
      ]
    },
    {
      "cell_type": "code",
      "source": [
        "counter=0\n",
        "for i in founded_path:\n",
        "    filedata, fileheader = nrrd.read(i)\n",
        "    \n",
        "    for j in range(0,filedata.shape[2]):            #as numbers of files change for each folder\n",
        "        try:\n",
        "          counter+=1\n",
        "          CT_imgs.append(filedata[:,:,j])\n",
        "\n",
        "        except:\n",
        "          print(counter)\n",
        "          print(i)\n",
        "          print(j)\n",
        "\n",
        "    j=0\n",
        "    counter+=1\n",
        "      "
      ],
      "metadata": {
        "id": "WqO3D_hvyrgr"
      },
      "execution_count": null,
      "outputs": []
    },
    {
      "cell_type": "code",
      "source": [
        "len(CT_imgs)"
      ],
      "metadata": {
        "colab": {
          "base_uri": "https://localhost:8080/"
        },
        "id": "EV-t0Rfkyy_V",
        "outputId": "1da579bb-c5ca-4e74-c5aa-2bd8ff295128"
      },
      "execution_count": null,
      "outputs": [
        {
          "output_type": "execute_result",
          "data": {
            "text/plain": [
              "5924"
            ]
          },
          "metadata": {},
          "execution_count": 21
        }
      ]
    },
    {
      "cell_type": "code",
      "source": [
        "CT_imgs[0].shape"
      ],
      "metadata": {
        "colab": {
          "base_uri": "https://localhost:8080/"
        },
        "id": "mUuv8Dn9y1Zh",
        "outputId": "c7111021-b249-411b-ba90-3e8ec2ee8e02"
      },
      "execution_count": null,
      "outputs": [
        {
          "output_type": "execute_result",
          "data": {
            "text/plain": [
              "(512, 512)"
            ]
          },
          "metadata": {},
          "execution_count": 22
        }
      ]
    },
    {
      "cell_type": "code",
      "source": [
        "for i in range(0,len(CT_imgs)):\n",
        "   CT_imgs[i]=cv2.resize(CT_imgs[i],(256,256))"
      ],
      "metadata": {
        "id": "wlE0FT6ry2Hv"
      },
      "execution_count": null,
      "outputs": []
    },
    {
      "cell_type": "code",
      "source": [
        "counter=0\n",
        "for i in Mandible_paths:\n",
        "  filedata, fileheader = nrrd.read(i)\n",
        "  \n",
        "  for j in range(0,filedata.shape[2]):            #as numbers of files change for each folder\n",
        "        \n",
        "        try:\n",
        "          mandible_masks.append(filedata[:,:,j])\n",
        "        except:\n",
        "          img=np.zeros([256,256],dtype=np.uint8)\n",
        "          mandible_masks.append(img)\n",
        "          print(j)\n",
        "\n",
        "  counter+=1"
      ],
      "metadata": {
        "id": "j5Ut1zT0y52N"
      },
      "execution_count": null,
      "outputs": []
    },
    {
      "cell_type": "code",
      "source": [
        "len(mandible_masks)"
      ],
      "metadata": {
        "colab": {
          "base_uri": "https://localhost:8080/"
        },
        "id": "0buzETMnzAZ3",
        "outputId": "28aa97f3-6f69-4a2a-936e-f62cd3ed7d50"
      },
      "execution_count": null,
      "outputs": [
        {
          "output_type": "execute_result",
          "data": {
            "text/plain": [
              "5924"
            ]
          },
          "metadata": {},
          "execution_count": 25
        }
      ]
    },
    {
      "cell_type": "code",
      "source": [
        "for i in range(0,len(mandible_masks)):\n",
        "   mandible_masks[i]=cv2.resize(mandible_masks[i],(256,256))"
      ],
      "metadata": {
        "id": "5OEN5tonzBcc"
      },
      "execution_count": null,
      "outputs": []
    },
    {
      "cell_type": "code",
      "source": [
        "df = pd.DataFrame({\"image_path\": CT_imgs, \"mask_path\":mandible_masks})\n",
        "Xtrain, Xval = train_test_split(df, test_size=0.15)\n",
        "Xtest, Xval = train_test_split(Xval, test_size=0.5)\n",
        "print(\"Train size is {}, valid size is {} & test size is {}\".format(len(Xtrain), len(Xval), len(Xtest)))"
      ],
      "metadata": {
        "colab": {
          "base_uri": "https://localhost:8080/"
        },
        "id": "tbHQ7HpqPXgY",
        "outputId": "2c08d0e0-6ddc-4150-9c3f-090132b4eeb1"
      },
      "execution_count": null,
      "outputs": [
        {
          "output_type": "stream",
          "name": "stdout",
          "text": [
            "Train size is 5035, valid size is 445 & test size is 444\n"
          ]
        }
      ]
    },
    {
      "cell_type": "code",
      "source": [
        "train_ids = list(Xtrain['image_path'])\n",
        "train_mask = list(Xtrain['mask_path'])\n",
        "\n",
        "val_ids = list(Xval['image_path'])\n",
        "val_mask= list(Xval['mask_path'])"
      ],
      "metadata": {
        "id": "eO2WKKM3Qi_I"
      },
      "execution_count": null,
      "outputs": []
    },
    {
      "cell_type": "code",
      "source": [
        "class DataGenerator(tf.keras.utils.Sequence):\n",
        "  def __init__(self, ids , mask, image_dir = './', batch_size = 16, img_h = 256, img_w = 256, shuffle = True):\n",
        "    self.ids = ids\n",
        "    self.mask = mask\n",
        "    self.image_dir = image_dir\n",
        "    self.batch_size = batch_size\n",
        "    self.img_h = img_h\n",
        "    self.img_w = img_w\n",
        "    self.shuffle = shuffle\n",
        "    self.on_epoch_end()\n",
        "  def __len__(self):\n",
        "    return int(np.floor(len(self.ids)) / self.batch_size)\n",
        "\n",
        "  def __getitem__(self, index):\n",
        "    indexes = self.indexes[index* self.batch_size : (index+1) * self.batch_size]\n",
        "    list_ids = [self.ids[i] for i in indexes]\n",
        "    list_mask = [self.mask[i] for i in indexes]\n",
        "    X, y = self.__data_generation(list_ids, list_mask)\n",
        "    return X, y\n",
        "\n",
        "  def on_epoch_end(self):    \n",
        "    self.indexes = np.arange(len(self.ids))\n",
        "\n",
        "    if self.shuffle:\n",
        "      np.random.shuffle(self.indexes)\n",
        "\n",
        "  def __data_generation(self, list_ids, list_mask):\n",
        "\n",
        "    X = np.empty((self.batch_size, self.img_h, self.img_w))\n",
        "    y = np.empty((self.batch_size, self.img_h, self.img_w))\n",
        "\n",
        "    for i in range(len(list_ids)):\n",
        "      img_path = list_ids[i]\n",
        "      mask_path = list_mask[i]\n",
        "      img = img_path\n",
        "      mask = mask_path\n",
        "      img = cv2.resize(img,(self.img_h,self.img_w))\n",
        "      img = np.array(img, dtype = np.float64)\n",
        "      mask = cv2.resize(mask,(self.img_h,self.img_w))\n",
        "      mask = np.array(mask, dtype = np.float64)\n",
        "      img -= img.mean()\n",
        "      img /= img.std()\n",
        "      mask -= mask.mean()\n",
        "      mask /= mask.std()\n",
        "      X[i,] = img\n",
        "      y[i,] = mask\n",
        "    y = (y > 0).astype(int)\n",
        "    return X, y\n",
        "\n",
        "train_data = DataGenerator(train_ids, train_mask)\n",
        "val_data = DataGenerator(val_ids, val_mask)"
      ],
      "metadata": {
        "id": "tmD1r_fZrNoH"
      },
      "execution_count": null,
      "outputs": []
    },
    {
      "cell_type": "code",
      "source": [
        "image_size = 256\n",
        "batch_size = 16\n",
        "lr = 0.01\n",
        "epochs = 300"
      ],
      "metadata": {
        "id": "xDTsl7S9ED_c"
      },
      "execution_count": null,
      "outputs": []
    },
    {
      "cell_type": "code",
      "source": [
        "arch = ResUnetPlusPlus(input_size=image_size)\n",
        "model = arch.build_model()"
      ],
      "metadata": {
        "id": "UWlsbijVNOvJ"
      },
      "execution_count": null,
      "outputs": []
    },
    {
      "cell_type": "code",
      "source": [
        "optimizer = Nadam(lr)\n",
        "adam = tf.keras.optimizers.Adam(lr = 0.01, epsilon = 0.1)\n",
        "\n",
        "metrics = [Recall(), Precision(), dice_coef, MeanIoU(num_classes=6)]\n",
        "model.compile(loss=dice_coef_loss, optimizer=adam, metrics=metrics)"
      ],
      "metadata": {
        "id": "e_cvSDA6RGMX",
        "colab": {
          "base_uri": "https://localhost:8080/"
        },
        "outputId": "17c677b9-d9f0-41a8-babe-1510fb3ef23a"
      },
      "execution_count": null,
      "outputs": [
        {
          "output_type": "stream",
          "name": "stderr",
          "text": [
            "/usr/local/lib/python3.7/dist-packages/keras/optimizer_v2/adam.py:105: UserWarning: The `lr` argument is deprecated, use `learning_rate` instead.\n",
            "  super(Adam, self).__init__(name, **kwargs)\n"
          ]
        }
      ]
    },
    {
      "cell_type": "code",
      "source": [
        "filename='/content/drive/MyDrive/Res-U-Net++/history.csv'\n",
        "history_logger=tf.keras.callbacks.CSVLogger(filename, separator=\",\", append=True)\n",
        "checkpointer = ModelCheckpoint(filepath=\"/content/drive/MyDrive/Res-U-Net++/res-unet++.h5\", \n",
        "                               verbose=1, \n",
        "                               save_best_only=True\n",
        "                              )\n",
        "reduce_lr = ReduceLROnPlateau(monitor='val_loss', factor=0.1, patience=5, min_lr=1e-6, verbose=1)\n",
        "early_stopping = EarlyStopping(monitor='val_loss', patience=10, restore_best_weights=False)"
      ],
      "metadata": {
        "id": "89lNG3GPSO6o"
      },
      "execution_count": null,
      "outputs": []
    },
    {
      "cell_type": "code",
      "source": [
        "callbacks = [history_logger, checkpointer, reduce_lr, early_stopping]"
      ],
      "metadata": {
        "id": "S132Ld0cRyXw"
      },
      "execution_count": null,
      "outputs": []
    },
    {
      "cell_type": "code",
      "source": [
        "type(val_data)"
      ],
      "metadata": {
        "colab": {
          "base_uri": "https://localhost:8080/"
        },
        "id": "auGg3r7tzWn3",
        "outputId": "c3d1c01c-527c-4dd1-ae9e-885e6f42470b"
      },
      "execution_count": null,
      "outputs": [
        {
          "output_type": "execute_result",
          "data": {
            "text/plain": [
              "__main__.DataGenerator"
            ]
          },
          "metadata": {},
          "execution_count": 35
        }
      ]
    },
    {
      "cell_type": "code",
      "source": [
        "model.summary()"
      ],
      "metadata": {
        "colab": {
          "base_uri": "https://localhost:8080/"
        },
        "id": "RquTKRQb1J65",
        "outputId": "5cd096b1-fc31-4ef7-a813-6f652f40f6f5"
      },
      "execution_count": null,
      "outputs": [
        {
          "output_type": "stream",
          "name": "stdout",
          "text": [
            "Model: \"model\"\n",
            "__________________________________________________________________________________________________\n",
            " Layer (type)                   Output Shape         Param #     Connected to                     \n",
            "==================================================================================================\n",
            " input_1 (InputLayer)           [(None, 256, 256, 1  0           []                               \n",
            "                                )]                                                                \n",
            "                                                                                                  \n",
            " conv2d (Conv2D)                (None, 256, 256, 16  160         ['input_1[0][0]']                \n",
            "                                )                                                                 \n",
            "                                                                                                  \n",
            " batch_normalization (BatchNorm  (None, 256, 256, 16  64         ['conv2d[0][0]']                 \n",
            " alization)                     )                                                                 \n",
            "                                                                                                  \n",
            " activation (Activation)        (None, 256, 256, 16  0           ['batch_normalization[0][0]']    \n",
            "                                )                                                                 \n",
            "                                                                                                  \n",
            " conv2d_2 (Conv2D)              (None, 256, 256, 16  32          ['input_1[0][0]']                \n",
            "                                )                                                                 \n",
            "                                                                                                  \n",
            " conv2d_1 (Conv2D)              (None, 256, 256, 16  2320        ['activation[0][0]']             \n",
            "                                )                                                                 \n",
            "                                                                                                  \n",
            " batch_normalization_1 (BatchNo  (None, 256, 256, 16  64         ['conv2d_2[0][0]']               \n",
            " rmalization)                   )                                                                 \n",
            "                                                                                                  \n",
            " add (Add)                      (None, 256, 256, 16  0           ['conv2d_1[0][0]',               \n",
            "                                )                                 'batch_normalization_1[0][0]']  \n",
            "                                                                                                  \n",
            " global_average_pooling2d (Glob  (None, 16)          0           ['add[0][0]']                    \n",
            " alAveragePooling2D)                                                                              \n",
            "                                                                                                  \n",
            " reshape (Reshape)              (None, 1, 1, 16)     0           ['global_average_pooling2d[0][0]'\n",
            "                                                                 ]                                \n",
            "                                                                                                  \n",
            " dense (Dense)                  (None, 1, 1, 1)      16          ['reshape[0][0]']                \n",
            "                                                                                                  \n",
            " dense_1 (Dense)                (None, 1, 1, 16)     16          ['dense[0][0]']                  \n",
            "                                                                                                  \n",
            " multiply (Multiply)            (None, 256, 256, 16  0           ['add[0][0]',                    \n",
            "                                )                                 'dense_1[0][0]']                \n",
            "                                                                                                  \n",
            " batch_normalization_2 (BatchNo  (None, 256, 256, 16  64         ['multiply[0][0]']               \n",
            " rmalization)                   )                                                                 \n",
            "                                                                                                  \n",
            " activation_1 (Activation)      (None, 256, 256, 16  0           ['batch_normalization_2[0][0]']  \n",
            "                                )                                                                 \n",
            "                                                                                                  \n",
            " conv2d_3 (Conv2D)              (None, 128, 128, 32  544         ['activation_1[0][0]']           \n",
            "                                )                                                                 \n",
            "                                                                                                  \n",
            " batch_normalization_3 (BatchNo  (None, 128, 128, 32  128        ['conv2d_3[0][0]']               \n",
            " rmalization)                   )                                                                 \n",
            "                                                                                                  \n",
            " activation_2 (Activation)      (None, 128, 128, 32  0           ['batch_normalization_3[0][0]']  \n",
            "                                )                                                                 \n",
            "                                                                                                  \n",
            " conv2d_5 (Conv2D)              (None, 128, 128, 32  544         ['multiply[0][0]']               \n",
            "                                )                                                                 \n",
            "                                                                                                  \n",
            " conv2d_4 (Conv2D)              (None, 128, 128, 32  9248        ['activation_2[0][0]']           \n",
            "                                )                                                                 \n",
            "                                                                                                  \n",
            " batch_normalization_4 (BatchNo  (None, 128, 128, 32  128        ['conv2d_5[0][0]']               \n",
            " rmalization)                   )                                                                 \n",
            "                                                                                                  \n",
            " add_1 (Add)                    (None, 128, 128, 32  0           ['conv2d_4[0][0]',               \n",
            "                                )                                 'batch_normalization_4[0][0]']  \n",
            "                                                                                                  \n",
            " global_average_pooling2d_1 (Gl  (None, 32)          0           ['add_1[0][0]']                  \n",
            " obalAveragePooling2D)                                                                            \n",
            "                                                                                                  \n",
            " reshape_1 (Reshape)            (None, 1, 1, 32)     0           ['global_average_pooling2d_1[0][0\n",
            "                                                                 ]']                              \n",
            "                                                                                                  \n",
            " dense_2 (Dense)                (None, 1, 1, 2)      64          ['reshape_1[0][0]']              \n",
            "                                                                                                  \n",
            " dense_3 (Dense)                (None, 1, 1, 32)     64          ['dense_2[0][0]']                \n",
            "                                                                                                  \n",
            " multiply_1 (Multiply)          (None, 128, 128, 32  0           ['add_1[0][0]',                  \n",
            "                                )                                 'dense_3[0][0]']                \n",
            "                                                                                                  \n",
            " batch_normalization_5 (BatchNo  (None, 128, 128, 32  128        ['multiply_1[0][0]']             \n",
            " rmalization)                   )                                                                 \n",
            "                                                                                                  \n",
            " activation_3 (Activation)      (None, 128, 128, 32  0           ['batch_normalization_5[0][0]']  \n",
            "                                )                                                                 \n",
            "                                                                                                  \n",
            " conv2d_6 (Conv2D)              (None, 64, 64, 64)   2112        ['activation_3[0][0]']           \n",
            "                                                                                                  \n",
            " batch_normalization_6 (BatchNo  (None, 64, 64, 64)  256         ['conv2d_6[0][0]']               \n",
            " rmalization)                                                                                     \n",
            "                                                                                                  \n",
            " activation_4 (Activation)      (None, 64, 64, 64)   0           ['batch_normalization_6[0][0]']  \n",
            "                                                                                                  \n",
            " conv2d_8 (Conv2D)              (None, 64, 64, 64)   2112        ['multiply_1[0][0]']             \n",
            "                                                                                                  \n",
            " conv2d_7 (Conv2D)              (None, 64, 64, 64)   36928       ['activation_4[0][0]']           \n",
            "                                                                                                  \n",
            " batch_normalization_7 (BatchNo  (None, 64, 64, 64)  256         ['conv2d_8[0][0]']               \n",
            " rmalization)                                                                                     \n",
            "                                                                                                  \n",
            " add_2 (Add)                    (None, 64, 64, 64)   0           ['conv2d_7[0][0]',               \n",
            "                                                                  'batch_normalization_7[0][0]']  \n",
            "                                                                                                  \n",
            " global_average_pooling2d_2 (Gl  (None, 64)          0           ['add_2[0][0]']                  \n",
            " obalAveragePooling2D)                                                                            \n",
            "                                                                                                  \n",
            " reshape_2 (Reshape)            (None, 1, 1, 64)     0           ['global_average_pooling2d_2[0][0\n",
            "                                                                 ]']                              \n",
            "                                                                                                  \n",
            " dense_4 (Dense)                (None, 1, 1, 4)      256         ['reshape_2[0][0]']              \n",
            "                                                                                                  \n",
            " dense_5 (Dense)                (None, 1, 1, 64)     256         ['dense_4[0][0]']                \n",
            "                                                                                                  \n",
            " multiply_2 (Multiply)          (None, 64, 64, 64)   0           ['add_2[0][0]',                  \n",
            "                                                                  'dense_5[0][0]']                \n",
            "                                                                                                  \n",
            " batch_normalization_8 (BatchNo  (None, 64, 64, 64)  256         ['multiply_2[0][0]']             \n",
            " rmalization)                                                                                     \n",
            "                                                                                                  \n",
            " activation_5 (Activation)      (None, 64, 64, 64)   0           ['batch_normalization_8[0][0]']  \n",
            "                                                                                                  \n",
            " conv2d_9 (Conv2D)              (None, 32, 32, 128)  8320        ['activation_5[0][0]']           \n",
            "                                                                                                  \n",
            " batch_normalization_9 (BatchNo  (None, 32, 32, 128)  512        ['conv2d_9[0][0]']               \n",
            " rmalization)                                                                                     \n",
            "                                                                                                  \n",
            " activation_6 (Activation)      (None, 32, 32, 128)  0           ['batch_normalization_9[0][0]']  \n",
            "                                                                                                  \n",
            " conv2d_11 (Conv2D)             (None, 32, 32, 128)  8320        ['multiply_2[0][0]']             \n",
            "                                                                                                  \n",
            " conv2d_10 (Conv2D)             (None, 32, 32, 128)  147584      ['activation_6[0][0]']           \n",
            "                                                                                                  \n",
            " batch_normalization_10 (BatchN  (None, 32, 32, 128)  512        ['conv2d_11[0][0]']              \n",
            " ormalization)                                                                                    \n",
            "                                                                                                  \n",
            " add_3 (Add)                    (None, 32, 32, 128)  0           ['conv2d_10[0][0]',              \n",
            "                                                                  'batch_normalization_10[0][0]'] \n",
            "                                                                                                  \n",
            " global_average_pooling2d_3 (Gl  (None, 128)         0           ['add_3[0][0]']                  \n",
            " obalAveragePooling2D)                                                                            \n",
            "                                                                                                  \n",
            " reshape_3 (Reshape)            (None, 1, 1, 128)    0           ['global_average_pooling2d_3[0][0\n",
            "                                                                 ]']                              \n",
            "                                                                                                  \n",
            " dense_6 (Dense)                (None, 1, 1, 8)      1024        ['reshape_3[0][0]']              \n",
            "                                                                                                  \n",
            " dense_7 (Dense)                (None, 1, 1, 128)    1024        ['dense_6[0][0]']                \n",
            "                                                                                                  \n",
            " multiply_3 (Multiply)          (None, 32, 32, 128)  0           ['add_3[0][0]',                  \n",
            "                                                                  'dense_7[0][0]']                \n",
            "                                                                                                  \n",
            " conv2d_12 (Conv2D)             (None, 32, 32, 256)  295168      ['multiply_3[0][0]']             \n",
            "                                                                                                  \n",
            " conv2d_13 (Conv2D)             (None, 32, 32, 256)  33024       ['multiply_3[0][0]']             \n",
            "                                                                                                  \n",
            " conv2d_14 (Conv2D)             (None, 32, 32, 256)  295168      ['multiply_3[0][0]']             \n",
            "                                                                                                  \n",
            " conv2d_15 (Conv2D)             (None, 32, 32, 256)  33024       ['multiply_3[0][0]']             \n",
            "                                                                                                  \n",
            " batch_normalization_11 (BatchN  (None, 32, 32, 256)  1024       ['conv2d_12[0][0]']              \n",
            " ormalization)                                                                                    \n",
            "                                                                                                  \n",
            " batch_normalization_12 (BatchN  (None, 32, 32, 256)  1024       ['conv2d_13[0][0]']              \n",
            " ormalization)                                                                                    \n",
            "                                                                                                  \n",
            " batch_normalization_13 (BatchN  (None, 32, 32, 256)  1024       ['conv2d_14[0][0]']              \n",
            " ormalization)                                                                                    \n",
            "                                                                                                  \n",
            " batch_normalization_14 (BatchN  (None, 32, 32, 256)  1024       ['conv2d_15[0][0]']              \n",
            " ormalization)                                                                                    \n",
            "                                                                                                  \n",
            " add_4 (Add)                    (None, 32, 32, 256)  0           ['batch_normalization_11[0][0]', \n",
            "                                                                  'batch_normalization_12[0][0]', \n",
            "                                                                  'batch_normalization_13[0][0]', \n",
            "                                                                  'batch_normalization_14[0][0]'] \n",
            "                                                                                                  \n",
            " batch_normalization_15 (BatchN  (None, 64, 64, 64)  256         ['multiply_2[0][0]']             \n",
            " ormalization)                                                                                    \n",
            "                                                                                                  \n",
            " conv2d_16 (Conv2D)             (None, 32, 32, 256)  65792       ['add_4[0][0]']                  \n",
            "                                                                                                  \n",
            " activation_7 (Activation)      (None, 64, 64, 64)   0           ['batch_normalization_15[0][0]'] \n",
            "                                                                                                  \n",
            " batch_normalization_16 (BatchN  (None, 32, 32, 256)  1024       ['conv2d_16[0][0]']              \n",
            " ormalization)                                                                                    \n",
            "                                                                                                  \n",
            " conv2d_17 (Conv2D)             (None, 64, 64, 256)  16640       ['activation_7[0][0]']           \n",
            "                                                                                                  \n",
            " activation_8 (Activation)      (None, 32, 32, 256)  0           ['batch_normalization_16[0][0]'] \n",
            "                                                                                                  \n",
            " max_pooling2d (MaxPooling2D)   (None, 32, 32, 256)  0           ['conv2d_17[0][0]']              \n",
            "                                                                                                  \n",
            " conv2d_18 (Conv2D)             (None, 32, 32, 256)  65792       ['activation_8[0][0]']           \n",
            "                                                                                                  \n",
            " add_5 (Add)                    (None, 32, 32, 256)  0           ['max_pooling2d[0][0]',          \n",
            "                                                                  'conv2d_18[0][0]']              \n",
            "                                                                                                  \n",
            " batch_normalization_17 (BatchN  (None, 32, 32, 256)  1024       ['add_5[0][0]']                  \n",
            " ormalization)                                                                                    \n",
            "                                                                                                  \n",
            " activation_9 (Activation)      (None, 32, 32, 256)  0           ['batch_normalization_17[0][0]'] \n",
            "                                                                                                  \n",
            " conv2d_19 (Conv2D)             (None, 32, 32, 256)  65792       ['activation_9[0][0]']           \n",
            "                                                                                                  \n",
            " multiply_4 (Multiply)          (None, 32, 32, 256)  0           ['conv2d_19[0][0]',              \n",
            "                                                                  'conv2d_16[0][0]']              \n",
            "                                                                                                  \n",
            " up_sampling2d (UpSampling2D)   (None, 64, 64, 256)  0           ['multiply_4[0][0]']             \n",
            "                                                                                                  \n",
            " concatenate (Concatenate)      (None, 64, 64, 320)  0           ['up_sampling2d[0][0]',          \n",
            "                                                                  'multiply_2[0][0]']             \n",
            "                                                                                                  \n",
            " batch_normalization_18 (BatchN  (None, 64, 64, 320)  1280       ['concatenate[0][0]']            \n",
            " ormalization)                                                                                    \n",
            "                                                                                                  \n",
            " activation_10 (Activation)     (None, 64, 64, 320)  0           ['batch_normalization_18[0][0]'] \n",
            "                                                                                                  \n",
            " conv2d_20 (Conv2D)             (None, 64, 64, 128)  41088       ['activation_10[0][0]']          \n",
            "                                                                                                  \n",
            " batch_normalization_19 (BatchN  (None, 64, 64, 128)  512        ['conv2d_20[0][0]']              \n",
            " ormalization)                                                                                    \n",
            "                                                                                                  \n",
            " activation_11 (Activation)     (None, 64, 64, 128)  0           ['batch_normalization_19[0][0]'] \n",
            "                                                                                                  \n",
            " conv2d_22 (Conv2D)             (None, 64, 64, 128)  41088       ['concatenate[0][0]']            \n",
            "                                                                                                  \n",
            " conv2d_21 (Conv2D)             (None, 64, 64, 128)  147584      ['activation_11[0][0]']          \n",
            "                                                                                                  \n",
            " batch_normalization_20 (BatchN  (None, 64, 64, 128)  512        ['conv2d_22[0][0]']              \n",
            " ormalization)                                                                                    \n",
            "                                                                                                  \n",
            " add_6 (Add)                    (None, 64, 64, 128)  0           ['conv2d_21[0][0]',              \n",
            "                                                                  'batch_normalization_20[0][0]'] \n",
            "                                                                                                  \n",
            " global_average_pooling2d_4 (Gl  (None, 128)         0           ['add_6[0][0]']                  \n",
            " obalAveragePooling2D)                                                                            \n",
            "                                                                                                  \n",
            " reshape_4 (Reshape)            (None, 1, 1, 128)    0           ['global_average_pooling2d_4[0][0\n",
            "                                                                 ]']                              \n",
            "                                                                                                  \n",
            " dense_8 (Dense)                (None, 1, 1, 8)      1024        ['reshape_4[0][0]']              \n",
            "                                                                                                  \n",
            " dense_9 (Dense)                (None, 1, 1, 128)    1024        ['dense_8[0][0]']                \n",
            "                                                                                                  \n",
            " batch_normalization_21 (BatchN  (None, 128, 128, 32  128        ['multiply_1[0][0]']             \n",
            " ormalization)                  )                                                                 \n",
            "                                                                                                  \n",
            " multiply_5 (Multiply)          (None, 64, 64, 128)  0           ['add_6[0][0]',                  \n",
            "                                                                  'dense_9[0][0]']                \n",
            "                                                                                                  \n",
            " activation_12 (Activation)     (None, 128, 128, 32  0           ['batch_normalization_21[0][0]'] \n",
            "                                )                                                                 \n",
            "                                                                                                  \n",
            " batch_normalization_22 (BatchN  (None, 64, 64, 128)  512        ['multiply_5[0][0]']             \n",
            " ormalization)                                                                                    \n",
            "                                                                                                  \n",
            " conv2d_23 (Conv2D)             (None, 128, 128, 12  4224        ['activation_12[0][0]']          \n",
            "                                8)                                                                \n",
            "                                                                                                  \n",
            " activation_13 (Activation)     (None, 64, 64, 128)  0           ['batch_normalization_22[0][0]'] \n",
            "                                                                                                  \n",
            " max_pooling2d_1 (MaxPooling2D)  (None, 64, 64, 128)  0          ['conv2d_23[0][0]']              \n",
            "                                                                                                  \n",
            " conv2d_24 (Conv2D)             (None, 64, 64, 128)  16512       ['activation_13[0][0]']          \n",
            "                                                                                                  \n",
            " add_7 (Add)                    (None, 64, 64, 128)  0           ['max_pooling2d_1[0][0]',        \n",
            "                                                                  'conv2d_24[0][0]']              \n",
            "                                                                                                  \n",
            " batch_normalization_23 (BatchN  (None, 64, 64, 128)  512        ['add_7[0][0]']                  \n",
            " ormalization)                                                                                    \n",
            "                                                                                                  \n",
            " activation_14 (Activation)     (None, 64, 64, 128)  0           ['batch_normalization_23[0][0]'] \n",
            "                                                                                                  \n",
            " conv2d_25 (Conv2D)             (None, 64, 64, 128)  16512       ['activation_14[0][0]']          \n",
            "                                                                                                  \n",
            " multiply_6 (Multiply)          (None, 64, 64, 128)  0           ['conv2d_25[0][0]',              \n",
            "                                                                  'multiply_5[0][0]']             \n",
            "                                                                                                  \n",
            " up_sampling2d_1 (UpSampling2D)  (None, 128, 128, 12  0          ['multiply_6[0][0]']             \n",
            "                                8)                                                                \n",
            "                                                                                                  \n",
            " concatenate_1 (Concatenate)    (None, 128, 128, 16  0           ['up_sampling2d_1[0][0]',        \n",
            "                                0)                                'multiply_1[0][0]']             \n",
            "                                                                                                  \n",
            " batch_normalization_24 (BatchN  (None, 128, 128, 16  640        ['concatenate_1[0][0]']          \n",
            " ormalization)                  0)                                                                \n",
            "                                                                                                  \n",
            " activation_15 (Activation)     (None, 128, 128, 16  0           ['batch_normalization_24[0][0]'] \n",
            "                                0)                                                                \n",
            "                                                                                                  \n",
            " conv2d_26 (Conv2D)             (None, 128, 128, 64  10304       ['activation_15[0][0]']          \n",
            "                                )                                                                 \n",
            "                                                                                                  \n",
            " batch_normalization_25 (BatchN  (None, 128, 128, 64  256        ['conv2d_26[0][0]']              \n",
            " ormalization)                  )                                                                 \n",
            "                                                                                                  \n",
            " activation_16 (Activation)     (None, 128, 128, 64  0           ['batch_normalization_25[0][0]'] \n",
            "                                )                                                                 \n",
            "                                                                                                  \n",
            " conv2d_28 (Conv2D)             (None, 128, 128, 64  10304       ['concatenate_1[0][0]']          \n",
            "                                )                                                                 \n",
            "                                                                                                  \n",
            " conv2d_27 (Conv2D)             (None, 128, 128, 64  36928       ['activation_16[0][0]']          \n",
            "                                )                                                                 \n",
            "                                                                                                  \n",
            " batch_normalization_26 (BatchN  (None, 128, 128, 64  256        ['conv2d_28[0][0]']              \n",
            " ormalization)                  )                                                                 \n",
            "                                                                                                  \n",
            " add_8 (Add)                    (None, 128, 128, 64  0           ['conv2d_27[0][0]',              \n",
            "                                )                                 'batch_normalization_26[0][0]'] \n",
            "                                                                                                  \n",
            " global_average_pooling2d_5 (Gl  (None, 64)          0           ['add_8[0][0]']                  \n",
            " obalAveragePooling2D)                                                                            \n",
            "                                                                                                  \n",
            " reshape_5 (Reshape)            (None, 1, 1, 64)     0           ['global_average_pooling2d_5[0][0\n",
            "                                                                 ]']                              \n",
            "                                                                                                  \n",
            " dense_10 (Dense)               (None, 1, 1, 4)      256         ['reshape_5[0][0]']              \n",
            "                                                                                                  \n",
            " dense_11 (Dense)               (None, 1, 1, 64)     256         ['dense_10[0][0]']               \n",
            "                                                                                                  \n",
            " batch_normalization_27 (BatchN  (None, 256, 256, 16  64         ['multiply[0][0]']               \n",
            " ormalization)                  )                                                                 \n",
            "                                                                                                  \n",
            " multiply_7 (Multiply)          (None, 128, 128, 64  0           ['add_8[0][0]',                  \n",
            "                                )                                 'dense_11[0][0]']               \n",
            "                                                                                                  \n",
            " activation_17 (Activation)     (None, 256, 256, 16  0           ['batch_normalization_27[0][0]'] \n",
            "                                )                                                                 \n",
            "                                                                                                  \n",
            " batch_normalization_28 (BatchN  (None, 128, 128, 64  256        ['multiply_7[0][0]']             \n",
            " ormalization)                  )                                                                 \n",
            "                                                                                                  \n",
            " conv2d_29 (Conv2D)             (None, 256, 256, 64  1088        ['activation_17[0][0]']          \n",
            "                                )                                                                 \n",
            "                                                                                                  \n",
            " activation_18 (Activation)     (None, 128, 128, 64  0           ['batch_normalization_28[0][0]'] \n",
            "                                )                                                                 \n",
            "                                                                                                  \n",
            " max_pooling2d_2 (MaxPooling2D)  (None, 128, 128, 64  0          ['conv2d_29[0][0]']              \n",
            "                                )                                                                 \n",
            "                                                                                                  \n",
            " conv2d_30 (Conv2D)             (None, 128, 128, 64  4160        ['activation_18[0][0]']          \n",
            "                                )                                                                 \n",
            "                                                                                                  \n",
            " add_9 (Add)                    (None, 128, 128, 64  0           ['max_pooling2d_2[0][0]',        \n",
            "                                )                                 'conv2d_30[0][0]']              \n",
            "                                                                                                  \n",
            " batch_normalization_29 (BatchN  (None, 128, 128, 64  256        ['add_9[0][0]']                  \n",
            " ormalization)                  )                                                                 \n",
            "                                                                                                  \n",
            " activation_19 (Activation)     (None, 128, 128, 64  0           ['batch_normalization_29[0][0]'] \n",
            "                                )                                                                 \n",
            "                                                                                                  \n",
            " conv2d_31 (Conv2D)             (None, 128, 128, 64  4160        ['activation_19[0][0]']          \n",
            "                                )                                                                 \n",
            "                                                                                                  \n",
            " multiply_8 (Multiply)          (None, 128, 128, 64  0           ['conv2d_31[0][0]',              \n",
            "                                )                                 'multiply_7[0][0]']             \n",
            "                                                                                                  \n",
            " up_sampling2d_2 (UpSampling2D)  (None, 256, 256, 64  0          ['multiply_8[0][0]']             \n",
            "                                )                                                                 \n",
            "                                                                                                  \n",
            " concatenate_2 (Concatenate)    (None, 256, 256, 80  0           ['up_sampling2d_2[0][0]',        \n",
            "                                )                                 'multiply[0][0]']               \n",
            "                                                                                                  \n",
            " batch_normalization_30 (BatchN  (None, 256, 256, 80  320        ['concatenate_2[0][0]']          \n",
            " ormalization)                  )                                                                 \n",
            "                                                                                                  \n",
            " activation_20 (Activation)     (None, 256, 256, 80  0           ['batch_normalization_30[0][0]'] \n",
            "                                )                                                                 \n",
            "                                                                                                  \n",
            " conv2d_32 (Conv2D)             (None, 256, 256, 32  2592        ['activation_20[0][0]']          \n",
            "                                )                                                                 \n",
            "                                                                                                  \n",
            " batch_normalization_31 (BatchN  (None, 256, 256, 32  128        ['conv2d_32[0][0]']              \n",
            " ormalization)                  )                                                                 \n",
            "                                                                                                  \n",
            " activation_21 (Activation)     (None, 256, 256, 32  0           ['batch_normalization_31[0][0]'] \n",
            "                                )                                                                 \n",
            "                                                                                                  \n",
            " conv2d_34 (Conv2D)             (None, 256, 256, 32  2592        ['concatenate_2[0][0]']          \n",
            "                                )                                                                 \n",
            "                                                                                                  \n",
            " conv2d_33 (Conv2D)             (None, 256, 256, 32  9248        ['activation_21[0][0]']          \n",
            "                                )                                                                 \n",
            "                                                                                                  \n",
            " batch_normalization_32 (BatchN  (None, 256, 256, 32  128        ['conv2d_34[0][0]']              \n",
            " ormalization)                  )                                                                 \n",
            "                                                                                                  \n",
            " add_10 (Add)                   (None, 256, 256, 32  0           ['conv2d_33[0][0]',              \n",
            "                                )                                 'batch_normalization_32[0][0]'] \n",
            "                                                                                                  \n",
            " global_average_pooling2d_6 (Gl  (None, 32)          0           ['add_10[0][0]']                 \n",
            " obalAveragePooling2D)                                                                            \n",
            "                                                                                                  \n",
            " reshape_6 (Reshape)            (None, 1, 1, 32)     0           ['global_average_pooling2d_6[0][0\n",
            "                                                                 ]']                              \n",
            "                                                                                                  \n",
            " dense_12 (Dense)               (None, 1, 1, 2)      64          ['reshape_6[0][0]']              \n",
            "                                                                                                  \n",
            " dense_13 (Dense)               (None, 1, 1, 32)     64          ['dense_12[0][0]']               \n",
            "                                                                                                  \n",
            " multiply_9 (Multiply)          (None, 256, 256, 32  0           ['add_10[0][0]',                 \n",
            "                                )                                 'dense_13[0][0]']               \n",
            "                                                                                                  \n",
            " conv2d_35 (Conv2D)             (None, 256, 256, 16  4624        ['multiply_9[0][0]']             \n",
            "                                )                                                                 \n",
            "                                                                                                  \n",
            " conv2d_36 (Conv2D)             (None, 256, 256, 16  528         ['multiply_9[0][0]']             \n",
            "                                )                                                                 \n",
            "                                                                                                  \n",
            " conv2d_37 (Conv2D)             (None, 256, 256, 16  4624        ['multiply_9[0][0]']             \n",
            "                                )                                                                 \n",
            "                                                                                                  \n",
            " conv2d_38 (Conv2D)             (None, 256, 256, 16  528         ['multiply_9[0][0]']             \n",
            "                                )                                                                 \n",
            "                                                                                                  \n",
            " batch_normalization_33 (BatchN  (None, 256, 256, 16  64         ['conv2d_35[0][0]']              \n",
            " ormalization)                  )                                                                 \n",
            "                                                                                                  \n",
            " batch_normalization_34 (BatchN  (None, 256, 256, 16  64         ['conv2d_36[0][0]']              \n",
            " ormalization)                  )                                                                 \n",
            "                                                                                                  \n",
            " batch_normalization_35 (BatchN  (None, 256, 256, 16  64         ['conv2d_37[0][0]']              \n",
            " ormalization)                  )                                                                 \n",
            "                                                                                                  \n",
            " batch_normalization_36 (BatchN  (None, 256, 256, 16  64         ['conv2d_38[0][0]']              \n",
            " ormalization)                  )                                                                 \n",
            "                                                                                                  \n",
            " add_11 (Add)                   (None, 256, 256, 16  0           ['batch_normalization_33[0][0]', \n",
            "                                )                                 'batch_normalization_34[0][0]', \n",
            "                                                                  'batch_normalization_35[0][0]', \n",
            "                                                                  'batch_normalization_36[0][0]'] \n",
            "                                                                                                  \n",
            " conv2d_39 (Conv2D)             (None, 256, 256, 16  272         ['add_11[0][0]']                 \n",
            "                                )                                                                 \n",
            "                                                                                                  \n",
            " conv2d_40 (Conv2D)             (None, 256, 256, 1)  17          ['conv2d_39[0][0]']              \n",
            "                                                                                                  \n",
            " activation_22 (Activation)     (None, 256, 256, 1)  0           ['conv2d_40[0][0]']              \n",
            "                                                                                                  \n",
            " reshape_7 (Reshape)            (None, 256, 256)     0           ['activation_22[0][0]']          \n",
            "                                                                                                  \n",
            "==================================================================================================\n",
            "Total params: 1,467,793\n",
            "Trainable params: 1,460,401\n",
            "Non-trainable params: 7,392\n",
            "__________________________________________________________________________________________________\n"
          ]
        }
      ]
    },
    {
      "cell_type": "code",
      "source": [
        "# model.load_weights(\"/content/drive/MyDrive/Res-U-Net++/res-unet++.h5\")"
      ],
      "metadata": {
        "id": "zumhpk3HEwHF"
      },
      "execution_count": null,
      "outputs": []
    },
    {
      "cell_type": "code",
      "source": [
        "history= model.fit(train_data, epochs = 300,\n",
        "                  #  initial_epoch=25,\n",
        "                  validation_data = val_data,\n",
        "                   callbacks=callbacks\n",
        "                 )"
      ],
      "metadata": {
        "colab": {
          "base_uri": "https://localhost:8080/"
        },
        "id": "T1qQ9mjrt_DG",
        "outputId": "b8a54a11-b561-4566-f84d-24039455491c"
      },
      "execution_count": null,
      "outputs": [
        {
          "output_type": "stream",
          "name": "stderr",
          "text": [
            "/usr/local/lib/python3.7/dist-packages/ipykernel_launcher.py:44: RuntimeWarning: invalid value encountered in true_divide\n"
          ]
        },
        {
          "output_type": "stream",
          "name": "stdout",
          "text": [
            "Epoch 1/300\n",
            "314/314 [==============================] - ETA: 0s - loss: -0.0017 - recall: 0.7829 - precision: 0.0011 - dice_coef: 0.0017 - mean_io_u: 0.5091\n",
            "Epoch 1: val_loss improved from inf to -0.00189, saving model to /content/drive/MyDrive/Res-U-Net++/res-unet++.h5\n",
            "314/314 [==============================] - 208s 578ms/step - loss: -0.0017 - recall: 0.7829 - precision: 0.0011 - dice_coef: 0.0017 - mean_io_u: 0.5091 - val_loss: -0.0019 - val_recall: 0.8573 - val_precision: 0.0073 - val_dice_coef: 0.0019 - val_mean_io_u: 0.4997 - lr: 0.0100\n",
            "Epoch 2/300\n",
            "314/314 [==============================] - ETA: 0s - loss: -0.0024 - recall: 0.9587 - precision: 0.0019 - dice_coef: 0.0024 - mean_io_u: 0.5138\n",
            "Epoch 2: val_loss improved from -0.00189 to -0.00287, saving model to /content/drive/MyDrive/Res-U-Net++/res-unet++.h5\n",
            "314/314 [==============================] - 184s 587ms/step - loss: -0.0024 - recall: 0.9587 - precision: 0.0019 - dice_coef: 0.0024 - mean_io_u: 0.5138 - val_loss: -0.0029 - val_recall: 0.9810 - val_precision: 0.0028 - val_dice_coef: 0.0029 - val_mean_io_u: 0.5032 - lr: 0.0100\n",
            "Epoch 3/300\n",
            "314/314 [==============================] - ETA: 0s - loss: -0.0029 - recall: 0.9837 - precision: 0.0026 - dice_coef: 0.0029 - mean_io_u: 0.5146\n",
            "Epoch 3: val_loss improved from -0.00287 to -0.00335, saving model to /content/drive/MyDrive/Res-U-Net++/res-unet++.h5\n",
            "314/314 [==============================] - 185s 590ms/step - loss: -0.0029 - recall: 0.9837 - precision: 0.0026 - dice_coef: 0.0029 - mean_io_u: 0.5146 - val_loss: -0.0033 - val_recall: 0.9817 - val_precision: 0.0031 - val_dice_coef: 0.0033 - val_mean_io_u: 0.5133 - lr: 0.0100\n",
            "Epoch 4/300\n",
            "314/314 [==============================] - ETA: 0s - loss: -0.0036 - recall: 0.9917 - precision: 0.0030 - dice_coef: 0.0036 - mean_io_u: 0.5170\n",
            "Epoch 4: val_loss improved from -0.00335 to -0.00426, saving model to /content/drive/MyDrive/Res-U-Net++/res-unet++.h5\n",
            "314/314 [==============================] - 186s 592ms/step - loss: -0.0036 - recall: 0.9917 - precision: 0.0030 - dice_coef: 0.0036 - mean_io_u: 0.5170 - val_loss: -0.0043 - val_recall: 0.9870 - val_precision: 0.0035 - val_dice_coef: 0.0043 - val_mean_io_u: 0.5250 - lr: 0.0100\n",
            "Epoch 5/300\n",
            "314/314 [==============================] - ETA: 0s - loss: -0.0048 - recall: 0.9958 - precision: 0.0033 - dice_coef: 0.0048 - mean_io_u: 0.5159\n",
            "Epoch 5: val_loss improved from -0.00426 to -0.00563, saving model to /content/drive/MyDrive/Res-U-Net++/res-unet++.h5\n",
            "314/314 [==============================] - 186s 591ms/step - loss: -0.0048 - recall: 0.9958 - precision: 0.0033 - dice_coef: 0.0048 - mean_io_u: 0.5159 - val_loss: -0.0056 - val_recall: 0.9894 - val_precision: 0.0036 - val_dice_coef: 0.0056 - val_mean_io_u: 0.5196 - lr: 0.0100\n",
            "Epoch 6/300\n",
            "314/314 [==============================] - ETA: 0s - loss: -0.0065 - recall: 0.9974 - precision: 0.0038 - dice_coef: 0.0065 - mean_io_u: 0.5115\n",
            "Epoch 6: val_loss improved from -0.00563 to -0.00851, saving model to /content/drive/MyDrive/Res-U-Net++/res-unet++.h5\n",
            "314/314 [==============================] - 185s 591ms/step - loss: -0.0065 - recall: 0.9974 - precision: 0.0038 - dice_coef: 0.0065 - mean_io_u: 0.5115 - val_loss: -0.0085 - val_recall: 0.9942 - val_precision: 0.0048 - val_dice_coef: 0.0085 - val_mean_io_u: 0.5148 - lr: 0.0100\n",
            "Epoch 7/300\n",
            "314/314 [==============================] - ETA: 0s - loss: -0.0240 - recall: 0.8970 - precision: 0.0079 - dice_coef: 0.0240 - mean_io_u: 0.5133\n",
            "Epoch 7: val_loss did not improve from -0.00851\n",
            "314/314 [==============================] - 184s 586ms/step - loss: -0.0240 - recall: 0.8970 - precision: 0.0079 - dice_coef: 0.0240 - mean_io_u: 0.5133 - val_loss: -0.0064 - val_recall: 0.8596 - val_precision: 0.0029 - val_dice_coef: 0.0064 - val_mean_io_u: 0.4341 - lr: 0.0100\n",
            "Epoch 8/300\n",
            "314/314 [==============================] - ETA: 0s - loss: -0.2108 - recall: 0.0435 - precision: 0.0828 - dice_coef: 0.2108 - mean_io_u: 0.5126\n",
            "Epoch 8: val_loss improved from -0.00851 to -0.19725, saving model to /content/drive/MyDrive/Res-U-Net++/res-unet++.h5\n",
            "314/314 [==============================] - 185s 590ms/step - loss: -0.2108 - recall: 0.0435 - precision: 0.0828 - dice_coef: 0.2108 - mean_io_u: 0.5126 - val_loss: -0.1972 - val_recall: 0.0000e+00 - val_precision: 0.0000e+00 - val_dice_coef: 0.1972 - val_mean_io_u: 0.4997 - lr: 0.0100\n",
            "Epoch 9/300\n",
            "314/314 [==============================] - ETA: 0s - loss: -0.2425 - recall: 0.0000e+00 - precision: 0.0000e+00 - dice_coef: 0.2425 - mean_io_u: 0.4997\n",
            "Epoch 9: val_loss did not improve from -0.19725\n",
            "314/314 [==============================] - 183s 583ms/step - loss: -0.2425 - recall: 0.0000e+00 - precision: 0.0000e+00 - dice_coef: 0.2425 - mean_io_u: 0.4997 - val_loss: -0.1853 - val_recall: 0.0000e+00 - val_precision: 0.0000e+00 - val_dice_coef: 0.1853 - val_mean_io_u: 0.4997 - lr: 0.0100\n",
            "Epoch 10/300\n",
            "314/314 [==============================] - ETA: 0s - loss: -0.2473 - recall: 0.0000e+00 - precision: 0.0000e+00 - dice_coef: 0.2473 - mean_io_u: 0.4997\n",
            "Epoch 10: val_loss improved from -0.19725 to -0.19825, saving model to /content/drive/MyDrive/Res-U-Net++/res-unet++.h5\n",
            "314/314 [==============================] - 185s 591ms/step - loss: -0.2473 - recall: 0.0000e+00 - precision: 0.0000e+00 - dice_coef: 0.2473 - mean_io_u: 0.4997 - val_loss: -0.1982 - val_recall: 0.0000e+00 - val_precision: 0.0000e+00 - val_dice_coef: 0.1982 - val_mean_io_u: 0.4997 - lr: 0.0100\n",
            "Epoch 11/300\n",
            "314/314 [==============================] - ETA: 0s - loss: -0.2259 - recall: 0.0000e+00 - precision: 0.0000e+00 - dice_coef: 0.2259 - mean_io_u: 0.4997\n",
            "Epoch 11: val_loss improved from -0.19825 to -0.24877, saving model to /content/drive/MyDrive/Res-U-Net++/res-unet++.h5\n",
            "314/314 [==============================] - 185s 590ms/step - loss: -0.2259 - recall: 0.0000e+00 - precision: 0.0000e+00 - dice_coef: 0.2259 - mean_io_u: 0.4997 - val_loss: -0.2488 - val_recall: 0.0000e+00 - val_precision: 0.0000e+00 - val_dice_coef: 0.2488 - val_mean_io_u: 0.4997 - lr: 0.0100\n",
            "Epoch 12/300\n",
            "314/314 [==============================] - ETA: 0s - loss: -0.2423 - recall: 0.0000e+00 - precision: 0.0000e+00 - dice_coef: 0.2423 - mean_io_u: 0.4997\n",
            "Epoch 12: val_loss did not improve from -0.24877\n",
            "314/314 [==============================] - 184s 587ms/step - loss: -0.2423 - recall: 0.0000e+00 - precision: 0.0000e+00 - dice_coef: 0.2423 - mean_io_u: 0.4997 - val_loss: -0.2125 - val_recall: 0.0000e+00 - val_precision: 0.0000e+00 - val_dice_coef: 0.2125 - val_mean_io_u: 0.4997 - lr: 0.0100\n",
            "Epoch 13/300\n",
            "314/314 [==============================] - ETA: 0s - loss: -0.2314 - recall: 0.0000e+00 - precision: 0.0000e+00 - dice_coef: 0.2314 - mean_io_u: 0.4997\n",
            "Epoch 13: val_loss did not improve from -0.24877\n",
            "314/314 [==============================] - 184s 587ms/step - loss: -0.2314 - recall: 0.0000e+00 - precision: 0.0000e+00 - dice_coef: 0.2314 - mean_io_u: 0.4997 - val_loss: -0.2083 - val_recall: 0.0000e+00 - val_precision: 0.0000e+00 - val_dice_coef: 0.2083 - val_mean_io_u: 0.4997 - lr: 0.0100\n",
            "Epoch 14/300\n",
            "314/314 [==============================] - ETA: 0s - loss: -0.2362 - recall: 0.0000e+00 - precision: 0.0000e+00 - dice_coef: 0.2362 - mean_io_u: 0.4997\n",
            "Epoch 14: val_loss did not improve from -0.24877\n",
            "314/314 [==============================] - 184s 587ms/step - loss: -0.2362 - recall: 0.0000e+00 - precision: 0.0000e+00 - dice_coef: 0.2362 - mean_io_u: 0.4997 - val_loss: -0.2475 - val_recall: 0.0000e+00 - val_precision: 0.0000e+00 - val_dice_coef: 0.2475 - val_mean_io_u: 0.4997 - lr: 0.0100\n",
            "Epoch 15/300\n",
            "314/314 [==============================] - ETA: 0s - loss: -0.2524 - recall: 0.0000e+00 - precision: 0.0000e+00 - dice_coef: 0.2524 - mean_io_u: 0.4997\n",
            "Epoch 15: val_loss improved from -0.24877 to -0.25740, saving model to /content/drive/MyDrive/Res-U-Net++/res-unet++.h5\n",
            "314/314 [==============================] - 186s 591ms/step - loss: -0.2524 - recall: 0.0000e+00 - precision: 0.0000e+00 - dice_coef: 0.2524 - mean_io_u: 0.4997 - val_loss: -0.2574 - val_recall: 0.0000e+00 - val_precision: 0.0000e+00 - val_dice_coef: 0.2574 - val_mean_io_u: 0.4997 - lr: 0.0100\n",
            "Epoch 16/300\n",
            "314/314 [==============================] - ETA: 0s - loss: -0.2423 - recall: 0.0000e+00 - precision: 0.0000e+00 - dice_coef: 0.2423 - mean_io_u: 0.4997\n",
            "Epoch 16: val_loss did not improve from -0.25740\n",
            "314/314 [==============================] - 184s 587ms/step - loss: -0.2423 - recall: 0.0000e+00 - precision: 0.0000e+00 - dice_coef: 0.2423 - mean_io_u: 0.4997 - val_loss: -0.2304 - val_recall: 0.0000e+00 - val_precision: 0.0000e+00 - val_dice_coef: 0.2304 - val_mean_io_u: 0.4997 - lr: 0.0100\n",
            "Epoch 17/300\n",
            "314/314 [==============================] - ETA: 0s - loss: -0.2370 - recall: 0.0000e+00 - precision: 0.0000e+00 - dice_coef: 0.2370 - mean_io_u: 0.4997\n",
            "Epoch 17: val_loss did not improve from -0.25740\n",
            "314/314 [==============================] - 184s 587ms/step - loss: -0.2370 - recall: 0.0000e+00 - precision: 0.0000e+00 - dice_coef: 0.2370 - mean_io_u: 0.4997 - val_loss: -0.2071 - val_recall: 0.0000e+00 - val_precision: 0.0000e+00 - val_dice_coef: 0.2071 - val_mean_io_u: 0.4997 - lr: 0.0100\n",
            "Epoch 18/300\n",
            "314/314 [==============================] - ETA: 0s - loss: -0.2282 - recall: 0.0000e+00 - precision: 0.0000e+00 - dice_coef: 0.2282 - mean_io_u: 0.4997\n",
            "Epoch 18: val_loss did not improve from -0.25740\n",
            "314/314 [==============================] - 184s 587ms/step - loss: -0.2282 - recall: 0.0000e+00 - precision: 0.0000e+00 - dice_coef: 0.2282 - mean_io_u: 0.4997 - val_loss: -0.2384 - val_recall: 0.0000e+00 - val_precision: 0.0000e+00 - val_dice_coef: 0.2384 - val_mean_io_u: 0.4997 - lr: 0.0100\n",
            "Epoch 19/300\n",
            "314/314 [==============================] - ETA: 0s - loss: -0.2329 - recall: 0.0000e+00 - precision: 0.0000e+00 - dice_coef: 0.2329 - mean_io_u: 0.4997\n",
            "Epoch 19: val_loss did not improve from -0.25740\n",
            "314/314 [==============================] - 185s 588ms/step - loss: -0.2329 - recall: 0.0000e+00 - precision: 0.0000e+00 - dice_coef: 0.2329 - mean_io_u: 0.4997 - val_loss: -0.2482 - val_recall: 0.0000e+00 - val_precision: 0.0000e+00 - val_dice_coef: 0.2482 - val_mean_io_u: 0.4997 - lr: 0.0100\n",
            "Epoch 20/300\n",
            "314/314 [==============================] - ETA: 0s - loss: -0.2363 - recall: 0.0000e+00 - precision: 0.0000e+00 - dice_coef: 0.2363 - mean_io_u: 0.4997\n",
            "Epoch 20: val_loss did not improve from -0.25740\n",
            "\n",
            "Epoch 20: ReduceLROnPlateau reducing learning rate to 0.0009999999776482583.\n",
            "314/314 [==============================] - 184s 586ms/step - loss: -0.2363 - recall: 0.0000e+00 - precision: 0.0000e+00 - dice_coef: 0.2363 - mean_io_u: 0.4997 - val_loss: -0.2400 - val_recall: 0.0000e+00 - val_precision: 0.0000e+00 - val_dice_coef: 0.2400 - val_mean_io_u: 0.4997 - lr: 0.0100\n",
            "Epoch 21/300\n",
            "314/314 [==============================] - ETA: 0s - loss: -0.2345 - recall: 0.0000e+00 - precision: 0.0000e+00 - dice_coef: 0.2345 - mean_io_u: 0.4997\n",
            "Epoch 21: val_loss did not improve from -0.25740\n",
            "314/314 [==============================] - 184s 586ms/step - loss: -0.2345 - recall: 0.0000e+00 - precision: 0.0000e+00 - dice_coef: 0.2345 - mean_io_u: 0.4997 - val_loss: -0.2538 - val_recall: 0.0000e+00 - val_precision: 0.0000e+00 - val_dice_coef: 0.2538 - val_mean_io_u: 0.4997 - lr: 1.0000e-03\n",
            "Epoch 22/300\n",
            "314/314 [==============================] - ETA: 0s - loss: -0.2370 - recall: 0.0000e+00 - precision: 0.0000e+00 - dice_coef: 0.2370 - mean_io_u: 0.4997\n",
            "Epoch 22: val_loss did not improve from -0.25740\n",
            "314/314 [==============================] - 184s 586ms/step - loss: -0.2370 - recall: 0.0000e+00 - precision: 0.0000e+00 - dice_coef: 0.2370 - mean_io_u: 0.4997 - val_loss: -0.2364 - val_recall: 0.0000e+00 - val_precision: 0.0000e+00 - val_dice_coef: 0.2364 - val_mean_io_u: 0.4997 - lr: 1.0000e-03\n",
            "Epoch 23/300\n",
            "314/314 [==============================] - ETA: 0s - loss: -0.2225 - recall: 0.0000e+00 - precision: 0.0000e+00 - dice_coef: 0.2225 - mean_io_u: 0.4997\n",
            "Epoch 23: val_loss did not improve from -0.25740\n",
            "314/314 [==============================] - 184s 587ms/step - loss: -0.2225 - recall: 0.0000e+00 - precision: 0.0000e+00 - dice_coef: 0.2225 - mean_io_u: 0.4997 - val_loss: -0.2248 - val_recall: 0.0000e+00 - val_precision: 0.0000e+00 - val_dice_coef: 0.2248 - val_mean_io_u: 0.4997 - lr: 1.0000e-03\n",
            "Epoch 24/300\n",
            "314/314 [==============================] - ETA: 0s - loss: -0.2310 - recall: 0.0000e+00 - precision: 0.0000e+00 - dice_coef: 0.2310 - mean_io_u: 0.4997\n",
            "Epoch 24: val_loss did not improve from -0.25740\n",
            "314/314 [==============================] - 185s 587ms/step - loss: -0.2310 - recall: 0.0000e+00 - precision: 0.0000e+00 - dice_coef: 0.2310 - mean_io_u: 0.4997 - val_loss: -0.2199 - val_recall: 0.0000e+00 - val_precision: 0.0000e+00 - val_dice_coef: 0.2199 - val_mean_io_u: 0.4997 - lr: 1.0000e-03\n",
            "Epoch 25/300\n",
            "314/314 [==============================] - ETA: 0s - loss: -0.2343 - recall: 0.0000e+00 - precision: 0.0000e+00 - dice_coef: 0.2343 - mean_io_u: 0.4997\n",
            "Epoch 25: val_loss improved from -0.25740 to -0.26543, saving model to /content/drive/MyDrive/Res-U-Net++/res-unet++.h5\n",
            "314/314 [==============================] - 186s 592ms/step - loss: -0.2343 - recall: 0.0000e+00 - precision: 0.0000e+00 - dice_coef: 0.2343 - mean_io_u: 0.4997 - val_loss: -0.2654 - val_recall: 0.0000e+00 - val_precision: 0.0000e+00 - val_dice_coef: 0.2654 - val_mean_io_u: 0.4997 - lr: 1.0000e-03\n",
            "Epoch 26/300\n",
            "314/314 [==============================] - ETA: 0s - loss: -0.2317 - recall: 0.0000e+00 - precision: 0.0000e+00 - dice_coef: 0.2317 - mean_io_u: 0.4997\n",
            "Epoch 26: val_loss did not improve from -0.26543\n",
            "314/314 [==============================] - 184s 586ms/step - loss: -0.2317 - recall: 0.0000e+00 - precision: 0.0000e+00 - dice_coef: 0.2317 - mean_io_u: 0.4997 - val_loss: -0.2339 - val_recall: 0.0000e+00 - val_precision: 0.0000e+00 - val_dice_coef: 0.2339 - val_mean_io_u: 0.4997 - lr: 1.0000e-03\n",
            "Epoch 27/300\n",
            "314/314 [==============================] - ETA: 0s - loss: -0.2407 - recall: 0.0000e+00 - precision: 0.0000e+00 - dice_coef: 0.2407 - mean_io_u: 0.4997\n",
            "Epoch 27: val_loss did not improve from -0.26543\n",
            "314/314 [==============================] - 184s 585ms/step - loss: -0.2407 - recall: 0.0000e+00 - precision: 0.0000e+00 - dice_coef: 0.2407 - mean_io_u: 0.4997 - val_loss: -0.2287 - val_recall: 0.0000e+00 - val_precision: 0.0000e+00 - val_dice_coef: 0.2287 - val_mean_io_u: 0.4997 - lr: 1.0000e-03\n",
            "Epoch 28/300\n",
            "314/314 [==============================] - ETA: 0s - loss: -0.2331 - recall: 0.0000e+00 - precision: 0.0000e+00 - dice_coef: 0.2331 - mean_io_u: 0.4997\n",
            "Epoch 28: val_loss did not improve from -0.26543\n",
            "314/314 [==============================] - 184s 586ms/step - loss: -0.2331 - recall: 0.0000e+00 - precision: 0.0000e+00 - dice_coef: 0.2331 - mean_io_u: 0.4997 - val_loss: -0.2154 - val_recall: 0.0000e+00 - val_precision: 0.0000e+00 - val_dice_coef: 0.2154 - val_mean_io_u: 0.4997 - lr: 1.0000e-03\n",
            "Epoch 29/300\n",
            "314/314 [==============================] - ETA: 0s - loss: -0.2395 - recall: 0.0000e+00 - precision: 0.0000e+00 - dice_coef: 0.2395 - mean_io_u: 0.4997\n",
            "Epoch 29: val_loss did not improve from -0.26543\n",
            "314/314 [==============================] - 184s 586ms/step - loss: -0.2395 - recall: 0.0000e+00 - precision: 0.0000e+00 - dice_coef: 0.2395 - mean_io_u: 0.4997 - val_loss: -0.2181 - val_recall: 0.0000e+00 - val_precision: 0.0000e+00 - val_dice_coef: 0.2181 - val_mean_io_u: 0.4997 - lr: 1.0000e-03\n",
            "Epoch 30/300\n",
            "314/314 [==============================] - ETA: 0s - loss: -0.2284 - recall: 0.0000e+00 - precision: 0.0000e+00 - dice_coef: 0.2284 - mean_io_u: 0.4997\n",
            "Epoch 30: val_loss did not improve from -0.26543\n",
            "\n",
            "Epoch 30: ReduceLROnPlateau reducing learning rate to 9.999999310821295e-05.\n",
            "314/314 [==============================] - 184s 586ms/step - loss: -0.2284 - recall: 0.0000e+00 - precision: 0.0000e+00 - dice_coef: 0.2284 - mean_io_u: 0.4997 - val_loss: -0.2259 - val_recall: 0.0000e+00 - val_precision: 0.0000e+00 - val_dice_coef: 0.2259 - val_mean_io_u: 0.4997 - lr: 1.0000e-03\n",
            "Epoch 31/300\n",
            "314/314 [==============================] - ETA: 0s - loss: -0.2281 - recall: 0.0000e+00 - precision: 0.0000e+00 - dice_coef: 0.2281 - mean_io_u: 0.4997\n",
            "Epoch 31: val_loss did not improve from -0.26543\n",
            "314/314 [==============================] - 184s 586ms/step - loss: -0.2281 - recall: 0.0000e+00 - precision: 0.0000e+00 - dice_coef: 0.2281 - mean_io_u: 0.4997 - val_loss: -0.2247 - val_recall: 0.0000e+00 - val_precision: 0.0000e+00 - val_dice_coef: 0.2247 - val_mean_io_u: 0.4997 - lr: 1.0000e-04\n",
            "Epoch 32/300\n",
            "314/314 [==============================] - ETA: 0s - loss: -0.2351 - recall: 0.0000e+00 - precision: 0.0000e+00 - dice_coef: 0.2351 - mean_io_u: 0.4997\n",
            "Epoch 32: val_loss did not improve from -0.26543\n",
            "314/314 [==============================] - 184s 587ms/step - loss: -0.2351 - recall: 0.0000e+00 - precision: 0.0000e+00 - dice_coef: 0.2351 - mean_io_u: 0.4997 - val_loss: -0.2549 - val_recall: 0.0000e+00 - val_precision: 0.0000e+00 - val_dice_coef: 0.2549 - val_mean_io_u: 0.4997 - lr: 1.0000e-04\n",
            "Epoch 33/300\n",
            "314/314 [==============================] - ETA: 0s - loss: -0.2360 - recall: 0.0000e+00 - precision: 0.0000e+00 - dice_coef: 0.2360 - mean_io_u: 0.4997\n",
            "Epoch 33: val_loss did not improve from -0.26543\n",
            "314/314 [==============================] - 184s 585ms/step - loss: -0.2360 - recall: 0.0000e+00 - precision: 0.0000e+00 - dice_coef: 0.2360 - mean_io_u: 0.4997 - val_loss: -0.2461 - val_recall: 0.0000e+00 - val_precision: 0.0000e+00 - val_dice_coef: 0.2461 - val_mean_io_u: 0.4997 - lr: 1.0000e-04\n",
            "Epoch 34/300\n",
            "314/314 [==============================] - ETA: 0s - loss: -0.2357 - recall: 0.0000e+00 - precision: 0.0000e+00 - dice_coef: 0.2357 - mean_io_u: 0.4997\n",
            "Epoch 34: val_loss did not improve from -0.26543\n",
            "314/314 [==============================] - 184s 585ms/step - loss: -0.2357 - recall: 0.0000e+00 - precision: 0.0000e+00 - dice_coef: 0.2357 - mean_io_u: 0.4997 - val_loss: -0.2348 - val_recall: 0.0000e+00 - val_precision: 0.0000e+00 - val_dice_coef: 0.2348 - val_mean_io_u: 0.4997 - lr: 1.0000e-04\n",
            "Epoch 35/300\n",
            "314/314 [==============================] - ETA: 0s - loss: -0.2290 - recall: 0.0000e+00 - precision: 0.0000e+00 - dice_coef: 0.2290 - mean_io_u: 0.4997\n",
            "Epoch 35: val_loss improved from -0.26543 to -0.29229, saving model to /content/drive/MyDrive/Res-U-Net++/res-unet++.h5\n",
            "314/314 [==============================] - 185s 591ms/step - loss: -0.2290 - recall: 0.0000e+00 - precision: 0.0000e+00 - dice_coef: 0.2290 - mean_io_u: 0.4997 - val_loss: -0.2923 - val_recall: 0.0000e+00 - val_precision: 0.0000e+00 - val_dice_coef: 0.2923 - val_mean_io_u: 0.4997 - lr: 1.0000e-04\n",
            "Epoch 36/300\n",
            "314/314 [==============================] - ETA: 0s - loss: -0.2296 - recall: 0.0000e+00 - precision: 0.0000e+00 - dice_coef: 0.2296 - mean_io_u: 0.4997\n",
            "Epoch 36: val_loss did not improve from -0.29229\n",
            "314/314 [==============================] - 184s 586ms/step - loss: -0.2296 - recall: 0.0000e+00 - precision: 0.0000e+00 - dice_coef: 0.2296 - mean_io_u: 0.4997 - val_loss: -0.2129 - val_recall: 0.0000e+00 - val_precision: 0.0000e+00 - val_dice_coef: 0.2129 - val_mean_io_u: 0.4997 - lr: 1.0000e-04\n",
            "Epoch 37/300\n",
            "314/314 [==============================] - ETA: 0s - loss: -0.2364 - recall: 0.0000e+00 - precision: 0.0000e+00 - dice_coef: 0.2364 - mean_io_u: 0.4997\n",
            "Epoch 37: val_loss did not improve from -0.29229\n",
            "314/314 [==============================] - 184s 586ms/step - loss: -0.2364 - recall: 0.0000e+00 - precision: 0.0000e+00 - dice_coef: 0.2364 - mean_io_u: 0.4997 - val_loss: -0.2582 - val_recall: 0.0000e+00 - val_precision: 0.0000e+00 - val_dice_coef: 0.2582 - val_mean_io_u: 0.4997 - lr: 1.0000e-04\n",
            "Epoch 38/300\n",
            "314/314 [==============================] - ETA: 0s - loss: -0.2390 - recall: 0.0000e+00 - precision: 0.0000e+00 - dice_coef: 0.2390 - mean_io_u: 0.4997\n",
            "Epoch 38: val_loss did not improve from -0.29229\n",
            "314/314 [==============================] - 184s 586ms/step - loss: -0.2390 - recall: 0.0000e+00 - precision: 0.0000e+00 - dice_coef: 0.2390 - mean_io_u: 0.4997 - val_loss: -0.1875 - val_recall: 0.0000e+00 - val_precision: 0.0000e+00 - val_dice_coef: 0.1875 - val_mean_io_u: 0.4997 - lr: 1.0000e-04\n",
            "Epoch 39/300\n",
            "314/314 [==============================] - ETA: 0s - loss: -0.2383 - recall: 0.0000e+00 - precision: 0.0000e+00 - dice_coef: 0.2383 - mean_io_u: 0.4997\n",
            "Epoch 39: val_loss did not improve from -0.29229\n",
            "314/314 [==============================] - 184s 586ms/step - loss: -0.2383 - recall: 0.0000e+00 - precision: 0.0000e+00 - dice_coef: 0.2383 - mean_io_u: 0.4997 - val_loss: -0.2174 - val_recall: 0.0000e+00 - val_precision: 0.0000e+00 - val_dice_coef: 0.2174 - val_mean_io_u: 0.4997 - lr: 1.0000e-04\n",
            "Epoch 40/300\n",
            "314/314 [==============================] - ETA: 0s - loss: -0.2373 - recall: 0.0000e+00 - precision: 0.0000e+00 - dice_coef: 0.2373 - mean_io_u: 0.4997\n",
            "Epoch 40: val_loss did not improve from -0.29229\n",
            "\n",
            "Epoch 40: ReduceLROnPlateau reducing learning rate to 9.999999019782991e-06.\n",
            "314/314 [==============================] - 184s 586ms/step - loss: -0.2373 - recall: 0.0000e+00 - precision: 0.0000e+00 - dice_coef: 0.2373 - mean_io_u: 0.4997 - val_loss: -0.1882 - val_recall: 0.0000e+00 - val_precision: 0.0000e+00 - val_dice_coef: 0.1882 - val_mean_io_u: 0.4997 - lr: 1.0000e-04\n",
            "Epoch 41/300\n",
            "314/314 [==============================] - ETA: 0s - loss: -0.2458 - recall: 0.0000e+00 - precision: 0.0000e+00 - dice_coef: 0.2458 - mean_io_u: 0.4997\n",
            "Epoch 41: val_loss did not improve from -0.29229\n",
            "314/314 [==============================] - 184s 586ms/step - loss: -0.2458 - recall: 0.0000e+00 - precision: 0.0000e+00 - dice_coef: 0.2458 - mean_io_u: 0.4997 - val_loss: -0.2293 - val_recall: 0.0000e+00 - val_precision: 0.0000e+00 - val_dice_coef: 0.2293 - val_mean_io_u: 0.4997 - lr: 1.0000e-05\n",
            "Epoch 42/300\n",
            "314/314 [==============================] - ETA: 0s - loss: -0.2298 - recall: 0.0000e+00 - precision: 0.0000e+00 - dice_coef: 0.2298 - mean_io_u: 0.4997\n",
            "Epoch 42: val_loss did not improve from -0.29229\n",
            "314/314 [==============================] - 184s 586ms/step - loss: -0.2298 - recall: 0.0000e+00 - precision: 0.0000e+00 - dice_coef: 0.2298 - mean_io_u: 0.4997 - val_loss: -0.2646 - val_recall: 0.0000e+00 - val_precision: 0.0000e+00 - val_dice_coef: 0.2646 - val_mean_io_u: 0.4997 - lr: 1.0000e-05\n",
            "Epoch 43/300\n",
            "314/314 [==============================] - ETA: 0s - loss: -0.2369 - recall: 0.0000e+00 - precision: 0.0000e+00 - dice_coef: 0.2369 - mean_io_u: 0.4997\n",
            "Epoch 43: val_loss did not improve from -0.29229\n",
            "314/314 [==============================] - 184s 586ms/step - loss: -0.2369 - recall: 0.0000e+00 - precision: 0.0000e+00 - dice_coef: 0.2369 - mean_io_u: 0.4997 - val_loss: -0.2273 - val_recall: 0.0000e+00 - val_precision: 0.0000e+00 - val_dice_coef: 0.2273 - val_mean_io_u: 0.4997 - lr: 1.0000e-05\n",
            "Epoch 44/300\n",
            "314/314 [==============================] - ETA: 0s - loss: -0.2463 - recall: 0.0000e+00 - precision: 0.0000e+00 - dice_coef: 0.2463 - mean_io_u: 0.4997\n",
            "Epoch 44: val_loss did not improve from -0.29229\n",
            "314/314 [==============================] - 184s 587ms/step - loss: -0.2463 - recall: 0.0000e+00 - precision: 0.0000e+00 - dice_coef: 0.2463 - mean_io_u: 0.4997 - val_loss: -0.2043 - val_recall: 0.0000e+00 - val_precision: 0.0000e+00 - val_dice_coef: 0.2043 - val_mean_io_u: 0.4997 - lr: 1.0000e-05\n",
            "Epoch 45/300\n",
            "314/314 [==============================] - ETA: 0s - loss: -0.2468 - recall: 0.0000e+00 - precision: 0.0000e+00 - dice_coef: 0.2468 - mean_io_u: 0.4997\n",
            "Epoch 45: val_loss did not improve from -0.29229\n",
            "\n",
            "Epoch 45: ReduceLROnPlateau reducing learning rate to 1e-06.\n",
            "314/314 [==============================] - 184s 586ms/step - loss: -0.2468 - recall: 0.0000e+00 - precision: 0.0000e+00 - dice_coef: 0.2468 - mean_io_u: 0.4997 - val_loss: -0.2580 - val_recall: 0.0000e+00 - val_precision: 0.0000e+00 - val_dice_coef: 0.2580 - val_mean_io_u: 0.4997 - lr: 1.0000e-05\n"
          ]
        }
      ]
    },
    {
      "cell_type": "code",
      "source": [
        "test_ids = list(Xtest.image_path)\n",
        "test_mask = list(Xtest.mask_path)\n",
        "test_data = DataGenerator(test_ids, test_mask)"
      ],
      "metadata": {
        "id": "IKgEM2lncj0j"
      },
      "execution_count": null,
      "outputs": []
    },
    {
      "cell_type": "code",
      "source": [
        "tv,rcall ,pre ,dice ,men= model.evaluate(test_data)"
      ],
      "metadata": {
        "id": "1AdSGHq197eb",
        "colab": {
          "base_uri": "https://localhost:8080/"
        },
        "outputId": "29e8961e-313e-4e46-d4a9-d87fca01c412"
      },
      "execution_count": null,
      "outputs": [
        {
          "output_type": "stream",
          "name": "stderr",
          "text": [
            "/usr/local/lib/python3.7/dist-packages/ipykernel_launcher.py:44: RuntimeWarning: invalid value encountered in true_divide\n"
          ]
        },
        {
          "output_type": "stream",
          "name": "stdout",
          "text": [
            "27/27 [==============================] - 5s 174ms/step - loss: -0.2201 - recall: 0.0000e+00 - precision: 0.0000e+00 - dice_coef: 0.2201 - mean_io_u: 0.4997\n"
          ]
        }
      ]
    },
    {
      "cell_type": "code",
      "source": [
        "print(\"UNet Segmentation dice coef. is {:.2f}%\".format(dice*100))"
      ],
      "metadata": {
        "colab": {
          "base_uri": "https://localhost:8080/"
        },
        "id": "lN2nhpCAdRIf",
        "outputId": "888b86cd-f985-4d19-dcdc-5d946d2d4700"
      },
      "execution_count": null,
      "outputs": [
        {
          "output_type": "stream",
          "name": "stdout",
          "text": [
            "UNet Segmentation dice coef. is 22.01%\n"
          ]
        }
      ]
    },
    {
      "cell_type": "code",
      "source": [
        "class Savefiles(keras.callbacks.Callback):\n",
        "  def on_epoch_end(self, epoch, logs={}):\n",
        "      self.model.save_weights(\"Resunet++-seg-model.h5\")\n",
        "      model_json=self.model.to_json()\n",
        "      with open(\"Resunet++-seg-model.json\", \"w\") as json_file:\n",
        "        json_file.write(model_json)\n",
        "      !cp Resunet++-seg-model.json /content/drive/MyDrive/ResUnet50-keras\n",
        "      !cp Resunet++-seg-model.h5 /content/drive/MyDrive/ResUnet50-keras\n",
        "      !cp history.csv /content/drive/MyDrive/ResUnet50-keras  \n",
        "save_files=Savefiles()     "
      ],
      "metadata": {
        "id": "NjbIMVegvVVo",
        "colab": {
          "base_uri": "https://localhost:8080/",
          "height": 234
        },
        "outputId": "fd12355d-bf55-46a5-9c60-3282f768820a"
      },
      "execution_count": null,
      "outputs": [
        {
          "output_type": "error",
          "ename": "NameError",
          "evalue": "ignored",
          "traceback": [
            "\u001b[0;31m---------------------------------------------------------------------------\u001b[0m",
            "\u001b[0;31mNameError\u001b[0m                                 Traceback (most recent call last)",
            "\u001b[0;32m<ipython-input-42-12bd1135dc4e>\u001b[0m in \u001b[0;36m<module>\u001b[0;34m()\u001b[0m\n\u001b[0;32m----> 1\u001b[0;31m \u001b[0;32mclass\u001b[0m \u001b[0mSavefiles\u001b[0m\u001b[0;34m(\u001b[0m\u001b[0mkeras\u001b[0m\u001b[0;34m.\u001b[0m\u001b[0mcallbacks\u001b[0m\u001b[0;34m.\u001b[0m\u001b[0mCallback\u001b[0m\u001b[0;34m)\u001b[0m\u001b[0;34m:\u001b[0m\u001b[0;34m\u001b[0m\u001b[0;34m\u001b[0m\u001b[0m\n\u001b[0m\u001b[1;32m      2\u001b[0m   \u001b[0;32mdef\u001b[0m \u001b[0mon_epoch_end\u001b[0m\u001b[0;34m(\u001b[0m\u001b[0mself\u001b[0m\u001b[0;34m,\u001b[0m \u001b[0mepoch\u001b[0m\u001b[0;34m,\u001b[0m \u001b[0mlogs\u001b[0m\u001b[0;34m=\u001b[0m\u001b[0;34m{\u001b[0m\u001b[0;34m}\u001b[0m\u001b[0;34m)\u001b[0m\u001b[0;34m:\u001b[0m\u001b[0;34m\u001b[0m\u001b[0;34m\u001b[0m\u001b[0m\n\u001b[1;32m      3\u001b[0m       \u001b[0mself\u001b[0m\u001b[0;34m.\u001b[0m\u001b[0mmodel\u001b[0m\u001b[0;34m.\u001b[0m\u001b[0msave_weights\u001b[0m\u001b[0;34m(\u001b[0m\u001b[0;34m\"Resunet++-seg-model.h5\"\u001b[0m\u001b[0;34m)\u001b[0m\u001b[0;34m\u001b[0m\u001b[0;34m\u001b[0m\u001b[0m\n\u001b[1;32m      4\u001b[0m       \u001b[0mmodel_json\u001b[0m\u001b[0;34m=\u001b[0m\u001b[0mself\u001b[0m\u001b[0;34m.\u001b[0m\u001b[0mmodel\u001b[0m\u001b[0;34m.\u001b[0m\u001b[0mto_json\u001b[0m\u001b[0;34m(\u001b[0m\u001b[0;34m)\u001b[0m\u001b[0;34m\u001b[0m\u001b[0;34m\u001b[0m\u001b[0m\n\u001b[1;32m      5\u001b[0m       \u001b[0;32mwith\u001b[0m \u001b[0mopen\u001b[0m\u001b[0;34m(\u001b[0m\u001b[0;34m\"Resunet++-seg-model.json\"\u001b[0m\u001b[0;34m,\u001b[0m \u001b[0;34m\"w\"\u001b[0m\u001b[0;34m)\u001b[0m \u001b[0;32mas\u001b[0m \u001b[0mjson_file\u001b[0m\u001b[0;34m:\u001b[0m\u001b[0;34m\u001b[0m\u001b[0;34m\u001b[0m\u001b[0m\n",
            "\u001b[0;31mNameError\u001b[0m: name 'keras' is not defined"
          ]
        }
      ]
    }
  ]
}