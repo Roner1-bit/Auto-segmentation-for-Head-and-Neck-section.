{
  "nbformat": 4,
  "nbformat_minor": 0,
  "metadata": {
    "colab": {
      "name": "Copy of Res-U-Net++.ipynb",
      "provenance": []
    },
    "kernelspec": {
      "name": "python3",
      "display_name": "Python 3"
    },
    "language_info": {
      "name": "python"
    },
    "accelerator": "GPU"
  },
  "cells": [
    {
      "cell_type": "code",
      "execution_count": null,
      "metadata": {
        "id": "jL4s2yd_DE2Y"
      },
      "outputs": [],
      "source": [
        "import os\n",
        "import numpy as np\n",
        "import cv2\n",
        "from glob import glob\n",
        "import numpy as np\n",
        "import pandas as pd\n",
        "import tensorflow as tf\n",
        "from keras.layers import *\n",
        "from keras.models import Model\n",
        "from tensorflow.keras.callbacks import ReduceLROnPlateau, EarlyStopping, ModelCheckpoint, LearningRateScheduler"
      ]
    },
    {
      "cell_type": "code",
      "source": [
        "from tensorflow.keras.metrics import Precision, Recall, MeanIoU\n",
        "from tensorflow.keras.optimizers import Adam, Nadam, SGD\n",
        "from tensorflow.keras.models import Model, load_model, save_model\n",
        "from tensorflow.keras.layers import Input, Activation, BatchNormalization, Dropout, Lambda, Conv2D, Conv2DTranspose, MaxPooling2D, concatenate, AveragePooling2D, Dense, Flatten\n",
        "from tensorflow.keras.optimizers import Adam\n",
        "from tensorflow.keras import backend as K\n",
        "from sklearn.model_selection import train_test_split\n",
        "from skimage import io\n",
        "import tensorflow.keras.backend as K"
      ],
      "metadata": {
        "id": "yuABVWt1F9JD"
      },
      "execution_count": null,
      "outputs": []
    },
    {
      "cell_type": "code",
      "source": [
        "from google.colab import drive\n",
        "drive.mount('/content/drive')"
      ],
      "metadata": {
        "colab": {
          "base_uri": "https://localhost:8080/"
        },
        "id": "HVezKxcRsLmS",
        "outputId": "219fa61b-8ab6-40bc-9785-371195ac54db"
      },
      "execution_count": null,
      "outputs": [
        {
          "output_type": "stream",
          "name": "stdout",
          "text": [
            "Mounted at /content/drive\n"
          ]
        }
      ]
    },
    {
      "cell_type": "code",
      "source": [
        "def dice_coef(y_true, y_pred):\n",
        "    smooth=100\n",
        "    y_true = tf.cast(y_true, tf.float32)\n",
        "    y_truef=K.flatten(y_true)\n",
        "    y_predf=K.flatten(y_pred)\n",
        "    And=K.sum(y_truef* y_predf)\n",
        "    return((2* And + smooth) / (K.sum(y_truef) + K.sum(y_predf) + smooth))\n",
        "\n",
        "def dice_coef_loss(y_true, y_pred):\n",
        "    return -dice_coef(y_true, y_pred)\n"
      ],
      "metadata": {
        "id": "e4c95b61Rs6v"
      },
      "execution_count": null,
      "outputs": []
    },
    {
      "cell_type": "code",
      "source": [
        "def squeeze_excite_block(inputs, ratio=8):\n",
        "    init = inputs\n",
        "    channel_axis = -1\n",
        "    filters = init.shape[channel_axis]\n",
        "    se_shape = (1, 1, filters)\n",
        "\n",
        "    se = GlobalAveragePooling2D()(init)\n",
        "    se = Reshape(se_shape)(se)\n",
        "    se = Dense(filters // ratio, activation='relu', kernel_initializer='he_normal', use_bias=False)(se)\n",
        "    se = Dense(filters, activation='sigmoid', kernel_initializer='he_normal', use_bias=False)(se)\n",
        "\n",
        "    x = Multiply()([init, se])\n",
        "    return x\n"
      ],
      "metadata": {
        "id": "yh-13HdsDmAc"
      },
      "execution_count": null,
      "outputs": []
    },
    {
      "cell_type": "code",
      "source": [
        "def stem_block(x, n_filter, strides):\n",
        "    x_init = x\n",
        "\n",
        "    ## Conv 1\n",
        "    x = Conv2D(n_filter, (3, 3), padding=\"same\", strides=strides)(x)\n",
        "    x = BatchNormalization()(x)\n",
        "    x = Activation(\"relu\")(x)\n",
        "    x = Conv2D(n_filter, (3, 3), padding=\"same\")(x)\n",
        "\n",
        "    ## Shortcut\n",
        "    s  = Conv2D(n_filter, (1, 1), padding=\"same\", strides=strides)(x_init)\n",
        "    s = BatchNormalization()(s)\n",
        "\n",
        "    ## Add\n",
        "    x = Add()([x, s])\n",
        "    x = squeeze_excite_block(x)\n",
        "    return x"
      ],
      "metadata": {
        "id": "CwMacDPLDoEy"
      },
      "execution_count": null,
      "outputs": []
    },
    {
      "cell_type": "code",
      "source": [
        "def resnet_block(x, n_filter, strides=1):\n",
        "    x_init = x\n",
        "\n",
        "    ## Conv 1\n",
        "    x = BatchNormalization()(x)\n",
        "    x = Activation(\"relu\")(x)\n",
        "    x = Conv2D(n_filter, (1, 1), padding=\"same\", strides=strides)(x)\n",
        "    ## Conv 2\n",
        "    x = BatchNormalization()(x)\n",
        "    x = Activation(\"relu\")(x)\n",
        "    x = Conv2D(n_filter, (3, 3), padding=\"same\", strides=1)(x)\n",
        "\n",
        "    ## Shortcut\n",
        "    s  = Conv2D(n_filter, (1, 1), padding=\"same\", strides=strides)(x_init)\n",
        "    s = BatchNormalization()(s)\n",
        "\n",
        "    ## Add\n",
        "    x = Add()([x, s])\n",
        "    x = squeeze_excite_block(x)\n",
        "    return x"
      ],
      "metadata": {
        "id": "q05wy_yTDqWr"
      },
      "execution_count": null,
      "outputs": []
    },
    {
      "cell_type": "code",
      "source": [
        "def aspp_block(x, num_filters, rate_scale=1):\n",
        "    x1 = Conv2D(num_filters, (1, 1), dilation_rate=(6 * rate_scale, 6 * rate_scale), padding=\"same\")(x)\n",
        "    x1 = BatchNormalization()(x1)\n",
        "\n",
        "    x2 = Conv2D(num_filters, (1, 1), dilation_rate=(12 * rate_scale, 12 * rate_scale), padding=\"same\")(x)\n",
        "    x2 = BatchNormalization()(x2)\n",
        "\n",
        "    x3 = Conv2D(num_filters, (3, 3), dilation_rate=(18 * rate_scale, 18 * rate_scale), padding=\"same\")(x)\n",
        "    x3 = BatchNormalization()(x3)\n",
        "\n",
        "    x4 = Conv2D(num_filters, (1, 1), padding=\"same\")(x)\n",
        "    x4 = BatchNormalization()(x4)\n",
        "\n",
        "    y = Add()([x1, x2, x3, x4])\n",
        "    y = Conv2D(num_filters, (1, 1), padding=\"same\")(y)\n",
        "    return y"
      ],
      "metadata": {
        "id": "uQqExl1LDso5"
      },
      "execution_count": null,
      "outputs": []
    },
    {
      "cell_type": "code",
      "source": [
        "def attetion_block(g, x):\n",
        "    \"\"\"\n",
        "        g: Output of Parallel Encoder block\n",
        "        x: Output of Previous Decoder block\n",
        "    \"\"\"\n",
        "\n",
        "    filters = x.shape[-1]\n",
        "\n",
        "    g_conv = BatchNormalization()(g)\n",
        "    g_conv = Activation(\"relu\")(g_conv)\n",
        "    g_conv = Conv2D(filters, (1, 1), padding=\"same\")(g_conv)\n",
        "\n",
        "    g_pool = MaxPooling2D(pool_size=(2, 2), strides=(2, 2))(g_conv)\n",
        "\n",
        "    x_conv = BatchNormalization()(x)\n",
        "    x_conv = Activation(\"relu\")(x_conv)\n",
        "    x_conv = Conv2D(filters, (1, 1), padding=\"same\")(x_conv)\n",
        "\n",
        "    gc_sum = Add()([g_pool, x_conv])\n",
        "\n",
        "    gc_conv = BatchNormalization()(gc_sum)\n",
        "    gc_conv = Activation(\"relu\")(gc_conv)\n",
        "    gc_conv = Conv2D(filters, (1, 1), padding=\"same\")(gc_conv)\n",
        "\n",
        "    gc_mul = Multiply()([gc_conv, x])\n",
        "    return gc_mul"
      ],
      "metadata": {
        "id": "IMoCF90CDugy"
      },
      "execution_count": null,
      "outputs": []
    },
    {
      "cell_type": "code",
      "source": [
        "class ResUnetPlusPlus:\n",
        "    def __init__(self, input_size=256):\n",
        "        self.input_size = input_size\n",
        "\n",
        "    def build_model(self):\n",
        "        n_filters = [16, 32, 64, 128, 256]\n",
        "        inputs = Input((self.input_size, self.input_size, 3))\n",
        "\n",
        "        c0 = inputs\n",
        "        c1 = stem_block(c0, n_filters[0], strides=1)\n",
        "\n",
        "        ## Encoder\n",
        "        c2 = resnet_block(c1, n_filters[1], strides=2)\n",
        "        c3 = resnet_block(c2, n_filters[2], strides=2)\n",
        "        c4 = resnet_block(c3, n_filters[3], strides=2)\n",
        "\n",
        "        ## Bridge\n",
        "        b1 = aspp_block(c4, n_filters[4])\n",
        "\n",
        "        ## Decoder\n",
        "        d1 = attetion_block(c3, b1)\n",
        "        d1 = UpSampling2D((2, 2))(d1)\n",
        "        d1 = Concatenate()([d1, c3])\n",
        "        d1 = resnet_block(d1, n_filters[3])\n",
        "\n",
        "        d2 = attetion_block(c2, d1)\n",
        "        d2 = UpSampling2D((2, 2))(d2)\n",
        "        d2 = Concatenate()([d2, c2])\n",
        "        d2 = resnet_block(d2, n_filters[2])\n",
        "\n",
        "        d3 = attetion_block(c1, d2)\n",
        "        d3 = UpSampling2D((2, 2))(d3)\n",
        "        d3 = Concatenate()([d3, c1])\n",
        "        d3 = resnet_block(d3, n_filters[1])\n",
        "\n",
        "        ## output\n",
        "        outputs = aspp_block(d3, n_filters[0])\n",
        "        outputs = Conv2D(3, (1, 1), padding=\"same\")(outputs)\n",
        "        outputs = Activation(\"sigmoid\")(outputs)\n",
        "\n",
        "        ## Model\n",
        "        model = Model(inputs, outputs)\n",
        "        return model"
      ],
      "metadata": {
        "id": "iC89OqK6Dw_B"
      },
      "execution_count": null,
      "outputs": []
    },
    {
      "cell_type": "code",
      "source": [
        "!pip install -U --no-cache-dir gdown --pre\n",
        "!gdown --id 1-2HGO0znF0JAsgZ_et5Cr_owKVxr_bKZ"
      ],
      "metadata": {
        "colab": {
          "base_uri": "https://localhost:8080/"
        },
        "id": "3hnOFCbHNYg-",
        "outputId": "b8ed49b3-1355-4bc8-8945-3ab477160a9f"
      },
      "execution_count": null,
      "outputs": [
        {
          "output_type": "stream",
          "name": "stdout",
          "text": [
            "Requirement already satisfied: gdown in /usr/local/lib/python3.7/dist-packages (4.4.0)\n",
            "Requirement already satisfied: six in /usr/local/lib/python3.7/dist-packages (from gdown) (1.15.0)\n",
            "Requirement already satisfied: tqdm in /usr/local/lib/python3.7/dist-packages (from gdown) (4.63.0)\n",
            "Requirement already satisfied: filelock in /usr/local/lib/python3.7/dist-packages (from gdown) (3.6.0)\n",
            "Requirement already satisfied: beautifulsoup4 in /usr/local/lib/python3.7/dist-packages (from gdown) (4.6.3)\n",
            "Requirement already satisfied: requests[socks] in /usr/local/lib/python3.7/dist-packages (from gdown) (2.23.0)\n",
            "Requirement already satisfied: urllib3!=1.25.0,!=1.25.1,<1.26,>=1.21.1 in /usr/local/lib/python3.7/dist-packages (from requests[socks]->gdown) (1.24.3)\n",
            "Requirement already satisfied: certifi>=2017.4.17 in /usr/local/lib/python3.7/dist-packages (from requests[socks]->gdown) (2021.10.8)\n",
            "Requirement already satisfied: chardet<4,>=3.0.2 in /usr/local/lib/python3.7/dist-packages (from requests[socks]->gdown) (3.0.4)\n",
            "Requirement already satisfied: idna<3,>=2.5 in /usr/local/lib/python3.7/dist-packages (from requests[socks]->gdown) (2.10)\n",
            "Requirement already satisfied: PySocks!=1.5.7,>=1.5.6 in /usr/local/lib/python3.7/dist-packages (from requests[socks]->gdown) (1.7.1)\n",
            "/usr/local/lib/python3.7/dist-packages/gdown/cli.py:131: FutureWarning: Option `--id` was deprecated in version 4.3.1 and will be removed in 5.0. You don't need to pass it anymore to use a file ID.\n",
            "  category=FutureWarning,\n",
            "Downloading...\n",
            "From: https://drive.google.com/uc?id=1-2HGO0znF0JAsgZ_et5Cr_owKVxr_bKZ\n",
            "To: /content/CT_Data.zip\n",
            "100% 624M/624M [00:08<00:00, 77.0MB/s]\n"
          ]
        }
      ]
    },
    {
      "cell_type": "code",
      "source": [
        "from zipfile import ZipFile\n",
        "\n",
        "file_name=\"/content/CT_Data.zip\"\n",
        "\n",
        "with ZipFile(file_name, 'r') as ziip:\n",
        "  ziip.extractall()\n",
        "  print('woow')"
      ],
      "metadata": {
        "colab": {
          "base_uri": "https://localhost:8080/"
        },
        "id": "66Yb7VvnOf6x",
        "outputId": "2bf433d3-0fe7-4652-efdb-e0232ea96c26"
      },
      "execution_count": null,
      "outputs": [
        {
          "output_type": "stream",
          "name": "stdout",
          "text": [
            "woow\n"
          ]
        }
      ]
    },
    {
      "cell_type": "code",
      "source": [
        "mask_files = glob('/content/content/drive/MyDrive/CT_Data/Masks/*')\n",
        "len(mask_files)"
      ],
      "metadata": {
        "colab": {
          "base_uri": "https://localhost:8080/"
        },
        "id": "4ItxUdgmOqlW",
        "outputId": "53d06155-7690-42bf-8f11-bec6a962b991"
      },
      "execution_count": null,
      "outputs": [
        {
          "output_type": "execute_result",
          "data": {
            "text/plain": [
              "7367"
            ]
          },
          "metadata": {},
          "execution_count": 14
        }
      ]
    },
    {
      "cell_type": "code",
      "source": [
        "CT = glob('/content/content/drive/MyDrive/CT_Data/CT_images/*')\n",
        "len(CT)"
      ],
      "metadata": {
        "colab": {
          "base_uri": "https://localhost:8080/"
        },
        "id": "Lk74-1VfPRSu",
        "outputId": "895bf481-9ca1-414e-94c4-353e95dd04fb"
      },
      "execution_count": null,
      "outputs": [
        {
          "output_type": "execute_result",
          "data": {
            "text/plain": [
              "7367"
            ]
          },
          "metadata": {},
          "execution_count": 15
        }
      ]
    },
    {
      "cell_type": "code",
      "source": [
        "df = pd.DataFrame({\"image_path\": CT, \"mask_path\":mask_files})\n",
        "Xtrain, Xval = train_test_split(df, test_size=0.15,random_state=101)\n",
        "Xtest, Xval = train_test_split(Xval, test_size=0.5)\n",
        "print(\"Train size is {}, valid size is {} & test size is {}\".format(len(Xtrain), len(Xval), len(Xtest)))"
      ],
      "metadata": {
        "colab": {
          "base_uri": "https://localhost:8080/"
        },
        "id": "tbHQ7HpqPXgY",
        "outputId": "2f180a47-526e-4cfc-db9d-e8024cf55fee"
      },
      "execution_count": null,
      "outputs": [
        {
          "output_type": "stream",
          "name": "stdout",
          "text": [
            "Train size is 6261, valid size is 553 & test size is 553\n"
          ]
        }
      ]
    },
    {
      "cell_type": "code",
      "source": [
        "train_ids = list(Xtrain.image_path)\n",
        "train_mask = list(Xtrain.mask_path)\n",
        "\n",
        "val_ids = list(Xval.image_path)\n",
        "val_mask= list(Xval.mask_path)"
      ],
      "metadata": {
        "id": "eO2WKKM3Qi_I"
      },
      "execution_count": null,
      "outputs": []
    },
    {
      "cell_type": "code",
      "source": [
        "class DataGenerator(tf.keras.utils.Sequence):\n",
        "  def __init__(self, ids , mask, image_dir = './', batch_size = 16, img_h = 256, img_w = 256, shuffle = True):\n",
        "    self.ids = ids\n",
        "    self.mask = mask\n",
        "    self.image_dir = image_dir\n",
        "    self.batch_size = batch_size\n",
        "    self.img_h = img_h\n",
        "    self.img_w = img_w\n",
        "    self.shuffle = shuffle\n",
        "    self.on_epoch_end()\n",
        "  def __len__(self):\n",
        "    return int(np.floor(len(self.ids)) / self.batch_size)\n",
        "\n",
        "  def __getitem__(self, index):\n",
        "    indexes = self.indexes[index* self.batch_size : (index+1) * self.batch_size]\n",
        "    list_ids = [self.ids[i] for i in indexes]\n",
        "    list_mask = [self.mask[i] for i in indexes]\n",
        "    X, y = self.__data_generation(list_ids, list_mask)\n",
        "    return X, y\n",
        "\n",
        "  def on_epoch_end(self):    \n",
        "    self.indexes = np.arange(len(self.ids))\n",
        "\n",
        "    if self.shuffle:\n",
        "      np.random.shuffle(self.indexes)\n",
        "\n",
        "  def __data_generation(self, list_ids, list_mask):\n",
        "\n",
        "    X = np.empty((self.batch_size, self.img_h, self.img_w, 3))\n",
        "    y = np.empty((self.batch_size, self.img_h, self.img_w, 3))\n",
        "\n",
        "    for i in range(len(list_ids)):\n",
        "      img_path = str(list_ids[i])\n",
        "      mask_path = str(list_mask[i])\n",
        "      img = io.imread(img_path)\n",
        "      mask = io.imread(mask_path)\n",
        "      img = cv2.resize(img,(self.img_h,self.img_w))\n",
        "      img = np.array(img, dtype = np.float64)\n",
        "      mask = cv2.resize(mask,(self.img_h,self.img_w))\n",
        "      mask = np.array(mask, dtype = np.float64)\n",
        "      img -= img.mean()\n",
        "      img /= img.std()\n",
        "      mask -= mask.mean()\n",
        "      mask /= mask.std()\n",
        "      X[i,] = img\n",
        "      y[i,] = mask\n",
        "    y = (y > 0).astype(int)\n",
        "    return X, y\n",
        "\n",
        "train_data = DataGenerator(train_ids, train_mask)\n",
        "val_data = DataGenerator(val_ids, val_mask)"
      ],
      "metadata": {
        "id": "tmD1r_fZrNoH"
      },
      "execution_count": null,
      "outputs": []
    },
    {
      "cell_type": "code",
      "source": [
        "image_size = 256\n",
        "batch_size = 16\n",
        "lr = 0.01\n",
        "epochs = 300"
      ],
      "metadata": {
        "id": "xDTsl7S9ED_c"
      },
      "execution_count": null,
      "outputs": []
    },
    {
      "cell_type": "code",
      "source": [
        "arch = ResUnetPlusPlus(input_size=image_size)\n",
        "model = arch.build_model()"
      ],
      "metadata": {
        "id": "UWlsbijVNOvJ"
      },
      "execution_count": null,
      "outputs": []
    },
    {
      "cell_type": "code",
      "source": [
        "optimizer = Nadam(lr)\n",
        "adam = tf.keras.optimizers.Adam(lr = 0.1, epsilon = 0.1)\n",
        "\n",
        "metrics = [Recall(), Precision(), dice_coef, MeanIoU(num_classes=6)]\n",
        "model.compile(loss=dice_coef_loss, optimizer=adam, metrics=metrics)"
      ],
      "metadata": {
        "id": "e_cvSDA6RGMX",
        "colab": {
          "base_uri": "https://localhost:8080/"
        },
        "outputId": "4dbdf8ce-9098-4040-e43b-5cf856a686cf"
      },
      "execution_count": null,
      "outputs": [
        {
          "output_type": "stream",
          "name": "stderr",
          "text": [
            "/usr/local/lib/python3.7/dist-packages/keras/optimizer_v2/adam.py:105: UserWarning: The `lr` argument is deprecated, use `learning_rate` instead.\n",
            "  super(Adam, self).__init__(name, **kwargs)\n"
          ]
        }
      ]
    },
    {
      "cell_type": "code",
      "source": [
        "model.load_weights(\"/content/drive/MyDrive/Res-U-Net++/res-unet++.h5\")"
      ],
      "metadata": {
        "id": "M-NaDKzNR_7a"
      },
      "execution_count": null,
      "outputs": []
    },
    {
      "cell_type": "code",
      "source": [
        "filename='/content/drive/MyDrive/Res-U-Net++/history.csv'\n",
        "history_logger=tf.keras.callbacks.CSVLogger(filename, separator=\",\", append=True)\n",
        "checkpointer = ModelCheckpoint(filepath=\"/content/drive/MyDrive/Res-U-Net++/res-unet++.h5\", \n",
        "                               verbose=1, \n",
        "                               save_best_only=True\n",
        "                              )\n",
        "reduce_lr = ReduceLROnPlateau(monitor='val_loss', factor=0.1, patience=5, min_lr=1e-6, verbose=1)\n",
        "early_stopping = EarlyStopping(monitor='val_loss', patience=10, restore_best_weights=False)"
      ],
      "metadata": {
        "id": "89lNG3GPSO6o"
      },
      "execution_count": null,
      "outputs": []
    },
    {
      "cell_type": "code",
      "source": [
        "#callbacks = [history_logger, checkpointer, reduce_lr, early_stopping]"
      ],
      "metadata": {
        "id": "S132Ld0cRyXw"
      },
      "execution_count": null,
      "outputs": []
    },
    {
      "cell_type": "code",
      "source": [
        "type(val_data)"
      ],
      "metadata": {
        "colab": {
          "base_uri": "https://localhost:8080/"
        },
        "id": "auGg3r7tzWn3",
        "outputId": "6917a5cf-bd3e-4ba5-afe2-02b13fb99678"
      },
      "execution_count": null,
      "outputs": [
        {
          "output_type": "execute_result",
          "data": {
            "text/plain": [
              "__main__.DataGenerator"
            ]
          },
          "metadata": {},
          "execution_count": 58
        }
      ]
    },
    {
      "cell_type": "code",
      "source": [
        "model.summary()"
      ],
      "metadata": {
        "colab": {
          "base_uri": "https://localhost:8080/"
        },
        "id": "RquTKRQb1J65",
        "outputId": "4fe69afa-e2b4-472d-b546-14b408259051"
      },
      "execution_count": null,
      "outputs": [
        {
          "output_type": "stream",
          "name": "stdout",
          "text": [
            "Model: \"model\"\n",
            "__________________________________________________________________________________________________\n",
            " Layer (type)                   Output Shape         Param #     Connected to                     \n",
            "==================================================================================================\n",
            " input_1 (InputLayer)           [(None, 256, 256, 3  0           []                               \n",
            "                                )]                                                                \n",
            "                                                                                                  \n",
            " conv2d (Conv2D)                (None, 256, 256, 16  448         ['input_1[0][0]']                \n",
            "                                )                                                                 \n",
            "                                                                                                  \n",
            " batch_normalization (BatchNorm  (None, 256, 256, 16  64         ['conv2d[0][0]']                 \n",
            " alization)                     )                                                                 \n",
            "                                                                                                  \n",
            " activation (Activation)        (None, 256, 256, 16  0           ['batch_normalization[0][0]']    \n",
            "                                )                                                                 \n",
            "                                                                                                  \n",
            " conv2d_2 (Conv2D)              (None, 256, 256, 16  64          ['input_1[0][0]']                \n",
            "                                )                                                                 \n",
            "                                                                                                  \n",
            " conv2d_1 (Conv2D)              (None, 256, 256, 16  2320        ['activation[0][0]']             \n",
            "                                )                                                                 \n",
            "                                                                                                  \n",
            " batch_normalization_1 (BatchNo  (None, 256, 256, 16  64         ['conv2d_2[0][0]']               \n",
            " rmalization)                   )                                                                 \n",
            "                                                                                                  \n",
            " add (Add)                      (None, 256, 256, 16  0           ['conv2d_1[0][0]',               \n",
            "                                )                                 'batch_normalization_1[0][0]']  \n",
            "                                                                                                  \n",
            " global_average_pooling2d (Glob  (None, 16)          0           ['add[0][0]']                    \n",
            " alAveragePooling2D)                                                                              \n",
            "                                                                                                  \n",
            " reshape (Reshape)              (None, 1, 1, 16)     0           ['global_average_pooling2d[0][0]'\n",
            "                                                                 ]                                \n",
            "                                                                                                  \n",
            " dense (Dense)                  (None, 1, 1, 2)      32          ['reshape[0][0]']                \n",
            "                                                                                                  \n",
            " dense_1 (Dense)                (None, 1, 1, 16)     32          ['dense[0][0]']                  \n",
            "                                                                                                  \n",
            " multiply (Multiply)            (None, 256, 256, 16  0           ['add[0][0]',                    \n",
            "                                )                                 'dense_1[0][0]']                \n",
            "                                                                                                  \n",
            " batch_normalization_2 (BatchNo  (None, 256, 256, 16  64         ['multiply[0][0]']               \n",
            " rmalization)                   )                                                                 \n",
            "                                                                                                  \n",
            " activation_1 (Activation)      (None, 256, 256, 16  0           ['batch_normalization_2[0][0]']  \n",
            "                                )                                                                 \n",
            "                                                                                                  \n",
            " conv2d_3 (Conv2D)              (None, 128, 128, 32  544         ['activation_1[0][0]']           \n",
            "                                )                                                                 \n",
            "                                                                                                  \n",
            " batch_normalization_3 (BatchNo  (None, 128, 128, 32  128        ['conv2d_3[0][0]']               \n",
            " rmalization)                   )                                                                 \n",
            "                                                                                                  \n",
            " activation_2 (Activation)      (None, 128, 128, 32  0           ['batch_normalization_3[0][0]']  \n",
            "                                )                                                                 \n",
            "                                                                                                  \n",
            " conv2d_5 (Conv2D)              (None, 128, 128, 32  544         ['multiply[0][0]']               \n",
            "                                )                                                                 \n",
            "                                                                                                  \n",
            " conv2d_4 (Conv2D)              (None, 128, 128, 32  9248        ['activation_2[0][0]']           \n",
            "                                )                                                                 \n",
            "                                                                                                  \n",
            " batch_normalization_4 (BatchNo  (None, 128, 128, 32  128        ['conv2d_5[0][0]']               \n",
            " rmalization)                   )                                                                 \n",
            "                                                                                                  \n",
            " add_1 (Add)                    (None, 128, 128, 32  0           ['conv2d_4[0][0]',               \n",
            "                                )                                 'batch_normalization_4[0][0]']  \n",
            "                                                                                                  \n",
            " global_average_pooling2d_1 (Gl  (None, 32)          0           ['add_1[0][0]']                  \n",
            " obalAveragePooling2D)                                                                            \n",
            "                                                                                                  \n",
            " reshape_1 (Reshape)            (None, 1, 1, 32)     0           ['global_average_pooling2d_1[0][0\n",
            "                                                                 ]']                              \n",
            "                                                                                                  \n",
            " dense_2 (Dense)                (None, 1, 1, 4)      128         ['reshape_1[0][0]']              \n",
            "                                                                                                  \n",
            " dense_3 (Dense)                (None, 1, 1, 32)     128         ['dense_2[0][0]']                \n",
            "                                                                                                  \n",
            " multiply_1 (Multiply)          (None, 128, 128, 32  0           ['add_1[0][0]',                  \n",
            "                                )                                 'dense_3[0][0]']                \n",
            "                                                                                                  \n",
            " batch_normalization_5 (BatchNo  (None, 128, 128, 32  128        ['multiply_1[0][0]']             \n",
            " rmalization)                   )                                                                 \n",
            "                                                                                                  \n",
            " activation_3 (Activation)      (None, 128, 128, 32  0           ['batch_normalization_5[0][0]']  \n",
            "                                )                                                                 \n",
            "                                                                                                  \n",
            " conv2d_6 (Conv2D)              (None, 64, 64, 64)   2112        ['activation_3[0][0]']           \n",
            "                                                                                                  \n",
            " batch_normalization_6 (BatchNo  (None, 64, 64, 64)  256         ['conv2d_6[0][0]']               \n",
            " rmalization)                                                                                     \n",
            "                                                                                                  \n",
            " activation_4 (Activation)      (None, 64, 64, 64)   0           ['batch_normalization_6[0][0]']  \n",
            "                                                                                                  \n",
            " conv2d_8 (Conv2D)              (None, 64, 64, 64)   2112        ['multiply_1[0][0]']             \n",
            "                                                                                                  \n",
            " conv2d_7 (Conv2D)              (None, 64, 64, 64)   36928       ['activation_4[0][0]']           \n",
            "                                                                                                  \n",
            " batch_normalization_7 (BatchNo  (None, 64, 64, 64)  256         ['conv2d_8[0][0]']               \n",
            " rmalization)                                                                                     \n",
            "                                                                                                  \n",
            " add_2 (Add)                    (None, 64, 64, 64)   0           ['conv2d_7[0][0]',               \n",
            "                                                                  'batch_normalization_7[0][0]']  \n",
            "                                                                                                  \n",
            " global_average_pooling2d_2 (Gl  (None, 64)          0           ['add_2[0][0]']                  \n",
            " obalAveragePooling2D)                                                                            \n",
            "                                                                                                  \n",
            " reshape_2 (Reshape)            (None, 1, 1, 64)     0           ['global_average_pooling2d_2[0][0\n",
            "                                                                 ]']                              \n",
            "                                                                                                  \n",
            " dense_4 (Dense)                (None, 1, 1, 8)      512         ['reshape_2[0][0]']              \n",
            "                                                                                                  \n",
            " dense_5 (Dense)                (None, 1, 1, 64)     512         ['dense_4[0][0]']                \n",
            "                                                                                                  \n",
            " multiply_2 (Multiply)          (None, 64, 64, 64)   0           ['add_2[0][0]',                  \n",
            "                                                                  'dense_5[0][0]']                \n",
            "                                                                                                  \n",
            " batch_normalization_8 (BatchNo  (None, 64, 64, 64)  256         ['multiply_2[0][0]']             \n",
            " rmalization)                                                                                     \n",
            "                                                                                                  \n",
            " activation_5 (Activation)      (None, 64, 64, 64)   0           ['batch_normalization_8[0][0]']  \n",
            "                                                                                                  \n",
            " conv2d_9 (Conv2D)              (None, 32, 32, 128)  8320        ['activation_5[0][0]']           \n",
            "                                                                                                  \n",
            " batch_normalization_9 (BatchNo  (None, 32, 32, 128)  512        ['conv2d_9[0][0]']               \n",
            " rmalization)                                                                                     \n",
            "                                                                                                  \n",
            " activation_6 (Activation)      (None, 32, 32, 128)  0           ['batch_normalization_9[0][0]']  \n",
            "                                                                                                  \n",
            " conv2d_11 (Conv2D)             (None, 32, 32, 128)  8320        ['multiply_2[0][0]']             \n",
            "                                                                                                  \n",
            " conv2d_10 (Conv2D)             (None, 32, 32, 128)  147584      ['activation_6[0][0]']           \n",
            "                                                                                                  \n",
            " batch_normalization_10 (BatchN  (None, 32, 32, 128)  512        ['conv2d_11[0][0]']              \n",
            " ormalization)                                                                                    \n",
            "                                                                                                  \n",
            " add_3 (Add)                    (None, 32, 32, 128)  0           ['conv2d_10[0][0]',              \n",
            "                                                                  'batch_normalization_10[0][0]'] \n",
            "                                                                                                  \n",
            " global_average_pooling2d_3 (Gl  (None, 128)         0           ['add_3[0][0]']                  \n",
            " obalAveragePooling2D)                                                                            \n",
            "                                                                                                  \n",
            " reshape_3 (Reshape)            (None, 1, 1, 128)    0           ['global_average_pooling2d_3[0][0\n",
            "                                                                 ]']                              \n",
            "                                                                                                  \n",
            " dense_6 (Dense)                (None, 1, 1, 16)     2048        ['reshape_3[0][0]']              \n",
            "                                                                                                  \n",
            " dense_7 (Dense)                (None, 1, 1, 128)    2048        ['dense_6[0][0]']                \n",
            "                                                                                                  \n",
            " multiply_3 (Multiply)          (None, 32, 32, 128)  0           ['add_3[0][0]',                  \n",
            "                                                                  'dense_7[0][0]']                \n",
            "                                                                                                  \n",
            " conv2d_12 (Conv2D)             (None, 32, 32, 256)  33024       ['multiply_3[0][0]']             \n",
            "                                                                                                  \n",
            " conv2d_13 (Conv2D)             (None, 32, 32, 256)  33024       ['multiply_3[0][0]']             \n",
            "                                                                                                  \n",
            " conv2d_14 (Conv2D)             (None, 32, 32, 256)  295168      ['multiply_3[0][0]']             \n",
            "                                                                                                  \n",
            " conv2d_15 (Conv2D)             (None, 32, 32, 256)  33024       ['multiply_3[0][0]']             \n",
            "                                                                                                  \n",
            " batch_normalization_11 (BatchN  (None, 32, 32, 256)  1024       ['conv2d_12[0][0]']              \n",
            " ormalization)                                                                                    \n",
            "                                                                                                  \n",
            " batch_normalization_12 (BatchN  (None, 32, 32, 256)  1024       ['conv2d_13[0][0]']              \n",
            " ormalization)                                                                                    \n",
            "                                                                                                  \n",
            " batch_normalization_13 (BatchN  (None, 32, 32, 256)  1024       ['conv2d_14[0][0]']              \n",
            " ormalization)                                                                                    \n",
            "                                                                                                  \n",
            " batch_normalization_14 (BatchN  (None, 32, 32, 256)  1024       ['conv2d_15[0][0]']              \n",
            " ormalization)                                                                                    \n",
            "                                                                                                  \n",
            " add_4 (Add)                    (None, 32, 32, 256)  0           ['batch_normalization_11[0][0]', \n",
            "                                                                  'batch_normalization_12[0][0]', \n",
            "                                                                  'batch_normalization_13[0][0]', \n",
            "                                                                  'batch_normalization_14[0][0]'] \n",
            "                                                                                                  \n",
            " batch_normalization_15 (BatchN  (None, 64, 64, 64)  256         ['multiply_2[0][0]']             \n",
            " ormalization)                                                                                    \n",
            "                                                                                                  \n",
            " conv2d_16 (Conv2D)             (None, 32, 32, 256)  65792       ['add_4[0][0]']                  \n",
            "                                                                                                  \n",
            " activation_7 (Activation)      (None, 64, 64, 64)   0           ['batch_normalization_15[0][0]'] \n",
            "                                                                                                  \n",
            " batch_normalization_16 (BatchN  (None, 32, 32, 256)  1024       ['conv2d_16[0][0]']              \n",
            " ormalization)                                                                                    \n",
            "                                                                                                  \n",
            " conv2d_17 (Conv2D)             (None, 64, 64, 256)  16640       ['activation_7[0][0]']           \n",
            "                                                                                                  \n",
            " activation_8 (Activation)      (None, 32, 32, 256)  0           ['batch_normalization_16[0][0]'] \n",
            "                                                                                                  \n",
            " max_pooling2d (MaxPooling2D)   (None, 32, 32, 256)  0           ['conv2d_17[0][0]']              \n",
            "                                                                                                  \n",
            " conv2d_18 (Conv2D)             (None, 32, 32, 256)  65792       ['activation_8[0][0]']           \n",
            "                                                                                                  \n",
            " add_5 (Add)                    (None, 32, 32, 256)  0           ['max_pooling2d[0][0]',          \n",
            "                                                                  'conv2d_18[0][0]']              \n",
            "                                                                                                  \n",
            " batch_normalization_17 (BatchN  (None, 32, 32, 256)  1024       ['add_5[0][0]']                  \n",
            " ormalization)                                                                                    \n",
            "                                                                                                  \n",
            " activation_9 (Activation)      (None, 32, 32, 256)  0           ['batch_normalization_17[0][0]'] \n",
            "                                                                                                  \n",
            " conv2d_19 (Conv2D)             (None, 32, 32, 256)  65792       ['activation_9[0][0]']           \n",
            "                                                                                                  \n",
            " multiply_4 (Multiply)          (None, 32, 32, 256)  0           ['conv2d_19[0][0]',              \n",
            "                                                                  'conv2d_16[0][0]']              \n",
            "                                                                                                  \n",
            " up_sampling2d (UpSampling2D)   (None, 64, 64, 256)  0           ['multiply_4[0][0]']             \n",
            "                                                                                                  \n",
            " concatenate (Concatenate)      (None, 64, 64, 320)  0           ['up_sampling2d[0][0]',          \n",
            "                                                                  'multiply_2[0][0]']             \n",
            "                                                                                                  \n",
            " batch_normalization_18 (BatchN  (None, 64, 64, 320)  1280       ['concatenate[0][0]']            \n",
            " ormalization)                                                                                    \n",
            "                                                                                                  \n",
            " activation_10 (Activation)     (None, 64, 64, 320)  0           ['batch_normalization_18[0][0]'] \n",
            "                                                                                                  \n",
            " conv2d_20 (Conv2D)             (None, 64, 64, 128)  41088       ['activation_10[0][0]']          \n",
            "                                                                                                  \n",
            " batch_normalization_19 (BatchN  (None, 64, 64, 128)  512        ['conv2d_20[0][0]']              \n",
            " ormalization)                                                                                    \n",
            "                                                                                                  \n",
            " activation_11 (Activation)     (None, 64, 64, 128)  0           ['batch_normalization_19[0][0]'] \n",
            "                                                                                                  \n",
            " conv2d_22 (Conv2D)             (None, 64, 64, 128)  41088       ['concatenate[0][0]']            \n",
            "                                                                                                  \n",
            " conv2d_21 (Conv2D)             (None, 64, 64, 128)  147584      ['activation_11[0][0]']          \n",
            "                                                                                                  \n",
            " batch_normalization_20 (BatchN  (None, 64, 64, 128)  512        ['conv2d_22[0][0]']              \n",
            " ormalization)                                                                                    \n",
            "                                                                                                  \n",
            " add_6 (Add)                    (None, 64, 64, 128)  0           ['conv2d_21[0][0]',              \n",
            "                                                                  'batch_normalization_20[0][0]'] \n",
            "                                                                                                  \n",
            " global_average_pooling2d_4 (Gl  (None, 128)         0           ['add_6[0][0]']                  \n",
            " obalAveragePooling2D)                                                                            \n",
            "                                                                                                  \n",
            " reshape_4 (Reshape)            (None, 1, 1, 128)    0           ['global_average_pooling2d_4[0][0\n",
            "                                                                 ]']                              \n",
            "                                                                                                  \n",
            " dense_8 (Dense)                (None, 1, 1, 16)     2048        ['reshape_4[0][0]']              \n",
            "                                                                                                  \n",
            " dense_9 (Dense)                (None, 1, 1, 128)    2048        ['dense_8[0][0]']                \n",
            "                                                                                                  \n",
            " batch_normalization_21 (BatchN  (None, 128, 128, 32  128        ['multiply_1[0][0]']             \n",
            " ormalization)                  )                                                                 \n",
            "                                                                                                  \n",
            " multiply_5 (Multiply)          (None, 64, 64, 128)  0           ['add_6[0][0]',                  \n",
            "                                                                  'dense_9[0][0]']                \n",
            "                                                                                                  \n",
            " activation_12 (Activation)     (None, 128, 128, 32  0           ['batch_normalization_21[0][0]'] \n",
            "                                )                                                                 \n",
            "                                                                                                  \n",
            " batch_normalization_22 (BatchN  (None, 64, 64, 128)  512        ['multiply_5[0][0]']             \n",
            " ormalization)                                                                                    \n",
            "                                                                                                  \n",
            " conv2d_23 (Conv2D)             (None, 128, 128, 12  4224        ['activation_12[0][0]']          \n",
            "                                8)                                                                \n",
            "                                                                                                  \n",
            " activation_13 (Activation)     (None, 64, 64, 128)  0           ['batch_normalization_22[0][0]'] \n",
            "                                                                                                  \n",
            " max_pooling2d_1 (MaxPooling2D)  (None, 64, 64, 128)  0          ['conv2d_23[0][0]']              \n",
            "                                                                                                  \n",
            " conv2d_24 (Conv2D)             (None, 64, 64, 128)  16512       ['activation_13[0][0]']          \n",
            "                                                                                                  \n",
            " add_7 (Add)                    (None, 64, 64, 128)  0           ['max_pooling2d_1[0][0]',        \n",
            "                                                                  'conv2d_24[0][0]']              \n",
            "                                                                                                  \n",
            " batch_normalization_23 (BatchN  (None, 64, 64, 128)  512        ['add_7[0][0]']                  \n",
            " ormalization)                                                                                    \n",
            "                                                                                                  \n",
            " activation_14 (Activation)     (None, 64, 64, 128)  0           ['batch_normalization_23[0][0]'] \n",
            "                                                                                                  \n",
            " conv2d_25 (Conv2D)             (None, 64, 64, 128)  16512       ['activation_14[0][0]']          \n",
            "                                                                                                  \n",
            " multiply_6 (Multiply)          (None, 64, 64, 128)  0           ['conv2d_25[0][0]',              \n",
            "                                                                  'multiply_5[0][0]']             \n",
            "                                                                                                  \n",
            " up_sampling2d_1 (UpSampling2D)  (None, 128, 128, 12  0          ['multiply_6[0][0]']             \n",
            "                                8)                                                                \n",
            "                                                                                                  \n",
            " concatenate_1 (Concatenate)    (None, 128, 128, 16  0           ['up_sampling2d_1[0][0]',        \n",
            "                                0)                                'multiply_1[0][0]']             \n",
            "                                                                                                  \n",
            " batch_normalization_24 (BatchN  (None, 128, 128, 16  640        ['concatenate_1[0][0]']          \n",
            " ormalization)                  0)                                                                \n",
            "                                                                                                  \n",
            " activation_15 (Activation)     (None, 128, 128, 16  0           ['batch_normalization_24[0][0]'] \n",
            "                                0)                                                                \n",
            "                                                                                                  \n",
            " conv2d_26 (Conv2D)             (None, 128, 128, 64  10304       ['activation_15[0][0]']          \n",
            "                                )                                                                 \n",
            "                                                                                                  \n",
            " batch_normalization_25 (BatchN  (None, 128, 128, 64  256        ['conv2d_26[0][0]']              \n",
            " ormalization)                  )                                                                 \n",
            "                                                                                                  \n",
            " activation_16 (Activation)     (None, 128, 128, 64  0           ['batch_normalization_25[0][0]'] \n",
            "                                )                                                                 \n",
            "                                                                                                  \n",
            " conv2d_28 (Conv2D)             (None, 128, 128, 64  10304       ['concatenate_1[0][0]']          \n",
            "                                )                                                                 \n",
            "                                                                                                  \n",
            " conv2d_27 (Conv2D)             (None, 128, 128, 64  36928       ['activation_16[0][0]']          \n",
            "                                )                                                                 \n",
            "                                                                                                  \n",
            " batch_normalization_26 (BatchN  (None, 128, 128, 64  256        ['conv2d_28[0][0]']              \n",
            " ormalization)                  )                                                                 \n",
            "                                                                                                  \n",
            " add_8 (Add)                    (None, 128, 128, 64  0           ['conv2d_27[0][0]',              \n",
            "                                )                                 'batch_normalization_26[0][0]'] \n",
            "                                                                                                  \n",
            " global_average_pooling2d_5 (Gl  (None, 64)          0           ['add_8[0][0]']                  \n",
            " obalAveragePooling2D)                                                                            \n",
            "                                                                                                  \n",
            " reshape_5 (Reshape)            (None, 1, 1, 64)     0           ['global_average_pooling2d_5[0][0\n",
            "                                                                 ]']                              \n",
            "                                                                                                  \n",
            " dense_10 (Dense)               (None, 1, 1, 8)      512         ['reshape_5[0][0]']              \n",
            "                                                                                                  \n",
            " dense_11 (Dense)               (None, 1, 1, 64)     512         ['dense_10[0][0]']               \n",
            "                                                                                                  \n",
            " batch_normalization_27 (BatchN  (None, 256, 256, 16  64         ['multiply[0][0]']               \n",
            " ormalization)                  )                                                                 \n",
            "                                                                                                  \n",
            " multiply_7 (Multiply)          (None, 128, 128, 64  0           ['add_8[0][0]',                  \n",
            "                                )                                 'dense_11[0][0]']               \n",
            "                                                                                                  \n",
            " activation_17 (Activation)     (None, 256, 256, 16  0           ['batch_normalization_27[0][0]'] \n",
            "                                )                                                                 \n",
            "                                                                                                  \n",
            " batch_normalization_28 (BatchN  (None, 128, 128, 64  256        ['multiply_7[0][0]']             \n",
            " ormalization)                  )                                                                 \n",
            "                                                                                                  \n",
            " conv2d_29 (Conv2D)             (None, 256, 256, 64  1088        ['activation_17[0][0]']          \n",
            "                                )                                                                 \n",
            "                                                                                                  \n",
            " activation_18 (Activation)     (None, 128, 128, 64  0           ['batch_normalization_28[0][0]'] \n",
            "                                )                                                                 \n",
            "                                                                                                  \n",
            " max_pooling2d_2 (MaxPooling2D)  (None, 128, 128, 64  0          ['conv2d_29[0][0]']              \n",
            "                                )                                                                 \n",
            "                                                                                                  \n",
            " conv2d_30 (Conv2D)             (None, 128, 128, 64  4160        ['activation_18[0][0]']          \n",
            "                                )                                                                 \n",
            "                                                                                                  \n",
            " add_9 (Add)                    (None, 128, 128, 64  0           ['max_pooling2d_2[0][0]',        \n",
            "                                )                                 'conv2d_30[0][0]']              \n",
            "                                                                                                  \n",
            " batch_normalization_29 (BatchN  (None, 128, 128, 64  256        ['add_9[0][0]']                  \n",
            " ormalization)                  )                                                                 \n",
            "                                                                                                  \n",
            " activation_19 (Activation)     (None, 128, 128, 64  0           ['batch_normalization_29[0][0]'] \n",
            "                                )                                                                 \n",
            "                                                                                                  \n",
            " conv2d_31 (Conv2D)             (None, 128, 128, 64  4160        ['activation_19[0][0]']          \n",
            "                                )                                                                 \n",
            "                                                                                                  \n",
            " multiply_8 (Multiply)          (None, 128, 128, 64  0           ['conv2d_31[0][0]',              \n",
            "                                )                                 'multiply_7[0][0]']             \n",
            "                                                                                                  \n",
            " up_sampling2d_2 (UpSampling2D)  (None, 256, 256, 64  0          ['multiply_8[0][0]']             \n",
            "                                )                                                                 \n",
            "                                                                                                  \n",
            " concatenate_2 (Concatenate)    (None, 256, 256, 80  0           ['up_sampling2d_2[0][0]',        \n",
            "                                )                                 'multiply[0][0]']               \n",
            "                                                                                                  \n",
            " batch_normalization_30 (BatchN  (None, 256, 256, 80  320        ['concatenate_2[0][0]']          \n",
            " ormalization)                  )                                                                 \n",
            "                                                                                                  \n",
            " activation_20 (Activation)     (None, 256, 256, 80  0           ['batch_normalization_30[0][0]'] \n",
            "                                )                                                                 \n",
            "                                                                                                  \n",
            " conv2d_32 (Conv2D)             (None, 256, 256, 32  2592        ['activation_20[0][0]']          \n",
            "                                )                                                                 \n",
            "                                                                                                  \n",
            " batch_normalization_31 (BatchN  (None, 256, 256, 32  128        ['conv2d_32[0][0]']              \n",
            " ormalization)                  )                                                                 \n",
            "                                                                                                  \n",
            " activation_21 (Activation)     (None, 256, 256, 32  0           ['batch_normalization_31[0][0]'] \n",
            "                                )                                                                 \n",
            "                                                                                                  \n",
            " conv2d_34 (Conv2D)             (None, 256, 256, 32  2592        ['concatenate_2[0][0]']          \n",
            "                                )                                                                 \n",
            "                                                                                                  \n",
            " conv2d_33 (Conv2D)             (None, 256, 256, 32  9248        ['activation_21[0][0]']          \n",
            "                                )                                                                 \n",
            "                                                                                                  \n",
            " batch_normalization_32 (BatchN  (None, 256, 256, 32  128        ['conv2d_34[0][0]']              \n",
            " ormalization)                  )                                                                 \n",
            "                                                                                                  \n",
            " add_10 (Add)                   (None, 256, 256, 32  0           ['conv2d_33[0][0]',              \n",
            "                                )                                 'batch_normalization_32[0][0]'] \n",
            "                                                                                                  \n",
            " global_average_pooling2d_6 (Gl  (None, 32)          0           ['add_10[0][0]']                 \n",
            " obalAveragePooling2D)                                                                            \n",
            "                                                                                                  \n",
            " reshape_6 (Reshape)            (None, 1, 1, 32)     0           ['global_average_pooling2d_6[0][0\n",
            "                                                                 ]']                              \n",
            "                                                                                                  \n",
            " dense_12 (Dense)               (None, 1, 1, 4)      128         ['reshape_6[0][0]']              \n",
            "                                                                                                  \n",
            " dense_13 (Dense)               (None, 1, 1, 32)     128         ['dense_12[0][0]']               \n",
            "                                                                                                  \n",
            " multiply_9 (Multiply)          (None, 256, 256, 32  0           ['add_10[0][0]',                 \n",
            "                                )                                 'dense_13[0][0]']               \n",
            "                                                                                                  \n",
            " conv2d_35 (Conv2D)             (None, 256, 256, 16  528         ['multiply_9[0][0]']             \n",
            "                                )                                                                 \n",
            "                                                                                                  \n",
            " conv2d_36 (Conv2D)             (None, 256, 256, 16  528         ['multiply_9[0][0]']             \n",
            "                                )                                                                 \n",
            "                                                                                                  \n",
            " conv2d_37 (Conv2D)             (None, 256, 256, 16  4624        ['multiply_9[0][0]']             \n",
            "                                )                                                                 \n",
            "                                                                                                  \n",
            " conv2d_38 (Conv2D)             (None, 256, 256, 16  528         ['multiply_9[0][0]']             \n",
            "                                )                                                                 \n",
            "                                                                                                  \n",
            " batch_normalization_33 (BatchN  (None, 256, 256, 16  64         ['conv2d_35[0][0]']              \n",
            " ormalization)                  )                                                                 \n",
            "                                                                                                  \n",
            " batch_normalization_34 (BatchN  (None, 256, 256, 16  64         ['conv2d_36[0][0]']              \n",
            " ormalization)                  )                                                                 \n",
            "                                                                                                  \n",
            " batch_normalization_35 (BatchN  (None, 256, 256, 16  64         ['conv2d_37[0][0]']              \n",
            " ormalization)                  )                                                                 \n",
            "                                                                                                  \n",
            " batch_normalization_36 (BatchN  (None, 256, 256, 16  64         ['conv2d_38[0][0]']              \n",
            " ormalization)                  )                                                                 \n",
            "                                                                                                  \n",
            " add_11 (Add)                   (None, 256, 256, 16  0           ['batch_normalization_33[0][0]', \n",
            "                                )                                 'batch_normalization_34[0][0]', \n",
            "                                                                  'batch_normalization_35[0][0]', \n",
            "                                                                  'batch_normalization_36[0][0]'] \n",
            "                                                                                                  \n",
            " conv2d_39 (Conv2D)             (None, 256, 256, 16  272         ['add_11[0][0]']                 \n",
            "                                )                                                                 \n",
            "                                                                                                  \n",
            " conv2d_40 (Conv2D)             (None, 256, 256, 3)  51          ['conv2d_39[0][0]']              \n",
            "                                                                                                  \n",
            " activation_22 (Activation)     (None, 256, 256, 3)  0           ['conv2d_40[0][0]']              \n",
            "                                                                                                  \n",
            "==================================================================================================\n",
            "Total params: 1,207,315\n",
            "Trainable params: 1,199,923\n",
            "Non-trainable params: 7,392\n",
            "__________________________________________________________________________________________________\n"
          ]
        }
      ]
    },
    {
      "cell_type": "code",
      "source": [
        "history= model.fit(train_data, epochs = 200,\n",
        "                  initial_epoch=25,\n",
        "                  validation_data = val_data,\n",
        "                  callbacks=[history_logger, checkpointer, reduce_lr, early_stopping]\n",
        "                 )"
      ],
      "metadata": {
        "colab": {
          "base_uri": "https://localhost:8080/"
        },
        "id": "T1qQ9mjrt_DG",
        "outputId": "0d94c27a-da51-4129-8c31-6152dd866dfa"
      },
      "execution_count": null,
      "outputs": [
        {
          "output_type": "stream",
          "name": "stderr",
          "text": [
            "/usr/local/lib/python3.7/dist-packages/ipykernel_launcher.py:44: RuntimeWarning: invalid value encountered in true_divide\n"
          ]
        },
        {
          "output_type": "stream",
          "name": "stdout",
          "text": [
            "Epoch 26/200\n",
            "391/391 [==============================] - ETA: 0s - loss: -0.4534 - recall: 0.4577 - precision: 0.4704 - dice_coef: 0.4534 - mean_io_u: 0.6502\n",
            "Epoch 26: val_loss improved from inf to -0.35194, saving model to /content/drive/MyDrive/Res-U-Net++/res-unet++.h5\n",
            "391/391 [==============================] - 537s 1s/step - loss: -0.4534 - recall: 0.4577 - precision: 0.4704 - dice_coef: 0.4534 - mean_io_u: 0.6502 - val_loss: -0.3519 - val_recall: 0.5821 - val_precision: 0.3013 - val_dice_coef: 0.3519 - val_mean_io_u: 0.6280 - lr: 0.1000\n",
            "Epoch 27/200\n",
            "391/391 [==============================] - ETA: 0s - loss: -0.4485 - recall: 0.4640 - precision: 0.4651 - dice_coef: 0.4485 - mean_io_u: 0.6505\n",
            "Epoch 27: val_loss did not improve from -0.35194\n",
            "391/391 [==============================] - 507s 1s/step - loss: -0.4485 - recall: 0.4640 - precision: 0.4651 - dice_coef: 0.4485 - mean_io_u: 0.6505 - val_loss: -0.1754 - val_recall: 0.0603 - val_precision: 0.8602 - val_dice_coef: 0.1754 - val_mean_io_u: 0.5267 - lr: 0.1000\n",
            "Epoch 28/200\n",
            "391/391 [==============================] - ETA: 0s - loss: -0.4440 - recall: 0.4485 - precision: 0.4684 - dice_coef: 0.4440 - mean_io_u: 0.6479\n",
            "Epoch 28: val_loss improved from -0.35194 to -0.38312, saving model to /content/drive/MyDrive/Res-U-Net++/res-unet++.h5\n",
            "391/391 [==============================] - 510s 1s/step - loss: -0.4440 - recall: 0.4485 - precision: 0.4684 - dice_coef: 0.4440 - mean_io_u: 0.6479 - val_loss: -0.3831 - val_recall: 0.5334 - val_precision: 0.3373 - val_dice_coef: 0.3831 - val_mean_io_u: 0.6345 - lr: 0.1000\n",
            "Epoch 29/200\n",
            "391/391 [==============================] - ETA: 0s - loss: -0.4407 - recall: 0.4182 - precision: 0.4766 - dice_coef: 0.4407 - mean_io_u: 0.6424\n",
            "Epoch 29: val_loss did not improve from -0.38312\n",
            "391/391 [==============================] - 509s 1s/step - loss: -0.4407 - recall: 0.4182 - precision: 0.4766 - dice_coef: 0.4407 - mean_io_u: 0.6424 - val_loss: -0.0807 - val_recall: 0.6645 - val_precision: 0.0413 - val_dice_coef: 0.0807 - val_mean_io_u: 0.5172 - lr: 0.1000\n",
            "Epoch 30/200\n",
            "391/391 [==============================] - ETA: 0s - loss: -0.4272 - recall: 0.4430 - precision: 0.4024 - dice_coef: 0.4272 - mean_io_u: 0.6337\n",
            "Epoch 30: val_loss did not improve from -0.38312\n",
            "391/391 [==============================] - 509s 1s/step - loss: -0.4272 - recall: 0.4430 - precision: 0.4024 - dice_coef: 0.4272 - mean_io_u: 0.6337 - val_loss: -0.2396 - val_recall: 0.1309 - val_precision: 0.7857 - val_dice_coef: 0.2396 - val_mean_io_u: 0.5591 - lr: 0.1000\n",
            "Epoch 31/200\n",
            "391/391 [==============================] - ETA: 0s - loss: -0.4336 - recall: 0.4390 - precision: 0.4504 - dice_coef: 0.4336 - mean_io_u: 0.6424\n",
            "Epoch 31: val_loss did not improve from -0.38312\n",
            "391/391 [==============================] - 507s 1s/step - loss: -0.4336 - recall: 0.4390 - precision: 0.4504 - dice_coef: 0.4336 - mean_io_u: 0.6424 - val_loss: -0.2202 - val_recall: 0.5230 - val_precision: 0.1154 - val_dice_coef: 0.2202 - val_mean_io_u: 0.5563 - lr: 0.1000\n",
            "Epoch 32/200\n",
            "391/391 [==============================] - ETA: 0s - loss: -0.4241 - recall: 0.4366 - precision: 0.4264 - dice_coef: 0.4241 - mean_io_u: 0.6373\n",
            "Epoch 32: val_loss improved from -0.38312 to -0.43957, saving model to /content/drive/MyDrive/Res-U-Net++/res-unet++.h5\n",
            "391/391 [==============================] - 509s 1s/step - loss: -0.4241 - recall: 0.4366 - precision: 0.4264 - dice_coef: 0.4241 - mean_io_u: 0.6373 - val_loss: -0.4396 - val_recall: 0.3813 - val_precision: 0.6296 - val_dice_coef: 0.4396 - val_mean_io_u: 0.6505 - lr: 0.1000\n",
            "Epoch 33/200\n",
            "391/391 [==============================] - ETA: 0s - loss: -0.4440 - recall: 0.4653 - precision: 0.4504 - dice_coef: 0.4440 - mean_io_u: 0.6479\n",
            "Epoch 33: val_loss did not improve from -0.43957\n",
            "391/391 [==============================] - 507s 1s/step - loss: -0.4440 - recall: 0.4653 - precision: 0.4504 - dice_coef: 0.4440 - mean_io_u: 0.6479 - val_loss: -0.4192 - val_recall: 0.4908 - val_precision: 0.4671 - val_dice_coef: 0.4192 - val_mean_io_u: 0.6606 - lr: 0.1000\n",
            "Epoch 34/200\n",
            "391/391 [==============================] - ETA: 0s - loss: -0.4595 - recall: 0.4488 - precision: 0.4872 - dice_coef: 0.4595 - mean_io_u: 0.6515\n",
            "Epoch 34: val_loss did not improve from -0.43957\n",
            "391/391 [==============================] - 510s 1s/step - loss: -0.4595 - recall: 0.4488 - precision: 0.4872 - dice_coef: 0.4595 - mean_io_u: 0.6515 - val_loss: -0.3583 - val_recall: 0.3928 - val_precision: 0.4312 - val_dice_coef: 0.3583 - val_mean_io_u: 0.6346 - lr: 0.1000\n",
            "Epoch 35/200\n",
            "391/391 [==============================] - ETA: 0s - loss: -0.4553 - recall: 0.4641 - precision: 0.4977 - dice_coef: 0.4553 - mean_io_u: 0.6573\n",
            "Epoch 35: val_loss did not improve from -0.43957\n",
            "391/391 [==============================] - 510s 1s/step - loss: -0.4553 - recall: 0.4641 - precision: 0.4977 - dice_coef: 0.4553 - mean_io_u: 0.6573 - val_loss: -0.4078 - val_recall: 0.3538 - val_precision: 0.7147 - val_dice_coef: 0.4078 - val_mean_io_u: 0.6511 - lr: 0.1000\n",
            "Epoch 36/200\n",
            "391/391 [==============================] - ETA: 0s - loss: -0.4852 - recall: 0.4785 - precision: 0.5227 - dice_coef: 0.4852 - mean_io_u: 0.6657\n",
            "Epoch 36: val_loss improved from -0.43957 to -0.46038, saving model to /content/drive/MyDrive/Res-U-Net++/res-unet++.h5\n",
            "391/391 [==============================] - 512s 1s/step - loss: -0.4852 - recall: 0.4785 - precision: 0.5227 - dice_coef: 0.4852 - mean_io_u: 0.6657 - val_loss: -0.4604 - val_recall: 0.4742 - val_precision: 0.5308 - val_dice_coef: 0.4604 - val_mean_io_u: 0.6701 - lr: 0.1000\n",
            "Epoch 37/200\n",
            "391/391 [==============================] - ETA: 0s - loss: -0.4530 - recall: 0.4651 - precision: 0.4721 - dice_coef: 0.4530 - mean_io_u: 0.6526\n",
            "Epoch 37: val_loss did not improve from -0.46038\n",
            "391/391 [==============================] - 509s 1s/step - loss: -0.4530 - recall: 0.4651 - precision: 0.4721 - dice_coef: 0.4530 - mean_io_u: 0.6526 - val_loss: -0.2380 - val_recall: 0.1768 - val_precision: 0.2490 - val_dice_coef: 0.2380 - val_mean_io_u: 0.5596 - lr: 0.1000\n",
            "Epoch 38/200\n",
            "391/391 [==============================] - ETA: 0s - loss: -0.3784 - recall: 0.3680 - precision: 0.3658 - dice_coef: 0.3784 - mean_io_u: 0.6125\n",
            "Epoch 38: val_loss did not improve from -0.46038\n",
            "391/391 [==============================] - 509s 1s/step - loss: -0.3784 - recall: 0.3680 - precision: 0.3658 - dice_coef: 0.3784 - mean_io_u: 0.6125 - val_loss: -0.4082 - val_recall: 0.3586 - val_precision: 0.5299 - val_dice_coef: 0.4082 - val_mean_io_u: 0.6371 - lr: 0.1000\n",
            "Epoch 39/200\n",
            "391/391 [==============================] - ETA: 0s - loss: -0.4018 - recall: 0.3996 - precision: 0.4366 - dice_coef: 0.4018 - mean_io_u: 0.6313\n",
            "Epoch 39: val_loss did not improve from -0.46038\n",
            "391/391 [==============================] - 508s 1s/step - loss: -0.4018 - recall: 0.3996 - precision: 0.4366 - dice_coef: 0.4018 - mean_io_u: 0.6313 - val_loss: -0.4092 - val_recall: 0.4240 - val_precision: 0.4657 - val_dice_coef: 0.4092 - val_mean_io_u: 0.6428 - lr: 0.1000\n",
            "Epoch 40/200\n",
            "391/391 [==============================] - ETA: 0s - loss: -0.4281 - recall: 0.4149 - precision: 0.4572 - dice_coef: 0.4281 - mean_io_u: 0.6384\n",
            "Epoch 40: val_loss did not improve from -0.46038\n",
            "391/391 [==============================] - 508s 1s/step - loss: -0.4281 - recall: 0.4149 - precision: 0.4572 - dice_coef: 0.4281 - mean_io_u: 0.6384 - val_loss: -0.3340 - val_recall: 0.2420 - val_precision: 0.7979 - val_dice_coef: 0.3340 - val_mean_io_u: 0.6113 - lr: 0.1000\n",
            "Epoch 41/200\n",
            "267/391 [===================>..........] - ETA: 2:36 - loss: -0.4306 - recall: 0.4291 - precision: 0.4636 - dice_coef: 0.4306 - mean_io_u: 0.6433"
          ]
        }
      ]
    },
    {
      "cell_type": "code",
      "source": [
        ""
      ],
      "metadata": {
        "id": "1AdSGHq197eb"
      },
      "execution_count": null,
      "outputs": []
    },
    {
      "cell_type": "code",
      "source": [
        "class Savefiles(keras.callbacks.Callback):\n",
        "  def on_epoch_end(self, epoch, logs={}):\n",
        "      self.model.save_weights(\"Resunet++-seg-model.h5\")\n",
        "      model_json=self.model.to_json()\n",
        "      with open(\"Resunet++-seg-model.json\", \"w\") as json_file:\n",
        "        json_file.write(model_json)\n",
        "      !cp Resunet++-seg-model.json /content/drive/MyDrive/ResUnet50-keras\n",
        "      !cp Resunet++-seg-model.h5 /content/drive/MyDrive/ResUnet50-keras\n",
        "      !cp history.csv /content/drive/MyDrive/ResUnet50-keras  \n",
        "save_files=Savefiles()     "
      ],
      "metadata": {
        "id": "NjbIMVegvVVo"
      },
      "execution_count": null,
      "outputs": []
    }
  ]
}