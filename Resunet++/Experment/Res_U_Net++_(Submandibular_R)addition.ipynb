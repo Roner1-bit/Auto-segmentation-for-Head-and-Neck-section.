{
  "nbformat": 4,
  "nbformat_minor": 0,
  "metadata": {
    "colab": {
      "name": "Res-U-Net++ (Submandibular_R)addition.ipynb",
      "provenance": [],
      "collapsed_sections": []
    },
    "kernelspec": {
      "name": "python3",
      "display_name": "Python 3"
    },
    "language_info": {
      "name": "python"
    },
    "accelerator": "GPU"
  },
  "cells": [
    {
      "cell_type": "code",
      "source": [
        "!pip install pynrrd"
      ],
      "metadata": {
        "colab": {
          "base_uri": "https://localhost:8080/"
        },
        "id": "R73Lvs1vxbjh",
        "outputId": "c32cb85e-9cbd-4c57-f08e-f07a71354e7a"
      },
      "execution_count": null,
      "outputs": [
        {
          "output_type": "stream",
          "name": "stdout",
          "text": [
            "Collecting pynrrd\n",
            "  Downloading pynrrd-0.4.2-py2.py3-none-any.whl (18 kB)\n",
            "Requirement already satisfied: numpy>=1.11.1 in /usr/local/lib/python3.7/dist-packages (from pynrrd) (1.21.5)\n",
            "Installing collected packages: pynrrd\n",
            "Successfully installed pynrrd-0.4.2\n"
          ]
        }
      ]
    },
    {
      "cell_type": "code",
      "source": [
        "!pip install patchify"
      ],
      "metadata": {
        "colab": {
          "base_uri": "https://localhost:8080/"
        },
        "id": "-F2V0Ax0xdsV",
        "outputId": "15303eca-fae5-4016-cda9-d932c4c8608e"
      },
      "execution_count": null,
      "outputs": [
        {
          "output_type": "stream",
          "name": "stdout",
          "text": [
            "Collecting patchify\n",
            "  Downloading patchify-0.2.3-py3-none-any.whl (6.6 kB)\n",
            "Requirement already satisfied: numpy<2,>=1 in /usr/local/lib/python3.7/dist-packages (from patchify) (1.21.5)\n",
            "Installing collected packages: patchify\n",
            "Successfully installed patchify-0.2.3\n"
          ]
        }
      ]
    },
    {
      "cell_type": "code",
      "execution_count": null,
      "metadata": {
        "id": "jL4s2yd_DE2Y"
      },
      "outputs": [],
      "source": [
        "import os\n",
        "import numpy as np\n",
        "import cv2\n",
        "from glob import glob\n",
        "import numpy as np\n",
        "import pandas as pd\n",
        "import tensorflow as tf\n",
        "from keras.layers import *\n",
        "from keras.models import Model\n",
        "from tensorflow.keras.callbacks import ReduceLROnPlateau, EarlyStopping, ModelCheckpoint, LearningRateScheduler\n",
        "import os\n",
        "import nrrd\n",
        "import matplotlib.pyplot as plt\n",
        "from patchify import patchify, unpatchify"
      ]
    },
    {
      "cell_type": "code",
      "source": [
        "from tensorflow.keras.metrics import Precision, Recall, MeanIoU\n",
        "from tensorflow.keras.optimizers import Adam, Nadam, SGD\n",
        "from tensorflow.keras.models import Model, load_model, save_model\n",
        "from tensorflow.keras.layers import Input, Activation, BatchNormalization, Dropout, Lambda, Conv2D, Conv2DTranspose, MaxPooling2D, concatenate, AveragePooling2D, Dense, Flatten\n",
        "from tensorflow.keras.optimizers import Adam\n",
        "from tensorflow.keras import backend as K\n",
        "from sklearn.model_selection import train_test_split\n",
        "from skimage import io\n",
        "import tensorflow.keras.backend as K"
      ],
      "metadata": {
        "id": "yuABVWt1F9JD"
      },
      "execution_count": null,
      "outputs": []
    },
    {
      "cell_type": "code",
      "source": [
        "from google.colab import drive\n",
        "drive.mount('/content/drive')"
      ],
      "metadata": {
        "colab": {
          "base_uri": "https://localhost:8080/"
        },
        "id": "HVezKxcRsLmS",
        "outputId": "3812e7d9-f4da-4d3f-975b-440d2d486fff"
      },
      "execution_count": null,
      "outputs": [
        {
          "output_type": "stream",
          "name": "stdout",
          "text": [
            "Mounted at /content/drive\n"
          ]
        }
      ]
    },
    {
      "cell_type": "code",
      "source": [
        "def dice_coef(y_true, y_pred):\n",
        "    smooth=100\n",
        "    y_true = tf.cast(y_true, tf.float32)\n",
        "    y_truef=K.flatten(y_true)\n",
        "    y_predf=K.flatten(y_pred)\n",
        "    And=K.sum(y_truef* y_predf)\n",
        "    return((2* And + smooth) / (K.sum(y_truef) + K.sum(y_predf) + smooth))\n",
        "\n",
        "def dice_coef_loss(y_true, y_pred):\n",
        "    return -dice_coef(y_true, y_pred)\n"
      ],
      "metadata": {
        "id": "e4c95b61Rs6v"
      },
      "execution_count": null,
      "outputs": []
    },
    {
      "cell_type": "code",
      "source": [
        "def squeeze_excite_block(inputs, ratio=16):\n",
        "    init = inputs\n",
        "    channel_axis = -1\n",
        "    filters = init.shape[channel_axis]\n",
        "    se_shape = (1, 1, filters)\n",
        "\n",
        "    se = GlobalAveragePooling2D()(init)\n",
        "    se = Reshape(se_shape)(se)\n",
        "    se = Dense(filters // ratio, activation='relu', kernel_initializer='he_normal', use_bias=False)(se)\n",
        "    se = Dense(filters, activation='sigmoid', kernel_initializer='he_normal', use_bias=False)(se)\n",
        "\n",
        "    x = Multiply()([init, se])\n",
        "    return x\n"
      ],
      "metadata": {
        "id": "yh-13HdsDmAc"
      },
      "execution_count": null,
      "outputs": []
    },
    {
      "cell_type": "code",
      "source": [
        "def stem_block(x, n_filter, strides):\n",
        "    x_init = x\n",
        "\n",
        "    ## Conv 1\n",
        "    x = Conv2D(n_filter, (3, 3), padding=\"same\", strides=strides)(x)\n",
        "    x = BatchNormalization()(x)\n",
        "    x = Activation(\"relu\")(x)\n",
        "    x = Conv2D(n_filter, (3, 3), padding=\"same\")(x)\n",
        "\n",
        "    ## Shortcut\n",
        "    s  = Conv2D(n_filter, (1, 1), padding=\"same\", strides=strides)(x_init)\n",
        "    s = BatchNormalization()(s)\n",
        "\n",
        "    ## Add\n",
        "    x = Add()([x, s])\n",
        "    x = squeeze_excite_block(x)\n",
        "    return x"
      ],
      "metadata": {
        "id": "CwMacDPLDoEy"
      },
      "execution_count": null,
      "outputs": []
    },
    {
      "cell_type": "code",
      "source": [
        "def resnet_block(x, n_filter, strides=1):\n",
        "    x_init = x\n",
        "\n",
        "    ## Conv 1\n",
        "    x = BatchNormalization()(x)\n",
        "    x = Activation(\"relu\")(x)\n",
        "    x = Conv2D(n_filter, (1, 1), padding=\"same\", strides=strides)(x)\n",
        "    ## Conv 2\n",
        "    x = BatchNormalization()(x)\n",
        "    x = Activation(\"relu\")(x)\n",
        "    x = Conv2D(n_filter, (3, 3), padding=\"same\", strides=1)(x)\n",
        "\n",
        "    ## Shortcut\n",
        "    s  = Conv2D(n_filter, (1, 1), padding=\"same\", strides=strides)(x_init)\n",
        "    s = BatchNormalization()(s)\n",
        "\n",
        "    ## Add\n",
        "    x = Add()([x, s])\n",
        "    x = squeeze_excite_block(x)\n",
        "    return x"
      ],
      "metadata": {
        "id": "q05wy_yTDqWr"
      },
      "execution_count": null,
      "outputs": []
    },
    {
      "cell_type": "code",
      "source": [
        "def aspp_block(x, num_filters, rate_scale=1):\n",
        "    x1 = Conv2D(num_filters, (3, 3), dilation_rate=(6 * rate_scale, 6 * rate_scale), padding=\"same\")(x)\n",
        "    x1 = BatchNormalization()(x1)\n",
        "\n",
        "    x2 = Conv2D(num_filters, (1, 1), dilation_rate=(12 * rate_scale, 12 * rate_scale), padding=\"same\")(x)\n",
        "    x2 = BatchNormalization()(x2)\n",
        "\n",
        "    x3 = Conv2D(num_filters, (3, 3), dilation_rate=(18 * rate_scale, 18 * rate_scale), padding=\"same\")(x)\n",
        "    x3 = BatchNormalization()(x3)\n",
        "\n",
        "    x4 = Conv2D(num_filters, (1, 1), padding=\"same\")(x)\n",
        "    x4 = BatchNormalization()(x4)\n",
        "\n",
        "    y = Add()([x1, x2, x3, x4])\n",
        "    y = Conv2D(num_filters, (1, 1), padding=\"same\")(y)\n",
        "    return y"
      ],
      "metadata": {
        "id": "uQqExl1LDso5"
      },
      "execution_count": null,
      "outputs": []
    },
    {
      "cell_type": "code",
      "source": [
        "def attetion_block(g, x):\n",
        "    \"\"\"\n",
        "        g: Output of Parallel Encoder block\n",
        "        x: Output of Previous Decoder block\n",
        "    \"\"\"\n",
        "\n",
        "    filters = x.shape[-1]\n",
        "\n",
        "    g_conv = BatchNormalization()(g)\n",
        "    g_conv = Activation(\"relu\")(g_conv)\n",
        "    g_conv = Conv2D(filters, (1, 1), padding=\"same\")(g_conv)\n",
        "\n",
        "    g_pool = MaxPooling2D(pool_size=(2, 2), strides=(2, 2))(g_conv)\n",
        "\n",
        "    x_conv = BatchNormalization()(x)\n",
        "    x_conv = Activation(\"relu\")(x_conv)\n",
        "    x_conv = Conv2D(filters, (1, 1), padding=\"same\")(x_conv)\n",
        "\n",
        "    gc_sum = Add()([g_pool, x_conv])\n",
        "\n",
        "    gc_conv = BatchNormalization()(gc_sum)\n",
        "    gc_conv = Activation(\"relu\")(gc_conv)\n",
        "    gc_conv = Conv2D(filters, (1, 1), padding=\"same\")(gc_conv)\n",
        "\n",
        "    gc_mul = Multiply()([gc_conv, x])\n",
        "    return gc_mul"
      ],
      "metadata": {
        "id": "IMoCF90CDugy"
      },
      "execution_count": null,
      "outputs": []
    },
    {
      "cell_type": "code",
      "source": [
        "class ResUnetPlusPlus:\n",
        "    def __init__(self, input_size=256):\n",
        "        self.input_size = input_size\n",
        "\n",
        "    def build_model(self):\n",
        "        n_filters = [16, 32, 64, 128, 256]\n",
        "        inputs = Input((self.input_size, self.input_size, 1))\n",
        "\n",
        "        c0 = inputs\n",
        "        c1 = stem_block(c0, n_filters[0], strides=1)\n",
        "\n",
        "        ## Encoder\n",
        "        c2 = resnet_block(c1, n_filters[1], strides=2)\n",
        "        c3 = resnet_block(c2, n_filters[2], strides=2)\n",
        "        c4 = resnet_block(c3, n_filters[3], strides=2)\n",
        "\n",
        "        ## Bridge\n",
        "        b1 = aspp_block(c4, n_filters[4])\n",
        "\n",
        "        ## Decoder\n",
        "        d1 = attetion_block(c3, b1)\n",
        "        d1 = UpSampling2D((2, 2))(d1)\n",
        "        d1 = Concatenate()([d1, c3])\n",
        "        d1 = resnet_block(d1, n_filters[3])\n",
        "\n",
        "        d2 = attetion_block(c2, d1)\n",
        "        d2 = UpSampling2D((2, 2))(d2)\n",
        "        d2 = Concatenate()([d2, c2])\n",
        "        d2 = resnet_block(d2, n_filters[2])\n",
        "\n",
        "        d3 = attetion_block(c1, d2)\n",
        "        d3 = UpSampling2D((2, 2))(d3)\n",
        "        d3 = Concatenate()([d3, c1])\n",
        "        d3 = resnet_block(d3, n_filters[1])\n",
        "\n",
        "        ## output\n",
        "        outputs = aspp_block(d3, n_filters[0])\n",
        "        outputs = Conv2D(1, (1, 1), padding=\"same\")(outputs)\n",
        "        outputs = Activation(\"sigmoid\")(outputs)\n",
        "        outputs = Reshape((256,256))(outputs)\n",
        "\n",
        "\n",
        "        ## Model\n",
        "        model = Model(inputs, outputs)\n",
        "        return model"
      ],
      "metadata": {
        "id": "iC89OqK6Dw_B"
      },
      "execution_count": null,
      "outputs": []
    },
    {
      "cell_type": "code",
      "source": [
        "!pip install -U --no-cache-dir gdown --pre"
      ],
      "metadata": {
        "colab": {
          "base_uri": "https://localhost:8080/"
        },
        "id": "3hnOFCbHNYg-",
        "outputId": "b7d3dcf9-674a-4c10-d032-d32c8a130d89"
      },
      "execution_count": null,
      "outputs": [
        {
          "output_type": "stream",
          "name": "stdout",
          "text": [
            "Requirement already satisfied: gdown in /usr/local/lib/python3.7/dist-packages (4.2.2)\n",
            "Collecting gdown\n",
            "  Downloading gdown-4.4.0.tar.gz (14 kB)\n",
            "  Installing build dependencies ... \u001b[?25l\u001b[?25hdone\n",
            "  Getting requirements to build wheel ... \u001b[?25l\u001b[?25hdone\n",
            "    Preparing wheel metadata ... \u001b[?25l\u001b[?25hdone\n",
            "Requirement already satisfied: requests[socks] in /usr/local/lib/python3.7/dist-packages (from gdown) (2.23.0)\n",
            "Requirement already satisfied: filelock in /usr/local/lib/python3.7/dist-packages (from gdown) (3.6.0)\n",
            "Requirement already satisfied: tqdm in /usr/local/lib/python3.7/dist-packages (from gdown) (4.63.0)\n",
            "Requirement already satisfied: six in /usr/local/lib/python3.7/dist-packages (from gdown) (1.15.0)\n",
            "Requirement already satisfied: beautifulsoup4 in /usr/local/lib/python3.7/dist-packages (from gdown) (4.6.3)\n",
            "Requirement already satisfied: idna<3,>=2.5 in /usr/local/lib/python3.7/dist-packages (from requests[socks]->gdown) (2.10)\n",
            "Requirement already satisfied: chardet<4,>=3.0.2 in /usr/local/lib/python3.7/dist-packages (from requests[socks]->gdown) (3.0.4)\n",
            "Requirement already satisfied: certifi>=2017.4.17 in /usr/local/lib/python3.7/dist-packages (from requests[socks]->gdown) (2021.10.8)\n",
            "Requirement already satisfied: urllib3!=1.25.0,!=1.25.1,<1.26,>=1.21.1 in /usr/local/lib/python3.7/dist-packages (from requests[socks]->gdown) (1.24.3)\n",
            "Requirement already satisfied: PySocks!=1.5.7,>=1.5.6 in /usr/local/lib/python3.7/dist-packages (from requests[socks]->gdown) (1.7.1)\n",
            "Building wheels for collected packages: gdown\n",
            "  Building wheel for gdown (PEP 517) ... \u001b[?25l\u001b[?25hdone\n",
            "  Created wheel for gdown: filename=gdown-4.4.0-py3-none-any.whl size=14774 sha256=b13fd3756d1bfaf16920207995021542be061f88e2b502c7c30fcce91bfe4abb\n",
            "  Stored in directory: /tmp/pip-ephem-wheel-cache-ma4196e9/wheels/fb/c3/0e/c4d8ff8bfcb0461afff199471449f642179b74968c15b7a69c\n",
            "Successfully built gdown\n",
            "Installing collected packages: gdown\n",
            "  Attempting uninstall: gdown\n",
            "    Found existing installation: gdown 4.2.2\n",
            "    Uninstalling gdown-4.2.2:\n",
            "      Successfully uninstalled gdown-4.2.2\n",
            "Successfully installed gdown-4.4.0\n"
          ]
        }
      ]
    },
    {
      "cell_type": "code",
      "source": [
        "!gdown --id 1EZV7C_uQNUuNUBWpBeTpFMHxHp2W7FjH\n",
        "!gdown --id 1kHTH1XCAw6Xoq-IxjQWK3UkP4w0Kdh2q\n",
        "!gdown --id 18NhRXI-MktVHlE-CF379e0OhQWp23YL9"
      ],
      "metadata": {
        "colab": {
          "base_uri": "https://localhost:8080/"
        },
        "id": "1pFsvDi3yVx0",
        "outputId": "f6433cc0-0faf-4596-a635-70c22b3e6e13"
      },
      "execution_count": null,
      "outputs": [
        {
          "output_type": "stream",
          "name": "stdout",
          "text": [
            "/usr/local/lib/python3.7/dist-packages/gdown/cli.py:131: FutureWarning: Option `--id` was deprecated in version 4.3.1 and will be removed in 5.0. You don't need to pass it anymore to use a file ID.\n",
            "  category=FutureWarning,\n",
            "Downloading...\n",
            "From: https://drive.google.com/uc?id=1EZV7C_uQNUuNUBWpBeTpFMHxHp2W7FjH\n",
            "To: /content/PDDCA-1.4.1_part1.zip\n",
            "100% 510M/510M [00:03<00:00, 156MB/s]\n",
            "/usr/local/lib/python3.7/dist-packages/gdown/cli.py:131: FutureWarning: Option `--id` was deprecated in version 4.3.1 and will be removed in 5.0. You don't need to pass it anymore to use a file ID.\n",
            "  category=FutureWarning,\n",
            "Downloading...\n",
            "From: https://drive.google.com/uc?id=1kHTH1XCAw6Xoq-IxjQWK3UkP4w0Kdh2q\n",
            "To: /content/PDDCA-1.4.1_part2.zip\n",
            "100% 593M/593M [00:05<00:00, 118MB/s] \n",
            "/usr/local/lib/python3.7/dist-packages/gdown/cli.py:131: FutureWarning: Option `--id` was deprecated in version 4.3.1 and will be removed in 5.0. You don't need to pass it anymore to use a file ID.\n",
            "  category=FutureWarning,\n",
            "Downloading...\n",
            "From: https://drive.google.com/uc?id=18NhRXI-MktVHlE-CF379e0OhQWp23YL9\n",
            "To: /content/PDDCA-1.4.1_part3.zip\n",
            "100% 522M/522M [00:04<00:00, 107MB/s]\n"
          ]
        }
      ]
    },
    {
      "cell_type": "code",
      "source": [
        "from zipfile import ZipFile\n",
        "\n",
        "zip_1=\"/content/PDDCA-1.4.1_part1.zip\"\n",
        "zip_2=\"/content/PDDCA-1.4.1_part2.zip\"\n",
        "zip_3=\"/content/PDDCA-1.4.1_part3.zip\"\n",
        "\n",
        "#os.mkdir('data') \n",
        "\n",
        "with ZipFile(zip_1, 'r') as ziip:\n",
        "  ziip.extractall(\"/content/data\")\n",
        "  print('woow_1')\n",
        "  \n",
        "with ZipFile(zip_2, 'r') as ziip:\n",
        "  ziip.extractall(\"/content/data\")\n",
        "  print('woow_1')\n",
        "  \n",
        "with ZipFile(zip_3, 'r') as ziip:\n",
        "  ziip.extractall(\"/content/data\")\n",
        "  print('woow_1')"
      ],
      "metadata": {
        "colab": {
          "base_uri": "https://localhost:8080/"
        },
        "id": "66Yb7VvnOf6x",
        "outputId": "ec276a82-bb38-440d-b4e3-c791a36a39ee"
      },
      "execution_count": null,
      "outputs": [
        {
          "output_type": "stream",
          "name": "stdout",
          "text": [
            "woow_1\n",
            "woow_1\n",
            "woow_1\n"
          ]
        }
      ]
    },
    {
      "cell_type": "code",
      "source": [
        "nrrd.reader.ALLOW_DUPLICATE_FIELD = True\n",
        "numbers_for_photos=[]\n",
        "CT_imgs=[]\n",
        "submandibular_R_masks=[]"
      ],
      "metadata": {
        "id": "4ItxUdgmOqlW"
      },
      "execution_count": null,
      "outputs": []
    },
    {
      "cell_type": "code",
      "source": [
        "Submandibular_R_paths=glob('/content/data/*/structures/Submandibular_R.nrrd')\n",
        "CT_paths=glob('/content/data/*/img.nrrd')   "
      ],
      "metadata": {
        "id": "Lk74-1VfPRSu"
      },
      "execution_count": null,
      "outputs": []
    },
    {
      "cell_type": "code",
      "source": [
        "founded_path=[]\n",
        "for i in range(len(CT_paths)):\n",
        "  for j in range(len(Submandibular_R_paths)):\n",
        "    if(CT_paths[i].split('/')[3]==Submandibular_R_paths[j].split('/')[3]):\n",
        "      founded_path.append(CT_paths[i])"
      ],
      "metadata": {
        "id": "B6ZCS6QTyix4"
      },
      "execution_count": null,
      "outputs": []
    },
    {
      "cell_type": "code",
      "source": [
        "len(founded_path)"
      ],
      "metadata": {
        "colab": {
          "base_uri": "https://localhost:8080/"
        },
        "id": "jjdYNVSjyoxO",
        "outputId": "0f84e499-36ff-4169-eab0-46710a929d89"
      },
      "execution_count": null,
      "outputs": [
        {
          "output_type": "execute_result",
          "data": {
            "text/plain": [
              "36"
            ]
          },
          "metadata": {},
          "execution_count": 19
        }
      ]
    },
    {
      "cell_type": "code",
      "source": [
        "counter=0\n",
        "for i in founded_path:\n",
        "    filedata, fileheader = nrrd.read(i)\n",
        "    \n",
        "    for j in range(0,filedata.shape[2]):            #as numbers of files change for each folder\n",
        "        try:\n",
        "          counter+=1\n",
        "          CT_imgs.append(filedata[:,:,j])\n",
        "\n",
        "        except:\n",
        "          print(counter)\n",
        "          print(i)\n",
        "          print(j)\n",
        "\n",
        "    j=0\n",
        "    counter+=1\n",
        "      "
      ],
      "metadata": {
        "id": "WqO3D_hvyrgr"
      },
      "execution_count": null,
      "outputs": []
    },
    {
      "cell_type": "code",
      "source": [
        "len(CT_imgs)"
      ],
      "metadata": {
        "colab": {
          "base_uri": "https://localhost:8080/"
        },
        "id": "EV-t0Rfkyy_V",
        "outputId": "cb178821-2b7b-43c1-94bd-63e01f2c54e9"
      },
      "execution_count": null,
      "outputs": [
        {
          "output_type": "execute_result",
          "data": {
            "text/plain": [
              "5234"
            ]
          },
          "metadata": {},
          "execution_count": 21
        }
      ]
    },
    {
      "cell_type": "code",
      "source": [
        "CT_imgs[0].shape"
      ],
      "metadata": {
        "colab": {
          "base_uri": "https://localhost:8080/"
        },
        "id": "mUuv8Dn9y1Zh",
        "outputId": "a2a175d3-980c-4524-cf74-70796fe09f4b"
      },
      "execution_count": null,
      "outputs": [
        {
          "output_type": "execute_result",
          "data": {
            "text/plain": [
              "(512, 512)"
            ]
          },
          "metadata": {},
          "execution_count": 22
        }
      ]
    },
    {
      "cell_type": "code",
      "source": [
        "for i in range(0,len(CT_imgs)):\n",
        "   CT_imgs[i]=cv2.resize(CT_imgs[i],(256,256))"
      ],
      "metadata": {
        "id": "wlE0FT6ry2Hv"
      },
      "execution_count": null,
      "outputs": []
    },
    {
      "cell_type": "code",
      "source": [
        "counter=0\n",
        "for i in Submandibular_R_paths:\n",
        "  filedata, fileheader = nrrd.read(i)\n",
        "  \n",
        "  for j in range(0,filedata.shape[2]):            #as numbers of files change for each folder\n",
        "        \n",
        "        try:\n",
        "          submandibular_R_masks.append(filedata[:,:,j])\n",
        "        except:\n",
        "          img=np.zeros([256,256],dtype=np.uint8)\n",
        "          submandibular_R_masks.append(img)\n",
        "          print(j)\n",
        "\n",
        "  counter+=1"
      ],
      "metadata": {
        "id": "j5Ut1zT0y52N"
      },
      "execution_count": null,
      "outputs": []
    },
    {
      "cell_type": "code",
      "source": [
        "len(submandibular_R_masks)"
      ],
      "metadata": {
        "colab": {
          "base_uri": "https://localhost:8080/"
        },
        "id": "0buzETMnzAZ3",
        "outputId": "a66122a1-d66b-4c69-b4d5-6f3422ee9a72"
      },
      "execution_count": null,
      "outputs": [
        {
          "output_type": "execute_result",
          "data": {
            "text/plain": [
              "5234"
            ]
          },
          "metadata": {},
          "execution_count": 25
        }
      ]
    },
    {
      "cell_type": "code",
      "source": [
        "for i in range(0,len(submandibular_R_masks)):\n",
        "   submandibular_R_masks[i]=cv2.resize(submandibular_R_masks[i],(256,256))"
      ],
      "metadata": {
        "id": "5OEN5tonzBcc"
      },
      "execution_count": null,
      "outputs": []
    },
    {
      "cell_type": "code",
      "source": [
        "df = pd.DataFrame({\"image_path\": CT_imgs, \"mask_path\":submandibular_R_masks})\n",
        "Xtrain, Xval = train_test_split(df, test_size=0.15)\n",
        "Xtest, Xval = train_test_split(Xval, test_size=0.5)\n",
        "print(\"Train size is {}, valid size is {} & test size is {}\".format(len(Xtrain), len(Xval), len(Xtest)))"
      ],
      "metadata": {
        "colab": {
          "base_uri": "https://localhost:8080/"
        },
        "id": "tbHQ7HpqPXgY",
        "outputId": "65fdb1f6-e93e-463f-f279-5017f4ed161a"
      },
      "execution_count": null,
      "outputs": [
        {
          "output_type": "stream",
          "name": "stdout",
          "text": [
            "Train size is 4448, valid size is 393 & test size is 393\n"
          ]
        }
      ]
    },
    {
      "cell_type": "code",
      "source": [
        "train_ids = list(Xtrain['image_path'])\n",
        "train_mask = list(Xtrain['mask_path'])\n",
        "\n",
        "val_ids = list(Xval['image_path'])\n",
        "val_mask= list(Xval['mask_path'])"
      ],
      "metadata": {
        "id": "eO2WKKM3Qi_I"
      },
      "execution_count": null,
      "outputs": []
    },
    {
      "cell_type": "code",
      "source": [
        "class DataGenerator(tf.keras.utils.Sequence):\n",
        "  def __init__(self, ids , mask, image_dir = './', batch_size = 16, img_h = 256, img_w = 256, shuffle = True):\n",
        "    self.ids = ids\n",
        "    self.mask = mask\n",
        "    self.image_dir = image_dir\n",
        "    self.batch_size = batch_size\n",
        "    self.img_h = img_h\n",
        "    self.img_w = img_w\n",
        "    self.shuffle = shuffle\n",
        "    self.on_epoch_end()\n",
        "  def __len__(self):\n",
        "    return int(np.floor(len(self.ids)) / self.batch_size)\n",
        "\n",
        "  def __getitem__(self, index):\n",
        "    indexes = self.indexes[index* self.batch_size : (index+1) * self.batch_size]\n",
        "    list_ids = [self.ids[i] for i in indexes]\n",
        "    list_mask = [self.mask[i] for i in indexes]\n",
        "    X, y = self.__data_generation(list_ids, list_mask)\n",
        "    return X, y\n",
        "\n",
        "  def on_epoch_end(self):    \n",
        "    self.indexes = np.arange(len(self.ids))\n",
        "\n",
        "    if self.shuffle:\n",
        "      np.random.shuffle(self.indexes)\n",
        "\n",
        "  def __data_generation(self, list_ids, list_mask):\n",
        "\n",
        "    X = np.empty((self.batch_size, self.img_h, self.img_w))\n",
        "    y = np.empty((self.batch_size, self.img_h, self.img_w))\n",
        "\n",
        "    for i in range(len(list_ids)):\n",
        "      img_path = list_ids[i]\n",
        "      mask_path = list_mask[i]\n",
        "      img = img_path\n",
        "      mask = mask_path\n",
        "      img = cv2.resize(img,(self.img_h,self.img_w))\n",
        "      img = np.array(img, dtype = np.float64)\n",
        "      mask = cv2.resize(mask,(self.img_h,self.img_w))\n",
        "      mask = np.array(mask, dtype = np.float64)\n",
        "      img -= img.mean()\n",
        "      img /= img.std()\n",
        "      mask -= mask.mean()\n",
        "      mask /= mask.std()\n",
        "      X[i,] = img\n",
        "      y[i,] = mask\n",
        "    y = (y > 0).astype(int)\n",
        "    return X, y\n",
        "\n",
        "train_data = DataGenerator(train_ids, train_mask)\n",
        "val_data = DataGenerator(val_ids, val_mask)"
      ],
      "metadata": {
        "id": "tmD1r_fZrNoH"
      },
      "execution_count": null,
      "outputs": []
    },
    {
      "cell_type": "code",
      "source": [
        "image_size = 256\n",
        "batch_size = 16\n",
        "lr = 0.01\n",
        "epochs = 300"
      ],
      "metadata": {
        "id": "xDTsl7S9ED_c"
      },
      "execution_count": null,
      "outputs": []
    },
    {
      "cell_type": "code",
      "source": [
        "arch = ResUnetPlusPlus(input_size=image_size)\n",
        "model = arch.build_model()"
      ],
      "metadata": {
        "id": "UWlsbijVNOvJ"
      },
      "execution_count": null,
      "outputs": []
    },
    {
      "cell_type": "code",
      "source": [
        "optimizer = Nadam(lr)\n",
        "adam = tf.keras.optimizers.Adam(lr = 0.01, epsilon = 0.1)\n",
        "\n",
        "metrics = [Recall(), Precision(), dice_coef, MeanIoU(num_classes=6)]\n",
        "model.compile(loss=dice_coef_loss, optimizer=adam, metrics=metrics)"
      ],
      "metadata": {
        "id": "e_cvSDA6RGMX",
        "colab": {
          "base_uri": "https://localhost:8080/"
        },
        "outputId": "59ed3f5c-b0be-4ebf-bc69-f05bdc9472ef"
      },
      "execution_count": null,
      "outputs": [
        {
          "output_type": "stream",
          "name": "stderr",
          "text": [
            "/usr/local/lib/python3.7/dist-packages/keras/optimizer_v2/adam.py:105: UserWarning: The `lr` argument is deprecated, use `learning_rate` instead.\n",
            "  super(Adam, self).__init__(name, **kwargs)\n"
          ]
        }
      ]
    },
    {
      "cell_type": "code",
      "source": [
        "filename='/content/drive/MyDrive/Res-U-Net++/history.csv'\n",
        "history_logger=tf.keras.callbacks.CSVLogger(filename, separator=\",\", append=True)\n",
        "checkpointer = ModelCheckpoint(filepath=\"/content/drive/MyDrive/Res-U-Net++/res-unet++.h5\", \n",
        "                               verbose=1, \n",
        "                               save_best_only=True\n",
        "                              )\n",
        "reduce_lr = ReduceLROnPlateau(monitor='val_loss', factor=0.1, patience=5, min_lr=1e-6, verbose=1)\n",
        "early_stopping = EarlyStopping(monitor='val_loss', patience=10, restore_best_weights=False)"
      ],
      "metadata": {
        "id": "89lNG3GPSO6o"
      },
      "execution_count": null,
      "outputs": []
    },
    {
      "cell_type": "code",
      "source": [
        "callbacks = [history_logger, checkpointer, reduce_lr, early_stopping]"
      ],
      "metadata": {
        "id": "S132Ld0cRyXw"
      },
      "execution_count": null,
      "outputs": []
    },
    {
      "cell_type": "code",
      "source": [
        "type(val_data)"
      ],
      "metadata": {
        "colab": {
          "base_uri": "https://localhost:8080/"
        },
        "id": "auGg3r7tzWn3",
        "outputId": "a523caa4-4ed0-463a-c8a8-a77bd071b08d"
      },
      "execution_count": null,
      "outputs": [
        {
          "output_type": "execute_result",
          "data": {
            "text/plain": [
              "__main__.DataGenerator"
            ]
          },
          "metadata": {},
          "execution_count": 35
        }
      ]
    },
    {
      "cell_type": "code",
      "source": [
        "model.summary()"
      ],
      "metadata": {
        "colab": {
          "base_uri": "https://localhost:8080/"
        },
        "id": "RquTKRQb1J65",
        "outputId": "483cc6f2-ac85-432a-cdf7-cfaa3bec7f71"
      },
      "execution_count": null,
      "outputs": [
        {
          "output_type": "stream",
          "name": "stdout",
          "text": [
            "Model: \"model\"\n",
            "__________________________________________________________________________________________________\n",
            " Layer (type)                   Output Shape         Param #     Connected to                     \n",
            "==================================================================================================\n",
            " input_1 (InputLayer)           [(None, 256, 256, 1  0           []                               \n",
            "                                )]                                                                \n",
            "                                                                                                  \n",
            " conv2d (Conv2D)                (None, 256, 256, 16  160         ['input_1[0][0]']                \n",
            "                                )                                                                 \n",
            "                                                                                                  \n",
            " batch_normalization (BatchNorm  (None, 256, 256, 16  64         ['conv2d[0][0]']                 \n",
            " alization)                     )                                                                 \n",
            "                                                                                                  \n",
            " activation (Activation)        (None, 256, 256, 16  0           ['batch_normalization[0][0]']    \n",
            "                                )                                                                 \n",
            "                                                                                                  \n",
            " conv2d_2 (Conv2D)              (None, 256, 256, 16  32          ['input_1[0][0]']                \n",
            "                                )                                                                 \n",
            "                                                                                                  \n",
            " conv2d_1 (Conv2D)              (None, 256, 256, 16  2320        ['activation[0][0]']             \n",
            "                                )                                                                 \n",
            "                                                                                                  \n",
            " batch_normalization_1 (BatchNo  (None, 256, 256, 16  64         ['conv2d_2[0][0]']               \n",
            " rmalization)                   )                                                                 \n",
            "                                                                                                  \n",
            " add (Add)                      (None, 256, 256, 16  0           ['conv2d_1[0][0]',               \n",
            "                                )                                 'batch_normalization_1[0][0]']  \n",
            "                                                                                                  \n",
            " global_average_pooling2d (Glob  (None, 16)          0           ['add[0][0]']                    \n",
            " alAveragePooling2D)                                                                              \n",
            "                                                                                                  \n",
            " reshape (Reshape)              (None, 1, 1, 16)     0           ['global_average_pooling2d[0][0]'\n",
            "                                                                 ]                                \n",
            "                                                                                                  \n",
            " dense (Dense)                  (None, 1, 1, 1)      16          ['reshape[0][0]']                \n",
            "                                                                                                  \n",
            " dense_1 (Dense)                (None, 1, 1, 16)     16          ['dense[0][0]']                  \n",
            "                                                                                                  \n",
            " multiply (Multiply)            (None, 256, 256, 16  0           ['add[0][0]',                    \n",
            "                                )                                 'dense_1[0][0]']                \n",
            "                                                                                                  \n",
            " batch_normalization_2 (BatchNo  (None, 256, 256, 16  64         ['multiply[0][0]']               \n",
            " rmalization)                   )                                                                 \n",
            "                                                                                                  \n",
            " activation_1 (Activation)      (None, 256, 256, 16  0           ['batch_normalization_2[0][0]']  \n",
            "                                )                                                                 \n",
            "                                                                                                  \n",
            " conv2d_3 (Conv2D)              (None, 128, 128, 32  544         ['activation_1[0][0]']           \n",
            "                                )                                                                 \n",
            "                                                                                                  \n",
            " batch_normalization_3 (BatchNo  (None, 128, 128, 32  128        ['conv2d_3[0][0]']               \n",
            " rmalization)                   )                                                                 \n",
            "                                                                                                  \n",
            " activation_2 (Activation)      (None, 128, 128, 32  0           ['batch_normalization_3[0][0]']  \n",
            "                                )                                                                 \n",
            "                                                                                                  \n",
            " conv2d_5 (Conv2D)              (None, 128, 128, 32  544         ['multiply[0][0]']               \n",
            "                                )                                                                 \n",
            "                                                                                                  \n",
            " conv2d_4 (Conv2D)              (None, 128, 128, 32  9248        ['activation_2[0][0]']           \n",
            "                                )                                                                 \n",
            "                                                                                                  \n",
            " batch_normalization_4 (BatchNo  (None, 128, 128, 32  128        ['conv2d_5[0][0]']               \n",
            " rmalization)                   )                                                                 \n",
            "                                                                                                  \n",
            " add_1 (Add)                    (None, 128, 128, 32  0           ['conv2d_4[0][0]',               \n",
            "                                )                                 'batch_normalization_4[0][0]']  \n",
            "                                                                                                  \n",
            " global_average_pooling2d_1 (Gl  (None, 32)          0           ['add_1[0][0]']                  \n",
            " obalAveragePooling2D)                                                                            \n",
            "                                                                                                  \n",
            " reshape_1 (Reshape)            (None, 1, 1, 32)     0           ['global_average_pooling2d_1[0][0\n",
            "                                                                 ]']                              \n",
            "                                                                                                  \n",
            " dense_2 (Dense)                (None, 1, 1, 2)      64          ['reshape_1[0][0]']              \n",
            "                                                                                                  \n",
            " dense_3 (Dense)                (None, 1, 1, 32)     64          ['dense_2[0][0]']                \n",
            "                                                                                                  \n",
            " multiply_1 (Multiply)          (None, 128, 128, 32  0           ['add_1[0][0]',                  \n",
            "                                )                                 'dense_3[0][0]']                \n",
            "                                                                                                  \n",
            " batch_normalization_5 (BatchNo  (None, 128, 128, 32  128        ['multiply_1[0][0]']             \n",
            " rmalization)                   )                                                                 \n",
            "                                                                                                  \n",
            " activation_3 (Activation)      (None, 128, 128, 32  0           ['batch_normalization_5[0][0]']  \n",
            "                                )                                                                 \n",
            "                                                                                                  \n",
            " conv2d_6 (Conv2D)              (None, 64, 64, 64)   2112        ['activation_3[0][0]']           \n",
            "                                                                                                  \n",
            " batch_normalization_6 (BatchNo  (None, 64, 64, 64)  256         ['conv2d_6[0][0]']               \n",
            " rmalization)                                                                                     \n",
            "                                                                                                  \n",
            " activation_4 (Activation)      (None, 64, 64, 64)   0           ['batch_normalization_6[0][0]']  \n",
            "                                                                                                  \n",
            " conv2d_8 (Conv2D)              (None, 64, 64, 64)   2112        ['multiply_1[0][0]']             \n",
            "                                                                                                  \n",
            " conv2d_7 (Conv2D)              (None, 64, 64, 64)   36928       ['activation_4[0][0]']           \n",
            "                                                                                                  \n",
            " batch_normalization_7 (BatchNo  (None, 64, 64, 64)  256         ['conv2d_8[0][0]']               \n",
            " rmalization)                                                                                     \n",
            "                                                                                                  \n",
            " add_2 (Add)                    (None, 64, 64, 64)   0           ['conv2d_7[0][0]',               \n",
            "                                                                  'batch_normalization_7[0][0]']  \n",
            "                                                                                                  \n",
            " global_average_pooling2d_2 (Gl  (None, 64)          0           ['add_2[0][0]']                  \n",
            " obalAveragePooling2D)                                                                            \n",
            "                                                                                                  \n",
            " reshape_2 (Reshape)            (None, 1, 1, 64)     0           ['global_average_pooling2d_2[0][0\n",
            "                                                                 ]']                              \n",
            "                                                                                                  \n",
            " dense_4 (Dense)                (None, 1, 1, 4)      256         ['reshape_2[0][0]']              \n",
            "                                                                                                  \n",
            " dense_5 (Dense)                (None, 1, 1, 64)     256         ['dense_4[0][0]']                \n",
            "                                                                                                  \n",
            " multiply_2 (Multiply)          (None, 64, 64, 64)   0           ['add_2[0][0]',                  \n",
            "                                                                  'dense_5[0][0]']                \n",
            "                                                                                                  \n",
            " batch_normalization_8 (BatchNo  (None, 64, 64, 64)  256         ['multiply_2[0][0]']             \n",
            " rmalization)                                                                                     \n",
            "                                                                                                  \n",
            " activation_5 (Activation)      (None, 64, 64, 64)   0           ['batch_normalization_8[0][0]']  \n",
            "                                                                                                  \n",
            " conv2d_9 (Conv2D)              (None, 32, 32, 128)  8320        ['activation_5[0][0]']           \n",
            "                                                                                                  \n",
            " batch_normalization_9 (BatchNo  (None, 32, 32, 128)  512        ['conv2d_9[0][0]']               \n",
            " rmalization)                                                                                     \n",
            "                                                                                                  \n",
            " activation_6 (Activation)      (None, 32, 32, 128)  0           ['batch_normalization_9[0][0]']  \n",
            "                                                                                                  \n",
            " conv2d_11 (Conv2D)             (None, 32, 32, 128)  8320        ['multiply_2[0][0]']             \n",
            "                                                                                                  \n",
            " conv2d_10 (Conv2D)             (None, 32, 32, 128)  147584      ['activation_6[0][0]']           \n",
            "                                                                                                  \n",
            " batch_normalization_10 (BatchN  (None, 32, 32, 128)  512        ['conv2d_11[0][0]']              \n",
            " ormalization)                                                                                    \n",
            "                                                                                                  \n",
            " add_3 (Add)                    (None, 32, 32, 128)  0           ['conv2d_10[0][0]',              \n",
            "                                                                  'batch_normalization_10[0][0]'] \n",
            "                                                                                                  \n",
            " global_average_pooling2d_3 (Gl  (None, 128)         0           ['add_3[0][0]']                  \n",
            " obalAveragePooling2D)                                                                            \n",
            "                                                                                                  \n",
            " reshape_3 (Reshape)            (None, 1, 1, 128)    0           ['global_average_pooling2d_3[0][0\n",
            "                                                                 ]']                              \n",
            "                                                                                                  \n",
            " dense_6 (Dense)                (None, 1, 1, 8)      1024        ['reshape_3[0][0]']              \n",
            "                                                                                                  \n",
            " dense_7 (Dense)                (None, 1, 1, 128)    1024        ['dense_6[0][0]']                \n",
            "                                                                                                  \n",
            " multiply_3 (Multiply)          (None, 32, 32, 128)  0           ['add_3[0][0]',                  \n",
            "                                                                  'dense_7[0][0]']                \n",
            "                                                                                                  \n",
            " conv2d_12 (Conv2D)             (None, 32, 32, 256)  295168      ['multiply_3[0][0]']             \n",
            "                                                                                                  \n",
            " conv2d_13 (Conv2D)             (None, 32, 32, 256)  33024       ['multiply_3[0][0]']             \n",
            "                                                                                                  \n",
            " conv2d_14 (Conv2D)             (None, 32, 32, 256)  295168      ['multiply_3[0][0]']             \n",
            "                                                                                                  \n",
            " conv2d_15 (Conv2D)             (None, 32, 32, 256)  33024       ['multiply_3[0][0]']             \n",
            "                                                                                                  \n",
            " batch_normalization_11 (BatchN  (None, 32, 32, 256)  1024       ['conv2d_12[0][0]']              \n",
            " ormalization)                                                                                    \n",
            "                                                                                                  \n",
            " batch_normalization_12 (BatchN  (None, 32, 32, 256)  1024       ['conv2d_13[0][0]']              \n",
            " ormalization)                                                                                    \n",
            "                                                                                                  \n",
            " batch_normalization_13 (BatchN  (None, 32, 32, 256)  1024       ['conv2d_14[0][0]']              \n",
            " ormalization)                                                                                    \n",
            "                                                                                                  \n",
            " batch_normalization_14 (BatchN  (None, 32, 32, 256)  1024       ['conv2d_15[0][0]']              \n",
            " ormalization)                                                                                    \n",
            "                                                                                                  \n",
            " add_4 (Add)                    (None, 32, 32, 256)  0           ['batch_normalization_11[0][0]', \n",
            "                                                                  'batch_normalization_12[0][0]', \n",
            "                                                                  'batch_normalization_13[0][0]', \n",
            "                                                                  'batch_normalization_14[0][0]'] \n",
            "                                                                                                  \n",
            " batch_normalization_15 (BatchN  (None, 64, 64, 64)  256         ['multiply_2[0][0]']             \n",
            " ormalization)                                                                                    \n",
            "                                                                                                  \n",
            " conv2d_16 (Conv2D)             (None, 32, 32, 256)  65792       ['add_4[0][0]']                  \n",
            "                                                                                                  \n",
            " activation_7 (Activation)      (None, 64, 64, 64)   0           ['batch_normalization_15[0][0]'] \n",
            "                                                                                                  \n",
            " batch_normalization_16 (BatchN  (None, 32, 32, 256)  1024       ['conv2d_16[0][0]']              \n",
            " ormalization)                                                                                    \n",
            "                                                                                                  \n",
            " conv2d_17 (Conv2D)             (None, 64, 64, 256)  16640       ['activation_7[0][0]']           \n",
            "                                                                                                  \n",
            " activation_8 (Activation)      (None, 32, 32, 256)  0           ['batch_normalization_16[0][0]'] \n",
            "                                                                                                  \n",
            " max_pooling2d (MaxPooling2D)   (None, 32, 32, 256)  0           ['conv2d_17[0][0]']              \n",
            "                                                                                                  \n",
            " conv2d_18 (Conv2D)             (None, 32, 32, 256)  65792       ['activation_8[0][0]']           \n",
            "                                                                                                  \n",
            " add_5 (Add)                    (None, 32, 32, 256)  0           ['max_pooling2d[0][0]',          \n",
            "                                                                  'conv2d_18[0][0]']              \n",
            "                                                                                                  \n",
            " batch_normalization_17 (BatchN  (None, 32, 32, 256)  1024       ['add_5[0][0]']                  \n",
            " ormalization)                                                                                    \n",
            "                                                                                                  \n",
            " activation_9 (Activation)      (None, 32, 32, 256)  0           ['batch_normalization_17[0][0]'] \n",
            "                                                                                                  \n",
            " conv2d_19 (Conv2D)             (None, 32, 32, 256)  65792       ['activation_9[0][0]']           \n",
            "                                                                                                  \n",
            " multiply_4 (Multiply)          (None, 32, 32, 256)  0           ['conv2d_19[0][0]',              \n",
            "                                                                  'conv2d_16[0][0]']              \n",
            "                                                                                                  \n",
            " up_sampling2d (UpSampling2D)   (None, 64, 64, 256)  0           ['multiply_4[0][0]']             \n",
            "                                                                                                  \n",
            " concatenate (Concatenate)      (None, 64, 64, 320)  0           ['up_sampling2d[0][0]',          \n",
            "                                                                  'multiply_2[0][0]']             \n",
            "                                                                                                  \n",
            " batch_normalization_18 (BatchN  (None, 64, 64, 320)  1280       ['concatenate[0][0]']            \n",
            " ormalization)                                                                                    \n",
            "                                                                                                  \n",
            " activation_10 (Activation)     (None, 64, 64, 320)  0           ['batch_normalization_18[0][0]'] \n",
            "                                                                                                  \n",
            " conv2d_20 (Conv2D)             (None, 64, 64, 128)  41088       ['activation_10[0][0]']          \n",
            "                                                                                                  \n",
            " batch_normalization_19 (BatchN  (None, 64, 64, 128)  512        ['conv2d_20[0][0]']              \n",
            " ormalization)                                                                                    \n",
            "                                                                                                  \n",
            " activation_11 (Activation)     (None, 64, 64, 128)  0           ['batch_normalization_19[0][0]'] \n",
            "                                                                                                  \n",
            " conv2d_22 (Conv2D)             (None, 64, 64, 128)  41088       ['concatenate[0][0]']            \n",
            "                                                                                                  \n",
            " conv2d_21 (Conv2D)             (None, 64, 64, 128)  147584      ['activation_11[0][0]']          \n",
            "                                                                                                  \n",
            " batch_normalization_20 (BatchN  (None, 64, 64, 128)  512        ['conv2d_22[0][0]']              \n",
            " ormalization)                                                                                    \n",
            "                                                                                                  \n",
            " add_6 (Add)                    (None, 64, 64, 128)  0           ['conv2d_21[0][0]',              \n",
            "                                                                  'batch_normalization_20[0][0]'] \n",
            "                                                                                                  \n",
            " global_average_pooling2d_4 (Gl  (None, 128)         0           ['add_6[0][0]']                  \n",
            " obalAveragePooling2D)                                                                            \n",
            "                                                                                                  \n",
            " reshape_4 (Reshape)            (None, 1, 1, 128)    0           ['global_average_pooling2d_4[0][0\n",
            "                                                                 ]']                              \n",
            "                                                                                                  \n",
            " dense_8 (Dense)                (None, 1, 1, 8)      1024        ['reshape_4[0][0]']              \n",
            "                                                                                                  \n",
            " dense_9 (Dense)                (None, 1, 1, 128)    1024        ['dense_8[0][0]']                \n",
            "                                                                                                  \n",
            " batch_normalization_21 (BatchN  (None, 128, 128, 32  128        ['multiply_1[0][0]']             \n",
            " ormalization)                  )                                                                 \n",
            "                                                                                                  \n",
            " multiply_5 (Multiply)          (None, 64, 64, 128)  0           ['add_6[0][0]',                  \n",
            "                                                                  'dense_9[0][0]']                \n",
            "                                                                                                  \n",
            " activation_12 (Activation)     (None, 128, 128, 32  0           ['batch_normalization_21[0][0]'] \n",
            "                                )                                                                 \n",
            "                                                                                                  \n",
            " batch_normalization_22 (BatchN  (None, 64, 64, 128)  512        ['multiply_5[0][0]']             \n",
            " ormalization)                                                                                    \n",
            "                                                                                                  \n",
            " conv2d_23 (Conv2D)             (None, 128, 128, 12  4224        ['activation_12[0][0]']          \n",
            "                                8)                                                                \n",
            "                                                                                                  \n",
            " activation_13 (Activation)     (None, 64, 64, 128)  0           ['batch_normalization_22[0][0]'] \n",
            "                                                                                                  \n",
            " max_pooling2d_1 (MaxPooling2D)  (None, 64, 64, 128)  0          ['conv2d_23[0][0]']              \n",
            "                                                                                                  \n",
            " conv2d_24 (Conv2D)             (None, 64, 64, 128)  16512       ['activation_13[0][0]']          \n",
            "                                                                                                  \n",
            " add_7 (Add)                    (None, 64, 64, 128)  0           ['max_pooling2d_1[0][0]',        \n",
            "                                                                  'conv2d_24[0][0]']              \n",
            "                                                                                                  \n",
            " batch_normalization_23 (BatchN  (None, 64, 64, 128)  512        ['add_7[0][0]']                  \n",
            " ormalization)                                                                                    \n",
            "                                                                                                  \n",
            " activation_14 (Activation)     (None, 64, 64, 128)  0           ['batch_normalization_23[0][0]'] \n",
            "                                                                                                  \n",
            " conv2d_25 (Conv2D)             (None, 64, 64, 128)  16512       ['activation_14[0][0]']          \n",
            "                                                                                                  \n",
            " multiply_6 (Multiply)          (None, 64, 64, 128)  0           ['conv2d_25[0][0]',              \n",
            "                                                                  'multiply_5[0][0]']             \n",
            "                                                                                                  \n",
            " up_sampling2d_1 (UpSampling2D)  (None, 128, 128, 12  0          ['multiply_6[0][0]']             \n",
            "                                8)                                                                \n",
            "                                                                                                  \n",
            " concatenate_1 (Concatenate)    (None, 128, 128, 16  0           ['up_sampling2d_1[0][0]',        \n",
            "                                0)                                'multiply_1[0][0]']             \n",
            "                                                                                                  \n",
            " batch_normalization_24 (BatchN  (None, 128, 128, 16  640        ['concatenate_1[0][0]']          \n",
            " ormalization)                  0)                                                                \n",
            "                                                                                                  \n",
            " activation_15 (Activation)     (None, 128, 128, 16  0           ['batch_normalization_24[0][0]'] \n",
            "                                0)                                                                \n",
            "                                                                                                  \n",
            " conv2d_26 (Conv2D)             (None, 128, 128, 64  10304       ['activation_15[0][0]']          \n",
            "                                )                                                                 \n",
            "                                                                                                  \n",
            " batch_normalization_25 (BatchN  (None, 128, 128, 64  256        ['conv2d_26[0][0]']              \n",
            " ormalization)                  )                                                                 \n",
            "                                                                                                  \n",
            " activation_16 (Activation)     (None, 128, 128, 64  0           ['batch_normalization_25[0][0]'] \n",
            "                                )                                                                 \n",
            "                                                                                                  \n",
            " conv2d_28 (Conv2D)             (None, 128, 128, 64  10304       ['concatenate_1[0][0]']          \n",
            "                                )                                                                 \n",
            "                                                                                                  \n",
            " conv2d_27 (Conv2D)             (None, 128, 128, 64  36928       ['activation_16[0][0]']          \n",
            "                                )                                                                 \n",
            "                                                                                                  \n",
            " batch_normalization_26 (BatchN  (None, 128, 128, 64  256        ['conv2d_28[0][0]']              \n",
            " ormalization)                  )                                                                 \n",
            "                                                                                                  \n",
            " add_8 (Add)                    (None, 128, 128, 64  0           ['conv2d_27[0][0]',              \n",
            "                                )                                 'batch_normalization_26[0][0]'] \n",
            "                                                                                                  \n",
            " global_average_pooling2d_5 (Gl  (None, 64)          0           ['add_8[0][0]']                  \n",
            " obalAveragePooling2D)                                                                            \n",
            "                                                                                                  \n",
            " reshape_5 (Reshape)            (None, 1, 1, 64)     0           ['global_average_pooling2d_5[0][0\n",
            "                                                                 ]']                              \n",
            "                                                                                                  \n",
            " dense_10 (Dense)               (None, 1, 1, 4)      256         ['reshape_5[0][0]']              \n",
            "                                                                                                  \n",
            " dense_11 (Dense)               (None, 1, 1, 64)     256         ['dense_10[0][0]']               \n",
            "                                                                                                  \n",
            " batch_normalization_27 (BatchN  (None, 256, 256, 16  64         ['multiply[0][0]']               \n",
            " ormalization)                  )                                                                 \n",
            "                                                                                                  \n",
            " multiply_7 (Multiply)          (None, 128, 128, 64  0           ['add_8[0][0]',                  \n",
            "                                )                                 'dense_11[0][0]']               \n",
            "                                                                                                  \n",
            " activation_17 (Activation)     (None, 256, 256, 16  0           ['batch_normalization_27[0][0]'] \n",
            "                                )                                                                 \n",
            "                                                                                                  \n",
            " batch_normalization_28 (BatchN  (None, 128, 128, 64  256        ['multiply_7[0][0]']             \n",
            " ormalization)                  )                                                                 \n",
            "                                                                                                  \n",
            " conv2d_29 (Conv2D)             (None, 256, 256, 64  1088        ['activation_17[0][0]']          \n",
            "                                )                                                                 \n",
            "                                                                                                  \n",
            " activation_18 (Activation)     (None, 128, 128, 64  0           ['batch_normalization_28[0][0]'] \n",
            "                                )                                                                 \n",
            "                                                                                                  \n",
            " max_pooling2d_2 (MaxPooling2D)  (None, 128, 128, 64  0          ['conv2d_29[0][0]']              \n",
            "                                )                                                                 \n",
            "                                                                                                  \n",
            " conv2d_30 (Conv2D)             (None, 128, 128, 64  4160        ['activation_18[0][0]']          \n",
            "                                )                                                                 \n",
            "                                                                                                  \n",
            " add_9 (Add)                    (None, 128, 128, 64  0           ['max_pooling2d_2[0][0]',        \n",
            "                                )                                 'conv2d_30[0][0]']              \n",
            "                                                                                                  \n",
            " batch_normalization_29 (BatchN  (None, 128, 128, 64  256        ['add_9[0][0]']                  \n",
            " ormalization)                  )                                                                 \n",
            "                                                                                                  \n",
            " activation_19 (Activation)     (None, 128, 128, 64  0           ['batch_normalization_29[0][0]'] \n",
            "                                )                                                                 \n",
            "                                                                                                  \n",
            " conv2d_31 (Conv2D)             (None, 128, 128, 64  4160        ['activation_19[0][0]']          \n",
            "                                )                                                                 \n",
            "                                                                                                  \n",
            " multiply_8 (Multiply)          (None, 128, 128, 64  0           ['conv2d_31[0][0]',              \n",
            "                                )                                 'multiply_7[0][0]']             \n",
            "                                                                                                  \n",
            " up_sampling2d_2 (UpSampling2D)  (None, 256, 256, 64  0          ['multiply_8[0][0]']             \n",
            "                                )                                                                 \n",
            "                                                                                                  \n",
            " concatenate_2 (Concatenate)    (None, 256, 256, 80  0           ['up_sampling2d_2[0][0]',        \n",
            "                                )                                 'multiply[0][0]']               \n",
            "                                                                                                  \n",
            " batch_normalization_30 (BatchN  (None, 256, 256, 80  320        ['concatenate_2[0][0]']          \n",
            " ormalization)                  )                                                                 \n",
            "                                                                                                  \n",
            " activation_20 (Activation)     (None, 256, 256, 80  0           ['batch_normalization_30[0][0]'] \n",
            "                                )                                                                 \n",
            "                                                                                                  \n",
            " conv2d_32 (Conv2D)             (None, 256, 256, 32  2592        ['activation_20[0][0]']          \n",
            "                                )                                                                 \n",
            "                                                                                                  \n",
            " batch_normalization_31 (BatchN  (None, 256, 256, 32  128        ['conv2d_32[0][0]']              \n",
            " ormalization)                  )                                                                 \n",
            "                                                                                                  \n",
            " activation_21 (Activation)     (None, 256, 256, 32  0           ['batch_normalization_31[0][0]'] \n",
            "                                )                                                                 \n",
            "                                                                                                  \n",
            " conv2d_34 (Conv2D)             (None, 256, 256, 32  2592        ['concatenate_2[0][0]']          \n",
            "                                )                                                                 \n",
            "                                                                                                  \n",
            " conv2d_33 (Conv2D)             (None, 256, 256, 32  9248        ['activation_21[0][0]']          \n",
            "                                )                                                                 \n",
            "                                                                                                  \n",
            " batch_normalization_32 (BatchN  (None, 256, 256, 32  128        ['conv2d_34[0][0]']              \n",
            " ormalization)                  )                                                                 \n",
            "                                                                                                  \n",
            " add_10 (Add)                   (None, 256, 256, 32  0           ['conv2d_33[0][0]',              \n",
            "                                )                                 'batch_normalization_32[0][0]'] \n",
            "                                                                                                  \n",
            " global_average_pooling2d_6 (Gl  (None, 32)          0           ['add_10[0][0]']                 \n",
            " obalAveragePooling2D)                                                                            \n",
            "                                                                                                  \n",
            " reshape_6 (Reshape)            (None, 1, 1, 32)     0           ['global_average_pooling2d_6[0][0\n",
            "                                                                 ]']                              \n",
            "                                                                                                  \n",
            " dense_12 (Dense)               (None, 1, 1, 2)      64          ['reshape_6[0][0]']              \n",
            "                                                                                                  \n",
            " dense_13 (Dense)               (None, 1, 1, 32)     64          ['dense_12[0][0]']               \n",
            "                                                                                                  \n",
            " multiply_9 (Multiply)          (None, 256, 256, 32  0           ['add_10[0][0]',                 \n",
            "                                )                                 'dense_13[0][0]']               \n",
            "                                                                                                  \n",
            " conv2d_35 (Conv2D)             (None, 256, 256, 16  4624        ['multiply_9[0][0]']             \n",
            "                                )                                                                 \n",
            "                                                                                                  \n",
            " conv2d_36 (Conv2D)             (None, 256, 256, 16  528         ['multiply_9[0][0]']             \n",
            "                                )                                                                 \n",
            "                                                                                                  \n",
            " conv2d_37 (Conv2D)             (None, 256, 256, 16  4624        ['multiply_9[0][0]']             \n",
            "                                )                                                                 \n",
            "                                                                                                  \n",
            " conv2d_38 (Conv2D)             (None, 256, 256, 16  528         ['multiply_9[0][0]']             \n",
            "                                )                                                                 \n",
            "                                                                                                  \n",
            " batch_normalization_33 (BatchN  (None, 256, 256, 16  64         ['conv2d_35[0][0]']              \n",
            " ormalization)                  )                                                                 \n",
            "                                                                                                  \n",
            " batch_normalization_34 (BatchN  (None, 256, 256, 16  64         ['conv2d_36[0][0]']              \n",
            " ormalization)                  )                                                                 \n",
            "                                                                                                  \n",
            " batch_normalization_35 (BatchN  (None, 256, 256, 16  64         ['conv2d_37[0][0]']              \n",
            " ormalization)                  )                                                                 \n",
            "                                                                                                  \n",
            " batch_normalization_36 (BatchN  (None, 256, 256, 16  64         ['conv2d_38[0][0]']              \n",
            " ormalization)                  )                                                                 \n",
            "                                                                                                  \n",
            " add_11 (Add)                   (None, 256, 256, 16  0           ['batch_normalization_33[0][0]', \n",
            "                                )                                 'batch_normalization_34[0][0]', \n",
            "                                                                  'batch_normalization_35[0][0]', \n",
            "                                                                  'batch_normalization_36[0][0]'] \n",
            "                                                                                                  \n",
            " conv2d_39 (Conv2D)             (None, 256, 256, 16  272         ['add_11[0][0]']                 \n",
            "                                )                                                                 \n",
            "                                                                                                  \n",
            " conv2d_40 (Conv2D)             (None, 256, 256, 1)  17          ['conv2d_39[0][0]']              \n",
            "                                                                                                  \n",
            " activation_22 (Activation)     (None, 256, 256, 1)  0           ['conv2d_40[0][0]']              \n",
            "                                                                                                  \n",
            " reshape_7 (Reshape)            (None, 256, 256)     0           ['activation_22[0][0]']          \n",
            "                                                                                                  \n",
            "==================================================================================================\n",
            "Total params: 1,467,793\n",
            "Trainable params: 1,460,401\n",
            "Non-trainable params: 7,392\n",
            "__________________________________________________________________________________________________\n"
          ]
        }
      ]
    },
    {
      "cell_type": "code",
      "source": [
        "# model.load_weights(\"/content/drive/MyDrive/Res-U-Net++/res-unet++.h5\")"
      ],
      "metadata": {
        "id": "zumhpk3HEwHF"
      },
      "execution_count": null,
      "outputs": []
    },
    {
      "cell_type": "code",
      "source": [
        "history= model.fit(train_data, epochs = 300,\n",
        "                  #  initial_epoch=25,\n",
        "                  validation_data = val_data,\n",
        "                   callbacks=callbacks\n",
        "                 )"
      ],
      "metadata": {
        "colab": {
          "base_uri": "https://localhost:8080/"
        },
        "id": "T1qQ9mjrt_DG",
        "outputId": "a12cea60-96a1-4ea1-ec98-cae90d18fc12"
      },
      "execution_count": null,
      "outputs": [
        {
          "output_type": "stream",
          "name": "stderr",
          "text": [
            "/usr/local/lib/python3.7/dist-packages/ipykernel_launcher.py:44: RuntimeWarning: invalid value encountered in true_divide\n"
          ]
        },
        {
          "output_type": "stream",
          "name": "stdout",
          "text": [
            "Epoch 1/300\n",
            "278/278 [==============================] - ETA: 0s - loss: -3.8406e-04 - recall: 0.8600 - precision: 1.5328e-04 - dice_coef: 3.8406e-04 - mean_io_u: 0.4997\n",
            "Epoch 1: val_loss improved from inf to -0.00037, saving model to /content/drive/MyDrive/Res-U-Net++/res-unet++.h5\n",
            "278/278 [==============================] - 381s 1s/step - loss: -3.8406e-04 - recall: 0.8600 - precision: 1.5328e-04 - dice_coef: 3.8406e-04 - mean_io_u: 0.4997 - val_loss: -3.6571e-04 - val_recall: 0.9813 - val_precision: 2.8130e-04 - val_dice_coef: 3.6571e-04 - val_mean_io_u: 0.5000 - lr: 0.0100\n",
            "Epoch 2/300\n",
            "278/278 [==============================] - ETA: 0s - loss: -4.2817e-04 - recall: 0.9239 - precision: 2.4529e-04 - dice_coef: 4.2817e-04 - mean_io_u: 0.4996\n",
            "Epoch 2: val_loss improved from -0.00037 to -0.00042, saving model to /content/drive/MyDrive/Res-U-Net++/res-unet++.h5\n",
            "278/278 [==============================] - 352s 1s/step - loss: -4.2817e-04 - recall: 0.9239 - precision: 2.4529e-04 - dice_coef: 4.2817e-04 - mean_io_u: 0.4996 - val_loss: -4.2490e-04 - val_recall: 0.9900 - val_precision: 2.8063e-04 - val_dice_coef: 4.2490e-04 - val_mean_io_u: 0.4998 - lr: 0.0100\n",
            "Epoch 3/300\n",
            "278/278 [==============================] - ETA: 0s - loss: -4.6656e-04 - recall: 0.9615 - precision: 3.0017e-04 - dice_coef: 4.6656e-04 - mean_io_u: 0.4996\n",
            "Epoch 3: val_loss improved from -0.00042 to -0.00044, saving model to /content/drive/MyDrive/Res-U-Net++/res-unet++.h5\n",
            "278/278 [==============================] - 352s 1s/step - loss: -4.6656e-04 - recall: 0.9615 - precision: 3.0017e-04 - dice_coef: 4.6656e-04 - mean_io_u: 0.4996 - val_loss: -4.4299e-04 - val_recall: 0.9914 - val_precision: 2.7574e-04 - val_dice_coef: 4.4299e-04 - val_mean_io_u: 0.4994 - lr: 0.0100\n",
            "Epoch 4/300\n",
            "278/278 [==============================] - ETA: 0s - loss: -4.9505e-04 - recall: 0.9617 - precision: 3.2882e-04 - dice_coef: 4.9505e-04 - mean_io_u: 0.4998\n",
            "Epoch 4: val_loss improved from -0.00044 to -0.00048, saving model to /content/drive/MyDrive/Res-U-Net++/res-unet++.h5\n",
            "278/278 [==============================] - 353s 1s/step - loss: -4.9505e-04 - recall: 0.9617 - precision: 3.2882e-04 - dice_coef: 4.9505e-04 - mean_io_u: 0.4998 - val_loss: -4.8076e-04 - val_recall: 0.9937 - val_precision: 3.1768e-04 - val_dice_coef: 4.8076e-04 - val_mean_io_u: 0.4995 - lr: 0.0100\n",
            "Epoch 5/300\n",
            "278/278 [==============================] - ETA: 0s - loss: -5.3341e-04 - recall: 0.9805 - precision: 3.5713e-04 - dice_coef: 5.3341e-04 - mean_io_u: 0.4995\n",
            "Epoch 5: val_loss improved from -0.00048 to -0.00051, saving model to /content/drive/MyDrive/Res-U-Net++/res-unet++.h5\n",
            "278/278 [==============================] - 353s 1s/step - loss: -5.3341e-04 - recall: 0.9805 - precision: 3.5713e-04 - dice_coef: 5.3341e-04 - mean_io_u: 0.4995 - val_loss: -5.1061e-04 - val_recall: 0.9936 - val_precision: 3.3180e-04 - val_dice_coef: 5.1061e-04 - val_mean_io_u: 0.4993 - lr: 0.0100\n",
            "Epoch 6/300\n",
            "278/278 [==============================] - ETA: 0s - loss: -5.7500e-04 - recall: 0.9860 - precision: 3.7594e-04 - dice_coef: 5.7500e-04 - mean_io_u: 0.4995\n",
            "Epoch 6: val_loss improved from -0.00051 to -0.00056, saving model to /content/drive/MyDrive/Res-U-Net++/res-unet++.h5\n",
            "278/278 [==============================] - 353s 1s/step - loss: -5.7500e-04 - recall: 0.9860 - precision: 3.7594e-04 - dice_coef: 5.7500e-04 - mean_io_u: 0.4995 - val_loss: -5.5832e-04 - val_recall: 0.9950 - val_precision: 3.6178e-04 - val_dice_coef: 5.5832e-04 - val_mean_io_u: 0.4992 - lr: 0.0100\n",
            "Epoch 7/300\n",
            "278/278 [==============================] - ETA: 0s - loss: -6.2277e-04 - recall: 0.9869 - precision: 3.8911e-04 - dice_coef: 6.2277e-04 - mean_io_u: 0.4994\n",
            "Epoch 7: val_loss improved from -0.00056 to -0.00059, saving model to /content/drive/MyDrive/Res-U-Net++/res-unet++.h5\n",
            "278/278 [==============================] - 353s 1s/step - loss: -6.2277e-04 - recall: 0.9869 - precision: 3.8911e-04 - dice_coef: 6.2277e-04 - mean_io_u: 0.4994 - val_loss: -5.9393e-04 - val_recall: 0.9955 - val_precision: 3.6116e-04 - val_dice_coef: 5.9393e-04 - val_mean_io_u: 0.4993 - lr: 0.0100\n",
            "Epoch 8/300\n",
            "278/278 [==============================] - ETA: 0s - loss: -6.8243e-04 - recall: 0.9894 - precision: 3.9882e-04 - dice_coef: 6.8243e-04 - mean_io_u: 0.4991\n",
            "Epoch 8: val_loss improved from -0.00059 to -0.00066, saving model to /content/drive/MyDrive/Res-U-Net++/res-unet++.h5\n",
            "278/278 [==============================] - 353s 1s/step - loss: -6.8243e-04 - recall: 0.9894 - precision: 3.9882e-04 - dice_coef: 6.8243e-04 - mean_io_u: 0.4991 - val_loss: -6.6296e-04 - val_recall: 0.9975 - val_precision: 3.8084e-04 - val_dice_coef: 6.6296e-04 - val_mean_io_u: 0.4991 - lr: 0.0100\n",
            "Epoch 9/300\n",
            "278/278 [==============================] - ETA: 0s - loss: -7.5655e-04 - recall: 0.9920 - precision: 4.0658e-04 - dice_coef: 7.5655e-04 - mean_io_u: 0.4987\n",
            "Epoch 9: val_loss improved from -0.00066 to -0.00074, saving model to /content/drive/MyDrive/Res-U-Net++/res-unet++.h5\n",
            "278/278 [==============================] - 352s 1s/step - loss: -7.5655e-04 - recall: 0.9920 - precision: 4.0658e-04 - dice_coef: 7.5655e-04 - mean_io_u: 0.4987 - val_loss: -7.4466e-04 - val_recall: 0.9975 - val_precision: 3.9340e-04 - val_dice_coef: 7.4466e-04 - val_mean_io_u: 0.4987 - lr: 0.0100\n",
            "Epoch 10/300\n",
            "278/278 [==============================] - ETA: 0s - loss: -8.4074e-04 - recall: 0.9951 - precision: 4.1344e-04 - dice_coef: 8.4074e-04 - mean_io_u: 0.4980\n",
            "Epoch 10: val_loss improved from -0.00074 to -0.00082, saving model to /content/drive/MyDrive/Res-U-Net++/res-unet++.h5\n",
            "278/278 [==============================] - 352s 1s/step - loss: -8.4074e-04 - recall: 0.9951 - precision: 4.1344e-04 - dice_coef: 8.4074e-04 - mean_io_u: 0.4980 - val_loss: -8.2445e-04 - val_recall: 0.9981 - val_precision: 3.9308e-04 - val_dice_coef: 8.2445e-04 - val_mean_io_u: 0.4980 - lr: 0.0100\n",
            "Epoch 11/300\n",
            "278/278 [==============================] - ETA: 0s - loss: -9.3368e-04 - recall: 0.9972 - precision: 4.1878e-04 - dice_coef: 9.3368e-04 - mean_io_u: 0.4968\n",
            "Epoch 11: val_loss improved from -0.00082 to -0.00092, saving model to /content/drive/MyDrive/Res-U-Net++/res-unet++.h5\n",
            "278/278 [==============================] - 353s 1s/step - loss: -9.3368e-04 - recall: 0.9972 - precision: 4.1878e-04 - dice_coef: 9.3368e-04 - mean_io_u: 0.4968 - val_loss: -9.1592e-04 - val_recall: 0.9994 - val_precision: 3.9487e-04 - val_dice_coef: 9.1592e-04 - val_mean_io_u: 0.4966 - lr: 0.0100\n",
            "Epoch 12/300\n",
            "278/278 [==============================] - ETA: 0s - loss: -0.0010 - recall: 0.9965 - precision: 4.2393e-04 - dice_coef: 0.0010 - mean_io_u: 0.4951\n",
            "Epoch 12: val_loss improved from -0.00092 to -0.00094, saving model to /content/drive/MyDrive/Res-U-Net++/res-unet++.h5\n",
            "278/278 [==============================] - 353s 1s/step - loss: -0.0010 - recall: 0.9965 - precision: 4.2393e-04 - dice_coef: 0.0010 - mean_io_u: 0.4951 - val_loss: -9.3592e-04 - val_recall: 1.0000 - val_precision: 3.4944e-04 - val_dice_coef: 9.3592e-04 - val_mean_io_u: 0.4942 - lr: 0.0100\n",
            "Epoch 13/300\n",
            "278/278 [==============================] - ETA: 0s - loss: -0.0011 - recall: 0.9968 - precision: 4.2891e-04 - dice_coef: 0.0011 - mean_io_u: 0.4925\n",
            "Epoch 13: val_loss improved from -0.00094 to -0.00110, saving model to /content/drive/MyDrive/Res-U-Net++/res-unet++.h5\n",
            "278/278 [==============================] - 353s 1s/step - loss: -0.0011 - recall: 0.9968 - precision: 4.2891e-04 - dice_coef: 0.0011 - mean_io_u: 0.4925 - val_loss: -0.0011 - val_recall: 1.0000 - val_precision: 4.1301e-04 - val_dice_coef: 0.0011 - val_mean_io_u: 0.4909 - lr: 0.0100\n",
            "Epoch 14/300\n",
            "278/278 [==============================] - ETA: 0s - loss: -0.0012 - recall: 0.9992 - precision: 4.3650e-04 - dice_coef: 0.0012 - mean_io_u: 0.4896\n",
            "Epoch 14: val_loss improved from -0.00110 to -0.00115, saving model to /content/drive/MyDrive/Res-U-Net++/res-unet++.h5\n",
            "278/278 [==============================] - 353s 1s/step - loss: -0.0012 - recall: 0.9992 - precision: 4.3650e-04 - dice_coef: 0.0012 - mean_io_u: 0.4896 - val_loss: -0.0012 - val_recall: 1.0000 - val_precision: 4.0439e-04 - val_dice_coef: 0.0012 - val_mean_io_u: 0.4881 - lr: 0.0100\n",
            "Epoch 15/300\n",
            "278/278 [==============================] - ETA: 0s - loss: -0.0013 - recall: 0.9995 - precision: 4.4287e-04 - dice_coef: 0.0013 - mean_io_u: 0.4872\n",
            "Epoch 15: val_loss improved from -0.00115 to -0.00125, saving model to /content/drive/MyDrive/Res-U-Net++/res-unet++.h5\n",
            "278/278 [==============================] - 352s 1s/step - loss: -0.0013 - recall: 0.9995 - precision: 4.4287e-04 - dice_coef: 0.0013 - mean_io_u: 0.4872 - val_loss: -0.0012 - val_recall: 1.0000 - val_precision: 4.3022e-04 - val_dice_coef: 0.0012 - val_mean_io_u: 0.4859 - lr: 0.0100\n",
            "Epoch 16/300\n",
            "278/278 [==============================] - ETA: 0s - loss: -0.0013 - recall: 0.9992 - precision: 4.5002e-04 - dice_coef: 0.0013 - mean_io_u: 0.4849\n",
            "Epoch 16: val_loss improved from -0.00125 to -0.00129, saving model to /content/drive/MyDrive/Res-U-Net++/res-unet++.h5\n",
            "278/278 [==============================] - 352s 1s/step - loss: -0.0013 - recall: 0.9992 - precision: 4.5002e-04 - dice_coef: 0.0013 - mean_io_u: 0.4849 - val_loss: -0.0013 - val_recall: 1.0000 - val_precision: 4.1620e-04 - val_dice_coef: 0.0013 - val_mean_io_u: 0.4840 - lr: 0.0100\n",
            "Epoch 17/300\n",
            "278/278 [==============================] - ETA: 0s - loss: -0.0014 - recall: 0.9980 - precision: 4.5660e-04 - dice_coef: 0.0014 - mean_io_u: 0.4830\n",
            "Epoch 17: val_loss improved from -0.00129 to -0.00137, saving model to /content/drive/MyDrive/Res-U-Net++/res-unet++.h5\n",
            "278/278 [==============================] - 353s 1s/step - loss: -0.0014 - recall: 0.9980 - precision: 4.5660e-04 - dice_coef: 0.0014 - mean_io_u: 0.4830 - val_loss: -0.0014 - val_recall: 1.0000 - val_precision: 4.2552e-04 - val_dice_coef: 0.0014 - val_mean_io_u: 0.4824 - lr: 0.0100\n",
            "Epoch 18/300\n",
            "278/278 [==============================] - ETA: 0s - loss: -0.0014 - recall: 0.9998 - precision: 4.6522e-04 - dice_coef: 0.0014 - mean_io_u: 0.4816\n",
            "Epoch 18: val_loss improved from -0.00137 to -0.00144, saving model to /content/drive/MyDrive/Res-U-Net++/res-unet++.h5\n",
            "278/278 [==============================] - 352s 1s/step - loss: -0.0014 - recall: 0.9998 - precision: 4.6522e-04 - dice_coef: 0.0014 - mean_io_u: 0.4816 - val_loss: -0.0014 - val_recall: 1.0000 - val_precision: 4.5360e-04 - val_dice_coef: 0.0014 - val_mean_io_u: 0.4813 - lr: 0.0100\n",
            "Epoch 19/300\n",
            "278/278 [==============================] - ETA: 0s - loss: -0.0015 - recall: 0.9985 - precision: 4.7211e-04 - dice_coef: 0.0015 - mean_io_u: 0.4806\n",
            "Epoch 19: val_loss improved from -0.00144 to -0.00147, saving model to /content/drive/MyDrive/Res-U-Net++/res-unet++.h5\n",
            "278/278 [==============================] - 352s 1s/step - loss: -0.0015 - recall: 0.9985 - precision: 4.7211e-04 - dice_coef: 0.0015 - mean_io_u: 0.4806 - val_loss: -0.0015 - val_recall: 1.0000 - val_precision: 4.5878e-04 - val_dice_coef: 0.0015 - val_mean_io_u: 0.4808 - lr: 0.0100\n",
            "Epoch 20/300\n",
            "278/278 [==============================] - ETA: 0s - loss: -0.0015 - recall: 0.9980 - precision: 4.7901e-04 - dice_coef: 0.0015 - mean_io_u: 0.4799\n",
            "Epoch 20: val_loss improved from -0.00147 to -0.00148, saving model to /content/drive/MyDrive/Res-U-Net++/res-unet++.h5\n",
            "278/278 [==============================] - 354s 1s/step - loss: -0.0015 - recall: 0.9980 - precision: 4.7901e-04 - dice_coef: 0.0015 - mean_io_u: 0.4799 - val_loss: -0.0015 - val_recall: 0.9988 - val_precision: 4.6375e-04 - val_dice_coef: 0.0015 - val_mean_io_u: 0.4800 - lr: 0.0100\n",
            "Epoch 21/300\n",
            "278/278 [==============================] - ETA: 0s - loss: -0.0016 - recall: 0.9993 - precision: 4.8631e-04 - dice_coef: 0.0016 - mean_io_u: 0.4794\n",
            "Epoch 21: val_loss improved from -0.00148 to -0.00155, saving model to /content/drive/MyDrive/Res-U-Net++/res-unet++.h5\n",
            "278/278 [==============================] - 354s 1s/step - loss: -0.0016 - recall: 0.9993 - precision: 4.8631e-04 - dice_coef: 0.0016 - mean_io_u: 0.4794 - val_loss: -0.0015 - val_recall: 1.0000 - val_precision: 4.7062e-04 - val_dice_coef: 0.0015 - val_mean_io_u: 0.4794 - lr: 0.0100\n",
            "Epoch 22/300\n",
            "278/278 [==============================] - ETA: 0s - loss: -0.0016 - recall: 0.9991 - precision: 4.9305e-04 - dice_coef: 0.0016 - mean_io_u: 0.4790\n",
            "Epoch 22: val_loss improved from -0.00155 to -0.00157, saving model to /content/drive/MyDrive/Res-U-Net++/res-unet++.h5\n",
            "278/278 [==============================] - 354s 1s/step - loss: -0.0016 - recall: 0.9991 - precision: 4.9305e-04 - dice_coef: 0.0016 - mean_io_u: 0.4790 - val_loss: -0.0016 - val_recall: 1.0000 - val_precision: 4.6130e-04 - val_dice_coef: 0.0016 - val_mean_io_u: 0.4792 - lr: 0.0100\n",
            "Epoch 23/300\n",
            "278/278 [==============================] - ETA: 0s - loss: -0.0016 - recall: 0.9985 - precision: 5.0005e-04 - dice_coef: 0.0016 - mean_io_u: 0.4787\n",
            "Epoch 23: val_loss improved from -0.00157 to -0.00166, saving model to /content/drive/MyDrive/Res-U-Net++/res-unet++.h5\n",
            "278/278 [==============================] - 354s 1s/step - loss: -0.0016 - recall: 0.9985 - precision: 5.0005e-04 - dice_coef: 0.0016 - mean_io_u: 0.4787 - val_loss: -0.0017 - val_recall: 1.0000 - val_precision: 4.8413e-04 - val_dice_coef: 0.0017 - val_mean_io_u: 0.4792 - lr: 0.0100\n",
            "Epoch 24/300\n",
            "278/278 [==============================] - ETA: 0s - loss: -0.0017 - recall: 0.9986 - precision: 5.0630e-04 - dice_coef: 0.0017 - mean_io_u: 0.4787\n",
            "Epoch 24: val_loss did not improve from -0.00166\n",
            "278/278 [==============================] - 353s 1s/step - loss: -0.0017 - recall: 0.9986 - precision: 5.0630e-04 - dice_coef: 0.0017 - mean_io_u: 0.4787 - val_loss: -0.0016 - val_recall: 1.0000 - val_precision: 4.8549e-04 - val_dice_coef: 0.0016 - val_mean_io_u: 0.4789 - lr: 0.0100\n",
            "Epoch 25/300\n",
            "278/278 [==============================] - ETA: 0s - loss: -0.0017 - recall: 0.9980 - precision: 5.1333e-04 - dice_coef: 0.0017 - mean_io_u: 0.4787\n",
            "Epoch 25: val_loss improved from -0.00166 to -0.00166, saving model to /content/drive/MyDrive/Res-U-Net++/res-unet++.h5\n",
            "278/278 [==============================] - 354s 1s/step - loss: -0.0017 - recall: 0.9980 - precision: 5.1333e-04 - dice_coef: 0.0017 - mean_io_u: 0.4787 - val_loss: -0.0017 - val_recall: 1.0000 - val_precision: 4.8187e-04 - val_dice_coef: 0.0017 - val_mean_io_u: 0.4791 - lr: 0.0100\n",
            "Epoch 26/300\n",
            "278/278 [==============================] - ETA: 0s - loss: -0.0017 - recall: 0.9975 - precision: 5.2032e-04 - dice_coef: 0.0017 - mean_io_u: 0.4791\n",
            "Epoch 26: val_loss did not improve from -0.00166\n",
            "278/278 [==============================] - 353s 1s/step - loss: -0.0017 - recall: 0.9975 - precision: 5.2032e-04 - dice_coef: 0.0017 - mean_io_u: 0.4791 - val_loss: -0.0016 - val_recall: 1.0000 - val_precision: 4.7370e-04 - val_dice_coef: 0.0016 - val_mean_io_u: 0.4787 - lr: 0.0100\n",
            "Epoch 27/300\n",
            "278/278 [==============================] - ETA: 0s - loss: -0.0018 - recall: 0.9988 - precision: 5.2640e-04 - dice_coef: 0.0018 - mean_io_u: 0.4789\n",
            "Epoch 27: val_loss improved from -0.00166 to -0.00174, saving model to /content/drive/MyDrive/Res-U-Net++/res-unet++.h5\n",
            "278/278 [==============================] - 354s 1s/step - loss: -0.0018 - recall: 0.9988 - precision: 5.2640e-04 - dice_coef: 0.0018 - mean_io_u: 0.4789 - val_loss: -0.0017 - val_recall: 1.0000 - val_precision: 5.0706e-04 - val_dice_coef: 0.0017 - val_mean_io_u: 0.4789 - lr: 0.0100\n",
            "Epoch 28/300\n",
            "278/278 [==============================] - ETA: 0s - loss: -0.0018 - recall: 0.9979 - precision: 5.3031e-04 - dice_coef: 0.0018 - mean_io_u: 0.4788\n",
            "Epoch 28: val_loss improved from -0.00174 to -0.00177, saving model to /content/drive/MyDrive/Res-U-Net++/res-unet++.h5\n",
            "278/278 [==============================] - 355s 1s/step - loss: -0.0018 - recall: 0.9979 - precision: 5.3031e-04 - dice_coef: 0.0018 - mean_io_u: 0.4788 - val_loss: -0.0018 - val_recall: 1.0000 - val_precision: 5.0976e-04 - val_dice_coef: 0.0018 - val_mean_io_u: 0.4785 - lr: 0.0100\n",
            "Epoch 29/300\n",
            "278/278 [==============================] - ETA: 0s - loss: -0.0018 - recall: 0.9987 - precision: 5.3492e-04 - dice_coef: 0.0018 - mean_io_u: 0.4787\n",
            "Epoch 29: val_loss improved from -0.00177 to -0.00182, saving model to /content/drive/MyDrive/Res-U-Net++/res-unet++.h5\n",
            "278/278 [==============================] - 354s 1s/step - loss: -0.0018 - recall: 0.9987 - precision: 5.3492e-04 - dice_coef: 0.0018 - mean_io_u: 0.4787 - val_loss: -0.0018 - val_recall: 1.0000 - val_precision: 5.1993e-04 - val_dice_coef: 0.0018 - val_mean_io_u: 0.4785 - lr: 0.0100\n",
            "Epoch 30/300\n",
            "278/278 [==============================] - ETA: 0s - loss: -0.0018 - recall: 0.9976 - precision: 5.3886e-04 - dice_coef: 0.0018 - mean_io_u: 0.4789\n",
            "Epoch 30: val_loss did not improve from -0.00182\n",
            "278/278 [==============================] - 353s 1s/step - loss: -0.0018 - recall: 0.9976 - precision: 5.3886e-04 - dice_coef: 0.0018 - mean_io_u: 0.4789 - val_loss: -0.0017 - val_recall: 1.0000 - val_precision: 4.9524e-04 - val_dice_coef: 0.0017 - val_mean_io_u: 0.4781 - lr: 0.0100\n",
            "Epoch 31/300\n",
            "278/278 [==============================] - ETA: 0s - loss: -0.0019 - recall: 0.9985 - precision: 5.4388e-04 - dice_coef: 0.0019 - mean_io_u: 0.4791\n",
            "Epoch 31: val_loss improved from -0.00182 to -0.00182, saving model to /content/drive/MyDrive/Res-U-Net++/res-unet++.h5\n",
            "278/278 [==============================] - 354s 1s/step - loss: -0.0019 - recall: 0.9985 - precision: 5.4388e-04 - dice_coef: 0.0019 - mean_io_u: 0.4791 - val_loss: -0.0018 - val_recall: 1.0000 - val_precision: 5.2770e-04 - val_dice_coef: 0.0018 - val_mean_io_u: 0.4794 - lr: 0.0100\n",
            "Epoch 32/300\n",
            "278/278 [==============================] - ETA: 0s - loss: -0.0019 - recall: 0.9990 - precision: 5.4836e-04 - dice_coef: 0.0019 - mean_io_u: 0.4794\n",
            "Epoch 32: val_loss did not improve from -0.00182\n",
            "278/278 [==============================] - 353s 1s/step - loss: -0.0019 - recall: 0.9990 - precision: 5.4836e-04 - dice_coef: 0.0019 - mean_io_u: 0.4794 - val_loss: -0.0018 - val_recall: 1.0000 - val_precision: 4.9011e-04 - val_dice_coef: 0.0018 - val_mean_io_u: 0.4797 - lr: 0.0100\n",
            "Epoch 33/300\n",
            "278/278 [==============================] - ETA: 0s - loss: -0.0019 - recall: 0.9981 - precision: 5.5227e-04 - dice_coef: 0.0019 - mean_io_u: 0.4799\n",
            "Epoch 33: val_loss did not improve from -0.00182\n",
            "\n",
            "Epoch 33: ReduceLROnPlateau reducing learning rate to 0.0009999999776482583.\n",
            "278/278 [==============================] - 353s 1s/step - loss: -0.0019 - recall: 0.9981 - precision: 5.5227e-04 - dice_coef: 0.0019 - mean_io_u: 0.4799 - val_loss: -0.0018 - val_recall: 1.0000 - val_precision: 5.0529e-04 - val_dice_coef: 0.0018 - val_mean_io_u: 0.4798 - lr: 0.0100\n",
            "Epoch 34/300\n",
            "278/278 [==============================] - ETA: 0s - loss: -0.0019 - recall: 0.9987 - precision: 5.5510e-04 - dice_coef: 0.0019 - mean_io_u: 0.4802\n",
            "Epoch 34: val_loss did not improve from -0.00182\n",
            "278/278 [==============================] - 353s 1s/step - loss: -0.0019 - recall: 0.9987 - precision: 5.5510e-04 - dice_coef: 0.0019 - mean_io_u: 0.4802 - val_loss: -0.0017 - val_recall: 1.0000 - val_precision: 4.7318e-04 - val_dice_coef: 0.0017 - val_mean_io_u: 0.4800 - lr: 1.0000e-03\n",
            "Epoch 35/300\n",
            "278/278 [==============================] - ETA: 0s - loss: -0.0019 - recall: 0.9974 - precision: 5.5465e-04 - dice_coef: 0.0019 - mean_io_u: 0.4802\n",
            "Epoch 35: val_loss improved from -0.00182 to -0.00183, saving model to /content/drive/MyDrive/Res-U-Net++/res-unet++.h5\n",
            "278/278 [==============================] - 354s 1s/step - loss: -0.0019 - recall: 0.9974 - precision: 5.5465e-04 - dice_coef: 0.0019 - mean_io_u: 0.4802 - val_loss: -0.0018 - val_recall: 1.0000 - val_precision: 5.0858e-04 - val_dice_coef: 0.0018 - val_mean_io_u: 0.4801 - lr: 1.0000e-03\n",
            "Epoch 36/300\n",
            "278/278 [==============================] - ETA: 0s - loss: -0.0019 - recall: 0.9985 - precision: 5.5612e-04 - dice_coef: 0.0019 - mean_io_u: 0.4802\n",
            "Epoch 36: val_loss did not improve from -0.00183\n",
            "278/278 [==============================] - 353s 1s/step - loss: -0.0019 - recall: 0.9985 - precision: 5.5612e-04 - dice_coef: 0.0019 - mean_io_u: 0.4802 - val_loss: -0.0018 - val_recall: 1.0000 - val_precision: 5.3867e-04 - val_dice_coef: 0.0018 - val_mean_io_u: 0.4798 - lr: 1.0000e-03\n",
            "Epoch 37/300\n",
            "278/278 [==============================] - ETA: 0s - loss: -0.0019 - recall: 0.9987 - precision: 5.5643e-04 - dice_coef: 0.0019 - mean_io_u: 0.4803\n",
            "Epoch 37: val_loss improved from -0.00183 to -0.00185, saving model to /content/drive/MyDrive/Res-U-Net++/res-unet++.h5\n",
            "278/278 [==============================] - 354s 1s/step - loss: -0.0019 - recall: 0.9987 - precision: 5.5643e-04 - dice_coef: 0.0019 - mean_io_u: 0.4803 - val_loss: -0.0019 - val_recall: 1.0000 - val_precision: 5.2803e-04 - val_dice_coef: 0.0019 - val_mean_io_u: 0.4802 - lr: 1.0000e-03\n",
            "Epoch 38/300\n",
            "278/278 [==============================] - ETA: 0s - loss: -0.0019 - recall: 0.9991 - precision: 5.5766e-04 - dice_coef: 0.0019 - mean_io_u: 0.4805\n",
            "Epoch 38: val_loss did not improve from -0.00185\n",
            "\n",
            "Epoch 38: ReduceLROnPlateau reducing learning rate to 9.999999310821295e-05.\n",
            "278/278 [==============================] - 353s 1s/step - loss: -0.0019 - recall: 0.9991 - precision: 5.5766e-04 - dice_coef: 0.0019 - mean_io_u: 0.4805 - val_loss: -0.0018 - val_recall: 1.0000 - val_precision: 5.2305e-04 - val_dice_coef: 0.0018 - val_mean_io_u: 0.4805 - lr: 1.0000e-03\n",
            "Epoch 39/300\n",
            "278/278 [==============================] - ETA: 0s - loss: -0.0019 - recall: 0.9988 - precision: 5.5780e-04 - dice_coef: 0.0019 - mean_io_u: 0.4806\n",
            "Epoch 39: val_loss improved from -0.00185 to -0.00186, saving model to /content/drive/MyDrive/Res-U-Net++/res-unet++.h5\n",
            "278/278 [==============================] - 354s 1s/step - loss: -0.0019 - recall: 0.9988 - precision: 5.5780e-04 - dice_coef: 0.0019 - mean_io_u: 0.4806 - val_loss: -0.0019 - val_recall: 1.0000 - val_precision: 5.0998e-04 - val_dice_coef: 0.0019 - val_mean_io_u: 0.4803 - lr: 1.0000e-04\n",
            "Epoch 40/300\n",
            "278/278 [==============================] - ETA: 0s - loss: -0.0019 - recall: 0.9986 - precision: 5.5776e-04 - dice_coef: 0.0019 - mean_io_u: 0.4805\n",
            "Epoch 40: val_loss improved from -0.00186 to -0.00189, saving model to /content/drive/MyDrive/Res-U-Net++/res-unet++.h5\n",
            "278/278 [==============================] - 354s 1s/step - loss: -0.0019 - recall: 0.9986 - precision: 5.5776e-04 - dice_coef: 0.0019 - mean_io_u: 0.4805 - val_loss: -0.0019 - val_recall: 1.0000 - val_precision: 5.3257e-04 - val_dice_coef: 0.0019 - val_mean_io_u: 0.4804 - lr: 1.0000e-04\n",
            "Epoch 41/300\n",
            "278/278 [==============================] - ETA: 0s - loss: -0.0019 - recall: 0.9982 - precision: 5.5772e-04 - dice_coef: 0.0019 - mean_io_u: 0.4806\n",
            "Epoch 41: val_loss did not improve from -0.00189\n",
            "278/278 [==============================] - 353s 1s/step - loss: -0.0019 - recall: 0.9982 - precision: 5.5772e-04 - dice_coef: 0.0019 - mean_io_u: 0.4806 - val_loss: -0.0018 - val_recall: 1.0000 - val_precision: 4.9980e-04 - val_dice_coef: 0.0018 - val_mean_io_u: 0.4802 - lr: 1.0000e-04\n",
            "Epoch 42/300\n",
            "278/278 [==============================] - ETA: 0s - loss: -0.0019 - recall: 0.9988 - precision: 5.5771e-04 - dice_coef: 0.0019 - mean_io_u: 0.4805\n",
            "Epoch 42: val_loss did not improve from -0.00189\n",
            "278/278 [==============================] - 353s 1s/step - loss: -0.0019 - recall: 0.9988 - precision: 5.5771e-04 - dice_coef: 0.0019 - mean_io_u: 0.4805 - val_loss: -0.0019 - val_recall: 1.0000 - val_precision: 5.3582e-04 - val_dice_coef: 0.0019 - val_mean_io_u: 0.4800 - lr: 1.0000e-04\n",
            "Epoch 43/300\n",
            "130/278 [=============>................] - ETA: 3:02 - loss: -0.0019 - recall: 0.9983 - precision: 5.8936e-04 - dice_coef: 0.0019 - mean_io_u: 0.4805"
          ]
        }
      ]
    },
    {
      "cell_type": "code",
      "source": [
        "test_ids = list(Xtest.image_path)\n",
        "test_mask = list(Xtest.mask_path)\n",
        "test_data = DataGenerator(test_ids, test_mask)"
      ],
      "metadata": {
        "id": "IKgEM2lncj0j"
      },
      "execution_count": null,
      "outputs": []
    },
    {
      "cell_type": "code",
      "source": [
        "tv,rcall ,pre ,dice ,men= model.evaluate(test_data)"
      ],
      "metadata": {
        "id": "1AdSGHq197eb"
      },
      "execution_count": null,
      "outputs": []
    },
    {
      "cell_type": "code",
      "source": [
        "print(\"UNet Segmentation dice coef. is {:.2f}%\".format(dice*100))"
      ],
      "metadata": {
        "id": "lN2nhpCAdRIf"
      },
      "execution_count": null,
      "outputs": []
    },
    {
      "cell_type": "code",
      "source": [
        "class Savefiles(keras.callbacks.Callback):\n",
        "  def on_epoch_end(self, epoch, logs={}):\n",
        "      self.model.save_weights(\"Resunet++-seg-model.h5\")\n",
        "      model_json=self.model.to_json()\n",
        "      with open(\"Resunet++-seg-model.json\", \"w\") as json_file:\n",
        "        json_file.write(model_json)\n",
        "      !cp Resunet++-seg-model.json /content/drive/MyDrive/ResUnet50-keras\n",
        "      !cp Resunet++-seg-model.h5 /content/drive/MyDrive/ResUnet50-keras\n",
        "      !cp history.csv /content/drive/MyDrive/ResUnet50-keras  \n",
        "save_files=Savefiles()     "
      ],
      "metadata": {
        "id": "NjbIMVegvVVo"
      },
      "execution_count": null,
      "outputs": []
    }
  ]
}