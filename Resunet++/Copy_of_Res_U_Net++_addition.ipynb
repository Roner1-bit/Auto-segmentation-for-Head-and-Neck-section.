{
  "nbformat": 4,
  "nbformat_minor": 0,
  "metadata": {
    "colab": {
      "name": "Copy of Res-U-Net++ addition.ipynb",
      "provenance": [],
      "collapsed_sections": []
    },
    "kernelspec": {
      "name": "python3",
      "display_name": "Python 3"
    },
    "language_info": {
      "name": "python"
    },
    "accelerator": "GPU"
  },
  "cells": [
    {
      "cell_type": "code",
      "execution_count": null,
      "metadata": {
        "id": "jL4s2yd_DE2Y"
      },
      "outputs": [],
      "source": [
        "import os\n",
        "import numpy as np\n",
        "import cv2\n",
        "from glob import glob\n",
        "import numpy as np\n",
        "import pandas as pd\n",
        "import tensorflow as tf\n",
        "from keras.layers import *\n",
        "from keras.models import Model\n",
        "from tensorflow.keras.callbacks import ReduceLROnPlateau, EarlyStopping, ModelCheckpoint, LearningRateScheduler"
      ]
    },
    {
      "cell_type": "code",
      "source": [
        "from tensorflow.keras.metrics import Precision, Recall, MeanIoU\n",
        "from tensorflow.keras.optimizers import Adam, Nadam, SGD\n",
        "from tensorflow.keras.models import Model, load_model, save_model\n",
        "from tensorflow.keras.layers import Input, Activation, BatchNormalization, Dropout, Lambda, Conv2D, Conv2DTranspose, MaxPooling2D, concatenate, AveragePooling2D, Dense, Flatten\n",
        "from tensorflow.keras.optimizers import Adam\n",
        "from tensorflow.keras import backend as K\n",
        "from sklearn.model_selection import train_test_split\n",
        "from skimage import io\n",
        "import tensorflow.keras.backend as K"
      ],
      "metadata": {
        "id": "yuABVWt1F9JD"
      },
      "execution_count": null,
      "outputs": []
    },
    {
      "cell_type": "code",
      "source": [
        "from google.colab import drive\n",
        "drive.mount('/content/drive')"
      ],
      "metadata": {
        "colab": {
          "base_uri": "https://localhost:8080/"
        },
        "id": "HVezKxcRsLmS",
        "outputId": "7ea77b19-5c86-45f8-d01b-8dad3d1e4c6e"
      },
      "execution_count": null,
      "outputs": [
        {
          "output_type": "stream",
          "name": "stdout",
          "text": [
            "Mounted at /content/drive\n"
          ]
        }
      ]
    },
    {
      "cell_type": "code",
      "source": [
        "def dice_coef(y_true, y_pred):\n",
        "    smooth=100\n",
        "    y_true = tf.cast(y_true, tf.float32)\n",
        "    y_truef=K.flatten(y_true)\n",
        "    y_predf=K.flatten(y_pred)\n",
        "    And=K.sum(y_truef* y_predf)\n",
        "    return((2* And + smooth) / (K.sum(y_truef) + K.sum(y_predf) + smooth))\n",
        "\n",
        "def dice_coef_loss(y_true, y_pred):\n",
        "    return -dice_coef(y_true, y_pred)\n"
      ],
      "metadata": {
        "id": "e4c95b61Rs6v"
      },
      "execution_count": null,
      "outputs": []
    },
    {
      "cell_type": "code",
      "source": [
        "def squeeze_excite_block(inputs, ratio=16):\n",
        "    init = inputs\n",
        "    channel_axis = -1\n",
        "    filters = init.shape[channel_axis]\n",
        "    se_shape = (1, 1, filters)\n",
        "\n",
        "    se = GlobalAveragePooling2D()(init)\n",
        "    se = Reshape(se_shape)(se)\n",
        "    se = Dense(filters // ratio, activation='relu', kernel_initializer='he_normal', use_bias=False)(se)\n",
        "    se = Dense(filters, activation='sigmoid', kernel_initializer='he_normal', use_bias=False)(se)\n",
        "\n",
        "    x = Multiply()([init, se])\n",
        "    return x\n"
      ],
      "metadata": {
        "id": "yh-13HdsDmAc"
      },
      "execution_count": null,
      "outputs": []
    },
    {
      "cell_type": "code",
      "source": [
        "def stem_block(x, n_filter, strides):\n",
        "    x_init = x\n",
        "\n",
        "    ## Conv 1\n",
        "    x = Conv2D(n_filter, (3, 3), padding=\"same\", strides=strides)(x)\n",
        "    x = BatchNormalization()(x)\n",
        "    x = Activation(\"relu\")(x)\n",
        "    x = Conv2D(n_filter, (3, 3), padding=\"same\")(x)\n",
        "\n",
        "    ## Shortcut\n",
        "    s  = Conv2D(n_filter, (1, 1), padding=\"same\", strides=strides)(x_init)\n",
        "    s = BatchNormalization()(s)\n",
        "\n",
        "    ## Add\n",
        "    x = Add()([x, s])\n",
        "    x = squeeze_excite_block(x)\n",
        "    return x"
      ],
      "metadata": {
        "id": "CwMacDPLDoEy"
      },
      "execution_count": null,
      "outputs": []
    },
    {
      "cell_type": "code",
      "source": [
        "def resnet_block(x, n_filter, strides=1):\n",
        "    x_init = x\n",
        "\n",
        "    ## Conv 1\n",
        "    x = BatchNormalization()(x)\n",
        "    x = Activation(\"relu\")(x)\n",
        "    x = Conv2D(n_filter, (1, 1), padding=\"same\", strides=strides)(x)\n",
        "    ## Conv 2\n",
        "    x = BatchNormalization()(x)\n",
        "    x = Activation(\"relu\")(x)\n",
        "    x = Conv2D(n_filter, (3, 3), padding=\"same\", strides=1)(x)\n",
        "\n",
        "    ## Shortcut\n",
        "    s  = Conv2D(n_filter, (1, 1), padding=\"same\", strides=strides)(x_init)\n",
        "    s = BatchNormalization()(s)\n",
        "\n",
        "    ## Add\n",
        "    x = Add()([x, s])\n",
        "    x = squeeze_excite_block(x)\n",
        "    return x"
      ],
      "metadata": {
        "id": "q05wy_yTDqWr"
      },
      "execution_count": null,
      "outputs": []
    },
    {
      "cell_type": "code",
      "source": [
        "def aspp_block(x, num_filters, rate_scale=1):\n",
        "    x1 = Conv2D(num_filters, (3, 3), dilation_rate=(6 * rate_scale, 6 * rate_scale), padding=\"same\")(x)\n",
        "    x1 = BatchNormalization()(x1)\n",
        "\n",
        "    x2 = Conv2D(num_filters, (1, 1), dilation_rate=(12 * rate_scale, 12 * rate_scale), padding=\"same\")(x)\n",
        "    x2 = BatchNormalization()(x2)\n",
        "\n",
        "    x3 = Conv2D(num_filters, (3, 3), dilation_rate=(18 * rate_scale, 18 * rate_scale), padding=\"same\")(x)\n",
        "    x3 = BatchNormalization()(x3)\n",
        "\n",
        "    x4 = Conv2D(num_filters, (1, 1), padding=\"same\")(x)\n",
        "    x4 = BatchNormalization()(x4)\n",
        "\n",
        "    y = Add()([x1, x2, x3, x4])\n",
        "    y = Conv2D(num_filters, (1, 1), padding=\"same\")(y)\n",
        "    return y"
      ],
      "metadata": {
        "id": "uQqExl1LDso5"
      },
      "execution_count": null,
      "outputs": []
    },
    {
      "cell_type": "code",
      "source": [
        "def attetion_block(g, x):\n",
        "    \"\"\"\n",
        "        g: Output of Parallel Encoder block\n",
        "        x: Output of Previous Decoder block\n",
        "    \"\"\"\n",
        "\n",
        "    filters = x.shape[-1]\n",
        "\n",
        "    g_conv = BatchNormalization()(g)\n",
        "    g_conv = Activation(\"relu\")(g_conv)\n",
        "    g_conv = Conv2D(filters, (1, 1), padding=\"same\")(g_conv)\n",
        "\n",
        "    g_pool = MaxPooling2D(pool_size=(2, 2), strides=(2, 2))(g_conv)\n",
        "\n",
        "    x_conv = BatchNormalization()(x)\n",
        "    x_conv = Activation(\"relu\")(x_conv)\n",
        "    x_conv = Conv2D(filters, (1, 1), padding=\"same\")(x_conv)\n",
        "\n",
        "    gc_sum = Add()([g_pool, x_conv])\n",
        "\n",
        "    gc_conv = BatchNormalization()(gc_sum)\n",
        "    gc_conv = Activation(\"relu\")(gc_conv)\n",
        "    gc_conv = Conv2D(filters, (1, 1), padding=\"same\")(gc_conv)\n",
        "\n",
        "    gc_mul = Multiply()([gc_conv, x])\n",
        "    return gc_mul"
      ],
      "metadata": {
        "id": "IMoCF90CDugy"
      },
      "execution_count": null,
      "outputs": []
    },
    {
      "cell_type": "code",
      "source": [
        "class ResUnetPlusPlus:\n",
        "    def __init__(self, input_size=256):\n",
        "        self.input_size = input_size\n",
        "\n",
        "    def build_model(self):\n",
        "        n_filters = [16, 32, 64, 128, 256,512]\n",
        "        inputs = Input((self.input_size, self.input_size, 3))\n",
        "\n",
        "        c0 = inputs\n",
        "        c1 = stem_block(c0, n_filters[0], strides=1)\n",
        "\n",
        "        ## Encoder\n",
        "        c2 = resnet_block(c1, n_filters[1], strides=2)\n",
        "        c3 = resnet_block(c2, n_filters[2], strides=2)\n",
        "        c4 = resnet_block(c3, n_filters[3], strides=2)\n",
        "        c5 = resnet_block(c4, n_filters[4], strides=2)\n",
        "\n",
        "        ## Bridge\n",
        "        b1 = aspp_block(c5, n_filters[5])\n",
        "\n",
        "        ## Decoder\n",
        "        d1 = attetion_block(c4, b1)\n",
        "        d1 = UpSampling2D((2, 2))(d1)\n",
        "        d1 = Concatenate()([d1, c4])\n",
        "        d1 = resnet_block(d1, n_filters[4])\n",
        "\n",
        "        d2 = attetion_block(c3, d1)\n",
        "        d2 = UpSampling2D((2, 2))(d2)\n",
        "        d2 = Concatenate()([d2, c3])\n",
        "        d2 = resnet_block(d2, n_filters[3])\n",
        "\n",
        "        d3 = attetion_block(c2, d2)\n",
        "        d3 = UpSampling2D((2, 2))(d3)\n",
        "        d3 = Concatenate()([d3, c2])\n",
        "        d3 = resnet_block(d3, n_filters[2])\n",
        "        \n",
        "        d4 = attetion_block(c1, d3)\n",
        "        d4 = UpSampling2D((2, 2))(d4)\n",
        "        d4 = Concatenate()([d4, c1])\n",
        "        d4 = resnet_block(d4, n_filters[2])\n",
        "\n",
        "        ## output\n",
        "        outputs = aspp_block(d4, n_filters[0])\n",
        "        outputs = Conv2D(3, (1, 1), padding=\"same\")(outputs)\n",
        "        outputs = Activation(\"sigmoid\")(outputs)\n",
        "\n",
        "        ## Model\n",
        "        model = Model(inputs, outputs)\n",
        "        return model"
      ],
      "metadata": {
        "id": "iC89OqK6Dw_B"
      },
      "execution_count": null,
      "outputs": []
    },
    {
      "cell_type": "code",
      "source": [
        "!pip install -U --no-cache-dir gdown --pre\n",
        "!gdown --id 1-2HGO0znF0JAsgZ_et5Cr_owKVxr_bKZ"
      ],
      "metadata": {
        "colab": {
          "base_uri": "https://localhost:8080/"
        },
        "id": "3hnOFCbHNYg-",
        "outputId": "fc4047c9-4dcf-4eb2-b410-f469618a0140"
      },
      "execution_count": null,
      "outputs": [
        {
          "output_type": "stream",
          "name": "stdout",
          "text": [
            "Requirement already satisfied: gdown in /usr/local/lib/python3.7/dist-packages (4.2.2)\n",
            "Collecting gdown\n",
            "  Downloading gdown-4.4.0.tar.gz (14 kB)\n",
            "  Installing build dependencies ... \u001b[?25l\u001b[?25hdone\n",
            "  Getting requirements to build wheel ... \u001b[?25l\u001b[?25hdone\n",
            "    Preparing wheel metadata ... \u001b[?25l\u001b[?25hdone\n",
            "Requirement already satisfied: beautifulsoup4 in /usr/local/lib/python3.7/dist-packages (from gdown) (4.6.3)\n",
            "Requirement already satisfied: tqdm in /usr/local/lib/python3.7/dist-packages (from gdown) (4.63.0)\n",
            "Requirement already satisfied: six in /usr/local/lib/python3.7/dist-packages (from gdown) (1.15.0)\n",
            "Requirement already satisfied: requests[socks] in /usr/local/lib/python3.7/dist-packages (from gdown) (2.23.0)\n",
            "Requirement already satisfied: filelock in /usr/local/lib/python3.7/dist-packages (from gdown) (3.6.0)\n",
            "Requirement already satisfied: urllib3!=1.25.0,!=1.25.1,<1.26,>=1.21.1 in /usr/local/lib/python3.7/dist-packages (from requests[socks]->gdown) (1.24.3)\n",
            "Requirement already satisfied: idna<3,>=2.5 in /usr/local/lib/python3.7/dist-packages (from requests[socks]->gdown) (2.10)\n",
            "Requirement already satisfied: chardet<4,>=3.0.2 in /usr/local/lib/python3.7/dist-packages (from requests[socks]->gdown) (3.0.4)\n",
            "Requirement already satisfied: certifi>=2017.4.17 in /usr/local/lib/python3.7/dist-packages (from requests[socks]->gdown) (2021.10.8)\n",
            "Requirement already satisfied: PySocks!=1.5.7,>=1.5.6 in /usr/local/lib/python3.7/dist-packages (from requests[socks]->gdown) (1.7.1)\n",
            "Building wheels for collected packages: gdown\n",
            "  Building wheel for gdown (PEP 517) ... \u001b[?25l\u001b[?25hdone\n",
            "  Created wheel for gdown: filename=gdown-4.4.0-py3-none-any.whl size=14774 sha256=ed6eec4d8d3e44d9d97fec53c54b10f8807e2dc58a47066fb83e049ee91641c3\n",
            "  Stored in directory: /tmp/pip-ephem-wheel-cache-wyh5tihs/wheels/fb/c3/0e/c4d8ff8bfcb0461afff199471449f642179b74968c15b7a69c\n",
            "Successfully built gdown\n",
            "Installing collected packages: gdown\n",
            "  Attempting uninstall: gdown\n",
            "    Found existing installation: gdown 4.2.2\n",
            "    Uninstalling gdown-4.2.2:\n",
            "      Successfully uninstalled gdown-4.2.2\n",
            "Successfully installed gdown-4.4.0\n",
            "/usr/local/lib/python3.7/dist-packages/gdown/cli.py:131: FutureWarning: Option `--id` was deprecated in version 4.3.1 and will be removed in 5.0. You don't need to pass it anymore to use a file ID.\n",
            "  category=FutureWarning,\n",
            "Downloading...\n",
            "From: https://drive.google.com/uc?id=1-2HGO0znF0JAsgZ_et5Cr_owKVxr_bKZ\n",
            "To: /content/CT_Data.zip\n",
            "100% 624M/624M [00:13<00:00, 44.8MB/s]\n"
          ]
        }
      ]
    },
    {
      "cell_type": "code",
      "source": [
        "!gdown --id 1-6JhSFy3SDEi6tRASt8X41qODmlz9DT_"
      ],
      "metadata": {
        "colab": {
          "base_uri": "https://localhost:8080/"
        },
        "id": "vD45PRwM0j5O",
        "outputId": "c4e9bdc0-d9c9-4423-83d4-8f782d1f09a3"
      },
      "execution_count": null,
      "outputs": [
        {
          "output_type": "stream",
          "name": "stdout",
          "text": [
            "/usr/local/lib/python3.7/dist-packages/gdown/cli.py:131: FutureWarning: Option `--id` was deprecated in version 4.3.1 and will be removed in 5.0. You don't need to pass it anymore to use a file ID.\n",
            "  category=FutureWarning,\n",
            "Downloading...\n",
            "From: https://drive.google.com/uc?id=1-6JhSFy3SDEi6tRASt8X41qODmlz9DT_\n",
            "To: /content/res-unet++.h5\n",
            "100% 58.7M/58.7M [00:00<00:00, 87.9MB/s]\n"
          ]
        }
      ]
    },
    {
      "cell_type": "code",
      "source": [
        "!gdown --id 1-6zEtMBA4wwIFxs0F5o1F-GOj7nTjBuf"
      ],
      "metadata": {
        "colab": {
          "base_uri": "https://localhost:8080/"
        },
        "id": "w2B1ak_Q3t69",
        "outputId": "9cdaebd2-2051-4e7a-9db4-edfe8880e007"
      },
      "execution_count": null,
      "outputs": [
        {
          "output_type": "stream",
          "name": "stdout",
          "text": [
            "/usr/local/lib/python3.7/dist-packages/gdown/cli.py:131: FutureWarning: Option `--id` was deprecated in version 4.3.1 and will be removed in 5.0. You don't need to pass it anymore to use a file ID.\n",
            "  category=FutureWarning,\n",
            "Downloading...\n",
            "From: https://drive.google.com/uc?id=1-6zEtMBA4wwIFxs0F5o1F-GOj7nTjBuf\n",
            "To: /content/history.csv\n",
            "100% 3.39k/3.39k [00:00<00:00, 6.08MB/s]\n"
          ]
        }
      ]
    },
    {
      "cell_type": "code",
      "source": [
        "from zipfile import ZipFile\n",
        "\n",
        "file_name=\"/content/CT_Data.zip\"\n",
        "\n",
        "with ZipFile(file_name, 'r') as ziip:\n",
        "  ziip.extractall()\n",
        "  print('woow')"
      ],
      "metadata": {
        "colab": {
          "base_uri": "https://localhost:8080/"
        },
        "id": "66Yb7VvnOf6x",
        "outputId": "416b5e5c-9941-4710-f620-0a18ef099899"
      },
      "execution_count": null,
      "outputs": [
        {
          "output_type": "stream",
          "name": "stdout",
          "text": [
            "woow\n"
          ]
        }
      ]
    },
    {
      "cell_type": "code",
      "source": [
        "mask_files = glob('/content/content/drive/MyDrive/CT_Data/Masks/*')\n",
        "len(mask_files)"
      ],
      "metadata": {
        "colab": {
          "base_uri": "https://localhost:8080/"
        },
        "id": "4ItxUdgmOqlW",
        "outputId": "abe3f8b6-e7b7-437d-f600-fa4ecd1733dc"
      },
      "execution_count": null,
      "outputs": [
        {
          "output_type": "execute_result",
          "data": {
            "text/plain": [
              "7367"
            ]
          },
          "metadata": {},
          "execution_count": 13
        }
      ]
    },
    {
      "cell_type": "code",
      "source": [
        "CT = glob('/content/content/drive/MyDrive/CT_Data/CT_images/*')\n",
        "len(CT)"
      ],
      "metadata": {
        "colab": {
          "base_uri": "https://localhost:8080/"
        },
        "id": "Lk74-1VfPRSu",
        "outputId": "52da55cf-90bd-4fe5-a23e-93fc76bb62ed"
      },
      "execution_count": null,
      "outputs": [
        {
          "output_type": "execute_result",
          "data": {
            "text/plain": [
              "7367"
            ]
          },
          "metadata": {},
          "execution_count": 14
        }
      ]
    },
    {
      "cell_type": "code",
      "source": [
        "df = pd.DataFrame({\"image_path\": CT, \"mask_path\":mask_files})\n",
        "Xtrain, Xval = train_test_split(df, test_size=0.15,random_state=101)\n",
        "Xtest, Xval = train_test_split(Xval, test_size=0.5)\n",
        "print(\"Train size is {}, valid size is {} & test size is {}\".format(len(Xtrain), len(Xval), len(Xtest)))"
      ],
      "metadata": {
        "colab": {
          "base_uri": "https://localhost:8080/"
        },
        "id": "tbHQ7HpqPXgY",
        "outputId": "d63a61eb-fe48-4902-d54c-17147995aa99"
      },
      "execution_count": null,
      "outputs": [
        {
          "output_type": "stream",
          "name": "stdout",
          "text": [
            "Train size is 6261, valid size is 553 & test size is 553\n"
          ]
        }
      ]
    },
    {
      "cell_type": "code",
      "source": [
        "train_ids = list(Xtrain.image_path)\n",
        "train_mask = list(Xtrain.mask_path)\n",
        "\n",
        "val_ids = list(Xval.image_path)\n",
        "val_mask= list(Xval.mask_path)"
      ],
      "metadata": {
        "id": "eO2WKKM3Qi_I"
      },
      "execution_count": null,
      "outputs": []
    },
    {
      "cell_type": "code",
      "source": [
        "class DataGenerator(tf.keras.utils.Sequence):\n",
        "  def __init__(self, ids , mask, image_dir = './', batch_size = 16, img_h = 256, img_w = 256, shuffle = True):\n",
        "    self.ids = ids\n",
        "    self.mask = mask\n",
        "    self.image_dir = image_dir\n",
        "    self.batch_size = batch_size\n",
        "    self.img_h = img_h\n",
        "    self.img_w = img_w\n",
        "    self.shuffle = shuffle\n",
        "    self.on_epoch_end()\n",
        "  def __len__(self):\n",
        "    return int(np.floor(len(self.ids)) / self.batch_size)\n",
        "\n",
        "  def __getitem__(self, index):\n",
        "    indexes = self.indexes[index* self.batch_size : (index+1) * self.batch_size]\n",
        "    list_ids = [self.ids[i] for i in indexes]\n",
        "    list_mask = [self.mask[i] for i in indexes]\n",
        "    X, y = self.__data_generation(list_ids, list_mask)\n",
        "    return X, y\n",
        "\n",
        "  def on_epoch_end(self):    \n",
        "    self.indexes = np.arange(len(self.ids))\n",
        "\n",
        "    if self.shuffle:\n",
        "      np.random.shuffle(self.indexes)\n",
        "\n",
        "  def __data_generation(self, list_ids, list_mask):\n",
        "\n",
        "    X = np.empty((self.batch_size, self.img_h, self.img_w, 3))\n",
        "    y = np.empty((self.batch_size, self.img_h, self.img_w, 3))\n",
        "\n",
        "    for i in range(len(list_ids)):\n",
        "      img_path = str(list_ids[i])\n",
        "      mask_path = str(list_mask[i])\n",
        "      img = io.imread(img_path)\n",
        "      mask = io.imread(mask_path)\n",
        "      img = cv2.resize(img,(self.img_h,self.img_w))\n",
        "      img = np.array(img, dtype = np.float64)\n",
        "      mask = cv2.resize(mask,(self.img_h,self.img_w))\n",
        "      mask = np.array(mask, dtype = np.float64)\n",
        "      img -= img.mean()\n",
        "      img /= img.std()\n",
        "      mask -= mask.mean()\n",
        "      mask /= mask.std()\n",
        "      X[i,] = img\n",
        "      y[i,] = mask\n",
        "    y = (y > 0).astype(int)\n",
        "    return X, y\n",
        "\n",
        "train_data = DataGenerator(train_ids, train_mask)\n",
        "val_data = DataGenerator(val_ids, val_mask)"
      ],
      "metadata": {
        "id": "tmD1r_fZrNoH"
      },
      "execution_count": null,
      "outputs": []
    },
    {
      "cell_type": "code",
      "source": [
        "image_size = 256\n",
        "batch_size = 16\n",
        "lr = 0.01\n",
        "epochs = 300"
      ],
      "metadata": {
        "id": "xDTsl7S9ED_c"
      },
      "execution_count": null,
      "outputs": []
    },
    {
      "cell_type": "code",
      "source": [
        "arch = ResUnetPlusPlus(input_size=image_size)\n",
        "model = arch.build_model()"
      ],
      "metadata": {
        "id": "UWlsbijVNOvJ"
      },
      "execution_count": null,
      "outputs": []
    },
    {
      "cell_type": "code",
      "source": [
        "optimizer = Nadam(lr)\n",
        "adam = tf.keras.optimizers.Adam(lr = 0.01, epsilon = 0.1)\n",
        "\n",
        "metrics = [Recall(), Precision(), dice_coef, MeanIoU(num_classes=6)]\n",
        "model.compile(loss=dice_coef_loss, optimizer=adam, metrics=metrics)"
      ],
      "metadata": {
        "id": "e_cvSDA6RGMX",
        "colab": {
          "base_uri": "https://localhost:8080/"
        },
        "outputId": "5ee71f7f-1f3a-459d-b592-5bfaeb319fd7"
      },
      "execution_count": null,
      "outputs": [
        {
          "output_type": "stream",
          "name": "stderr",
          "text": [
            "/usr/local/lib/python3.7/dist-packages/keras/optimizer_v2/adam.py:105: UserWarning: The `lr` argument is deprecated, use `learning_rate` instead.\n",
            "  super(Adam, self).__init__(name, **kwargs)\n"
          ]
        }
      ]
    },
    {
      "cell_type": "code",
      "source": [
        "filename='/content/drive/MyDrive/Res-U-Net++/history.csv'\n",
        "history_logger=tf.keras.callbacks.CSVLogger(filename, separator=\",\", append=True)\n",
        "checkpointer = ModelCheckpoint(filepath=\"/content/drive/MyDrive/Res-U-Net++/res-unet++.h5\", \n",
        "                               verbose=1, \n",
        "                               save_best_only=True\n",
        "                              )\n",
        "reduce_lr = ReduceLROnPlateau(monitor='val_loss', factor=0.1, patience=5, min_lr=1e-6, verbose=1)\n",
        "early_stopping = EarlyStopping(monitor='val_loss', patience=10, restore_best_weights=False)"
      ],
      "metadata": {
        "id": "89lNG3GPSO6o"
      },
      "execution_count": null,
      "outputs": []
    },
    {
      "cell_type": "code",
      "source": [
        "callbacks = [history_logger, checkpointer, reduce_lr, early_stopping]"
      ],
      "metadata": {
        "id": "S132Ld0cRyXw"
      },
      "execution_count": null,
      "outputs": []
    },
    {
      "cell_type": "code",
      "source": [
        "type(val_data)"
      ],
      "metadata": {
        "colab": {
          "base_uri": "https://localhost:8080/"
        },
        "id": "auGg3r7tzWn3",
        "outputId": "4634e6ba-5b4c-43ce-d460-b218b473edf1"
      },
      "execution_count": null,
      "outputs": [
        {
          "output_type": "execute_result",
          "data": {
            "text/plain": [
              "__main__.DataGenerator"
            ]
          },
          "metadata": {},
          "execution_count": 29
        }
      ]
    },
    {
      "cell_type": "code",
      "source": [
        "model.summary()"
      ],
      "metadata": {
        "colab": {
          "base_uri": "https://localhost:8080/"
        },
        "id": "RquTKRQb1J65",
        "outputId": "36b4cd46-3b8a-4255-c77a-fabdfd918d7e"
      },
      "execution_count": null,
      "outputs": [
        {
          "output_type": "stream",
          "name": "stdout",
          "text": [
            "Model: \"model\"\n",
            "__________________________________________________________________________________________________\n",
            " Layer (type)                   Output Shape         Param #     Connected to                     \n",
            "==================================================================================================\n",
            " input_1 (InputLayer)           [(None, 256, 256, 3  0           []                               \n",
            "                                )]                                                                \n",
            "                                                                                                  \n",
            " conv2d (Conv2D)                (None, 256, 256, 16  448         ['input_1[0][0]']                \n",
            "                                )                                                                 \n",
            "                                                                                                  \n",
            " batch_normalization (BatchNorm  (None, 256, 256, 16  64         ['conv2d[0][0]']                 \n",
            " alization)                     )                                                                 \n",
            "                                                                                                  \n",
            " activation (Activation)        (None, 256, 256, 16  0           ['batch_normalization[0][0]']    \n",
            "                                )                                                                 \n",
            "                                                                                                  \n",
            " conv2d_2 (Conv2D)              (None, 256, 256, 16  64          ['input_1[0][0]']                \n",
            "                                )                                                                 \n",
            "                                                                                                  \n",
            " conv2d_1 (Conv2D)              (None, 256, 256, 16  2320        ['activation[0][0]']             \n",
            "                                )                                                                 \n",
            "                                                                                                  \n",
            " batch_normalization_1 (BatchNo  (None, 256, 256, 16  64         ['conv2d_2[0][0]']               \n",
            " rmalization)                   )                                                                 \n",
            "                                                                                                  \n",
            " add (Add)                      (None, 256, 256, 16  0           ['conv2d_1[0][0]',               \n",
            "                                )                                 'batch_normalization_1[0][0]']  \n",
            "                                                                                                  \n",
            " global_average_pooling2d (Glob  (None, 16)          0           ['add[0][0]']                    \n",
            " alAveragePooling2D)                                                                              \n",
            "                                                                                                  \n",
            " reshape (Reshape)              (None, 1, 1, 16)     0           ['global_average_pooling2d[0][0]'\n",
            "                                                                 ]                                \n",
            "                                                                                                  \n",
            " dense (Dense)                  (None, 1, 1, 1)      16          ['reshape[0][0]']                \n",
            "                                                                                                  \n",
            " dense_1 (Dense)                (None, 1, 1, 16)     16          ['dense[0][0]']                  \n",
            "                                                                                                  \n",
            " multiply (Multiply)            (None, 256, 256, 16  0           ['add[0][0]',                    \n",
            "                                )                                 'dense_1[0][0]']                \n",
            "                                                                                                  \n",
            " batch_normalization_2 (BatchNo  (None, 256, 256, 16  64         ['multiply[0][0]']               \n",
            " rmalization)                   )                                                                 \n",
            "                                                                                                  \n",
            " activation_1 (Activation)      (None, 256, 256, 16  0           ['batch_normalization_2[0][0]']  \n",
            "                                )                                                                 \n",
            "                                                                                                  \n",
            " conv2d_3 (Conv2D)              (None, 128, 128, 32  544         ['activation_1[0][0]']           \n",
            "                                )                                                                 \n",
            "                                                                                                  \n",
            " batch_normalization_3 (BatchNo  (None, 128, 128, 32  128        ['conv2d_3[0][0]']               \n",
            " rmalization)                   )                                                                 \n",
            "                                                                                                  \n",
            " activation_2 (Activation)      (None, 128, 128, 32  0           ['batch_normalization_3[0][0]']  \n",
            "                                )                                                                 \n",
            "                                                                                                  \n",
            " conv2d_5 (Conv2D)              (None, 128, 128, 32  544         ['multiply[0][0]']               \n",
            "                                )                                                                 \n",
            "                                                                                                  \n",
            " conv2d_4 (Conv2D)              (None, 128, 128, 32  9248        ['activation_2[0][0]']           \n",
            "                                )                                                                 \n",
            "                                                                                                  \n",
            " batch_normalization_4 (BatchNo  (None, 128, 128, 32  128        ['conv2d_5[0][0]']               \n",
            " rmalization)                   )                                                                 \n",
            "                                                                                                  \n",
            " add_1 (Add)                    (None, 128, 128, 32  0           ['conv2d_4[0][0]',               \n",
            "                                )                                 'batch_normalization_4[0][0]']  \n",
            "                                                                                                  \n",
            " global_average_pooling2d_1 (Gl  (None, 32)          0           ['add_1[0][0]']                  \n",
            " obalAveragePooling2D)                                                                            \n",
            "                                                                                                  \n",
            " reshape_1 (Reshape)            (None, 1, 1, 32)     0           ['global_average_pooling2d_1[0][0\n",
            "                                                                 ]']                              \n",
            "                                                                                                  \n",
            " dense_2 (Dense)                (None, 1, 1, 2)      64          ['reshape_1[0][0]']              \n",
            "                                                                                                  \n",
            " dense_3 (Dense)                (None, 1, 1, 32)     64          ['dense_2[0][0]']                \n",
            "                                                                                                  \n",
            " multiply_1 (Multiply)          (None, 128, 128, 32  0           ['add_1[0][0]',                  \n",
            "                                )                                 'dense_3[0][0]']                \n",
            "                                                                                                  \n",
            " batch_normalization_5 (BatchNo  (None, 128, 128, 32  128        ['multiply_1[0][0]']             \n",
            " rmalization)                   )                                                                 \n",
            "                                                                                                  \n",
            " activation_3 (Activation)      (None, 128, 128, 32  0           ['batch_normalization_5[0][0]']  \n",
            "                                )                                                                 \n",
            "                                                                                                  \n",
            " conv2d_6 (Conv2D)              (None, 64, 64, 64)   2112        ['activation_3[0][0]']           \n",
            "                                                                                                  \n",
            " batch_normalization_6 (BatchNo  (None, 64, 64, 64)  256         ['conv2d_6[0][0]']               \n",
            " rmalization)                                                                                     \n",
            "                                                                                                  \n",
            " activation_4 (Activation)      (None, 64, 64, 64)   0           ['batch_normalization_6[0][0]']  \n",
            "                                                                                                  \n",
            " conv2d_8 (Conv2D)              (None, 64, 64, 64)   2112        ['multiply_1[0][0]']             \n",
            "                                                                                                  \n",
            " conv2d_7 (Conv2D)              (None, 64, 64, 64)   36928       ['activation_4[0][0]']           \n",
            "                                                                                                  \n",
            " batch_normalization_7 (BatchNo  (None, 64, 64, 64)  256         ['conv2d_8[0][0]']               \n",
            " rmalization)                                                                                     \n",
            "                                                                                                  \n",
            " add_2 (Add)                    (None, 64, 64, 64)   0           ['conv2d_7[0][0]',               \n",
            "                                                                  'batch_normalization_7[0][0]']  \n",
            "                                                                                                  \n",
            " global_average_pooling2d_2 (Gl  (None, 64)          0           ['add_2[0][0]']                  \n",
            " obalAveragePooling2D)                                                                            \n",
            "                                                                                                  \n",
            " reshape_2 (Reshape)            (None, 1, 1, 64)     0           ['global_average_pooling2d_2[0][0\n",
            "                                                                 ]']                              \n",
            "                                                                                                  \n",
            " dense_4 (Dense)                (None, 1, 1, 4)      256         ['reshape_2[0][0]']              \n",
            "                                                                                                  \n",
            " dense_5 (Dense)                (None, 1, 1, 64)     256         ['dense_4[0][0]']                \n",
            "                                                                                                  \n",
            " multiply_2 (Multiply)          (None, 64, 64, 64)   0           ['add_2[0][0]',                  \n",
            "                                                                  'dense_5[0][0]']                \n",
            "                                                                                                  \n",
            " batch_normalization_8 (BatchNo  (None, 64, 64, 64)  256         ['multiply_2[0][0]']             \n",
            " rmalization)                                                                                     \n",
            "                                                                                                  \n",
            " activation_5 (Activation)      (None, 64, 64, 64)   0           ['batch_normalization_8[0][0]']  \n",
            "                                                                                                  \n",
            " conv2d_9 (Conv2D)              (None, 32, 32, 128)  8320        ['activation_5[0][0]']           \n",
            "                                                                                                  \n",
            " batch_normalization_9 (BatchNo  (None, 32, 32, 128)  512        ['conv2d_9[0][0]']               \n",
            " rmalization)                                                                                     \n",
            "                                                                                                  \n",
            " activation_6 (Activation)      (None, 32, 32, 128)  0           ['batch_normalization_9[0][0]']  \n",
            "                                                                                                  \n",
            " conv2d_11 (Conv2D)             (None, 32, 32, 128)  8320        ['multiply_2[0][0]']             \n",
            "                                                                                                  \n",
            " conv2d_10 (Conv2D)             (None, 32, 32, 128)  147584      ['activation_6[0][0]']           \n",
            "                                                                                                  \n",
            " batch_normalization_10 (BatchN  (None, 32, 32, 128)  512        ['conv2d_11[0][0]']              \n",
            " ormalization)                                                                                    \n",
            "                                                                                                  \n",
            " add_3 (Add)                    (None, 32, 32, 128)  0           ['conv2d_10[0][0]',              \n",
            "                                                                  'batch_normalization_10[0][0]'] \n",
            "                                                                                                  \n",
            " global_average_pooling2d_3 (Gl  (None, 128)         0           ['add_3[0][0]']                  \n",
            " obalAveragePooling2D)                                                                            \n",
            "                                                                                                  \n",
            " reshape_3 (Reshape)            (None, 1, 1, 128)    0           ['global_average_pooling2d_3[0][0\n",
            "                                                                 ]']                              \n",
            "                                                                                                  \n",
            " dense_6 (Dense)                (None, 1, 1, 8)      1024        ['reshape_3[0][0]']              \n",
            "                                                                                                  \n",
            " dense_7 (Dense)                (None, 1, 1, 128)    1024        ['dense_6[0][0]']                \n",
            "                                                                                                  \n",
            " multiply_3 (Multiply)          (None, 32, 32, 128)  0           ['add_3[0][0]',                  \n",
            "                                                                  'dense_7[0][0]']                \n",
            "                                                                                                  \n",
            " batch_normalization_11 (BatchN  (None, 32, 32, 128)  512        ['multiply_3[0][0]']             \n",
            " ormalization)                                                                                    \n",
            "                                                                                                  \n",
            " activation_7 (Activation)      (None, 32, 32, 128)  0           ['batch_normalization_11[0][0]'] \n",
            "                                                                                                  \n",
            " conv2d_12 (Conv2D)             (None, 16, 16, 256)  33024       ['activation_7[0][0]']           \n",
            "                                                                                                  \n",
            " batch_normalization_12 (BatchN  (None, 16, 16, 256)  1024       ['conv2d_12[0][0]']              \n",
            " ormalization)                                                                                    \n",
            "                                                                                                  \n",
            " activation_8 (Activation)      (None, 16, 16, 256)  0           ['batch_normalization_12[0][0]'] \n",
            "                                                                                                  \n",
            " conv2d_14 (Conv2D)             (None, 16, 16, 256)  33024       ['multiply_3[0][0]']             \n",
            "                                                                                                  \n",
            " conv2d_13 (Conv2D)             (None, 16, 16, 256)  590080      ['activation_8[0][0]']           \n",
            "                                                                                                  \n",
            " batch_normalization_13 (BatchN  (None, 16, 16, 256)  1024       ['conv2d_14[0][0]']              \n",
            " ormalization)                                                                                    \n",
            "                                                                                                  \n",
            " add_4 (Add)                    (None, 16, 16, 256)  0           ['conv2d_13[0][0]',              \n",
            "                                                                  'batch_normalization_13[0][0]'] \n",
            "                                                                                                  \n",
            " global_average_pooling2d_4 (Gl  (None, 256)         0           ['add_4[0][0]']                  \n",
            " obalAveragePooling2D)                                                                            \n",
            "                                                                                                  \n",
            " reshape_4 (Reshape)            (None, 1, 1, 256)    0           ['global_average_pooling2d_4[0][0\n",
            "                                                                 ]']                              \n",
            "                                                                                                  \n",
            " dense_8 (Dense)                (None, 1, 1, 16)     4096        ['reshape_4[0][0]']              \n",
            "                                                                                                  \n",
            " dense_9 (Dense)                (None, 1, 1, 256)    4096        ['dense_8[0][0]']                \n",
            "                                                                                                  \n",
            " multiply_4 (Multiply)          (None, 16, 16, 256)  0           ['add_4[0][0]',                  \n",
            "                                                                  'dense_9[0][0]']                \n",
            "                                                                                                  \n",
            " conv2d_15 (Conv2D)             (None, 16, 16, 512)  131584      ['multiply_4[0][0]']             \n",
            "                                                                                                  \n",
            " conv2d_16 (Conv2D)             (None, 16, 16, 512)  131584      ['multiply_4[0][0]']             \n",
            "                                                                                                  \n",
            " conv2d_17 (Conv2D)             (None, 16, 16, 512)  131584      ['multiply_4[0][0]']             \n",
            "                                                                                                  \n",
            " conv2d_18 (Conv2D)             (None, 16, 16, 512)  131584      ['multiply_4[0][0]']             \n",
            "                                                                                                  \n",
            " batch_normalization_14 (BatchN  (None, 16, 16, 512)  2048       ['conv2d_15[0][0]']              \n",
            " ormalization)                                                                                    \n",
            "                                                                                                  \n",
            " batch_normalization_15 (BatchN  (None, 16, 16, 512)  2048       ['conv2d_16[0][0]']              \n",
            " ormalization)                                                                                    \n",
            "                                                                                                  \n",
            " batch_normalization_16 (BatchN  (None, 16, 16, 512)  2048       ['conv2d_17[0][0]']              \n",
            " ormalization)                                                                                    \n",
            "                                                                                                  \n",
            " batch_normalization_17 (BatchN  (None, 16, 16, 512)  2048       ['conv2d_18[0][0]']              \n",
            " ormalization)                                                                                    \n",
            "                                                                                                  \n",
            " add_5 (Add)                    (None, 16, 16, 512)  0           ['batch_normalization_14[0][0]', \n",
            "                                                                  'batch_normalization_15[0][0]', \n",
            "                                                                  'batch_normalization_16[0][0]', \n",
            "                                                                  'batch_normalization_17[0][0]'] \n",
            "                                                                                                  \n",
            " batch_normalization_18 (BatchN  (None, 32, 32, 128)  512        ['multiply_3[0][0]']             \n",
            " ormalization)                                                                                    \n",
            "                                                                                                  \n",
            " conv2d_19 (Conv2D)             (None, 16, 16, 512)  262656      ['add_5[0][0]']                  \n",
            "                                                                                                  \n",
            " activation_9 (Activation)      (None, 32, 32, 128)  0           ['batch_normalization_18[0][0]'] \n",
            "                                                                                                  \n",
            " batch_normalization_19 (BatchN  (None, 16, 16, 512)  2048       ['conv2d_19[0][0]']              \n",
            " ormalization)                                                                                    \n",
            "                                                                                                  \n",
            " conv2d_20 (Conv2D)             (None, 32, 32, 512)  66048       ['activation_9[0][0]']           \n",
            "                                                                                                  \n",
            " activation_10 (Activation)     (None, 16, 16, 512)  0           ['batch_normalization_19[0][0]'] \n",
            "                                                                                                  \n",
            " max_pooling2d (MaxPooling2D)   (None, 16, 16, 512)  0           ['conv2d_20[0][0]']              \n",
            "                                                                                                  \n",
            " conv2d_21 (Conv2D)             (None, 16, 16, 512)  262656      ['activation_10[0][0]']          \n",
            "                                                                                                  \n",
            " add_6 (Add)                    (None, 16, 16, 512)  0           ['max_pooling2d[0][0]',          \n",
            "                                                                  'conv2d_21[0][0]']              \n",
            "                                                                                                  \n",
            " batch_normalization_20 (BatchN  (None, 16, 16, 512)  2048       ['add_6[0][0]']                  \n",
            " ormalization)                                                                                    \n",
            "                                                                                                  \n",
            " activation_11 (Activation)     (None, 16, 16, 512)  0           ['batch_normalization_20[0][0]'] \n",
            "                                                                                                  \n",
            " conv2d_22 (Conv2D)             (None, 16, 16, 512)  262656      ['activation_11[0][0]']          \n",
            "                                                                                                  \n",
            " multiply_5 (Multiply)          (None, 16, 16, 512)  0           ['conv2d_22[0][0]',              \n",
            "                                                                  'conv2d_19[0][0]']              \n",
            "                                                                                                  \n",
            " up_sampling2d (UpSampling2D)   (None, 32, 32, 512)  0           ['multiply_5[0][0]']             \n",
            "                                                                                                  \n",
            " concatenate (Concatenate)      (None, 32, 32, 640)  0           ['up_sampling2d[0][0]',          \n",
            "                                                                  'multiply_3[0][0]']             \n",
            "                                                                                                  \n",
            " batch_normalization_21 (BatchN  (None, 32, 32, 640)  2560       ['concatenate[0][0]']            \n",
            " ormalization)                                                                                    \n",
            "                                                                                                  \n",
            " activation_12 (Activation)     (None, 32, 32, 640)  0           ['batch_normalization_21[0][0]'] \n",
            "                                                                                                  \n",
            " conv2d_23 (Conv2D)             (None, 32, 32, 256)  164096      ['activation_12[0][0]']          \n",
            "                                                                                                  \n",
            " batch_normalization_22 (BatchN  (None, 32, 32, 256)  1024       ['conv2d_23[0][0]']              \n",
            " ormalization)                                                                                    \n",
            "                                                                                                  \n",
            " activation_13 (Activation)     (None, 32, 32, 256)  0           ['batch_normalization_22[0][0]'] \n",
            "                                                                                                  \n",
            " conv2d_25 (Conv2D)             (None, 32, 32, 256)  164096      ['concatenate[0][0]']            \n",
            "                                                                                                  \n",
            " conv2d_24 (Conv2D)             (None, 32, 32, 256)  590080      ['activation_13[0][0]']          \n",
            "                                                                                                  \n",
            " batch_normalization_23 (BatchN  (None, 32, 32, 256)  1024       ['conv2d_25[0][0]']              \n",
            " ormalization)                                                                                    \n",
            "                                                                                                  \n",
            " add_7 (Add)                    (None, 32, 32, 256)  0           ['conv2d_24[0][0]',              \n",
            "                                                                  'batch_normalization_23[0][0]'] \n",
            "                                                                                                  \n",
            " global_average_pooling2d_5 (Gl  (None, 256)         0           ['add_7[0][0]']                  \n",
            " obalAveragePooling2D)                                                                            \n",
            "                                                                                                  \n",
            " reshape_5 (Reshape)            (None, 1, 1, 256)    0           ['global_average_pooling2d_5[0][0\n",
            "                                                                 ]']                              \n",
            "                                                                                                  \n",
            " dense_10 (Dense)               (None, 1, 1, 16)     4096        ['reshape_5[0][0]']              \n",
            "                                                                                                  \n",
            " dense_11 (Dense)               (None, 1, 1, 256)    4096        ['dense_10[0][0]']               \n",
            "                                                                                                  \n",
            " batch_normalization_24 (BatchN  (None, 64, 64, 64)  256         ['multiply_2[0][0]']             \n",
            " ormalization)                                                                                    \n",
            "                                                                                                  \n",
            " multiply_6 (Multiply)          (None, 32, 32, 256)  0           ['add_7[0][0]',                  \n",
            "                                                                  'dense_11[0][0]']               \n",
            "                                                                                                  \n",
            " activation_14 (Activation)     (None, 64, 64, 64)   0           ['batch_normalization_24[0][0]'] \n",
            "                                                                                                  \n",
            " batch_normalization_25 (BatchN  (None, 32, 32, 256)  1024       ['multiply_6[0][0]']             \n",
            " ormalization)                                                                                    \n",
            "                                                                                                  \n",
            " conv2d_26 (Conv2D)             (None, 64, 64, 256)  16640       ['activation_14[0][0]']          \n",
            "                                                                                                  \n",
            " activation_15 (Activation)     (None, 32, 32, 256)  0           ['batch_normalization_25[0][0]'] \n",
            "                                                                                                  \n",
            " max_pooling2d_1 (MaxPooling2D)  (None, 32, 32, 256)  0          ['conv2d_26[0][0]']              \n",
            "                                                                                                  \n",
            " conv2d_27 (Conv2D)             (None, 32, 32, 256)  65792       ['activation_15[0][0]']          \n",
            "                                                                                                  \n",
            " add_8 (Add)                    (None, 32, 32, 256)  0           ['max_pooling2d_1[0][0]',        \n",
            "                                                                  'conv2d_27[0][0]']              \n",
            "                                                                                                  \n",
            " batch_normalization_26 (BatchN  (None, 32, 32, 256)  1024       ['add_8[0][0]']                  \n",
            " ormalization)                                                                                    \n",
            "                                                                                                  \n",
            " activation_16 (Activation)     (None, 32, 32, 256)  0           ['batch_normalization_26[0][0]'] \n",
            "                                                                                                  \n",
            " conv2d_28 (Conv2D)             (None, 32, 32, 256)  65792       ['activation_16[0][0]']          \n",
            "                                                                                                  \n",
            " multiply_7 (Multiply)          (None, 32, 32, 256)  0           ['conv2d_28[0][0]',              \n",
            "                                                                  'multiply_6[0][0]']             \n",
            "                                                                                                  \n",
            " up_sampling2d_1 (UpSampling2D)  (None, 64, 64, 256)  0          ['multiply_7[0][0]']             \n",
            "                                                                                                  \n",
            " concatenate_1 (Concatenate)    (None, 64, 64, 320)  0           ['up_sampling2d_1[0][0]',        \n",
            "                                                                  'multiply_2[0][0]']             \n",
            "                                                                                                  \n",
            " batch_normalization_27 (BatchN  (None, 64, 64, 320)  1280       ['concatenate_1[0][0]']          \n",
            " ormalization)                                                                                    \n",
            "                                                                                                  \n",
            " activation_17 (Activation)     (None, 64, 64, 320)  0           ['batch_normalization_27[0][0]'] \n",
            "                                                                                                  \n",
            " conv2d_29 (Conv2D)             (None, 64, 64, 128)  41088       ['activation_17[0][0]']          \n",
            "                                                                                                  \n",
            " batch_normalization_28 (BatchN  (None, 64, 64, 128)  512        ['conv2d_29[0][0]']              \n",
            " ormalization)                                                                                    \n",
            "                                                                                                  \n",
            " activation_18 (Activation)     (None, 64, 64, 128)  0           ['batch_normalization_28[0][0]'] \n",
            "                                                                                                  \n",
            " conv2d_31 (Conv2D)             (None, 64, 64, 128)  41088       ['concatenate_1[0][0]']          \n",
            "                                                                                                  \n",
            " conv2d_30 (Conv2D)             (None, 64, 64, 128)  147584      ['activation_18[0][0]']          \n",
            "                                                                                                  \n",
            " batch_normalization_29 (BatchN  (None, 64, 64, 128)  512        ['conv2d_31[0][0]']              \n",
            " ormalization)                                                                                    \n",
            "                                                                                                  \n",
            " add_9 (Add)                    (None, 64, 64, 128)  0           ['conv2d_30[0][0]',              \n",
            "                                                                  'batch_normalization_29[0][0]'] \n",
            "                                                                                                  \n",
            " global_average_pooling2d_6 (Gl  (None, 128)         0           ['add_9[0][0]']                  \n",
            " obalAveragePooling2D)                                                                            \n",
            "                                                                                                  \n",
            " reshape_6 (Reshape)            (None, 1, 1, 128)    0           ['global_average_pooling2d_6[0][0\n",
            "                                                                 ]']                              \n",
            "                                                                                                  \n",
            " dense_12 (Dense)               (None, 1, 1, 8)      1024        ['reshape_6[0][0]']              \n",
            "                                                                                                  \n",
            " dense_13 (Dense)               (None, 1, 1, 128)    1024        ['dense_12[0][0]']               \n",
            "                                                                                                  \n",
            " batch_normalization_30 (BatchN  (None, 128, 128, 32  128        ['multiply_1[0][0]']             \n",
            " ormalization)                  )                                                                 \n",
            "                                                                                                  \n",
            " multiply_8 (Multiply)          (None, 64, 64, 128)  0           ['add_9[0][0]',                  \n",
            "                                                                  'dense_13[0][0]']               \n",
            "                                                                                                  \n",
            " activation_19 (Activation)     (None, 128, 128, 32  0           ['batch_normalization_30[0][0]'] \n",
            "                                )                                                                 \n",
            "                                                                                                  \n",
            " batch_normalization_31 (BatchN  (None, 64, 64, 128)  512        ['multiply_8[0][0]']             \n",
            " ormalization)                                                                                    \n",
            "                                                                                                  \n",
            " conv2d_32 (Conv2D)             (None, 128, 128, 12  4224        ['activation_19[0][0]']          \n",
            "                                8)                                                                \n",
            "                                                                                                  \n",
            " activation_20 (Activation)     (None, 64, 64, 128)  0           ['batch_normalization_31[0][0]'] \n",
            "                                                                                                  \n",
            " max_pooling2d_2 (MaxPooling2D)  (None, 64, 64, 128)  0          ['conv2d_32[0][0]']              \n",
            "                                                                                                  \n",
            " conv2d_33 (Conv2D)             (None, 64, 64, 128)  16512       ['activation_20[0][0]']          \n",
            "                                                                                                  \n",
            " add_10 (Add)                   (None, 64, 64, 128)  0           ['max_pooling2d_2[0][0]',        \n",
            "                                                                  'conv2d_33[0][0]']              \n",
            "                                                                                                  \n",
            " batch_normalization_32 (BatchN  (None, 64, 64, 128)  512        ['add_10[0][0]']                 \n",
            " ormalization)                                                                                    \n",
            "                                                                                                  \n",
            " activation_21 (Activation)     (None, 64, 64, 128)  0           ['batch_normalization_32[0][0]'] \n",
            "                                                                                                  \n",
            " conv2d_34 (Conv2D)             (None, 64, 64, 128)  16512       ['activation_21[0][0]']          \n",
            "                                                                                                  \n",
            " multiply_9 (Multiply)          (None, 64, 64, 128)  0           ['conv2d_34[0][0]',              \n",
            "                                                                  'multiply_8[0][0]']             \n",
            "                                                                                                  \n",
            " up_sampling2d_2 (UpSampling2D)  (None, 128, 128, 12  0          ['multiply_9[0][0]']             \n",
            "                                8)                                                                \n",
            "                                                                                                  \n",
            " concatenate_2 (Concatenate)    (None, 128, 128, 16  0           ['up_sampling2d_2[0][0]',        \n",
            "                                0)                                'multiply_1[0][0]']             \n",
            "                                                                                                  \n",
            " batch_normalization_33 (BatchN  (None, 128, 128, 16  640        ['concatenate_2[0][0]']          \n",
            " ormalization)                  0)                                                                \n",
            "                                                                                                  \n",
            " activation_22 (Activation)     (None, 128, 128, 16  0           ['batch_normalization_33[0][0]'] \n",
            "                                0)                                                                \n",
            "                                                                                                  \n",
            " conv2d_35 (Conv2D)             (None, 128, 128, 64  10304       ['activation_22[0][0]']          \n",
            "                                )                                                                 \n",
            "                                                                                                  \n",
            " batch_normalization_34 (BatchN  (None, 128, 128, 64  256        ['conv2d_35[0][0]']              \n",
            " ormalization)                  )                                                                 \n",
            "                                                                                                  \n",
            " activation_23 (Activation)     (None, 128, 128, 64  0           ['batch_normalization_34[0][0]'] \n",
            "                                )                                                                 \n",
            "                                                                                                  \n",
            " conv2d_37 (Conv2D)             (None, 128, 128, 64  10304       ['concatenate_2[0][0]']          \n",
            "                                )                                                                 \n",
            "                                                                                                  \n",
            " conv2d_36 (Conv2D)             (None, 128, 128, 64  36928       ['activation_23[0][0]']          \n",
            "                                )                                                                 \n",
            "                                                                                                  \n",
            " batch_normalization_35 (BatchN  (None, 128, 128, 64  256        ['conv2d_37[0][0]']              \n",
            " ormalization)                  )                                                                 \n",
            "                                                                                                  \n",
            " add_11 (Add)                   (None, 128, 128, 64  0           ['conv2d_36[0][0]',              \n",
            "                                )                                 'batch_normalization_35[0][0]'] \n",
            "                                                                                                  \n",
            " global_average_pooling2d_7 (Gl  (None, 64)          0           ['add_11[0][0]']                 \n",
            " obalAveragePooling2D)                                                                            \n",
            "                                                                                                  \n",
            " reshape_7 (Reshape)            (None, 1, 1, 64)     0           ['global_average_pooling2d_7[0][0\n",
            "                                                                 ]']                              \n",
            "                                                                                                  \n",
            " dense_14 (Dense)               (None, 1, 1, 4)      256         ['reshape_7[0][0]']              \n",
            "                                                                                                  \n",
            " dense_15 (Dense)               (None, 1, 1, 64)     256         ['dense_14[0][0]']               \n",
            "                                                                                                  \n",
            " batch_normalization_36 (BatchN  (None, 256, 256, 16  64         ['multiply[0][0]']               \n",
            " ormalization)                  )                                                                 \n",
            "                                                                                                  \n",
            " multiply_10 (Multiply)         (None, 128, 128, 64  0           ['add_11[0][0]',                 \n",
            "                                )                                 'dense_15[0][0]']               \n",
            "                                                                                                  \n",
            " activation_24 (Activation)     (None, 256, 256, 16  0           ['batch_normalization_36[0][0]'] \n",
            "                                )                                                                 \n",
            "                                                                                                  \n",
            " batch_normalization_37 (BatchN  (None, 128, 128, 64  256        ['multiply_10[0][0]']            \n",
            " ormalization)                  )                                                                 \n",
            "                                                                                                  \n",
            " conv2d_38 (Conv2D)             (None, 256, 256, 64  1088        ['activation_24[0][0]']          \n",
            "                                )                                                                 \n",
            "                                                                                                  \n",
            " activation_25 (Activation)     (None, 128, 128, 64  0           ['batch_normalization_37[0][0]'] \n",
            "                                )                                                                 \n",
            "                                                                                                  \n",
            " max_pooling2d_3 (MaxPooling2D)  (None, 128, 128, 64  0          ['conv2d_38[0][0]']              \n",
            "                                )                                                                 \n",
            "                                                                                                  \n",
            " conv2d_39 (Conv2D)             (None, 128, 128, 64  4160        ['activation_25[0][0]']          \n",
            "                                )                                                                 \n",
            "                                                                                                  \n",
            " add_12 (Add)                   (None, 128, 128, 64  0           ['max_pooling2d_3[0][0]',        \n",
            "                                )                                 'conv2d_39[0][0]']              \n",
            "                                                                                                  \n",
            " batch_normalization_38 (BatchN  (None, 128, 128, 64  256        ['add_12[0][0]']                 \n",
            " ormalization)                  )                                                                 \n",
            "                                                                                                  \n",
            " activation_26 (Activation)     (None, 128, 128, 64  0           ['batch_normalization_38[0][0]'] \n",
            "                                )                                                                 \n",
            "                                                                                                  \n",
            " conv2d_40 (Conv2D)             (None, 128, 128, 64  4160        ['activation_26[0][0]']          \n",
            "                                )                                                                 \n",
            "                                                                                                  \n",
            " multiply_11 (Multiply)         (None, 128, 128, 64  0           ['conv2d_40[0][0]',              \n",
            "                                )                                 'multiply_10[0][0]']            \n",
            "                                                                                                  \n",
            " up_sampling2d_3 (UpSampling2D)  (None, 256, 256, 64  0          ['multiply_11[0][0]']            \n",
            "                                )                                                                 \n",
            "                                                                                                  \n",
            " concatenate_3 (Concatenate)    (None, 256, 256, 80  0           ['up_sampling2d_3[0][0]',        \n",
            "                                )                                 'multiply[0][0]']               \n",
            "                                                                                                  \n",
            " batch_normalization_39 (BatchN  (None, 256, 256, 80  320        ['concatenate_3[0][0]']          \n",
            " ormalization)                  )                                                                 \n",
            "                                                                                                  \n",
            " activation_27 (Activation)     (None, 256, 256, 80  0           ['batch_normalization_39[0][0]'] \n",
            "                                )                                                                 \n",
            "                                                                                                  \n",
            " conv2d_41 (Conv2D)             (None, 256, 256, 64  5184        ['activation_27[0][0]']          \n",
            "                                )                                                                 \n",
            "                                                                                                  \n",
            " batch_normalization_40 (BatchN  (None, 256, 256, 64  256        ['conv2d_41[0][0]']              \n",
            " ormalization)                  )                                                                 \n",
            "                                                                                                  \n",
            " activation_28 (Activation)     (None, 256, 256, 64  0           ['batch_normalization_40[0][0]'] \n",
            "                                )                                                                 \n",
            "                                                                                                  \n",
            " conv2d_43 (Conv2D)             (None, 256, 256, 64  5184        ['concatenate_3[0][0]']          \n",
            "                                )                                                                 \n",
            "                                                                                                  \n",
            " conv2d_42 (Conv2D)             (None, 256, 256, 64  36928       ['activation_28[0][0]']          \n",
            "                                )                                                                 \n",
            "                                                                                                  \n",
            " batch_normalization_41 (BatchN  (None, 256, 256, 64  256        ['conv2d_43[0][0]']              \n",
            " ormalization)                  )                                                                 \n",
            "                                                                                                  \n",
            " add_13 (Add)                   (None, 256, 256, 64  0           ['conv2d_42[0][0]',              \n",
            "                                )                                 'batch_normalization_41[0][0]'] \n",
            "                                                                                                  \n",
            " global_average_pooling2d_8 (Gl  (None, 64)          0           ['add_13[0][0]']                 \n",
            " obalAveragePooling2D)                                                                            \n",
            "                                                                                                  \n",
            " reshape_8 (Reshape)            (None, 1, 1, 64)     0           ['global_average_pooling2d_8[0][0\n",
            "                                                                 ]']                              \n",
            "                                                                                                  \n",
            " dense_16 (Dense)               (None, 1, 1, 4)      256         ['reshape_8[0][0]']              \n",
            "                                                                                                  \n",
            " dense_17 (Dense)               (None, 1, 1, 64)     256         ['dense_16[0][0]']               \n",
            "                                                                                                  \n",
            " multiply_12 (Multiply)         (None, 256, 256, 64  0           ['add_13[0][0]',                 \n",
            "                                )                                 'dense_17[0][0]']               \n",
            "                                                                                                  \n",
            " conv2d_44 (Conv2D)             (None, 256, 256, 16  1040        ['multiply_12[0][0]']            \n",
            "                                )                                                                 \n",
            "                                                                                                  \n",
            " conv2d_45 (Conv2D)             (None, 256, 256, 16  1040        ['multiply_12[0][0]']            \n",
            "                                )                                                                 \n",
            "                                                                                                  \n",
            " conv2d_46 (Conv2D)             (None, 256, 256, 16  1040        ['multiply_12[0][0]']            \n",
            "                                )                                                                 \n",
            "                                                                                                  \n",
            " conv2d_47 (Conv2D)             (None, 256, 256, 16  1040        ['multiply_12[0][0]']            \n",
            "                                )                                                                 \n",
            "                                                                                                  \n",
            " batch_normalization_42 (BatchN  (None, 256, 256, 16  64         ['conv2d_44[0][0]']              \n",
            " ormalization)                  )                                                                 \n",
            "                                                                                                  \n",
            " batch_normalization_43 (BatchN  (None, 256, 256, 16  64         ['conv2d_45[0][0]']              \n",
            " ormalization)                  )                                                                 \n",
            "                                                                                                  \n",
            " batch_normalization_44 (BatchN  (None, 256, 256, 16  64         ['conv2d_46[0][0]']              \n",
            " ormalization)                  )                                                                 \n",
            "                                                                                                  \n",
            " batch_normalization_45 (BatchN  (None, 256, 256, 16  64         ['conv2d_47[0][0]']              \n",
            " ormalization)                  )                                                                 \n",
            "                                                                                                  \n",
            " add_14 (Add)                   (None, 256, 256, 16  0           ['batch_normalization_42[0][0]', \n",
            "                                )                                 'batch_normalization_43[0][0]', \n",
            "                                                                  'batch_normalization_44[0][0]', \n",
            "                                                                  'batch_normalization_45[0][0]'] \n",
            "                                                                                                  \n",
            " conv2d_48 (Conv2D)             (None, 256, 256, 16  272         ['add_14[0][0]']                 \n",
            "                                )                                                                 \n",
            "                                                                                                  \n",
            " conv2d_49 (Conv2D)             (None, 256, 256, 3)  51          ['conv2d_48[0][0]']              \n",
            "                                                                                                  \n",
            " activation_29 (Activation)     (None, 256, 256, 3)  0           ['conv2d_49[0][0]']              \n",
            "                                                                                                  \n",
            "==================================================================================================\n",
            "Total params: 3,760,339\n",
            "Trainable params: 3,744,883\n",
            "Non-trainable params: 15,456\n",
            "__________________________________________________________________________________________________\n"
          ]
        }
      ]
    },
    {
      "cell_type": "code",
      "source": [
        "# model.load_weights(\"/content/drive/MyDrive/Res-U-Net++/res-unet++.h5\")"
      ],
      "metadata": {
        "id": "zumhpk3HEwHF"
      },
      "execution_count": null,
      "outputs": []
    },
    {
      "cell_type": "code",
      "source": [
        "history= model.fit(train_data, epochs = 100,\n",
        "                  #  initial_epoch=16,\n",
        "                  validation_data = val_data,\n",
        "                   callbacks=callbacks\n",
        "                 )"
      ],
      "metadata": {
        "colab": {
          "base_uri": "https://localhost:8080/"
        },
        "id": "T1qQ9mjrt_DG",
        "outputId": "b8c7e08b-35c9-42a9-bca7-d128f3d1cfd5"
      },
      "execution_count": null,
      "outputs": [
        {
          "output_type": "stream",
          "name": "stderr",
          "text": [
            "/usr/local/lib/python3.7/dist-packages/ipykernel_launcher.py:44: RuntimeWarning: invalid value encountered in true_divide\n"
          ]
        },
        {
          "output_type": "stream",
          "name": "stdout",
          "text": [
            "Epoch 1/100\n",
            "391/391 [==============================] - ETA: 0s - loss: -0.0013 - recall: 0.5374 - precision: 7.9638e-04 - dice_coef: 0.0013 - mean_io_u: 0.5025\n",
            "Epoch 1: val_loss improved from inf to -0.00128, saving model to /content/drive/MyDrive/Res-U-Net++/res-unet++.h5\n",
            "391/391 [==============================] - 540s 1s/step - loss: -0.0013 - recall: 0.5374 - precision: 7.9638e-04 - dice_coef: 0.0013 - mean_io_u: 0.5025 - val_loss: -0.0013 - val_recall: 0.6364 - val_precision: 0.0011 - val_dice_coef: 0.0013 - val_mean_io_u: 0.4997 - lr: 0.0100\n",
            "Epoch 2/100\n",
            "391/391 [==============================] - ETA: 0s - loss: -0.0018 - recall: 0.7893 - precision: 0.0018 - dice_coef: 0.0018 - mean_io_u: 0.5025\n",
            "Epoch 2: val_loss improved from -0.00128 to -0.00175, saving model to /content/drive/MyDrive/Res-U-Net++/res-unet++.h5\n",
            "391/391 [==============================] - 510s 1s/step - loss: -0.0018 - recall: 0.7893 - precision: 0.0018 - dice_coef: 0.0018 - mean_io_u: 0.5025 - val_loss: -0.0018 - val_recall: 0.8410 - val_precision: 0.0017 - val_dice_coef: 0.0018 - val_mean_io_u: 0.5004 - lr: 0.0100\n",
            "Epoch 3/100\n",
            "391/391 [==============================] - ETA: 0s - loss: -0.0022 - recall: 0.8453 - precision: 0.0020 - dice_coef: 0.0022 - mean_io_u: 0.5027\n",
            "Epoch 3: val_loss improved from -0.00175 to -0.00204, saving model to /content/drive/MyDrive/Res-U-Net++/res-unet++.h5\n",
            "391/391 [==============================] - 511s 1s/step - loss: -0.0022 - recall: 0.8453 - precision: 0.0020 - dice_coef: 0.0022 - mean_io_u: 0.5027 - val_loss: -0.0020 - val_recall: 0.8584 - val_precision: 0.0018 - val_dice_coef: 0.0020 - val_mean_io_u: 0.5006 - lr: 0.0100\n",
            "Epoch 4/100\n",
            "391/391 [==============================] - ETA: 0s - loss: -0.0026 - recall: 0.8622 - precision: 0.0021 - dice_coef: 0.0026 - mean_io_u: 0.5028\n",
            "Epoch 4: val_loss improved from -0.00204 to -0.00236, saving model to /content/drive/MyDrive/Res-U-Net++/res-unet++.h5\n",
            "391/391 [==============================] - 510s 1s/step - loss: -0.0026 - recall: 0.8622 - precision: 0.0021 - dice_coef: 0.0026 - mean_io_u: 0.5028 - val_loss: -0.0024 - val_recall: 0.8607 - val_precision: 0.0018 - val_dice_coef: 0.0024 - val_mean_io_u: 0.5009 - lr: 0.0100\n",
            "Epoch 5/100\n",
            "391/391 [==============================] - ETA: 0s - loss: -0.0030 - recall: 0.8726 - precision: 0.0021 - dice_coef: 0.0030 - mean_io_u: 0.5031\n",
            "Epoch 5: val_loss improved from -0.00236 to -0.00277, saving model to /content/drive/MyDrive/Res-U-Net++/res-unet++.h5\n",
            "391/391 [==============================] - 511s 1s/step - loss: -0.0030 - recall: 0.8726 - precision: 0.0021 - dice_coef: 0.0030 - mean_io_u: 0.5031 - val_loss: -0.0028 - val_recall: 0.8696 - val_precision: 0.0019 - val_dice_coef: 0.0028 - val_mean_io_u: 0.5012 - lr: 0.0100\n",
            "Epoch 6/100\n",
            "391/391 [==============================] - ETA: 0s - loss: -0.0034 - recall: 0.8761 - precision: 0.0022 - dice_coef: 0.0034 - mean_io_u: 0.5032\n",
            "Epoch 6: val_loss improved from -0.00277 to -0.00320, saving model to /content/drive/MyDrive/Res-U-Net++/res-unet++.h5\n",
            "391/391 [==============================] - 509s 1s/step - loss: -0.0034 - recall: 0.8761 - precision: 0.0022 - dice_coef: 0.0034 - mean_io_u: 0.5032 - val_loss: -0.0032 - val_recall: 0.8688 - val_precision: 0.0020 - val_dice_coef: 0.0032 - val_mean_io_u: 0.5014 - lr: 0.0100\n",
            "Epoch 7/100\n",
            "391/391 [==============================] - ETA: 0s - loss: -0.0039 - recall: 0.8778 - precision: 0.0023 - dice_coef: 0.0039 - mean_io_u: 0.5033\n",
            "Epoch 7: val_loss improved from -0.00320 to -0.00366, saving model to /content/drive/MyDrive/Res-U-Net++/res-unet++.h5\n",
            "391/391 [==============================] - 512s 1s/step - loss: -0.0039 - recall: 0.8778 - precision: 0.0023 - dice_coef: 0.0039 - mean_io_u: 0.5033 - val_loss: -0.0037 - val_recall: 0.8712 - val_precision: 0.0021 - val_dice_coef: 0.0037 - val_mean_io_u: 0.5020 - lr: 0.0100\n",
            "Epoch 8/100\n",
            "391/391 [==============================] - ETA: 0s - loss: -0.0044 - recall: 0.8769 - precision: 0.0024 - dice_coef: 0.0044 - mean_io_u: 0.5026\n",
            "Epoch 8: val_loss improved from -0.00366 to -0.00404, saving model to /content/drive/MyDrive/Res-U-Net++/res-unet++.h5\n",
            "391/391 [==============================] - 510s 1s/step - loss: -0.0044 - recall: 0.8769 - precision: 0.0024 - dice_coef: 0.0044 - mean_io_u: 0.5026 - val_loss: -0.0040 - val_recall: 0.8708 - val_precision: 0.0023 - val_dice_coef: 0.0040 - val_mean_io_u: 0.5020 - lr: 0.0100\n",
            "Epoch 9/100\n",
            "391/391 [==============================] - ETA: 0s - loss: -0.0050 - recall: 0.8776 - precision: 0.0027 - dice_coef: 0.0050 - mean_io_u: 0.5021\n",
            "Epoch 9: val_loss improved from -0.00404 to -0.00491, saving model to /content/drive/MyDrive/Res-U-Net++/res-unet++.h5\n",
            "391/391 [==============================] - 511s 1s/step - loss: -0.0050 - recall: 0.8776 - precision: 0.0027 - dice_coef: 0.0050 - mean_io_u: 0.5021 - val_loss: -0.0049 - val_recall: 0.8591 - val_precision: 0.0028 - val_dice_coef: 0.0049 - val_mean_io_u: 0.5014 - lr: 0.0100\n",
            "Epoch 10/100\n",
            "391/391 [==============================] - ETA: 0s - loss: -0.0074 - recall: 0.8515 - precision: 0.0044 - dice_coef: 0.0074 - mean_io_u: 0.5023\n",
            "Epoch 10: val_loss improved from -0.00491 to -0.00988, saving model to /content/drive/MyDrive/Res-U-Net++/res-unet++.h5\n",
            "391/391 [==============================] - 509s 1s/step - loss: -0.0074 - recall: 0.8515 - precision: 0.0044 - dice_coef: 0.0074 - mean_io_u: 0.5023 - val_loss: -0.0099 - val_recall: 0.7236 - val_precision: 0.0074 - val_dice_coef: 0.0099 - val_mean_io_u: 0.4985 - lr: 0.0100\n",
            "Epoch 11/100\n",
            "391/391 [==============================] - ETA: 0s - loss: -0.0729 - recall: 0.4960 - precision: 0.0171 - dice_coef: 0.0729 - mean_io_u: 0.5098\n",
            "Epoch 11: val_loss did not improve from -0.00988\n",
            "391/391 [==============================] - 509s 1s/step - loss: -0.0729 - recall: 0.4960 - precision: 0.0171 - dice_coef: 0.0729 - mean_io_u: 0.5098 - val_loss: -0.0059 - val_recall: 0.8759 - val_precision: 0.0029 - val_dice_coef: 0.0059 - val_mean_io_u: 0.4346 - lr: 0.0100\n",
            "Epoch 12/100\n",
            "391/391 [==============================] - ETA: 0s - loss: -0.2233 - recall: 0.2252 - precision: 0.1834 - dice_coef: 0.2233 - mean_io_u: 0.5568\n",
            "Epoch 12: val_loss improved from -0.00988 to -0.20425, saving model to /content/drive/MyDrive/Res-U-Net++/res-unet++.h5\n",
            "391/391 [==============================] - 509s 1s/step - loss: -0.2233 - recall: 0.2252 - precision: 0.1834 - dice_coef: 0.2233 - mean_io_u: 0.5568 - val_loss: -0.2043 - val_recall: 0.0363 - val_precision: 0.5346 - val_dice_coef: 0.2043 - val_mean_io_u: 0.5144 - lr: 0.0100\n",
            "Epoch 13/100\n",
            "391/391 [==============================] - ETA: 0s - loss: -0.3110 - recall: 0.2922 - precision: 0.2967 - dice_coef: 0.3110 - mean_io_u: 0.5859\n",
            "Epoch 13: val_loss did not improve from -0.20425\n",
            "391/391 [==============================] - 509s 1s/step - loss: -0.3110 - recall: 0.2922 - precision: 0.2967 - dice_coef: 0.3110 - mean_io_u: 0.5859 - val_loss: -0.1730 - val_recall: 0.0342 - val_precision: 0.8005 - val_dice_coef: 0.1730 - val_mean_io_u: 0.5109 - lr: 0.0100\n",
            "Epoch 14/100\n",
            "391/391 [==============================] - ETA: 0s - loss: -0.3567 - recall: 0.3278 - precision: 0.3789 - dice_coef: 0.3567 - mean_io_u: 0.6050\n",
            "Epoch 14: val_loss improved from -0.20425 to -0.31402, saving model to /content/drive/MyDrive/Res-U-Net++/res-unet++.h5\n",
            "391/391 [==============================] - 509s 1s/step - loss: -0.3567 - recall: 0.3278 - precision: 0.3789 - dice_coef: 0.3567 - mean_io_u: 0.6050 - val_loss: -0.3140 - val_recall: 0.2082 - val_precision: 0.6533 - val_dice_coef: 0.3140 - val_mean_io_u: 0.5821 - lr: 0.0100\n",
            "Epoch 15/100\n",
            "391/391 [==============================] - ETA: 0s - loss: -0.3779 - recall: 0.3494 - precision: 0.4135 - dice_coef: 0.3779 - mean_io_u: 0.6134\n",
            "Epoch 15: val_loss improved from -0.31402 to -0.36493, saving model to /content/drive/MyDrive/Res-U-Net++/res-unet++.h5\n",
            "391/391 [==============================] - 511s 1s/step - loss: -0.3779 - recall: 0.3494 - precision: 0.4135 - dice_coef: 0.3779 - mean_io_u: 0.6134 - val_loss: -0.3649 - val_recall: 0.3467 - val_precision: 0.4798 - val_dice_coef: 0.3649 - val_mean_io_u: 0.6255 - lr: 0.0100\n",
            "Epoch 16/100\n",
            "391/391 [==============================] - ETA: 0s - loss: -0.4165 - recall: 0.3723 - precision: 0.4708 - dice_coef: 0.4165 - mean_io_u: 0.6283\n",
            "Epoch 16: val_loss improved from -0.36493 to -0.41359, saving model to /content/drive/MyDrive/Res-U-Net++/res-unet++.h5\n",
            "391/391 [==============================] - 509s 1s/step - loss: -0.4165 - recall: 0.3723 - precision: 0.4708 - dice_coef: 0.4165 - mean_io_u: 0.6283 - val_loss: -0.4136 - val_recall: 0.2920 - val_precision: 0.6916 - val_dice_coef: 0.4136 - val_mean_io_u: 0.6134 - lr: 0.0100\n",
            "Epoch 17/100\n",
            "391/391 [==============================] - ETA: 0s - loss: -0.4280 - recall: 0.3849 - precision: 0.4883 - dice_coef: 0.4280 - mean_io_u: 0.6335\n",
            "Epoch 17: val_loss did not improve from -0.41359\n",
            "391/391 [==============================] - 509s 1s/step - loss: -0.4280 - recall: 0.3849 - precision: 0.4883 - dice_coef: 0.4280 - mean_io_u: 0.6335 - val_loss: -0.3074 - val_recall: 0.4767 - val_precision: 0.2796 - val_dice_coef: 0.3074 - val_mean_io_u: 0.6199 - lr: 0.0100\n",
            "Epoch 18/100\n",
            "391/391 [==============================] - ETA: 0s - loss: -0.4323 - recall: 0.3904 - precision: 0.5044 - dice_coef: 0.4323 - mean_io_u: 0.6372\n",
            "Epoch 18: val_loss did not improve from -0.41359\n",
            "391/391 [==============================] - 507s 1s/step - loss: -0.4323 - recall: 0.3904 - precision: 0.5044 - dice_coef: 0.4323 - mean_io_u: 0.6372 - val_loss: -0.2903 - val_recall: 0.1520 - val_precision: 0.9126 - val_dice_coef: 0.2903 - val_mean_io_u: 0.5495 - lr: 0.0100\n",
            "Epoch 19/100\n",
            "391/391 [==============================] - ETA: 0s - loss: -0.4370 - recall: 0.3922 - precision: 0.5211 - dice_coef: 0.4370 - mean_io_u: 0.6398\n",
            "Epoch 19: val_loss did not improve from -0.41359\n",
            "391/391 [==============================] - 508s 1s/step - loss: -0.4370 - recall: 0.3922 - precision: 0.5211 - dice_coef: 0.4370 - mean_io_u: 0.6398 - val_loss: -0.3628 - val_recall: 0.2524 - val_precision: 0.8277 - val_dice_coef: 0.3628 - val_mean_io_u: 0.5919 - lr: 0.0100\n",
            "Epoch 20/100\n",
            "391/391 [==============================] - ETA: 0s - loss: -0.4494 - recall: 0.4034 - precision: 0.5539 - dice_coef: 0.4494 - mean_io_u: 0.6469\n",
            "Epoch 20: val_loss did not improve from -0.41359\n",
            "391/391 [==============================] - 506s 1s/step - loss: -0.4494 - recall: 0.4034 - precision: 0.5539 - dice_coef: 0.4494 - mean_io_u: 0.6469 - val_loss: -0.3272 - val_recall: 0.3320 - val_precision: 0.3348 - val_dice_coef: 0.3272 - val_mean_io_u: 0.5986 - lr: 0.0100\n",
            "Epoch 21/100\n",
            "391/391 [==============================] - ETA: 0s - loss: -0.4572 - recall: 0.3958 - precision: 0.5797 - dice_coef: 0.4572 - mean_io_u: 0.6500\n",
            "Epoch 21: val_loss did not improve from -0.41359\n",
            "\n",
            "Epoch 21: ReduceLROnPlateau reducing learning rate to 0.0009999999776482583.\n",
            "391/391 [==============================] - 508s 1s/step - loss: -0.4572 - recall: 0.3958 - precision: 0.5797 - dice_coef: 0.4572 - mean_io_u: 0.6500 - val_loss: -0.3807 - val_recall: 0.2943 - val_precision: 0.7436 - val_dice_coef: 0.3807 - val_mean_io_u: 0.6219 - lr: 0.0100\n",
            "Epoch 22/100\n",
            "391/391 [==============================] - ETA: 0s - loss: -0.4824 - recall: 0.4077 - precision: 0.6326 - dice_coef: 0.4824 - mean_io_u: 0.6596\n",
            "Epoch 22: val_loss improved from -0.41359 to -0.44716, saving model to /content/drive/MyDrive/Res-U-Net++/res-unet++.h5\n",
            "391/391 [==============================] - 508s 1s/step - loss: -0.4824 - recall: 0.4077 - precision: 0.6326 - dice_coef: 0.4824 - mean_io_u: 0.6596 - val_loss: -0.4472 - val_recall: 0.3498 - val_precision: 0.7840 - val_dice_coef: 0.4472 - val_mean_io_u: 0.6505 - lr: 1.0000e-03\n",
            "Epoch 23/100\n",
            "391/391 [==============================] - ETA: 0s - loss: -0.4908 - recall: 0.4208 - precision: 0.6502 - dice_coef: 0.4908 - mean_io_u: 0.6673\n",
            "Epoch 23: val_loss improved from -0.44716 to -0.47242, saving model to /content/drive/MyDrive/Res-U-Net++/res-unet++.h5\n",
            "391/391 [==============================] - 518s 1s/step - loss: -0.4908 - recall: 0.4208 - precision: 0.6502 - dice_coef: 0.4908 - mean_io_u: 0.6673 - val_loss: -0.4724 - val_recall: 0.3927 - val_precision: 0.7186 - val_dice_coef: 0.4724 - val_mean_io_u: 0.6643 - lr: 1.0000e-03\n",
            "Epoch 24/100\n",
            "391/391 [==============================] - ETA: 0s - loss: -0.4830 - recall: 0.4238 - precision: 0.6442 - dice_coef: 0.4830 - mean_io_u: 0.6676\n",
            "Epoch 24: val_loss did not improve from -0.47242\n",
            "391/391 [==============================] - 506s 1s/step - loss: -0.4830 - recall: 0.4238 - precision: 0.6442 - dice_coef: 0.4830 - mean_io_u: 0.6676 - val_loss: -0.4605 - val_recall: 0.3767 - val_precision: 0.7398 - val_dice_coef: 0.4605 - val_mean_io_u: 0.6604 - lr: 1.0000e-03\n",
            "Epoch 25/100\n",
            "391/391 [==============================] - ETA: 0s - loss: -0.5026 - recall: 0.4275 - precision: 0.6806 - dice_coef: 0.5026 - mean_io_u: 0.6727\n",
            "Epoch 25: val_loss did not improve from -0.47242\n",
            "391/391 [==============================] - 508s 1s/step - loss: -0.5026 - recall: 0.4275 - precision: 0.6806 - dice_coef: 0.5026 - mean_io_u: 0.6727 - val_loss: -0.4683 - val_recall: 0.3815 - val_precision: 0.7759 - val_dice_coef: 0.4683 - val_mean_io_u: 0.6641 - lr: 1.0000e-03\n",
            "Epoch 26/100\n",
            "391/391 [==============================] - ETA: 0s - loss: -0.5097 - recall: 0.4309 - precision: 0.6788 - dice_coef: 0.5097 - mean_io_u: 0.6745\n",
            "Epoch 26: val_loss improved from -0.47242 to -0.49442, saving model to /content/drive/MyDrive/Res-U-Net++/res-unet++.h5\n",
            "391/391 [==============================] - 507s 1s/step - loss: -0.5097 - recall: 0.4309 - precision: 0.6788 - dice_coef: 0.5097 - mean_io_u: 0.6745 - val_loss: -0.4944 - val_recall: 0.3872 - val_precision: 0.7595 - val_dice_coef: 0.4944 - val_mean_io_u: 0.6658 - lr: 1.0000e-03\n",
            "Epoch 27/100\n",
            "391/391 [==============================] - ETA: 0s - loss: -0.4989 - recall: 0.4318 - precision: 0.6707 - dice_coef: 0.4989 - mean_io_u: 0.6740\n",
            "Epoch 27: val_loss did not improve from -0.49442\n",
            "391/391 [==============================] - 507s 1s/step - loss: -0.4989 - recall: 0.4318 - precision: 0.6707 - dice_coef: 0.4989 - mean_io_u: 0.6740 - val_loss: -0.4814 - val_recall: 0.3860 - val_precision: 0.7683 - val_dice_coef: 0.4814 - val_mean_io_u: 0.6668 - lr: 1.0000e-03\n",
            "Epoch 28/100\n",
            "391/391 [==============================] - ETA: 0s - loss: -0.4932 - recall: 0.4324 - precision: 0.6813 - dice_coef: 0.4932 - mean_io_u: 0.6750\n",
            "Epoch 28: val_loss improved from -0.49442 to -0.49556, saving model to /content/drive/MyDrive/Res-U-Net++/res-unet++.h5\n",
            "391/391 [==============================] - 509s 1s/step - loss: -0.4932 - recall: 0.4324 - precision: 0.6813 - dice_coef: 0.4932 - mean_io_u: 0.6750 - val_loss: -0.4956 - val_recall: 0.3892 - val_precision: 0.7764 - val_dice_coef: 0.4956 - val_mean_io_u: 0.6668 - lr: 1.0000e-03\n",
            "Epoch 29/100\n",
            "391/391 [==============================] - ETA: 0s - loss: -0.5096 - recall: 0.4357 - precision: 0.6984 - dice_coef: 0.5096 - mean_io_u: 0.6782\n",
            "Epoch 29: val_loss did not improve from -0.49556\n",
            "391/391 [==============================] - 509s 1s/step - loss: -0.5096 - recall: 0.4357 - precision: 0.6984 - dice_coef: 0.5096 - mean_io_u: 0.6782 - val_loss: -0.4597 - val_recall: 0.3430 - val_precision: 0.8464 - val_dice_coef: 0.4597 - val_mean_io_u: 0.6449 - lr: 1.0000e-03\n",
            "Epoch 30/100\n",
            "391/391 [==============================] - ETA: 0s - loss: -0.5134 - recall: 0.4356 - precision: 0.7076 - dice_coef: 0.5134 - mean_io_u: 0.6794\n",
            "Epoch 30: val_loss did not improve from -0.49556\n",
            "391/391 [==============================] - 507s 1s/step - loss: -0.5134 - recall: 0.4356 - precision: 0.7076 - dice_coef: 0.5134 - mean_io_u: 0.6794 - val_loss: -0.4947 - val_recall: 0.3891 - val_precision: 0.7682 - val_dice_coef: 0.4947 - val_mean_io_u: 0.6660 - lr: 1.0000e-03\n",
            "Epoch 31/100\n",
            "391/391 [==============================] - ETA: 0s - loss: -0.5209 - recall: 0.4380 - precision: 0.7161 - dice_coef: 0.5209 - mean_io_u: 0.6810\n",
            "Epoch 31: val_loss did not improve from -0.49556\n",
            "391/391 [==============================] - 508s 1s/step - loss: -0.5209 - recall: 0.4380 - precision: 0.7161 - dice_coef: 0.5209 - mean_io_u: 0.6810 - val_loss: -0.4727 - val_recall: 0.3481 - val_precision: 0.8441 - val_dice_coef: 0.4727 - val_mean_io_u: 0.6491 - lr: 1.0000e-03\n",
            "Epoch 32/100\n",
            "391/391 [==============================] - ETA: 0s - loss: -0.5171 - recall: 0.4404 - precision: 0.7182 - dice_coef: 0.5171 - mean_io_u: 0.6823\n",
            "Epoch 32: val_loss did not improve from -0.49556\n",
            "391/391 [==============================] - 506s 1s/step - loss: -0.5171 - recall: 0.4404 - precision: 0.7182 - dice_coef: 0.5171 - mean_io_u: 0.6823 - val_loss: -0.4937 - val_recall: 0.3888 - val_precision: 0.7831 - val_dice_coef: 0.4937 - val_mean_io_u: 0.6695 - lr: 1.0000e-03\n",
            "Epoch 33/100\n",
            "391/391 [==============================] - ETA: 0s - loss: -0.5236 - recall: 0.4422 - precision: 0.7142 - dice_coef: 0.5236 - mean_io_u: 0.6824\n",
            "Epoch 33: val_loss did not improve from -0.49556\n",
            "\n",
            "Epoch 33: ReduceLROnPlateau reducing learning rate to 9.999999310821295e-05.\n",
            "391/391 [==============================] - 508s 1s/step - loss: -0.5236 - recall: 0.4422 - precision: 0.7142 - dice_coef: 0.5236 - mean_io_u: 0.6824 - val_loss: -0.4925 - val_recall: 0.3646 - val_precision: 0.7999 - val_dice_coef: 0.4925 - val_mean_io_u: 0.6566 - lr: 1.0000e-03\n",
            "Epoch 34/100\n",
            " 19/391 [>.............................] - ETA: 7:52 - loss: -0.4811 - recall: 0.4024 - precision: 0.6633 - dice_coef: 0.4811 - mean_io_u: 0.6662"
          ]
        }
      ]
    },
    {
      "cell_type": "code",
      "source": [
        "test_ids = list(Xtest.image_path)\n",
        "test_mask = list(Xtest.mask_path)\n",
        "test_data = DataGenerator(test_ids, test_mask)"
      ],
      "metadata": {
        "id": "IKgEM2lncj0j"
      },
      "execution_count": null,
      "outputs": []
    },
    {
      "cell_type": "code",
      "source": [
        "tv,rcall ,pre ,dice ,men= model.evaluate(test_data)"
      ],
      "metadata": {
        "id": "1AdSGHq197eb",
        "colab": {
          "base_uri": "https://localhost:8080/"
        },
        "outputId": "2e811ce2-4748-4237-d0be-016b5acba59b"
      },
      "execution_count": null,
      "outputs": [
        {
          "output_type": "stream",
          "name": "stderr",
          "text": [
            "/usr/local/lib/python3.7/dist-packages/ipykernel_launcher.py:44: RuntimeWarning: invalid value encountered in true_divide\n"
          ]
        },
        {
          "output_type": "stream",
          "name": "stdout",
          "text": [
            "34/34 [==============================] - 6s 185ms/step - loss: -0.8431 - recall: 0.8190 - precision: 0.8602 - dice_coef: 0.8431 - mean_io_u: 0.8436\n"
          ]
        }
      ]
    },
    {
      "cell_type": "code",
      "source": [
        "print(\"UNet Segmentation dice coef. is {:.2f}%\".format(dice*100))"
      ],
      "metadata": {
        "colab": {
          "base_uri": "https://localhost:8080/"
        },
        "id": "lN2nhpCAdRIf",
        "outputId": "0ceaa0ac-68f0-40eb-e723-98033be5f80e"
      },
      "execution_count": null,
      "outputs": [
        {
          "output_type": "stream",
          "name": "stdout",
          "text": [
            "UNet Segmentation dice coef. is 84.31%\n"
          ]
        }
      ]
    },
    {
      "cell_type": "code",
      "source": [
        "class Savefiles(keras.callbacks.Callback):\n",
        "  def on_epoch_end(self, epoch, logs={}):\n",
        "      self.model.save_weights(\"Resunet++-seg-model.h5\")\n",
        "      model_json=self.model.to_json()\n",
        "      with open(\"Resunet++-seg-model.json\", \"w\") as json_file:\n",
        "        json_file.write(model_json)\n",
        "      !cp Resunet++-seg-model.json /content/drive/MyDrive/ResUnet50-keras\n",
        "      !cp Resunet++-seg-model.h5 /content/drive/MyDrive/ResUnet50-keras\n",
        "      !cp history.csv /content/drive/MyDrive/ResUnet50-keras  \n",
        "save_files=Savefiles()     "
      ],
      "metadata": {
        "id": "NjbIMVegvVVo"
      },
      "execution_count": null,
      "outputs": []
    }
  ]
}